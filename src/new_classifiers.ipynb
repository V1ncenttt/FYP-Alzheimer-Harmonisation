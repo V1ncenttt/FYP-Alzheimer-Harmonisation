{
 "cells": [
  {
   "attachments": {},
   "cell_type": "markdown",
   "metadata": {},
   "source": [
    "# Classifiers using neuro-imaging data"
   ]
  },
  {
   "cell_type": "code",
   "execution_count": 1,
   "metadata": {},
   "outputs": [],
   "source": [
    "import pandas as pd\n",
    "import numpy as np\n",
    "from numpy import random, arange\n",
    "import seaborn as sns\n",
    "\n",
    "from sklearn.model_selection import train_test_split, KFold, cross_val_score, GridSearchCV\n",
    "from sklearn.metrics import balanced_accuracy_score\n",
    "from sklearn.decomposition import PCA\n",
    "from sklearn.preprocessing import MinMaxScaler, StandardScaler, OrdinalEncoder, PolynomialFeatures, LabelEncoder\n",
    "\n",
    "# Import relevant sklearn classes related to machine learning models\n",
    "from sklearn.linear_model import LinearRegression, LogisticRegression, Lasso, ElasticNet\n",
    "from sklearn.svm import SVC, SVR, NuSVC\n",
    "from sklearn.tree import DecisionTreeClassifier, DecisionTreeRegressor\n",
    "from sklearn.ensemble import RandomForestClassifier, GradientBoostingClassifier, BaggingClassifier\n",
    "from sklearn.neural_network import MLPClassifier\n",
    "\n",
    "# Import relevant sklearn class/function related to evaluation\n",
    "import sklearn.metrics\n",
    "from imblearn.under_sampling import RandomUnderSampler\n",
    "\n",
    "#Smote oversampling \n",
    "import smote_variants as sv"
   ]
  },
  {
   "attachments": {},
   "cell_type": "markdown",
   "metadata": {},
   "source": [
    "## Data Pre-Processing"
   ]
  },
  {
   "cell_type": "code",
   "execution_count": 2,
   "metadata": {},
   "outputs": [],
   "source": [
    "\n",
    "img_adni1 = pd.read_csv(\"../data/UCSFFSX51_ADNI1_3T_02_01_16.csv\", low_memory=False)\n",
    "img_adni2 = pd.read_csv(\"../data/UCSFFSX51_11_08_19.csv\", low_memory=False)\n",
    "img_adni3 = pd.read_csv(\"../data/UCSFFSX6_08_17_22.csv\", low_memory=False)\n",
    "adni_merge= pd.read_csv('../data/ADNIMERGE.csv', low_memory=False)\n"
   ]
  },
  {
   "cell_type": "code",
   "execution_count": 3,
   "metadata": {},
   "outputs": [],
   "source": [
    "\n",
    "img_adni2.drop([\"LONISID\", \"IMAGETYPE\", \"LHIPQC\", \"RHIPQC\", \"ST131HS\", \"ST132HS\", \"ST133HS\", \"ST134HS\", \"ST135HS\", \"ST136HS\", \"ST137HS\", \"ST138HS\", \"ST139HS\", \"ST140HS\", \"ST141HS\", \"ST142HS\", \"ST143HS\", \"ST144HS\", \"ST145HS\", \"ST146HS\"], inplace=True, axis=1)\n",
    "img_adni3.drop([\"HIPPOQC\"], axis=1, inplace=True)"
   ]
  },
  {
   "cell_type": "code",
   "execution_count": 4,
   "metadata": {},
   "outputs": [
    {
     "name": "stdout",
     "output_type": "stream",
     "text": [
      "---\n",
      "---\n"
     ]
    }
   ],
   "source": [
    "colNames2 = []\n",
    "for colName2 in img_adni2.columns:\n",
    "    if not colName2 in img_adni1.columns:\n",
    "        #print(colName2)\n",
    "        if not (colName2 == \"VISCODE2\" or colName2 ==\"COLPROT\"):\n",
    "            colNames2.append(colName2)\n",
    "\n",
    "print(\"---\")\n",
    "for colName3 in img_adni3.columns:\n",
    "    if not colName3 in img_adni2.columns:\n",
    "        print(colName3)\n",
    "print(\"---\")\n",
    "colNames = []\n",
    "for colName1 in img_adni1.columns:\n",
    "    if not colName1 in img_adni2.columns:\n",
    "        #print(colName1)\n",
    "        colNames.append(colName1)\n",
    "\n",
    "\n",
    "img_adni1.drop(colNames, inplace=True, axis=1)\n",
    "img_adni2.drop(colNames2, inplace=True, axis=1)\n",
    "img_adni3.drop(colNames2, axis=1, inplace=True)"
   ]
  },
  {
   "cell_type": "code",
   "execution_count": 5,
   "metadata": {},
   "outputs": [],
   "source": [
    "dx = pd.read_csv(\"../data/DXSUM_PDXCONV_ADNIALL.csv\", low_memory=False)\n",
    "dx1= dx[(dx[\"Phase\"] == \"ADNI1\")]\n",
    "dx2= dx[(dx[\"Phase\"] == \"ADNI2\") | (dx[\"Phase\"] == \"ADNIGO\")]\n",
    "dx3= dx[(dx[\"Phase\"] == \"ADNI3\")]\n"
   ]
  },
  {
   "cell_type": "code",
   "execution_count": 26,
   "metadata": {},
   "outputs": [
    {
     "data": {
      "text/html": [
       "<div>\n",
       "<style scoped>\n",
       "    .dataframe tbody tr th:only-of-type {\n",
       "        vertical-align: middle;\n",
       "    }\n",
       "\n",
       "    .dataframe tbody tr th {\n",
       "        vertical-align: top;\n",
       "    }\n",
       "\n",
       "    .dataframe thead th {\n",
       "        text-align: right;\n",
       "    }\n",
       "</style>\n",
       "<table border=\"1\" class=\"dataframe\">\n",
       "  <thead>\n",
       "    <tr style=\"text-align: right;\">\n",
       "      <th></th>\n",
       "      <th>COLPROT</th>\n",
       "      <th>RID</th>\n",
       "      <th>VISCODE</th>\n",
       "      <th>VISCODE2</th>\n",
       "      <th>EXAMDATE</th>\n",
       "      <th>VERSION</th>\n",
       "      <th>LONIUID</th>\n",
       "      <th>IMAGEUID</th>\n",
       "      <th>RUNDATE</th>\n",
       "      <th>STATUS</th>\n",
       "      <th>...</th>\n",
       "      <th>ST149SV</th>\n",
       "      <th>ST150SV</th>\n",
       "      <th>ST151SV</th>\n",
       "      <th>ST152SV</th>\n",
       "      <th>ST153SV</th>\n",
       "      <th>ST154SV</th>\n",
       "      <th>ST155SV</th>\n",
       "      <th>update_stamp</th>\n",
       "      <th>DXCHANGE</th>\n",
       "      <th>PTID</th>\n",
       "    </tr>\n",
       "  </thead>\n",
       "  <tbody>\n",
       "    <tr>\n",
       "      <th>0</th>\n",
       "      <td>ADNI2</td>\n",
       "      <td>21</td>\n",
       "      <td>v11</td>\n",
       "      <td>m84</td>\n",
       "      <td>2012-10-04</td>\n",
       "      <td>2012-10-24</td>\n",
       "      <td>169744.0</td>\n",
       "      <td>340931</td>\n",
       "      <td>2012-10-24</td>\n",
       "      <td>complete</td>\n",
       "      <td>...</td>\n",
       "      <td>384420.0</td>\n",
       "      <td>196942.0</td>\n",
       "      <td>197448.0</td>\n",
       "      <td>394390.0</td>\n",
       "      <td>142785.0</td>\n",
       "      <td>527205.0</td>\n",
       "      <td>869951.0</td>\n",
       "      <td>2019-11-14 14:34:00.0</td>\n",
       "      <td>1.0</td>\n",
       "      <td>011_S_0021</td>\n",
       "    </tr>\n",
       "    <tr>\n",
       "      <th>1</th>\n",
       "      <td>ADNIGO</td>\n",
       "      <td>21</td>\n",
       "      <td>nv</td>\n",
       "      <td>m60</td>\n",
       "      <td>2010-10-08</td>\n",
       "      <td>2012-02-10</td>\n",
       "      <td>93190.0</td>\n",
       "      <td>222684</td>\n",
       "      <td>2012-02-10</td>\n",
       "      <td>complete</td>\n",
       "      <td>...</td>\n",
       "      <td>384534.0</td>\n",
       "      <td>205140.0</td>\n",
       "      <td>204958.0</td>\n",
       "      <td>410098.0</td>\n",
       "      <td>146962.0</td>\n",
       "      <td>531496.0</td>\n",
       "      <td>885815.0</td>\n",
       "      <td>2019-11-14 14:34:00.0</td>\n",
       "      <td>1.0</td>\n",
       "      <td>011_S_0021</td>\n",
       "    </tr>\n",
       "    <tr>\n",
       "      <th>2</th>\n",
       "      <td>ADNIGO</td>\n",
       "      <td>21</td>\n",
       "      <td>nv</td>\n",
       "      <td>m60</td>\n",
       "      <td>2010-10-08</td>\n",
       "      <td>2012-02-10</td>\n",
       "      <td>93187.0</td>\n",
       "      <td>222738</td>\n",
       "      <td>2012-02-10</td>\n",
       "      <td>partial</td>\n",
       "      <td>...</td>\n",
       "      <td>375077.0</td>\n",
       "      <td>210619.0</td>\n",
       "      <td>208063.0</td>\n",
       "      <td>418682.0</td>\n",
       "      <td>146446.0</td>\n",
       "      <td>521523.0</td>\n",
       "      <td>883558.0</td>\n",
       "      <td>2019-11-14 14:34:00.0</td>\n",
       "      <td>1.0</td>\n",
       "      <td>011_S_0021</td>\n",
       "    </tr>\n",
       "    <tr>\n",
       "      <th>3</th>\n",
       "      <td>ADNI2</td>\n",
       "      <td>21</td>\n",
       "      <td>v06</td>\n",
       "      <td>m72</td>\n",
       "      <td>2011-10-13</td>\n",
       "      <td>2012-04-05</td>\n",
       "      <td>125206.0</td>\n",
       "      <td>265250</td>\n",
       "      <td>2012-04-05</td>\n",
       "      <td>complete</td>\n",
       "      <td>...</td>\n",
       "      <td>366238.0</td>\n",
       "      <td>208414.0</td>\n",
       "      <td>209070.0</td>\n",
       "      <td>417484.0</td>\n",
       "      <td>144658.0</td>\n",
       "      <td>510896.0</td>\n",
       "      <td>877214.0</td>\n",
       "      <td>2019-11-14 14:34:00.0</td>\n",
       "      <td>1.0</td>\n",
       "      <td>011_S_0021</td>\n",
       "    </tr>\n",
       "    <tr>\n",
       "      <th>4</th>\n",
       "      <td>ADNI2</td>\n",
       "      <td>21</td>\n",
       "      <td>v21</td>\n",
       "      <td>m96</td>\n",
       "      <td>2013-10-17</td>\n",
       "      <td>2013-12-23</td>\n",
       "      <td>204109.0</td>\n",
       "      <td>398269</td>\n",
       "      <td>2013-12-23</td>\n",
       "      <td>partial</td>\n",
       "      <td>...</td>\n",
       "      <td>373956.0</td>\n",
       "      <td>200248.0</td>\n",
       "      <td>198403.0</td>\n",
       "      <td>398652.0</td>\n",
       "      <td>141727.0</td>\n",
       "      <td>515683.0</td>\n",
       "      <td>860546.0</td>\n",
       "      <td>2019-11-14 14:34:00.0</td>\n",
       "      <td>1.0</td>\n",
       "      <td>011_S_0021</td>\n",
       "    </tr>\n",
       "  </tbody>\n",
       "</table>\n",
       "<p>5 rows × 347 columns</p>\n",
       "</div>"
      ],
      "text/plain": [
       "  COLPROT  RID VISCODE VISCODE2    EXAMDATE     VERSION   LONIUID  IMAGEUID  \\\n",
       "0   ADNI2   21     v11      m84  2012-10-04  2012-10-24  169744.0    340931   \n",
       "1  ADNIGO   21      nv      m60  2010-10-08  2012-02-10   93190.0    222684   \n",
       "2  ADNIGO   21      nv      m60  2010-10-08  2012-02-10   93187.0    222738   \n",
       "3   ADNI2   21     v06      m72  2011-10-13  2012-04-05  125206.0    265250   \n",
       "4   ADNI2   21     v21      m96  2013-10-17  2013-12-23  204109.0    398269   \n",
       "\n",
       "      RUNDATE    STATUS  ...   ST149SV   ST150SV   ST151SV   ST152SV  \\\n",
       "0  2012-10-24  complete  ...  384420.0  196942.0  197448.0  394390.0   \n",
       "1  2012-02-10  complete  ...  384534.0  205140.0  204958.0  410098.0   \n",
       "2  2012-02-10   partial  ...  375077.0  210619.0  208063.0  418682.0   \n",
       "3  2012-04-05  complete  ...  366238.0  208414.0  209070.0  417484.0   \n",
       "4  2013-12-23   partial  ...  373956.0  200248.0  198403.0  398652.0   \n",
       "\n",
       "    ST153SV   ST154SV   ST155SV           update_stamp DXCHANGE        PTID  \n",
       "0  142785.0  527205.0  869951.0  2019-11-14 14:34:00.0      1.0  011_S_0021  \n",
       "1  146962.0  531496.0  885815.0  2019-11-14 14:34:00.0      1.0  011_S_0021  \n",
       "2  146446.0  521523.0  883558.0  2019-11-14 14:34:00.0      1.0  011_S_0021  \n",
       "3  144658.0  510896.0  877214.0  2019-11-14 14:34:00.0      1.0  011_S_0021  \n",
       "4  141727.0  515683.0  860546.0  2019-11-14 14:34:00.0      1.0  011_S_0021  \n",
       "\n",
       "[5 rows x 347 columns]"
      ]
     },
     "execution_count": 26,
     "metadata": {},
     "output_type": "execute_result"
    }
   ],
   "source": [
    "img_dx2go.head()"
   ]
  },
  {
   "cell_type": "code",
   "execution_count": 12,
   "metadata": {},
   "outputs": [
    {
     "data": {
      "text/plain": [
       "0       011_S_0002\n",
       "1       011_S_0002\n",
       "2       011_S_0003\n",
       "3       011_S_0003\n",
       "4       011_S_0003\n",
       "           ...    \n",
       "3863    127_S_1427\n",
       "3864    127_S_1427\n",
       "3865    127_S_1427\n",
       "3866    128_S_1430\n",
       "3867    128_S_1430\n",
       "Name: PTID, Length: 3868, dtype: object"
      ]
     },
     "execution_count": 12,
     "metadata": {},
     "output_type": "execute_result"
    }
   ],
   "source": [
    "dx1['PTID']"
   ]
  },
  {
   "cell_type": "code",
   "execution_count": 23,
   "metadata": {},
   "outputs": [],
   "source": [
    "img_dx1 = pd.merge(img_adni1, dx1[[\"VISCODE\", \"RID\", \"DXCURREN\", \"PTID\"]], left_on=[\"VISCODE\",\"RID\"], right_on=[\"VISCODE\",\"RID\"])\n",
    "img_dx2go = pd.merge(img_adni2, dx2[[\"VISCODE2\", \"RID\", \"DXCHANGE\",'PTID']], left_on=[\"VISCODE2\",\"RID\"], right_on=[\"VISCODE2\",\"RID\"])\n",
    "img_dx3 = pd.merge(img_adni3, dx3[[\"VISCODE2\", \"RID\", \"DIAGNOSIS\", \"PTID\"]], left_on=[\"VISCODE2\",\"RID\"], right_on=[\"VISCODE2\",\"RID\"])"
   ]
  },
  {
   "cell_type": "code",
   "execution_count": 24,
   "metadata": {},
   "outputs": [
    {
     "data": {
      "text/plain": [
       "1742"
      ]
     },
     "execution_count": 24,
     "metadata": {},
     "output_type": "execute_result"
    }
   ],
   "source": [
    "(img_dx1['PTID'].append(img_dx2go['PTID'].append(img_dx3['PTID']))).nunique()"
   ]
  },
  {
   "cell_type": "code",
   "execution_count": 28,
   "metadata": {},
   "outputs": [],
   "source": [
    "img_dx1.rename(columns={\"VISCODE\": \"VISCODE2\"})\n",
    "img_dx2go.drop([\"COLPROT\"], inplace=True, axis=1)\n",
    "img_dx3.drop([\"COLPROT\"], inplace=True, axis=1)"
   ]
  },
  {
   "cell_type": "code",
   "execution_count": 29,
   "metadata": {},
   "outputs": [],
   "source": [
    "img = img_dx1.append(img_dx2go.append(img_dx3))"
   ]
  },
  {
   "cell_type": "code",
   "execution_count": 31,
   "metadata": {},
   "outputs": [],
   "source": [
    "firstvisits = ~img.duplicated(subset=['PTID'], keep='first')\n",
    "img = img.loc[firstvisits].copy()"
   ]
  },
  {
   "cell_type": "code",
   "execution_count": 34,
   "metadata": {},
   "outputs": [
    {
     "data": {
      "text/html": [
       "<div>\n",
       "<style scoped>\n",
       "    .dataframe tbody tr th:only-of-type {\n",
       "        vertical-align: middle;\n",
       "    }\n",
       "\n",
       "    .dataframe tbody tr th {\n",
       "        vertical-align: top;\n",
       "    }\n",
       "\n",
       "    .dataframe thead th {\n",
       "        text-align: right;\n",
       "    }\n",
       "</style>\n",
       "<table border=\"1\" class=\"dataframe\">\n",
       "  <thead>\n",
       "    <tr style=\"text-align: right;\">\n",
       "      <th></th>\n",
       "      <th>RID</th>\n",
       "      <th>VISCODE</th>\n",
       "      <th>EXAMDATE</th>\n",
       "      <th>VERSION</th>\n",
       "      <th>LONIUID</th>\n",
       "      <th>IMAGEUID</th>\n",
       "      <th>RUNDATE</th>\n",
       "      <th>STATUS</th>\n",
       "      <th>OVERALLQC</th>\n",
       "      <th>TEMPQC</th>\n",
       "      <th>...</th>\n",
       "      <th>ST152SV</th>\n",
       "      <th>ST153SV</th>\n",
       "      <th>ST154SV</th>\n",
       "      <th>ST155SV</th>\n",
       "      <th>update_stamp</th>\n",
       "      <th>DXCURREN</th>\n",
       "      <th>PTID</th>\n",
       "      <th>VISCODE2</th>\n",
       "      <th>DXCHANGE</th>\n",
       "      <th>DIAGNOSIS</th>\n",
       "    </tr>\n",
       "  </thead>\n",
       "  <tbody>\n",
       "    <tr>\n",
       "      <th>0</th>\n",
       "      <td>15</td>\n",
       "      <td>m36</td>\n",
       "      <td>2009-04-27</td>\n",
       "      <td>2013-08-07</td>\n",
       "      <td>66778.0</td>\n",
       "      <td>160866</td>\n",
       "      <td>2013-08-07</td>\n",
       "      <td>partial</td>\n",
       "      <td>Pass</td>\n",
       "      <td>Pass</td>\n",
       "      <td>...</td>\n",
       "      <td>429929.0000</td>\n",
       "      <td>167857.0</td>\n",
       "      <td>534752.0000</td>\n",
       "      <td>9.092360e+05</td>\n",
       "      <td>2016-02-02 09:34:17.0</td>\n",
       "      <td>1.0</td>\n",
       "      <td>100_S_0015</td>\n",
       "      <td>NaN</td>\n",
       "      <td>NaN</td>\n",
       "      <td>NaN</td>\n",
       "    </tr>\n",
       "    <tr>\n",
       "      <th>5</th>\n",
       "      <td>30</td>\n",
       "      <td>m18</td>\n",
       "      <td>2007-04-26</td>\n",
       "      <td>2014-01-06</td>\n",
       "      <td>30858.0</td>\n",
       "      <td>118835</td>\n",
       "      <td>2014-01-06</td>\n",
       "      <td>partial</td>\n",
       "      <td>Partial</td>\n",
       "      <td>Fail</td>\n",
       "      <td>...</td>\n",
       "      <td>386915.0000</td>\n",
       "      <td>147415.0</td>\n",
       "      <td>561204.0000</td>\n",
       "      <td>1.027810e+06</td>\n",
       "      <td>2016-02-02 09:34:17.0</td>\n",
       "      <td>3.0</td>\n",
       "      <td>023_S_0030</td>\n",
       "      <td>NaN</td>\n",
       "      <td>NaN</td>\n",
       "      <td>NaN</td>\n",
       "    </tr>\n",
       "    <tr>\n",
       "      <th>9</th>\n",
       "      <td>31</td>\n",
       "      <td>m12</td>\n",
       "      <td>2006-10-30</td>\n",
       "      <td>2013-05-06</td>\n",
       "      <td>21475.0</td>\n",
       "      <td>118846</td>\n",
       "      <td>2013-05-06</td>\n",
       "      <td>partial</td>\n",
       "      <td>Fail</td>\n",
       "      <td>Fail</td>\n",
       "      <td>...</td>\n",
       "      <td>354537.0000</td>\n",
       "      <td>152878.0</td>\n",
       "      <td>542742.0000</td>\n",
       "      <td>9.147000e+05</td>\n",
       "      <td>2016-02-02 09:34:17.0</td>\n",
       "      <td>1.0</td>\n",
       "      <td>023_S_0031</td>\n",
       "      <td>NaN</td>\n",
       "      <td>NaN</td>\n",
       "      <td>NaN</td>\n",
       "    </tr>\n",
       "    <tr>\n",
       "      <th>12</th>\n",
       "      <td>58</td>\n",
       "      <td>m24</td>\n",
       "      <td>2007-12-06</td>\n",
       "      <td>2013-05-06</td>\n",
       "      <td>43409.0</td>\n",
       "      <td>87046</td>\n",
       "      <td>2013-05-06</td>\n",
       "      <td>partial</td>\n",
       "      <td>Partial</td>\n",
       "      <td>Pass</td>\n",
       "      <td>...</td>\n",
       "      <td>431821.0000</td>\n",
       "      <td>173206.0</td>\n",
       "      <td>593341.0000</td>\n",
       "      <td>9.714780e+05</td>\n",
       "      <td>2016-02-02 09:34:17.0</td>\n",
       "      <td>1.0</td>\n",
       "      <td>023_S_0058</td>\n",
       "      <td>NaN</td>\n",
       "      <td>NaN</td>\n",
       "      <td>NaN</td>\n",
       "    </tr>\n",
       "    <tr>\n",
       "      <th>15</th>\n",
       "      <td>61</td>\n",
       "      <td>m12</td>\n",
       "      <td>2006-12-06</td>\n",
       "      <td>2013-05-06</td>\n",
       "      <td>23481.0</td>\n",
       "      <td>118858</td>\n",
       "      <td>2013-05-06</td>\n",
       "      <td>partial</td>\n",
       "      <td>Pass</td>\n",
       "      <td>Pass</td>\n",
       "      <td>...</td>\n",
       "      <td>398095.0000</td>\n",
       "      <td>142984.0</td>\n",
       "      <td>544818.0000</td>\n",
       "      <td>9.098740e+05</td>\n",
       "      <td>2016-02-02 09:34:17.0</td>\n",
       "      <td>1.0</td>\n",
       "      <td>023_S_0061</td>\n",
       "      <td>NaN</td>\n",
       "      <td>NaN</td>\n",
       "      <td>NaN</td>\n",
       "    </tr>\n",
       "    <tr>\n",
       "      <th>...</th>\n",
       "      <td>...</td>\n",
       "      <td>...</td>\n",
       "      <td>...</td>\n",
       "      <td>...</td>\n",
       "      <td>...</td>\n",
       "      <td>...</td>\n",
       "      <td>...</td>\n",
       "      <td>...</td>\n",
       "      <td>...</td>\n",
       "      <td>...</td>\n",
       "      <td>...</td>\n",
       "      <td>...</td>\n",
       "      <td>...</td>\n",
       "      <td>...</td>\n",
       "      <td>...</td>\n",
       "      <td>...</td>\n",
       "      <td>...</td>\n",
       "      <td>...</td>\n",
       "      <td>...</td>\n",
       "      <td>...</td>\n",
       "      <td>...</td>\n",
       "    </tr>\n",
       "    <tr>\n",
       "      <th>1855</th>\n",
       "      <td>7029</td>\n",
       "      <td>sc</td>\n",
       "      <td>2022-01-10</td>\n",
       "      <td>2022-03-10</td>\n",
       "      <td>1095392.0</td>\n",
       "      <td>1532649</td>\n",
       "      <td>2022-03-10</td>\n",
       "      <td>complete</td>\n",
       "      <td>Pass</td>\n",
       "      <td>Pass</td>\n",
       "      <td>...</td>\n",
       "      <td>442581.8942</td>\n",
       "      <td>49614.0</td>\n",
       "      <td>586429.8798</td>\n",
       "      <td>9.421738e+05</td>\n",
       "      <td>2022-08-26 14:42:03.0</td>\n",
       "      <td>NaN</td>\n",
       "      <td>067_S_7029</td>\n",
       "      <td>sc</td>\n",
       "      <td>NaN</td>\n",
       "      <td>2.0</td>\n",
       "    </tr>\n",
       "    <tr>\n",
       "      <th>1856</th>\n",
       "      <td>7033</td>\n",
       "      <td>sc</td>\n",
       "      <td>2022-01-03</td>\n",
       "      <td>2022-03-02</td>\n",
       "      <td>1092990.0</td>\n",
       "      <td>1529914</td>\n",
       "      <td>2022-03-02</td>\n",
       "      <td>partial</td>\n",
       "      <td>NaN</td>\n",
       "      <td>NaN</td>\n",
       "      <td>...</td>\n",
       "      <td>396638.7168</td>\n",
       "      <td>49607.0</td>\n",
       "      <td>530439.9994</td>\n",
       "      <td>8.382687e+05</td>\n",
       "      <td>2022-08-26 14:42:03.0</td>\n",
       "      <td>NaN</td>\n",
       "      <td>067_S_7033</td>\n",
       "      <td>sc</td>\n",
       "      <td>NaN</td>\n",
       "      <td>3.0</td>\n",
       "    </tr>\n",
       "    <tr>\n",
       "      <th>1857</th>\n",
       "      <td>7044</td>\n",
       "      <td>sc</td>\n",
       "      <td>2022-02-21</td>\n",
       "      <td>2022-06-28</td>\n",
       "      <td>1106750.0</td>\n",
       "      <td>1546901</td>\n",
       "      <td>2022-06-28</td>\n",
       "      <td>partial</td>\n",
       "      <td>NaN</td>\n",
       "      <td>NaN</td>\n",
       "      <td>...</td>\n",
       "      <td>369332.0396</td>\n",
       "      <td>42613.0</td>\n",
       "      <td>524582.6837</td>\n",
       "      <td>8.829197e+05</td>\n",
       "      <td>2022-08-26 14:42:03.0</td>\n",
       "      <td>NaN</td>\n",
       "      <td>036_S_7044</td>\n",
       "      <td>sc</td>\n",
       "      <td>NaN</td>\n",
       "      <td>2.0</td>\n",
       "    </tr>\n",
       "    <tr>\n",
       "      <th>1858</th>\n",
       "      <td>7048</td>\n",
       "      <td>sc</td>\n",
       "      <td>2022-03-18</td>\n",
       "      <td>2022-05-19</td>\n",
       "      <td>1115524.0</td>\n",
       "      <td>1558064</td>\n",
       "      <td>2022-05-19</td>\n",
       "      <td>partial</td>\n",
       "      <td>NaN</td>\n",
       "      <td>NaN</td>\n",
       "      <td>...</td>\n",
       "      <td>395594.8667</td>\n",
       "      <td>55446.0</td>\n",
       "      <td>556212.4274</td>\n",
       "      <td>8.836193e+05</td>\n",
       "      <td>2022-08-26 14:42:03.0</td>\n",
       "      <td>NaN</td>\n",
       "      <td>011_S_7048</td>\n",
       "      <td>sc</td>\n",
       "      <td>NaN</td>\n",
       "      <td>1.0</td>\n",
       "    </tr>\n",
       "    <tr>\n",
       "      <th>1859</th>\n",
       "      <td>7066</td>\n",
       "      <td>sc</td>\n",
       "      <td>2022-04-18</td>\n",
       "      <td>2022-07-27</td>\n",
       "      <td>1125623.0</td>\n",
       "      <td>1570686</td>\n",
       "      <td>2022-07-27</td>\n",
       "      <td>partial</td>\n",
       "      <td>NaN</td>\n",
       "      <td>NaN</td>\n",
       "      <td>...</td>\n",
       "      <td>325329.1458</td>\n",
       "      <td>35137.0</td>\n",
       "      <td>478043.7365</td>\n",
       "      <td>7.509449e+05</td>\n",
       "      <td>2022-08-26 14:42:03.0</td>\n",
       "      <td>NaN</td>\n",
       "      <td>033_S_7066</td>\n",
       "      <td>sc</td>\n",
       "      <td>NaN</td>\n",
       "      <td>3.0</td>\n",
       "    </tr>\n",
       "  </tbody>\n",
       "</table>\n",
       "<p>1742 rows × 348 columns</p>\n",
       "</div>"
      ],
      "text/plain": [
       "       RID VISCODE    EXAMDATE     VERSION    LONIUID  IMAGEUID     RUNDATE  \\\n",
       "0       15     m36  2009-04-27  2013-08-07    66778.0    160866  2013-08-07   \n",
       "5       30     m18  2007-04-26  2014-01-06    30858.0    118835  2014-01-06   \n",
       "9       31     m12  2006-10-30  2013-05-06    21475.0    118846  2013-05-06   \n",
       "12      58     m24  2007-12-06  2013-05-06    43409.0     87046  2013-05-06   \n",
       "15      61     m12  2006-12-06  2013-05-06    23481.0    118858  2013-05-06   \n",
       "...    ...     ...         ...         ...        ...       ...         ...   \n",
       "1855  7029      sc  2022-01-10  2022-03-10  1095392.0   1532649  2022-03-10   \n",
       "1856  7033      sc  2022-01-03  2022-03-02  1092990.0   1529914  2022-03-02   \n",
       "1857  7044      sc  2022-02-21  2022-06-28  1106750.0   1546901  2022-06-28   \n",
       "1858  7048      sc  2022-03-18  2022-05-19  1115524.0   1558064  2022-05-19   \n",
       "1859  7066      sc  2022-04-18  2022-07-27  1125623.0   1570686  2022-07-27   \n",
       "\n",
       "        STATUS OVERALLQC TEMPQC  ...      ST152SV   ST153SV      ST154SV  \\\n",
       "0      partial      Pass   Pass  ...  429929.0000  167857.0  534752.0000   \n",
       "5      partial   Partial   Fail  ...  386915.0000  147415.0  561204.0000   \n",
       "9      partial      Fail   Fail  ...  354537.0000  152878.0  542742.0000   \n",
       "12     partial   Partial   Pass  ...  431821.0000  173206.0  593341.0000   \n",
       "15     partial      Pass   Pass  ...  398095.0000  142984.0  544818.0000   \n",
       "...        ...       ...    ...  ...          ...       ...          ...   \n",
       "1855  complete      Pass   Pass  ...  442581.8942   49614.0  586429.8798   \n",
       "1856   partial       NaN    NaN  ...  396638.7168   49607.0  530439.9994   \n",
       "1857   partial       NaN    NaN  ...  369332.0396   42613.0  524582.6837   \n",
       "1858   partial       NaN    NaN  ...  395594.8667   55446.0  556212.4274   \n",
       "1859   partial       NaN    NaN  ...  325329.1458   35137.0  478043.7365   \n",
       "\n",
       "           ST155SV           update_stamp DXCURREN        PTID  VISCODE2  \\\n",
       "0     9.092360e+05  2016-02-02 09:34:17.0      1.0  100_S_0015       NaN   \n",
       "5     1.027810e+06  2016-02-02 09:34:17.0      3.0  023_S_0030       NaN   \n",
       "9     9.147000e+05  2016-02-02 09:34:17.0      1.0  023_S_0031       NaN   \n",
       "12    9.714780e+05  2016-02-02 09:34:17.0      1.0  023_S_0058       NaN   \n",
       "15    9.098740e+05  2016-02-02 09:34:17.0      1.0  023_S_0061       NaN   \n",
       "...            ...                    ...      ...         ...       ...   \n",
       "1855  9.421738e+05  2022-08-26 14:42:03.0      NaN  067_S_7029        sc   \n",
       "1856  8.382687e+05  2022-08-26 14:42:03.0      NaN  067_S_7033        sc   \n",
       "1857  8.829197e+05  2022-08-26 14:42:03.0      NaN  036_S_7044        sc   \n",
       "1858  8.836193e+05  2022-08-26 14:42:03.0      NaN  011_S_7048        sc   \n",
       "1859  7.509449e+05  2022-08-26 14:42:03.0      NaN  033_S_7066        sc   \n",
       "\n",
       "      DXCHANGE  DIAGNOSIS  \n",
       "0          NaN        NaN  \n",
       "5          NaN        NaN  \n",
       "9          NaN        NaN  \n",
       "12         NaN        NaN  \n",
       "15         NaN        NaN  \n",
       "...        ...        ...  \n",
       "1855       NaN        2.0  \n",
       "1856       NaN        3.0  \n",
       "1857       NaN        2.0  \n",
       "1858       NaN        1.0  \n",
       "1859       NaN        3.0  \n",
       "\n",
       "[1742 rows x 348 columns]"
      ]
     },
     "execution_count": 34,
     "metadata": {},
     "output_type": "execute_result"
    }
   ],
   "source": [
    "img"
   ]
  },
  {
   "cell_type": "code",
   "execution_count": 55,
   "metadata": {},
   "outputs": [
    {
     "data": {
      "text/plain": [
       "<AxesSubplot:xlabel='DXCURREN', ylabel='Probability'>"
      ]
     },
     "execution_count": 55,
     "metadata": {},
     "output_type": "execute_result"
    },
    {
     "data": {
      "image/png": "[encoded data removed]",
      "text/plain": [
       "<Figure size 432x288 with 1 Axes>"
      ]
     },
     "metadata": {
      "needs_background": "light"
     },
     "output_type": "display_data"
    }
   ],
   "source": [
    "\n",
    "sns.histplot(img_dx1['DXCURREN'].astype(str), stat='probability')"
   ]
  },
  {
   "cell_type": "code",
   "execution_count": 56,
   "metadata": {},
   "outputs": [
    {
     "data": {
      "text/plain": [
       "<AxesSubplot:xlabel='DIAGNOSIS', ylabel='Probability'>"
      ]
     },
     "execution_count": 56,
     "metadata": {},
     "output_type": "execute_result"
    },
    {
     "data": {
      "image/png": "[encoded data removed]",
      "text/plain": [
       "<Figure size 432x288 with 1 Axes>"
      ]
     },
     "metadata": {
      "needs_background": "light"
     },
     "output_type": "display_data"
    }
   ],
   "source": [
    "sns.histplot(img_dx3['DIAGNOSIS'].astype(str), stat='probability')"
   ]
  },
  {
   "cell_type": "code",
   "execution_count": 58,
   "metadata": {},
   "outputs": [
    {
     "data": {
      "text/plain": [
       "<AxesSubplot:xlabel='DXCHANGE', ylabel='Probability'>"
      ]
     },
     "execution_count": 58,
     "metadata": {},
     "output_type": "execute_result"
    },
    {
     "data": {
      "image/png": "[encoded data removed]",
      "text/plain": [
       "<Figure size 432x288 with 1 Axes>"
      ]
     },
     "metadata": {
      "needs_background": "light"
     },
     "output_type": "display_data"
    }
   ],
   "source": [
    "img2gocurren = img_dx2go.copy()\n",
    "img2gocurren[(img2gocurren[\"DXCHANGE\"] == 1) | (img2gocurren[\"DXCHANGE\"] == 7) |(img2gocurren[\"DXCHANGE\"] == 9)] = 1\n",
    "img2gocurren[(img2gocurren[\"DXCHANGE\"] == 2) | (img2gocurren[\"DXCHANGE\"] == 4) |(img2gocurren[\"DXCHANGE\"] == 8)] = 2\n",
    "img2gocurren[(img2gocurren[\"DXCHANGE\"] == 3) | (img2gocurren[\"DXCHANGE\"] == 5) |(img2gocurren[\"DXCHANGE\"] == 6)] = 3\n",
    "\n",
    "sns.histplot(img2gocurren['DXCHANGE'].astype(str), stat='probability')"
   ]
  },
  {
   "cell_type": "code",
   "execution_count": 41,
   "metadata": {},
   "outputs": [
    {
     "data": {
      "text/plain": [
       "16222"
      ]
     },
     "execution_count": 41,
     "metadata": {},
     "output_type": "execute_result"
    }
   ],
   "source": [
    "len(adni_merge)"
   ]
  },
  {
   "cell_type": "code",
   "execution_count": null,
   "metadata": {},
   "outputs": [],
   "source": []
  }
 ],
 "metadata": {
  "kernelspec": {
   "display_name": "Python 3",
   "language": "python",
   "name": "python3"
  },
  "language_info": {
   "codemirror_mode": {
    "name": "ipython",
    "version": 3
   },
   "file_extension": ".py",
   "mimetype": "text/x-python",
   "name": "python",
   "nbconvert_exporter": "python",
   "pygments_lexer": "ipython3",
   "version": "3.8.5"
  },
  "orig_nbformat": 4,
  "vscode": {
   "interpreter": {
    "hash": "570feb405e2e27c949193ac68f46852414290d515b0ba6e5d90d076ed2284471"
   }
  }
 },
 "nbformat": 4,
 "nbformat_minor": 2
}
