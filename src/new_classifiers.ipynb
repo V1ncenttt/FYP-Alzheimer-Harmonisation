{
 "cells": [
  {
   "attachments": {},
   "cell_type": "markdown",
   "metadata": {},
   "source": [
    "# Classifiers using neuro-imaging data"
   ]
  },
  {
   "cell_type": "code",
   "execution_count": 1,
   "metadata": {},
   "outputs": [],
   "source": [
    "import pandas as pd\n",
    "import numpy as np\n",
    "from numpy import random, arange\n",
    "import seaborn as sns\n",
    "\n",
    "from sklearn.model_selection import train_test_split, KFold, cross_val_score, GridSearchCV\n",
    "from sklearn.metrics import balanced_accuracy_score, accuracy_score\n",
    "from sklearn.decomposition import PCA\n",
    "from sklearn.preprocessing import MinMaxScaler, StandardScaler, OrdinalEncoder, PolynomialFeatures, LabelEncoder\n",
    "\n",
    "# Import relevant sklearn classes related to machine learning models\n",
    "from sklearn.linear_model import LinearRegression, LogisticRegression, Lasso, ElasticNet\n",
    "from sklearn.svm import SVC, SVR, NuSVC\n",
    "from sklearn.tree import DecisionTreeClassifier, DecisionTreeRegressor\n",
    "from sklearn.ensemble import RandomForestClassifier, GradientBoostingClassifier, BaggingClassifier\n",
    "from sklearn.neural_network import MLPClassifier\n",
    "\n",
    "# Import relevant sklearn class/function related to evaluation\n",
    "import sklearn.metrics\n",
    "from imblearn.under_sampling import RandomUnderSampler\n",
    "\n",
    "#Smote oversampling \n",
    "import smote_variants as sv"
   ]
  },
  {
   "attachments": {},
   "cell_type": "markdown",
   "metadata": {},
   "source": [
    "## Data Pre-Processing"
   ]
  },
  {
   "cell_type": "code",
   "execution_count": 39,
   "metadata": {},
   "outputs": [],
   "source": [
    "\n",
    "img_adni1 = pd.read_csv(\"../data/UCSFFSX51_ADNI1_3T_02_01_16.csv\", low_memory=False)\n",
    "img_adni2 = pd.read_csv(\"../data/UCSFFSX51_11_08_19.csv\", low_memory=False)\n",
    "img_adni3 = pd.read_csv(\"../data/UCSFFSX6_08_17_22.csv\", low_memory=False)\n",
    "adni_merge= pd.read_csv('../data/ADNIMERGE.csv', low_memory=False)\n"
   ]
  },
  {
   "cell_type": "code",
   "execution_count": 40,
   "metadata": {},
   "outputs": [],
   "source": [
    "img_adni2.replace(\"scmri\", \"sc\", inplace=True)\n",
    "dx = pd.read_csv(\"../data/DXSUM_PDXCONV_ADNIALL.csv\", low_memory=False)\n",
    "adni2 = img_adni2.loc[img_adni2['VISCODE2'] == \"sc\"]\n",
    "adni3 = img_adni3.loc[img_adni3['VISCODE2'] == \"sc\"]\n",
    "adni1 = img_adni1.loc[img_adni1['VISCODE'] == 'bl']"
   ]
  },
  {
   "cell_type": "code",
   "execution_count": 41,
   "metadata": {},
   "outputs": [],
   "source": [
    "#CVs = []\n",
    "SVs = []\n",
    "#SAs = []\n",
    "#TSs = []\n",
    "TAs = []\n",
    "#HSs = []\n",
    "\n",
    "for col in adni2.columns:\n",
    "    \n",
    "    #if col.endswith('CV'):\n",
    "        #CVs.append(col)\n",
    "    if col.endswith('SV'):\n",
    "        SVs.append(col)\n",
    "    \"\"\"\n",
    "    if col.endswith('SA'):\n",
    "        SAs.append(col)\n",
    "    if col.endswith('TS'):\n",
    "        TSs.append(col)\n",
    "    if col.endswith('HS'):\n",
    "        HSs.append(col)\n",
    "    \"\"\"\n",
    "    if col.endswith('TA'):\n",
    "        TAs.append(col)\n",
    "\n",
    "TAs.append(\"RID\")\n",
    "TAs2 = TAs.copy()\n",
    "TAs2.append(\"VISCODE\")\n",
    "TAs.append(\"VISCODE2\")\n"
   ]
  },
  {
   "cell_type": "code",
   "execution_count": 42,
   "metadata": {},
   "outputs": [],
   "source": [
    "dxbl_subset = dx.loc[:,[\"VISCODE\", \"VISCODE2\", \"RID\", \"DXCHANGE\",\"DXCURREN\",\"DIAGNOSIS\", \"PTID\"]].copy()\n",
    "imgdx2 = pd.merge(adni2.loc[:,TAs].copy(), dxbl_subset, on=[\"RID\", \"VISCODE2\"])\n",
    "imgdx3 = pd.merge(adni3.loc[:,TAs].copy(), dxbl_subset, on=[\"RID\", \"VISCODE2\"])\n",
    "imgdx1 = pd.merge(adni1.loc[:,TAs2].copy(), dxbl_subset, on=[\"RID\", \"VISCODE\"])"
   ]
  },
  {
   "cell_type": "code",
   "execution_count": 43,
   "metadata": {},
   "outputs": [
    {
     "data": {
      "text/plain": [
       "1598"
      ]
     },
     "execution_count": 43,
     "metadata": {},
     "output_type": "execute_result"
    }
   ],
   "source": [
    "imgdx2[\"PTID\"].append(imgdx3['PTID'].append(imgdx1['PTID'])).nunique()"
   ]
  },
  {
   "cell_type": "code",
   "execution_count": 44,
   "metadata": {},
   "outputs": [],
   "source": [
    "\n",
    "imgdx2.loc[(imgdx2[\"DXCHANGE\"] == 1) | (imgdx2[\"DXCHANGE\"] == 4) |(imgdx2[\"DXCHANGE\"] == 6), 'DXCHANGE'] = 1\n",
    "imgdx2.loc[(imgdx2[\"DXCHANGE\"] == 2) | (imgdx2[\"DXCHANGE\"] == 5) |(imgdx2[\"DXCHANGE\"] == 7), 'DXCHANGE'] = 2\n",
    "imgdx2.loc[(imgdx2[\"DXCHANGE\"] == 3) | (imgdx2[\"DXCHANGE\"] == 8) |(imgdx2[\"DXCHANGE\"] == 9), 'DXCHANGE'] = 3\n"
   ]
  },
  {
   "cell_type": "code",
   "execution_count": 45,
   "metadata": {},
   "outputs": [
    {
     "data": {
      "text/html": [
       "<div>\n",
       "<style scoped>\n",
       "    .dataframe tbody tr th:only-of-type {\n",
       "        vertical-align: middle;\n",
       "    }\n",
       "\n",
       "    .dataframe tbody tr th {\n",
       "        vertical-align: top;\n",
       "    }\n",
       "\n",
       "    .dataframe thead th {\n",
       "        text-align: right;\n",
       "    }\n",
       "</style>\n",
       "<table border=\"1\" class=\"dataframe\">\n",
       "  <thead>\n",
       "    <tr style=\"text-align: right;\">\n",
       "      <th></th>\n",
       "      <th>ST102TA</th>\n",
       "      <th>ST103TA</th>\n",
       "      <th>ST104TA</th>\n",
       "      <th>ST105TA</th>\n",
       "      <th>ST106TA</th>\n",
       "      <th>ST107TA</th>\n",
       "      <th>ST108TA</th>\n",
       "      <th>ST109TA</th>\n",
       "      <th>ST110TA</th>\n",
       "      <th>ST111TA</th>\n",
       "      <th>...</th>\n",
       "      <th>ST97TA</th>\n",
       "      <th>ST98TA</th>\n",
       "      <th>ST99TA</th>\n",
       "      <th>RID</th>\n",
       "      <th>VISCODE</th>\n",
       "      <th>VISCODE2</th>\n",
       "      <th>DXCHANGE</th>\n",
       "      <th>DXCURREN</th>\n",
       "      <th>DIAGNOSIS</th>\n",
       "      <th>PTID</th>\n",
       "    </tr>\n",
       "  </thead>\n",
       "  <tbody>\n",
       "    <tr>\n",
       "      <th>0</th>\n",
       "      <td>2.187</td>\n",
       "      <td>2.617</td>\n",
       "      <td>2.357</td>\n",
       "      <td>2.301</td>\n",
       "      <td>2.346</td>\n",
       "      <td>1.492</td>\n",
       "      <td>1.711</td>\n",
       "      <td>2.335</td>\n",
       "      <td>2.228</td>\n",
       "      <td>2.147</td>\n",
       "      <td>...</td>\n",
       "      <td>1.889</td>\n",
       "      <td>2.201</td>\n",
       "      <td>2.573</td>\n",
       "      <td>15</td>\n",
       "      <td>bl</td>\n",
       "      <td>bl</td>\n",
       "      <td>NaN</td>\n",
       "      <td>1.0</td>\n",
       "      <td>NaN</td>\n",
       "      <td>100_S_0015</td>\n",
       "    </tr>\n",
       "    <tr>\n",
       "      <th>1</th>\n",
       "      <td>2.423</td>\n",
       "      <td>2.960</td>\n",
       "      <td>2.378</td>\n",
       "      <td>2.499</td>\n",
       "      <td>2.363</td>\n",
       "      <td>1.612</td>\n",
       "      <td>2.033</td>\n",
       "      <td>2.574</td>\n",
       "      <td>2.604</td>\n",
       "      <td>2.325</td>\n",
       "      <td>...</td>\n",
       "      <td>1.901</td>\n",
       "      <td>2.387</td>\n",
       "      <td>2.788</td>\n",
       "      <td>86</td>\n",
       "      <td>bl</td>\n",
       "      <td>bl</td>\n",
       "      <td>NaN</td>\n",
       "      <td>1.0</td>\n",
       "      <td>NaN</td>\n",
       "      <td>136_S_0086</td>\n",
       "    </tr>\n",
       "    <tr>\n",
       "      <th>2</th>\n",
       "      <td>2.287</td>\n",
       "      <td>2.536</td>\n",
       "      <td>2.303</td>\n",
       "      <td>2.881</td>\n",
       "      <td>2.305</td>\n",
       "      <td>1.463</td>\n",
       "      <td>1.909</td>\n",
       "      <td>2.858</td>\n",
       "      <td>2.382</td>\n",
       "      <td>2.248</td>\n",
       "      <td>...</td>\n",
       "      <td>1.988</td>\n",
       "      <td>2.414</td>\n",
       "      <td>2.740</td>\n",
       "      <td>184</td>\n",
       "      <td>bl</td>\n",
       "      <td>bl</td>\n",
       "      <td>NaN</td>\n",
       "      <td>1.0</td>\n",
       "      <td>NaN</td>\n",
       "      <td>136_S_0184</td>\n",
       "    </tr>\n",
       "    <tr>\n",
       "      <th>3</th>\n",
       "      <td>2.004</td>\n",
       "      <td>2.372</td>\n",
       "      <td>2.294</td>\n",
       "      <td>2.168</td>\n",
       "      <td>2.018</td>\n",
       "      <td>1.713</td>\n",
       "      <td>1.672</td>\n",
       "      <td>1.991</td>\n",
       "      <td>2.108</td>\n",
       "      <td>1.898</td>\n",
       "      <td>...</td>\n",
       "      <td>1.809</td>\n",
       "      <td>2.168</td>\n",
       "      <td>2.139</td>\n",
       "      <td>187</td>\n",
       "      <td>bl</td>\n",
       "      <td>bl</td>\n",
       "      <td>NaN</td>\n",
       "      <td>2.0</td>\n",
       "      <td>NaN</td>\n",
       "      <td>032_S_0187</td>\n",
       "    </tr>\n",
       "    <tr>\n",
       "      <th>4</th>\n",
       "      <td>1.979</td>\n",
       "      <td>1.897</td>\n",
       "      <td>2.244</td>\n",
       "      <td>2.272</td>\n",
       "      <td>2.085</td>\n",
       "      <td>1.327</td>\n",
       "      <td>1.784</td>\n",
       "      <td>2.132</td>\n",
       "      <td>2.196</td>\n",
       "      <td>1.946</td>\n",
       "      <td>...</td>\n",
       "      <td>1.764</td>\n",
       "      <td>2.063</td>\n",
       "      <td>2.379</td>\n",
       "      <td>190</td>\n",
       "      <td>bl</td>\n",
       "      <td>bl</td>\n",
       "      <td>NaN</td>\n",
       "      <td>3.0</td>\n",
       "      <td>NaN</td>\n",
       "      <td>100_S_0190</td>\n",
       "    </tr>\n",
       "    <tr>\n",
       "      <th>...</th>\n",
       "      <td>...</td>\n",
       "      <td>...</td>\n",
       "      <td>...</td>\n",
       "      <td>...</td>\n",
       "      <td>...</td>\n",
       "      <td>...</td>\n",
       "      <td>...</td>\n",
       "      <td>...</td>\n",
       "      <td>...</td>\n",
       "      <td>...</td>\n",
       "      <td>...</td>\n",
       "      <td>...</td>\n",
       "      <td>...</td>\n",
       "      <td>...</td>\n",
       "      <td>...</td>\n",
       "      <td>...</td>\n",
       "      <td>...</td>\n",
       "      <td>...</td>\n",
       "      <td>...</td>\n",
       "      <td>...</td>\n",
       "      <td>...</td>\n",
       "    </tr>\n",
       "    <tr>\n",
       "      <th>107</th>\n",
       "      <td>2.308</td>\n",
       "      <td>2.118</td>\n",
       "      <td>2.485</td>\n",
       "      <td>2.508</td>\n",
       "      <td>2.433</td>\n",
       "      <td>1.776</td>\n",
       "      <td>1.954</td>\n",
       "      <td>2.403</td>\n",
       "      <td>2.412</td>\n",
       "      <td>2.260</td>\n",
       "      <td>...</td>\n",
       "      <td>2.129</td>\n",
       "      <td>2.345</td>\n",
       "      <td>2.736</td>\n",
       "      <td>1326</td>\n",
       "      <td>bl</td>\n",
       "      <td>bl</td>\n",
       "      <td>NaN</td>\n",
       "      <td>2.0</td>\n",
       "      <td>NaN</td>\n",
       "      <td>016_S_1326</td>\n",
       "    </tr>\n",
       "    <tr>\n",
       "      <th>108</th>\n",
       "      <td>2.232</td>\n",
       "      <td>2.753</td>\n",
       "      <td>2.544</td>\n",
       "      <td>2.412</td>\n",
       "      <td>2.324</td>\n",
       "      <td>1.789</td>\n",
       "      <td>1.891</td>\n",
       "      <td>2.445</td>\n",
       "      <td>2.306</td>\n",
       "      <td>2.172</td>\n",
       "      <td>...</td>\n",
       "      <td>2.067</td>\n",
       "      <td>2.597</td>\n",
       "      <td>2.570</td>\n",
       "      <td>1331</td>\n",
       "      <td>bl</td>\n",
       "      <td>bl</td>\n",
       "      <td>NaN</td>\n",
       "      <td>2.0</td>\n",
       "      <td>NaN</td>\n",
       "      <td>051_S_1331</td>\n",
       "    </tr>\n",
       "    <tr>\n",
       "      <th>109</th>\n",
       "      <td>2.058</td>\n",
       "      <td>2.255</td>\n",
       "      <td>2.191</td>\n",
       "      <td>2.166</td>\n",
       "      <td>2.209</td>\n",
       "      <td>1.499</td>\n",
       "      <td>1.779</td>\n",
       "      <td>2.412</td>\n",
       "      <td>1.991</td>\n",
       "      <td>2.218</td>\n",
       "      <td>...</td>\n",
       "      <td>1.814</td>\n",
       "      <td>2.419</td>\n",
       "      <td>2.642</td>\n",
       "      <td>1337</td>\n",
       "      <td>bl</td>\n",
       "      <td>bl</td>\n",
       "      <td>NaN</td>\n",
       "      <td>3.0</td>\n",
       "      <td>NaN</td>\n",
       "      <td>130_S_1337</td>\n",
       "    </tr>\n",
       "    <tr>\n",
       "      <th>110</th>\n",
       "      <td>2.347</td>\n",
       "      <td>2.445</td>\n",
       "      <td>2.550</td>\n",
       "      <td>2.475</td>\n",
       "      <td>2.165</td>\n",
       "      <td>1.961</td>\n",
       "      <td>1.833</td>\n",
       "      <td>2.221</td>\n",
       "      <td>2.201</td>\n",
       "      <td>2.169</td>\n",
       "      <td>...</td>\n",
       "      <td>2.040</td>\n",
       "      <td>2.335</td>\n",
       "      <td>2.768</td>\n",
       "      <td>1338</td>\n",
       "      <td>bl</td>\n",
       "      <td>bl</td>\n",
       "      <td>NaN</td>\n",
       "      <td>2.0</td>\n",
       "      <td>NaN</td>\n",
       "      <td>051_S_1338</td>\n",
       "    </tr>\n",
       "    <tr>\n",
       "      <th>111</th>\n",
       "      <td>2.111</td>\n",
       "      <td>2.869</td>\n",
       "      <td>2.374</td>\n",
       "      <td>2.902</td>\n",
       "      <td>2.245</td>\n",
       "      <td>1.727</td>\n",
       "      <td>1.739</td>\n",
       "      <td>2.516</td>\n",
       "      <td>2.467</td>\n",
       "      <td>2.204</td>\n",
       "      <td>...</td>\n",
       "      <td>2.238</td>\n",
       "      <td>2.404</td>\n",
       "      <td>2.934</td>\n",
       "      <td>1340</td>\n",
       "      <td>bl</td>\n",
       "      <td>bl</td>\n",
       "      <td>NaN</td>\n",
       "      <td>2.0</td>\n",
       "      <td>NaN</td>\n",
       "      <td>126_S_1340</td>\n",
       "    </tr>\n",
       "  </tbody>\n",
       "</table>\n",
       "<p>112 rows × 75 columns</p>\n",
       "</div>"
      ],
      "text/plain": [
       "     ST102TA  ST103TA  ST104TA  ST105TA  ST106TA  ST107TA  ST108TA  ST109TA  \\\n",
       "0      2.187    2.617    2.357    2.301    2.346    1.492    1.711    2.335   \n",
       "1      2.423    2.960    2.378    2.499    2.363    1.612    2.033    2.574   \n",
       "2      2.287    2.536    2.303    2.881    2.305    1.463    1.909    2.858   \n",
       "3      2.004    2.372    2.294    2.168    2.018    1.713    1.672    1.991   \n",
       "4      1.979    1.897    2.244    2.272    2.085    1.327    1.784    2.132   \n",
       "..       ...      ...      ...      ...      ...      ...      ...      ...   \n",
       "107    2.308    2.118    2.485    2.508    2.433    1.776    1.954    2.403   \n",
       "108    2.232    2.753    2.544    2.412    2.324    1.789    1.891    2.445   \n",
       "109    2.058    2.255    2.191    2.166    2.209    1.499    1.779    2.412   \n",
       "110    2.347    2.445    2.550    2.475    2.165    1.961    1.833    2.221   \n",
       "111    2.111    2.869    2.374    2.902    2.245    1.727    1.739    2.516   \n",
       "\n",
       "     ST110TA  ST111TA  ...  ST97TA  ST98TA  ST99TA   RID  VISCODE  VISCODE2  \\\n",
       "0      2.228    2.147  ...   1.889   2.201   2.573    15       bl        bl   \n",
       "1      2.604    2.325  ...   1.901   2.387   2.788    86       bl        bl   \n",
       "2      2.382    2.248  ...   1.988   2.414   2.740   184       bl        bl   \n",
       "3      2.108    1.898  ...   1.809   2.168   2.139   187       bl        bl   \n",
       "4      2.196    1.946  ...   1.764   2.063   2.379   190       bl        bl   \n",
       "..       ...      ...  ...     ...     ...     ...   ...      ...       ...   \n",
       "107    2.412    2.260  ...   2.129   2.345   2.736  1326       bl        bl   \n",
       "108    2.306    2.172  ...   2.067   2.597   2.570  1331       bl        bl   \n",
       "109    1.991    2.218  ...   1.814   2.419   2.642  1337       bl        bl   \n",
       "110    2.201    2.169  ...   2.040   2.335   2.768  1338       bl        bl   \n",
       "111    2.467    2.204  ...   2.238   2.404   2.934  1340       bl        bl   \n",
       "\n",
       "     DXCHANGE  DXCURREN  DIAGNOSIS        PTID  \n",
       "0         NaN       1.0        NaN  100_S_0015  \n",
       "1         NaN       1.0        NaN  136_S_0086  \n",
       "2         NaN       1.0        NaN  136_S_0184  \n",
       "3         NaN       2.0        NaN  032_S_0187  \n",
       "4         NaN       3.0        NaN  100_S_0190  \n",
       "..        ...       ...        ...         ...  \n",
       "107       NaN       2.0        NaN  016_S_1326  \n",
       "108       NaN       2.0        NaN  051_S_1331  \n",
       "109       NaN       3.0        NaN  130_S_1337  \n",
       "110       NaN       2.0        NaN  051_S_1338  \n",
       "111       NaN       2.0        NaN  126_S_1340  \n",
       "\n",
       "[112 rows x 75 columns]"
      ]
     },
     "execution_count": 45,
     "metadata": {},
     "output_type": "execute_result"
    }
   ],
   "source": [
    "imgdx1"
   ]
  },
  {
   "cell_type": "code",
   "execution_count": 46,
   "metadata": {},
   "outputs": [],
   "source": [
    "imgdx1.drop([\"VISCODE\", \"VISCODE2\", \"PTID\", \"RID\"], inplace=True, axis=1)\n",
    "imgdx2.drop([\"VISCODE\", \"VISCODE2\", \"PTID\", \"RID\"], inplace=True, axis=1)\n",
    "imgdx3.drop([\"VISCODE\", \"VISCODE2\", \"PTID\", \"RID\"], inplace=True, axis=1)\n",
    "\n",
    "img = imgdx1.append(imgdx2.append(imgdx3))"
   ]
  },
  {
   "cell_type": "code",
   "execution_count": 47,
   "metadata": {},
   "outputs": [],
   "source": [
    "img['DIAGNOSIS'] = img['DIAGNOSIS'].fillna(img['DXCHANGE'])\n",
    "img['DIAGNOSIS'] = img['DIAGNOSIS'].fillna(img['DXCURREN'])\n",
    "img.drop(['DXCURREN', 'DXCHANGE'], axis=1, inplace=True)"
   ]
  },
  {
   "cell_type": "code",
   "execution_count": 48,
   "metadata": {},
   "outputs": [
    {
     "data": {
      "text/plain": [
       "Index(['ST102TA', 'ST103TA', 'ST104TA', 'ST105TA', 'ST106TA', 'ST107TA',\n",
       "       'ST108TA', 'ST109TA', 'ST110TA', 'ST111TA', 'ST113TA', 'ST114TA',\n",
       "       'ST115TA', 'ST116TA', 'ST117TA', 'ST118TA', 'ST119TA', 'ST121TA',\n",
       "       'ST129TA', 'ST130TA', 'ST13TA', 'ST14TA', 'ST15TA', 'ST23TA', 'ST24TA',\n",
       "       'ST25TA', 'ST26TA', 'ST31TA', 'ST32TA', 'ST34TA', 'ST35TA', 'ST36TA',\n",
       "       'ST38TA', 'ST39TA', 'ST40TA', 'ST43TA', 'ST44TA', 'ST45TA', 'ST46TA',\n",
       "       'ST47TA', 'ST48TA', 'ST49TA', 'ST50TA', 'ST51TA', 'ST52TA', 'ST54TA',\n",
       "       'ST55TA', 'ST56TA', 'ST57TA', 'ST58TA', 'ST59TA', 'ST60TA', 'ST62TA',\n",
       "       'ST72TA', 'ST73TA', 'ST74TA', 'ST82TA', 'ST83TA', 'ST84TA', 'ST85TA',\n",
       "       'ST90TA', 'ST91TA', 'ST93TA', 'ST94TA', 'ST95TA', 'ST97TA', 'ST98TA',\n",
       "       'ST99TA', 'DIAGNOSIS'],\n",
       "      dtype='object')"
      ]
     },
     "execution_count": 48,
     "metadata": {},
     "output_type": "execute_result"
    }
   ],
   "source": [
    "img.columns"
   ]
  },
  {
   "cell_type": "code",
   "execution_count": 49,
   "metadata": {},
   "outputs": [],
   "source": [
    "\n",
    "data = img\n",
    "data_sane = data[data['DIAGNOSIS'] !=3].mean(axis=0)\n",
    "stddev_sane = data[data['DIAGNOSIS'] !=3].std(axis=0)\n",
    "data_alz = data[data['DIAGNOSIS'] == 3].mean(axis=0)"
   ]
  },
  {
   "cell_type": "code",
   "execution_count": 120,
   "metadata": {},
   "outputs": [
    {
     "data": {
      "text/plain": [
       "ST102TA      0.054250\n",
       "ST103TA      0.242794\n",
       "ST104TA      0.086035\n",
       "ST105TA      0.094299\n",
       "ST106TA      0.056793\n",
       "               ...   \n",
       "ST95TA       0.093075\n",
       "ST97TA       0.072315\n",
       "ST98TA       0.059556\n",
       "ST99TA       0.203466\n",
       "DIAGNOSIS   -1.522207\n",
       "Length: 69, dtype: float64"
      ]
     },
     "execution_count": 120,
     "metadata": {},
     "output_type": "execute_result"
    }
   ],
   "source": [
    "data_sane - data_alz"
   ]
  },
  {
   "attachments": {},
   "cell_type": "markdown",
   "metadata": {},
   "source": [
    "## Alzheimer's classifier"
   ]
  },
  {
   "attachments": {},
   "cell_type": "markdown",
   "metadata": {},
   "source": [
    "Here, we wish to creater a classifier that is able to distinguish patients which have dementia/alzheimer's from patients that either have MCI or do not have any problem.\n",
    "This classifier uses cross sectional brain imaging data."
   ]
  },
  {
   "attachments": {},
   "cell_type": "markdown",
   "metadata": {},
   "source": [
    "### Feature selection"
   ]
  },
  {
   "cell_type": "code",
   "execution_count": 121,
   "metadata": {},
   "outputs": [
    {
     "data": {
      "text/plain": [
       "<Axes: xlabel='DIAGNOSIS', ylabel='Count'>"
      ]
     },
     "execution_count": 121,
     "metadata": {},
     "output_type": "execute_result"
    },
    {
     "data": {
      "image/png": "[encoded data removed]",
      "text/plain": [
       "<Figure size 1080x360 with 1 Axes>"
      ]
     },
     "metadata": {
      "needs_background": "light"
     },
     "output_type": "display_data"
    }
   ],
   "source": [
    "sns.histplot(img['DIAGNOSIS'].astype(str))"
   ]
  },
  {
   "cell_type": "code",
   "execution_count": 124,
   "metadata": {},
   "outputs": [
    {
     "name": "stderr",
     "output_type": "stream",
     "text": [
      "C:\\Users\\vince\\AppData\\Roaming\\Python\\Python38\\site-packages\\pandas\\core\\series.py:1020: SettingWithCopyWarning: \n",
      "A value is trying to be set on a copy of a slice from a DataFrame\n",
      "\n",
      "See the caveats in the documentation: https://pandas.pydata.org/pandas-docs/stable/user_guide/indexing.html#returning-a-view-versus-a-copy\n",
      "  self._where(~key, value, inplace=True)\n",
      "C:\\Users\\vince\\AppData\\Roaming\\Python\\Python38\\site-packages\\pandas\\core\\series.py:1020: SettingWithCopyWarning: \n",
      "A value is trying to be set on a copy of a slice from a DataFrame\n",
      "\n",
      "See the caveats in the documentation: https://pandas.pydata.org/pandas-docs/stable/user_guide/indexing.html#returning-a-view-versus-a-copy\n",
      "  self._where(~key, value, inplace=True)\n"
     ]
    }
   ],
   "source": [
    "img.dropna(inplace=True)\n",
    "img_sub = img[~(img[\"DIAGNOSIS\"] == 2)]\n",
    "Y = img_sub['DIAGNOSIS']\n",
    "X = img_sub.drop(['DIAGNOSIS'], axis=1)\n",
    "Y[Y == 1] = 0\n",
    "Y[Y == 3] = 1\n"
   ]
  },
  {
   "attachments": {},
   "cell_type": "markdown",
   "metadata": {},
   "source": [
    "### Model training"
   ]
  },
  {
   "cell_type": "markdown",
   "metadata": {},
   "source": []
  },
  {
   "cell_type": "code",
   "execution_count": 126,
   "metadata": {},
   "outputs": [],
   "source": [
    "X_train, X_test, y_train, y_test = train_test_split(X, Y, test_size=0.4, train_size=0.6)"
   ]
  },
  {
   "cell_type": "code",
   "execution_count": 127,
   "metadata": {},
   "outputs": [
    {
     "name": "stdout",
     "output_type": "stream",
     "text": [
      "2023-03-03 16:10:03.443700: processing dataset: diagnosis\n",
      "('polynom_fit_SMOTE_star', \"{'proportion': 0.25, 'topology': 'star', 'random_state': None, 'class_name': 'polynom_fit_SMOTE_star'}\")\n",
      "RandomForestClassifier()\n"
     ]
    }
   ],
   "source": [
    "\n",
    "dataset= {'data': np.array(X_train),\n",
    "          'target': np.array(y_train),\n",
    "          'name': 'diagnosis'}\n",
    "\n",
    "classifiers = [('sklearn.ensemble', 'GradientBoostingClassifier', {}),\n",
    "              ('sklearn.ensemble', 'RandomForestClassifier', {}),\n",
    "              ('sklearn.neural_network', 'MLPClassifier', {}),\n",
    "              ('sklearn.tree', 'DecisionTreeClassifier', {})]\n",
    "\n",
    "oversamplers = sv.queries.get_all_oversamplers(n_quickest=2)\n",
    "\n",
    "os_params = sv.queries.generate_parameter_combinations(oversamplers,\n",
    "                                                      n_max_comb=2)\n",
    "\n",
    "# samp_obj and cl_obj contain the oversampling and classifier objects which give the\n",
    "# best performance together\n",
    "samp_obj, cl_obj= sv.evaluation.model_selection(dataset=dataset,\n",
    "                                                oversamplers=os_params,\n",
    "                                                classifiers=classifiers,\n",
    "                                                validator_params={'n_splits': 2,\n",
    "                                                                  'n_repeats': 1},\n",
    "                                                n_jobs= 5)\n",
    "\n",
    "print(samp_obj)\n",
    "print(cl_obj)"
   ]
  },
  {
   "cell_type": "code",
   "execution_count": 128,
   "metadata": {},
   "outputs": [
    {
     "name": "stderr",
     "output_type": "stream",
     "text": [
      "2023-03-03 16:10:30,230:INFO:polynom_fit_SMOTE_star: Running sampling via ('polynom_fit_SMOTE_star', \"{'proportion': 0.25, 'topology': 'star', 'random_state': None, 'class_name': 'polynom_fit_SMOTE_star'}\")\n",
      "2023-03-03 16:10:30,232:INFO:polynom_fit_SMOTE: Running sampling via ('polynom_fit_SMOTE', \"{'proportion': 0.25, 'topology': 'star', 'random_state': None, 'class_name': 'polynom_fit_SMOTE'}\")\n"
     ]
    }
   ],
   "source": [
    "X_train_samp, y_train_samp= samp_obj.sample(np.array(X_train),\n",
    "                                np.array(y_train))"
   ]
  },
  {
   "cell_type": "code",
   "execution_count": 84,
   "metadata": {},
   "outputs": [],
   "source": [
    "rus = RandomUnderSampler(random_state=0)\n",
    "\n",
    "X_train_resampled, y_train_resampled = rus.fit_resample(X_train_samp, y_train_samp)"
   ]
  },
  {
   "cell_type": "code",
   "execution_count": 129,
   "metadata": {},
   "outputs": [
    {
     "data": {
      "text/plain": [
       "<Axes: xlabel='DIAGNOSIS', ylabel='Count'>"
      ]
     },
     "execution_count": 129,
     "metadata": {},
     "output_type": "execute_result"
    },
    {
     "data": {
      "image/png": "[encoded data removed]",
      "text/plain": [
       "<Figure size 1080x360 with 1 Axes>"
      ]
     },
     "metadata": {
      "needs_background": "light"
     },
     "output_type": "display_data"
    }
   ],
   "source": [
    "sns.histplot(y_test.astype(str))"
   ]
  },
  {
   "cell_type": "code",
   "execution_count": 130,
   "metadata": {},
   "outputs": [
    {
     "data": {
      "text/plain": [
       "0.73989898989899"
      ]
     },
     "execution_count": 130,
     "metadata": {},
     "output_type": "execute_result"
    }
   ],
   "source": [
    "len(y_test[y_test == 0]) / (len(y_test))"
   ]
  },
  {
   "attachments": {},
   "cell_type": "markdown",
   "metadata": {},
   "source": [
    "### Cross-validation"
   ]
  },
  {
   "cell_type": "code",
   "execution_count": 178,
   "metadata": {},
   "outputs": [
    {
     "data": {
      "text/html": [
       "<style>#sk-container-id-5 {color: black;background-color: white;}#sk-container-id-5 pre{padding: 0;}#sk-container-id-5 div.sk-toggleable {background-color: white;}#sk-container-id-5 label.sk-toggleable__label {cursor: pointer;display: block;width: 100%;margin-bottom: 0;padding: 0.3em;box-sizing: border-box;text-align: center;}#sk-container-id-5 label.sk-toggleable__label-arrow:before {content: \"▸\";float: left;margin-right: 0.25em;color: #696969;}#sk-container-id-5 label.sk-toggleable__label-arrow:hover:before {color: black;}#sk-container-id-5 div.sk-estimator:hover label.sk-toggleable__label-arrow:before {color: black;}#sk-container-id-5 div.sk-toggleable__content {max-height: 0;max-width: 0;overflow: hidden;text-align: left;background-color: #f0f8ff;}#sk-container-id-5 div.sk-toggleable__content pre {margin: 0.2em;color: black;border-radius: 0.25em;background-color: #f0f8ff;}#sk-container-id-5 input.sk-toggleable__control:checked~div.sk-toggleable__content {max-height: 200px;max-width: 100%;overflow: auto;}#sk-container-id-5 input.sk-toggleable__control:checked~label.sk-toggleable__label-arrow:before {content: \"▾\";}#sk-container-id-5 div.sk-estimator input.sk-toggleable__control:checked~label.sk-toggleable__label {background-color: #d4ebff;}#sk-container-id-5 div.sk-label input.sk-toggleable__control:checked~label.sk-toggleable__label {background-color: #d4ebff;}#sk-container-id-5 input.sk-hidden--visually {border: 0;clip: rect(1px 1px 1px 1px);clip: rect(1px, 1px, 1px, 1px);height: 1px;margin: -1px;overflow: hidden;padding: 0;position: absolute;width: 1px;}#sk-container-id-5 div.sk-estimator {font-family: monospace;background-color: #f0f8ff;border: 1px dotted black;border-radius: 0.25em;box-sizing: border-box;margin-bottom: 0.5em;}#sk-container-id-5 div.sk-estimator:hover {background-color: #d4ebff;}#sk-container-id-5 div.sk-parallel-item::after {content: \"\";width: 100%;border-bottom: 1px solid gray;flex-grow: 1;}#sk-container-id-5 div.sk-label:hover label.sk-toggleable__label {background-color: #d4ebff;}#sk-container-id-5 div.sk-serial::before {content: \"\";position: absolute;border-left: 1px solid gray;box-sizing: border-box;top: 0;bottom: 0;left: 50%;z-index: 0;}#sk-container-id-5 div.sk-serial {display: flex;flex-direction: column;align-items: center;background-color: white;padding-right: 0.2em;padding-left: 0.2em;position: relative;}#sk-container-id-5 div.sk-item {position: relative;z-index: 1;}#sk-container-id-5 div.sk-parallel {display: flex;align-items: stretch;justify-content: center;background-color: white;position: relative;}#sk-container-id-5 div.sk-item::before, #sk-container-id-5 div.sk-parallel-item::before {content: \"\";position: absolute;border-left: 1px solid gray;box-sizing: border-box;top: 0;bottom: 0;left: 50%;z-index: -1;}#sk-container-id-5 div.sk-parallel-item {display: flex;flex-direction: column;z-index: 1;position: relative;background-color: white;}#sk-container-id-5 div.sk-parallel-item:first-child::after {align-self: flex-end;width: 50%;}#sk-container-id-5 div.sk-parallel-item:last-child::after {align-self: flex-start;width: 50%;}#sk-container-id-5 div.sk-parallel-item:only-child::after {width: 0;}#sk-container-id-5 div.sk-dashed-wrapped {border: 1px dashed gray;margin: 0 0.4em 0.5em 0.4em;box-sizing: border-box;padding-bottom: 0.4em;background-color: white;}#sk-container-id-5 div.sk-label label {font-family: monospace;font-weight: bold;display: inline-block;line-height: 1.2em;}#sk-container-id-5 div.sk-label-container {text-align: center;}#sk-container-id-5 div.sk-container {/* jupyter's `normalize.less` sets `[hidden] { display: none; }` but bootstrap.min.css set `[hidden] { display: none !important; }` so we also need the `!important` here to be able to override the default hidden behavior on the sphinx rendered scikit-learn.org. See: https://github.com/scikit-learn/scikit-learn/issues/21755 */display: inline-block !important;position: relative;}#sk-container-id-5 div.sk-text-repr-fallback {display: none;}</style><div id=\"sk-container-id-5\" class=\"sk-top-container\"><div class=\"sk-text-repr-fallback\"><pre>Lasso(alpha=0.005)</pre><b>In a Jupyter environment, please rerun this cell to show the HTML representation or trust the notebook. <br />On GitHub, the HTML representation is unable to render, please try loading this page with nbviewer.org.</b></div><div class=\"sk-container\" hidden><div class=\"sk-item\"><div class=\"sk-estimator sk-toggleable\"><input class=\"sk-toggleable__control sk-hidden--visually\" id=\"sk-estimator-id-5\" type=\"checkbox\" checked><label for=\"sk-estimator-id-5\" class=\"sk-toggleable__label sk-toggleable__label-arrow\">Lasso</label><div class=\"sk-toggleable__content\"><pre>Lasso(alpha=0.005)</pre></div></div></div></div></div>"
      ],
      "text/plain": [
       "Lasso(alpha=0.005)"
      ]
     },
     "execution_count": 178,
     "metadata": {},
     "output_type": "execute_result"
    }
   ],
   "source": [
    "featureSelector = Lasso( alpha=0.005)\n",
    "featureSelector.fit(X_train_resampled, y_train_resampled)"
   ]
  },
  {
   "cell_type": "code",
   "execution_count": 182,
   "metadata": {},
   "outputs": [],
   "source": [
    "coefficients = featureSelector.coef_"
   ]
  },
  {
   "cell_type": "code",
   "execution_count": 183,
   "metadata": {},
   "outputs": [],
   "source": [
    "importance = np.abs(coefficients)"
   ]
  },
  {
   "cell_type": "code",
   "execution_count": 211,
   "metadata": {},
   "outputs": [],
   "source": [
    "cols = importance != 0\n",
    "colNames = np.array(TAs[:68])[importance != 0]"
   ]
  },
  {
   "cell_type": "code",
   "execution_count": 192,
   "metadata": {},
   "outputs": [],
   "source": [
    "\n",
    "X_train_resampled = X_train_resampled[:,cols]"
   ]
  },
  {
   "cell_type": "code",
   "execution_count": 193,
   "metadata": {},
   "outputs": [],
   "source": [
    "models = [GradientBoostingClassifier(), RandomForestClassifier(), SVC(), DecisionTreeClassifier(), MLPClassifier()]"
   ]
  },
  {
   "cell_type": "code",
   "execution_count": 194,
   "metadata": {},
   "outputs": [
    {
     "name": "stdout",
     "output_type": "stream",
     "text": [
      "GradientBoostingClassifier() 0.8237327188940092\n",
      "RandomForestClassifier() 0.8221198156682028\n",
      "SVC() 0.8316692268305171\n",
      "DecisionTreeClassifier() 0.7632360471070149\n",
      "MLPClassifier() 0.7933179723502304\n"
     ]
    }
   ],
   "source": [
    "kfold = KFold(n_splits=10)\n",
    "for model in models:\n",
    "    cv_results = cross_val_score(model, X_train_resampled, y_train_resampled, cv=kfold, scoring='accuracy', n_jobs=-1)\n",
    "    print(model, cv_results.sum()/10)"
   ]
  },
  {
   "cell_type": "code",
   "execution_count": 195,
   "metadata": {},
   "outputs": [
    {
     "name": "stdout",
     "output_type": "stream",
     "text": [
      "Fitting 10 folds for each of 6 candidates, totalling 60 fits\n",
      "0.8221710189452125\n",
      "{'learning_rate': 0.05, 'max_depth': 4, 'max_features': 1.0, 'min_samples_leaf': 3, 'n_estimators': 100}\n"
     ]
    }
   ],
   "source": [
    "param_grid={'n_estimators':[100,500], \n",
    "            'learning_rate': [0.1,0.05,0.02],\n",
    "            'max_depth':[4], \n",
    "            'min_samples_leaf':[3], \n",
    "            'max_features':[1.0] } \n",
    "\n",
    "kfold = KFold(n_splits=10)\n",
    "rf = GradientBoostingClassifier()\n",
    "\n",
    "grid_search = GridSearchCV(estimator = rf, param_grid = param_grid, \n",
    "                          cv = kfold, n_jobs = -1, verbose = 2)\n",
    "\n",
    "grid_search.fit(X_train_resampled, y_train_resampled)\n",
    "print(grid_search.best_score_)\n",
    "print(grid_search.best_params_)"
   ]
  },
  {
   "attachments": {},
   "cell_type": "markdown",
   "metadata": {},
   "source": [
    "### Evaluation"
   ]
  },
  {
   "cell_type": "code",
   "execution_count": 204,
   "metadata": {},
   "outputs": [
    {
     "name": "stderr",
     "output_type": "stream",
     "text": [
      "C:\\Users\\vince\\AppData\\Roaming\\Python\\Python38\\site-packages\\sklearn\\base.py:443: UserWarning: X has feature names, but GradientBoostingClassifier was fitted without feature names\n",
      "  warnings.warn(\n"
     ]
    },
    {
     "data": {
      "text/plain": [
       "<Axes: >"
      ]
     },
     "execution_count": 204,
     "metadata": {},
     "output_type": "execute_result"
    },
    {
     "data": {
      "image/png": "[encoded data removed]",
      "text/plain": [
       "<Figure size 1080x720 with 2 Axes>"
      ]
     },
     "metadata": {
      "needs_background": "light"
     },
     "output_type": "display_data"
    }
   ],
   "source": [
    "rf = GradientBoostingClassifier(learning_rate= 0.05, max_depth=4, max_features=1.0, min_samples_leaf=3, n_estimators=100)\n",
    "rf.fit(X_train_resampled, y_train_resampled)\n",
    "X_test = X_test.loc[:,cols]\n",
    "results = rf.predict(X_test)\n",
    "x = zip(results, y_test)\n",
    "\n",
    "# Print the confusion matrix for the model\n",
    "cf_matrix = sklearn.metrics.confusion_matrix(y_test, results)\n",
    "sns.heatmap(cf_matrix, annot=True, fmt='g')"
   ]
  },
  {
   "cell_type": "code",
   "execution_count": 212,
   "metadata": {},
   "outputs": [
    {
     "data": {
      "text/plain": [
       "Text(0, 0.5, 'Feature Importance Score')"
      ]
     },
     "execution_count": 212,
     "metadata": {},
     "output_type": "execute_result"
    },
    {
     "data": {
      "image/png": "[encoded data removed]",
      "text/plain": [
       "<Figure size 1080x360 with 1 Axes>"
      ]
     },
     "metadata": {
      "needs_background": "light"
     },
     "output_type": "display_data"
    }
   ],
   "source": [
    "import matplotlib.pyplot as plt\n",
    "plt.rcParams['figure.figsize'] = [15, 5]\n",
    "feat_imp = pd.Series(rf.feature_importances_, colNames).sort_values(ascending=False)\n",
    "feat_imp.plot(kind='bar', title='Feature Importances')\n",
    "plt.ylabel('Feature Importance Score')"
   ]
  },
  {
   "cell_type": "code",
   "execution_count": 213,
   "metadata": {},
   "outputs": [
    {
     "data": {
      "text/plain": [
       "0.9318181818181818"
      ]
     },
     "execution_count": 213,
     "metadata": {},
     "output_type": "execute_result"
    }
   ],
   "source": [
    "accuracy_score(y_test, results)"
   ]
  },
  {
   "cell_type": "code",
   "execution_count": 214,
   "metadata": {},
   "outputs": [
    {
     "data": {
      "text/plain": [
       "0.9130024189005599"
      ]
     },
     "execution_count": 214,
     "metadata": {},
     "output_type": "execute_result"
    }
   ],
   "source": [
    "balanced_accuracy_score(y_test, results)"
   ]
  },
  {
   "cell_type": "code",
   "execution_count": 215,
   "metadata": {},
   "outputs": [
    {
     "name": "stderr",
     "output_type": "stream",
     "text": [
      "C:\\Users\\vince\\AppData\\Roaming\\Python\\Python38\\site-packages\\sklearn\\base.py:443: UserWarning: X has feature names, but GradientBoostingClassifier was fitted without feature names\n",
      "  warnings.warn(\n"
     ]
    },
    {
     "data": {
      "image/png": "[encoded data removed]",
      "text/plain": [
       "<Figure size 1080x720 with 1 Axes>"
      ]
     },
     "metadata": {
      "needs_background": "light"
     },
     "output_type": "display_data"
    }
   ],
   "source": [
    "from sklearn.metrics import RocCurveDisplay\n",
    "plt.rcParams['figure.figsize'] = [15, 10]\n",
    "svc_disp = RocCurveDisplay.from_estimator(rf, X_test, y_test)\n"
   ]
  },
  {
   "attachments": {},
   "cell_type": "markdown",
   "metadata": {},
   "source": [
    "## Evolution Predictor"
   ]
  },
  {
   "attachments": {},
   "cell_type": "markdown",
   "metadata": {},
   "source": [
    "Here we are trying to predict whether a patient currently experiencing MCI will get alzheimer's in the future from cross-sectionnal neuroimaging data. Researchers have found that having a MCI multiplies a patient's chances of developing Alzheimer's in the future. Around 20 to 20% of people with MCI develop dementia in under a year.\n",
    "This is the reason why we are trying to predict the evolution. If we are able to detect whether a patient is very likely to get alzheimer's in under 2 years then it will be easier to help the patient."
   ]
  },
  {
   "cell_type": "markdown",
   "metadata": {},
   "source": []
  },
  {
   "cell_type": "code",
   "execution_count": 290,
   "metadata": {},
   "outputs": [],
   "source": [
    "img_adni1 = pd.read_csv(\"../data/UCSFFSX51_ADNI1_3T_02_01_16.csv\", low_memory=False)\n",
    "img_adni2 = pd.read_csv(\"../data/UCSFFSX51_11_08_19.csv\", low_memory=False)\n",
    "img_adni3 = pd.read_csv(\"../data/UCSFFSX6_08_17_22.csv\", low_memory=False)\n",
    "adni_merge= pd.read_csv('../data/ADNIMERGE.csv', low_memory=False)\n"
   ]
  },
  {
   "cell_type": "code",
   "execution_count": 291,
   "metadata": {},
   "outputs": [],
   "source": [
    "img_adni2.replace(\"scmri\", \"sc\", inplace=True)\n",
    "dx = pd.read_csv(\"../data/DXSUM_PDXCONV_ADNIALL.csv\", low_memory=False)"
   ]
  },
  {
   "cell_type": "code",
   "execution_count": 292,
   "metadata": {},
   "outputs": [],
   "source": [
    "\n",
    "dx.loc[(dx[\"DXCHANGE\"] == 1) | (dx[\"DXCHANGE\"] == 4) |(dx[\"DXCHANGE\"] == 6), 'DXCHANGE'] = 1\n",
    "dx.loc[(dx[\"DXCHANGE\"] == 2) | (dx[\"DXCHANGE\"] == 5) |(dx[\"DXCHANGE\"] == 7), 'DXCHANGE'] = 2\n",
    "dx.loc[(dx[\"DXCHANGE\"] == 3) | (dx[\"DXCHANGE\"] == 8) |(dx[\"DXCHANGE\"] == 9), 'DXCHANGE'] = 3\n"
   ]
  },
  {
   "cell_type": "code",
   "execution_count": 293,
   "metadata": {},
   "outputs": [],
   "source": [
    "#CVs = []\n",
    "#SVs = []\n",
    "#SAs = []\n",
    "#TSs = []\n",
    "TAs = []\n",
    "#HSs = []\n",
    "\n",
    "for col in img_adni2.columns:\n",
    "    \n",
    "    #if col.endswith('CV'):\n",
    "        #CVs.append(col)\n",
    "    #if col.endswith('SV'):\n",
    "        #SVs.append(col)\n",
    "    \"\"\"\n",
    "    if col.endswith('SA'):\n",
    "        SAs.append(col)\n",
    "    if col.endswith('TS'):\n",
    "        TSs.append(col)\n",
    "    if col.endswith('HS'):\n",
    "        HSs.append(col)\n",
    "    \"\"\"\n",
    "    if col.endswith('TA'):\n",
    "        TAs.append(col)\n",
    "\n",
    "TAs.append(\"RID\")\n",
    "TAs2 = TAs.copy()\n",
    "TAs2.append(\"VISCODE2\")\n",
    "TAs.append(\"VISCODE\")\n"
   ]
  },
  {
   "cell_type": "code",
   "execution_count": 294,
   "metadata": {},
   "outputs": [],
   "source": [
    "img1 = img_adni1.loc[:,TAs].copy()\n",
    "img2 = img_adni2.loc[:,TAs2].copy()\n",
    "img3 = img_adni3.loc[:,TAs2].copy()"
   ]
  },
  {
   "cell_type": "code",
   "execution_count": 295,
   "metadata": {},
   "outputs": [],
   "source": [
    "dx_info = dx.loc[:,[\"RID\", \"VISCODE\", \"VISCODE2\", \"PTID\", \"DXCURREN\", \"DXCHANGE\", \"DIAGNOSIS\"]].copy()\n",
    "img_dx_1 = pd.merge(img1, dx_info, on=['VISCODE', 'RID'])\n",
    "img_dx_2 = pd.merge(img2, dx_info, on=['VISCODE2', 'RID'])\n",
    "img_dx_3 = pd.merge(img3, dx_info, on=['VISCODE2', 'RID'])"
   ]
  },
  {
   "cell_type": "code",
   "execution_count": 296,
   "metadata": {},
   "outputs": [],
   "source": [
    "init_1 = img_dx_1[img_dx_1['VISCODE'] == 'bl']\n",
    "init_2 = img_dx_2[img_dx_2['VISCODE2'] == 'sc']\n",
    "init_3 = img_dx_3[img_dx_3['VISCODE2'] == 'sc']"
   ]
  },
  {
   "cell_type": "code",
   "execution_count": 297,
   "metadata": {},
   "outputs": [],
   "source": [
    "dx_m36 = dx.loc[(dx['VISCODE'] == \"m36\")|( dx['VISCODE2'] == \"m36\")]\n",
    "dx_m36_diag = dx_m36.loc[:,[\"PTID\", \"DIAGNOSIS\", \"DXCHANGE\", \"DXCURREN\"]]"
   ]
  },
  {
   "cell_type": "code",
   "execution_count": 298,
   "metadata": {},
   "outputs": [],
   "source": [
    "dx_img1 = pd.merge(init_1, dx_m36_diag, on=[\"PTID\"])\n",
    "dx_img2 = pd.merge(init_2, dx_m36_diag, on=[\"PTID\"])\n",
    "dx_img3 = pd.merge(init_3, dx_m36_diag, on=[\"PTID\"])"
   ]
  },
  {
   "cell_type": "code",
   "execution_count": 299,
   "metadata": {},
   "outputs": [],
   "source": [
    "dx_img = dx_img1[dx_img1['DXCURREN_x'] == 2].append(dx_img2[dx_img2['DXCHANGE_x'] == 2].append(dx_img3[dx_img3['DIAGNOSIS_x'] == 2]))"
   ]
  },
  {
   "cell_type": "code",
   "execution_count": 300,
   "metadata": {},
   "outputs": [],
   "source": [
    "dx_img['DIAGNOSIS_x'] = dx_img['DIAGNOSIS_x'].fillna(dx_img['DXCHANGE_x'])\n",
    "dx_img['DIAGNOSIS_x'] = dx_img['DIAGNOSIS_x'].fillna(dx_img['DXCURREN_x'])\n",
    "\n",
    "dx_img['DIAGNOSIS_y'] = dx_img['DIAGNOSIS_y'].fillna(dx_img['DXCHANGE_y'])\n",
    "dx_img['DIAGNOSIS_y'] = dx_img['DIAGNOSIS_y'].fillna(dx_img['DXCURREN_y'])\n",
    "\n",
    "dx_img.drop([\"DXCHANGE_x\", \"DXCHANGE_y\", \"DXCURREN_x\", \"DXCURREN_y\", \"VISCODE\", \"VISCODE2\", \"PTID\", \"RID\", \"DIAGNOSIS_x\"], axis=1, inplace=True)\n"
   ]
  },
  {
   "cell_type": "code",
   "execution_count": 301,
   "metadata": {},
   "outputs": [
    {
     "data": {
      "text/plain": [
       "<Axes: xlabel='DIAGNOSIS_y', ylabel='Count'>"
      ]
     },
     "execution_count": 301,
     "metadata": {},
     "output_type": "execute_result"
    },
    {
     "data": {
      "image/png": "[encoded data removed]",
      "text/plain": [
       "<Figure size 1080x720 with 1 Axes>"
      ]
     },
     "metadata": {
      "needs_background": "light"
     },
     "output_type": "display_data"
    }
   ],
   "source": [
    "dx_img = dx_img[dx_img[\"DIAGNOSIS_y\"] != 1]\n",
    "sns.histplot(dx_img[\"DIAGNOSIS_y\"].astype(str))"
   ]
  },
  {
   "cell_type": "code",
   "execution_count": 302,
   "metadata": {},
   "outputs": [],
   "source": [
    "dx_img.dropna(inplace=True)\n",
    "Y = dx_img[\"DIAGNOSIS_y\"]\n",
    "Y[Y==2] = 0\n",
    "Y[Y==3] = 1\n",
    "\n",
    "#SITE = dx_img['SITEID']\n",
    "X = dx_img.drop([\"DIAGNOSIS_y\"], axis=1)"
   ]
  },
  {
   "cell_type": "code",
   "execution_count": 348,
   "metadata": {},
   "outputs": [],
   "source": [
    "X_train, X_test, y_train, y_test = train_test_split(X, Y, test_size=0.3, train_size=0.7)"
   ]
  },
  {
   "cell_type": "code",
   "execution_count": 349,
   "metadata": {},
   "outputs": [
    {
     "name": "stdout",
     "output_type": "stream",
     "text": [
      "2023-03-10 18:09:02.342812: processing dataset: prediction\n",
      "('polynom_fit_SMOTE_star', \"{'proportion': 0.25, 'topology': 'star', 'random_state': None, 'class_name': 'polynom_fit_SMOTE_star'}\")\n",
      "RandomForestClassifier()\n"
     ]
    }
   ],
   "source": [
    "\n",
    "dataset= {'data': np.array(X_train),\n",
    "          'target': np.array(y_train),\n",
    "          'name': 'prediction'}\n",
    "\n",
    "classifiers = [('sklearn.ensemble', 'GradientBoostingClassifier', {}),\n",
    "              ('sklearn.ensemble', 'RandomForestClassifier', {}),\n",
    "              ('sklearn.neural_network', 'MLPClassifier', {}),\n",
    "              ('sklearn.tree', 'DecisionTreeClassifier', {})]\n",
    "\n",
    "oversamplers = sv.queries.get_all_oversamplers(n_quickest=2)\n",
    "\n",
    "os_params = sv.queries.generate_parameter_combinations(oversamplers,\n",
    "                                                      n_max_comb=2)\n",
    "\n",
    "# samp_obj and cl_obj contain the oversampling and classifier objects which give the\n",
    "# best performance together\n",
    "samp_obj, cl_obj= sv.evaluation.model_selection(dataset=dataset,\n",
    "                                                oversamplers=os_params,\n",
    "                                                classifiers=classifiers,\n",
    "                                                validator_params={'n_splits': 2,\n",
    "                                                                  'n_repeats': 1},\n",
    "                                                n_jobs= 5)\n",
    "\n",
    "print(samp_obj)\n",
    "print(cl_obj)"
   ]
  },
  {
   "cell_type": "code",
   "execution_count": 350,
   "metadata": {},
   "outputs": [
    {
     "name": "stderr",
     "output_type": "stream",
     "text": [
      "2023-03-10 18:09:12,058:INFO:polynom_fit_SMOTE_star: Running sampling via ('polynom_fit_SMOTE_star', \"{'proportion': 0.25, 'topology': 'star', 'random_state': None, 'class_name': 'polynom_fit_SMOTE_star'}\")\n",
      "2023-03-10 18:09:12,060:INFO:polynom_fit_SMOTE: Running sampling via ('polynom_fit_SMOTE', \"{'proportion': 0.25, 'topology': 'star', 'random_state': None, 'class_name': 'polynom_fit_SMOTE'}\")\n"
     ]
    }
   ],
   "source": [
    "X_train_samp, y_train_samp= samp_obj.sample(np.array(X_train),\n",
    "                                np.array(y_train))"
   ]
  },
  {
   "cell_type": "code",
   "execution_count": 351,
   "metadata": {},
   "outputs": [],
   "source": [
    "rus = RandomUnderSampler(random_state=0)\n",
    "\n",
    "X_train_resampled, y_train_resampled = rus.fit_resample(X_train_samp, y_train_samp)"
   ]
  },
  {
   "cell_type": "code",
   "execution_count": 352,
   "metadata": {},
   "outputs": [
    {
     "data": {
      "text/html": [
       "<style>#sk-container-id-6 {color: black;background-color: white;}#sk-container-id-6 pre{padding: 0;}#sk-container-id-6 div.sk-toggleable {background-color: white;}#sk-container-id-6 label.sk-toggleable__label {cursor: pointer;display: block;width: 100%;margin-bottom: 0;padding: 0.3em;box-sizing: border-box;text-align: center;}#sk-container-id-6 label.sk-toggleable__label-arrow:before {content: \"▸\";float: left;margin-right: 0.25em;color: #696969;}#sk-container-id-6 label.sk-toggleable__label-arrow:hover:before {color: black;}#sk-container-id-6 div.sk-estimator:hover label.sk-toggleable__label-arrow:before {color: black;}#sk-container-id-6 div.sk-toggleable__content {max-height: 0;max-width: 0;overflow: hidden;text-align: left;background-color: #f0f8ff;}#sk-container-id-6 div.sk-toggleable__content pre {margin: 0.2em;color: black;border-radius: 0.25em;background-color: #f0f8ff;}#sk-container-id-6 input.sk-toggleable__control:checked~div.sk-toggleable__content {max-height: 200px;max-width: 100%;overflow: auto;}#sk-container-id-6 input.sk-toggleable__control:checked~label.sk-toggleable__label-arrow:before {content: \"▾\";}#sk-container-id-6 div.sk-estimator input.sk-toggleable__control:checked~label.sk-toggleable__label {background-color: #d4ebff;}#sk-container-id-6 div.sk-label input.sk-toggleable__control:checked~label.sk-toggleable__label {background-color: #d4ebff;}#sk-container-id-6 input.sk-hidden--visually {border: 0;clip: rect(1px 1px 1px 1px);clip: rect(1px, 1px, 1px, 1px);height: 1px;margin: -1px;overflow: hidden;padding: 0;position: absolute;width: 1px;}#sk-container-id-6 div.sk-estimator {font-family: monospace;background-color: #f0f8ff;border: 1px dotted black;border-radius: 0.25em;box-sizing: border-box;margin-bottom: 0.5em;}#sk-container-id-6 div.sk-estimator:hover {background-color: #d4ebff;}#sk-container-id-6 div.sk-parallel-item::after {content: \"\";width: 100%;border-bottom: 1px solid gray;flex-grow: 1;}#sk-container-id-6 div.sk-label:hover label.sk-toggleable__label {background-color: #d4ebff;}#sk-container-id-6 div.sk-serial::before {content: \"\";position: absolute;border-left: 1px solid gray;box-sizing: border-box;top: 0;bottom: 0;left: 50%;z-index: 0;}#sk-container-id-6 div.sk-serial {display: flex;flex-direction: column;align-items: center;background-color: white;padding-right: 0.2em;padding-left: 0.2em;position: relative;}#sk-container-id-6 div.sk-item {position: relative;z-index: 1;}#sk-container-id-6 div.sk-parallel {display: flex;align-items: stretch;justify-content: center;background-color: white;position: relative;}#sk-container-id-6 div.sk-item::before, #sk-container-id-6 div.sk-parallel-item::before {content: \"\";position: absolute;border-left: 1px solid gray;box-sizing: border-box;top: 0;bottom: 0;left: 50%;z-index: -1;}#sk-container-id-6 div.sk-parallel-item {display: flex;flex-direction: column;z-index: 1;position: relative;background-color: white;}#sk-container-id-6 div.sk-parallel-item:first-child::after {align-self: flex-end;width: 50%;}#sk-container-id-6 div.sk-parallel-item:last-child::after {align-self: flex-start;width: 50%;}#sk-container-id-6 div.sk-parallel-item:only-child::after {width: 0;}#sk-container-id-6 div.sk-dashed-wrapped {border: 1px dashed gray;margin: 0 0.4em 0.5em 0.4em;box-sizing: border-box;padding-bottom: 0.4em;background-color: white;}#sk-container-id-6 div.sk-label label {font-family: monospace;font-weight: bold;display: inline-block;line-height: 1.2em;}#sk-container-id-6 div.sk-label-container {text-align: center;}#sk-container-id-6 div.sk-container {/* jupyter's `normalize.less` sets `[hidden] { display: none; }` but bootstrap.min.css set `[hidden] { display: none !important; }` so we also need the `!important` here to be able to override the default hidden behavior on the sphinx rendered scikit-learn.org. See: https://github.com/scikit-learn/scikit-learn/issues/21755 */display: inline-block !important;position: relative;}#sk-container-id-6 div.sk-text-repr-fallback {display: none;}</style><div id=\"sk-container-id-6\" class=\"sk-top-container\"><div class=\"sk-text-repr-fallback\"><pre>Lasso(alpha=0.005)</pre><b>In a Jupyter environment, please rerun this cell to show the HTML representation or trust the notebook. <br />On GitHub, the HTML representation is unable to render, please try loading this page with nbviewer.org.</b></div><div class=\"sk-container\" hidden><div class=\"sk-item\"><div class=\"sk-estimator sk-toggleable\"><input class=\"sk-toggleable__control sk-hidden--visually\" id=\"sk-estimator-id-6\" type=\"checkbox\" checked><label for=\"sk-estimator-id-6\" class=\"sk-toggleable__label sk-toggleable__label-arrow\">Lasso</label><div class=\"sk-toggleable__content\"><pre>Lasso(alpha=0.005)</pre></div></div></div></div></div>"
      ],
      "text/plain": [
       "Lasso(alpha=0.005)"
      ]
     },
     "execution_count": 352,
     "metadata": {},
     "output_type": "execute_result"
    }
   ],
   "source": [
    "featureSelector = Lasso( alpha=0.005)\n",
    "featureSelector.fit(X_train_resampled, y_train_resampled)"
   ]
  },
  {
   "cell_type": "code",
   "execution_count": 353,
   "metadata": {},
   "outputs": [],
   "source": [
    "coefficients = featureSelector.coef_"
   ]
  },
  {
   "cell_type": "code",
   "execution_count": 354,
   "metadata": {},
   "outputs": [],
   "source": [
    "importance = np.abs(coefficients)"
   ]
  },
  {
   "cell_type": "code",
   "execution_count": 355,
   "metadata": {},
   "outputs": [],
   "source": [
    "cols = importance != 0\n",
    "colNames = np.array(TAs[:68])[importance != 0]"
   ]
  },
  {
   "cell_type": "code",
   "execution_count": 356,
   "metadata": {},
   "outputs": [],
   "source": [
    "X_test = X_test.loc[:,cols].copy()\n",
    "X_train_resampled = X_train_resampled[:,cols]"
   ]
  },
  {
   "cell_type": "code",
   "execution_count": 357,
   "metadata": {},
   "outputs": [],
   "source": [
    "models = [GradientBoostingClassifier(), RandomForestClassifier(), SVC(), DecisionTreeClassifier(), MLPClassifier()]"
   ]
  },
  {
   "cell_type": "code",
   "execution_count": 358,
   "metadata": {},
   "outputs": [
    {
     "name": "stdout",
     "output_type": "stream",
     "text": [
      "GradientBoostingClassifier() 0.7922794117647058\n",
      "RandomForestClassifier() 0.7125\n",
      "SVC() 0.7933823529411764\n",
      "DecisionTreeClassifier() 0.6091911764705882\n",
      "MLPClassifier() 0.3900735294117647\n"
     ]
    }
   ],
   "source": [
    "kfold = KFold(n_splits=10)\n",
    "for model in models:\n",
    "    cv_results = cross_val_score(model, X_train_resampled, y_train_resampled, cv=kfold, scoring='accuracy', n_jobs=-1)\n",
    "    print(model, cv_results.sum()/10)"
   ]
  },
  {
   "cell_type": "code",
   "execution_count": 359,
   "metadata": {},
   "outputs": [
    {
     "name": "stdout",
     "output_type": "stream",
     "text": [
      "Fitting 10 folds for each of 6 candidates, totalling 60 fits\n",
      "0.8047794117647058\n",
      "{'learning_rate': 0.05, 'max_depth': 4, 'max_features': 1.0, 'min_samples_leaf': 3, 'n_estimators': 500}\n"
     ]
    }
   ],
   "source": [
    "param_grid={'n_estimators':[100,500], \n",
    "            'learning_rate': [0.1,0.05,0.02],\n",
    "            'max_depth':[4], \n",
    "            'min_samples_leaf':[3], \n",
    "            'max_features':[1.0] } \n",
    "\n",
    "kfold = KFold(n_splits=10)\n",
    "rf = GradientBoostingClassifier()\n",
    "\n",
    "grid_search = GridSearchCV(estimator = rf, param_grid = param_grid, \n",
    "                          cv = kfold, n_jobs = -1, verbose = 2)\n",
    "\n",
    "grid_search.fit(X_train_resampled, y_train_resampled)\n",
    "print(grid_search.best_score_)\n",
    "print(grid_search.best_params_)"
   ]
  },
  {
   "cell_type": "code",
   "execution_count": 360,
   "metadata": {},
   "outputs": [
    {
     "name": "stderr",
     "output_type": "stream",
     "text": [
      "C:\\Users\\vince\\AppData\\Roaming\\Python\\Python38\\site-packages\\sklearn\\base.py:443: UserWarning: X has feature names, but GradientBoostingClassifier was fitted without feature names\n",
      "  warnings.warn(\n"
     ]
    },
    {
     "data": {
      "text/plain": [
       "<Axes: >"
      ]
     },
     "execution_count": 360,
     "metadata": {},
     "output_type": "execute_result"
    },
    {
     "data": {
      "image/png": "[encoded data removed]",
      "text/plain": [
       "<Figure size 1080x720 with 2 Axes>"
      ]
     },
     "metadata": {
      "needs_background": "light"
     },
     "output_type": "display_data"
    }
   ],
   "source": [
    "rf = GradientBoostingClassifier(learning_rate=0.05, min_samples_leaf=3, n_estimators=500, max_features=1.0, max_depth=4)\n",
    "rf.fit(X_train_resampled, y_train_resampled)\n",
    "results = rf.predict(X_test)\n",
    "x = zip(results, y_test)\n",
    "\n",
    "# Print the confusion matrix for the model\n",
    "cf_matrix = sklearn.metrics.confusion_matrix(y_test, results)\n",
    "sns.heatmap(cf_matrix, annot=True, fmt='g')"
   ]
  },
  {
   "cell_type": "code",
   "execution_count": 361,
   "metadata": {},
   "outputs": [
    {
     "data": {
      "text/plain": [
       "0.723404255319149"
      ]
     },
     "execution_count": 361,
     "metadata": {},
     "output_type": "execute_result"
    }
   ],
   "source": [
    "accuracy_score(y_test, results)"
   ]
  },
  {
   "cell_type": "code",
   "execution_count": 362,
   "metadata": {},
   "outputs": [
    {
     "data": {
      "text/plain": [
       "0.6353555120678408"
      ]
     },
     "execution_count": 362,
     "metadata": {},
     "output_type": "execute_result"
    }
   ],
   "source": [
    "balanced_accuracy_score(y_test, results)"
   ]
  },
  {
   "cell_type": "code",
   "execution_count": 346,
   "metadata": {},
   "outputs": [
    {
     "data": {
      "text/plain": [
       "Text(0, 0.5, 'Feature Importance Score')"
      ]
     },
     "execution_count": 346,
     "metadata": {},
     "output_type": "execute_result"
    },
    {
     "data": {
      "image/png": "[encoded data removed]",
      "text/plain": [
       "<Figure size 1080x360 with 1 Axes>"
      ]
     },
     "metadata": {
      "needs_background": "light"
     },
     "output_type": "display_data"
    }
   ],
   "source": [
    "import matplotlib.pyplot as plt\n",
    "plt.rcParams['figure.figsize'] = [15, 5]\n",
    "feat_imp = pd.Series(rf.feature_importances_, X_test.columns).sort_values(ascending=False)\n",
    "feat_imp.plot(kind='bar', title='Feature Importances')\n",
    "plt.ylabel('Feature Importance Score')"
   ]
  },
  {
   "cell_type": "code",
   "execution_count": 347,
   "metadata": {},
   "outputs": [
    {
     "name": "stderr",
     "output_type": "stream",
     "text": [
      "C:\\Users\\vince\\AppData\\Roaming\\Python\\Python38\\site-packages\\sklearn\\base.py:443: UserWarning: X has feature names, but GradientBoostingClassifier was fitted without feature names\n",
      "  warnings.warn(\n"
     ]
    },
    {
     "data": {
      "image/png": "[encoded data removed]",
      "text/plain": [
       "<Figure size 1080x720 with 1 Axes>"
      ]
     },
     "metadata": {
      "needs_background": "light"
     },
     "output_type": "display_data"
    }
   ],
   "source": [
    "from sklearn.metrics import RocCurveDisplay\n",
    "plt.rcParams['figure.figsize'] = [15, 10]\n",
    "svc_disp = RocCurveDisplay.from_estimator(rf, X_test, y_test)\n"
   ]
  },
  {
   "cell_type": "code",
   "execution_count": 281,
   "metadata": {},
   "outputs": [
    {
     "data": {
      "text/html": [
       "<style>#sk-container-id-3 {color: black;background-color: white;}#sk-container-id-3 pre{padding: 0;}#sk-container-id-3 div.sk-toggleable {background-color: white;}#sk-container-id-3 label.sk-toggleable__label {cursor: pointer;display: block;width: 100%;margin-bottom: 0;padding: 0.3em;box-sizing: border-box;text-align: center;}#sk-container-id-3 label.sk-toggleable__label-arrow:before {content: \"▸\";float: left;margin-right: 0.25em;color: #696969;}#sk-container-id-3 label.sk-toggleable__label-arrow:hover:before {color: black;}#sk-container-id-3 div.sk-estimator:hover label.sk-toggleable__label-arrow:before {color: black;}#sk-container-id-3 div.sk-toggleable__content {max-height: 0;max-width: 0;overflow: hidden;text-align: left;background-color: #f0f8ff;}#sk-container-id-3 div.sk-toggleable__content pre {margin: 0.2em;color: black;border-radius: 0.25em;background-color: #f0f8ff;}#sk-container-id-3 input.sk-toggleable__control:checked~div.sk-toggleable__content {max-height: 200px;max-width: 100%;overflow: auto;}#sk-container-id-3 input.sk-toggleable__control:checked~label.sk-toggleable__label-arrow:before {content: \"▾\";}#sk-container-id-3 div.sk-estimator input.sk-toggleable__control:checked~label.sk-toggleable__label {background-color: #d4ebff;}#sk-container-id-3 div.sk-label input.sk-toggleable__control:checked~label.sk-toggleable__label {background-color: #d4ebff;}#sk-container-id-3 input.sk-hidden--visually {border: 0;clip: rect(1px 1px 1px 1px);clip: rect(1px, 1px, 1px, 1px);height: 1px;margin: -1px;overflow: hidden;padding: 0;position: absolute;width: 1px;}#sk-container-id-3 div.sk-estimator {font-family: monospace;background-color: #f0f8ff;border: 1px dotted black;border-radius: 0.25em;box-sizing: border-box;margin-bottom: 0.5em;}#sk-container-id-3 div.sk-estimator:hover {background-color: #d4ebff;}#sk-container-id-3 div.sk-parallel-item::after {content: \"\";width: 100%;border-bottom: 1px solid gray;flex-grow: 1;}#sk-container-id-3 div.sk-label:hover label.sk-toggleable__label {background-color: #d4ebff;}#sk-container-id-3 div.sk-serial::before {content: \"\";position: absolute;border-left: 1px solid gray;box-sizing: border-box;top: 0;bottom: 0;left: 50%;z-index: 0;}#sk-container-id-3 div.sk-serial {display: flex;flex-direction: column;align-items: center;background-color: white;padding-right: 0.2em;padding-left: 0.2em;position: relative;}#sk-container-id-3 div.sk-item {position: relative;z-index: 1;}#sk-container-id-3 div.sk-parallel {display: flex;align-items: stretch;justify-content: center;background-color: white;position: relative;}#sk-container-id-3 div.sk-item::before, #sk-container-id-3 div.sk-parallel-item::before {content: \"\";position: absolute;border-left: 1px solid gray;box-sizing: border-box;top: 0;bottom: 0;left: 50%;z-index: -1;}#sk-container-id-3 div.sk-parallel-item {display: flex;flex-direction: column;z-index: 1;position: relative;background-color: white;}#sk-container-id-3 div.sk-parallel-item:first-child::after {align-self: flex-end;width: 50%;}#sk-container-id-3 div.sk-parallel-item:last-child::after {align-self: flex-start;width: 50%;}#sk-container-id-3 div.sk-parallel-item:only-child::after {width: 0;}#sk-container-id-3 div.sk-dashed-wrapped {border: 1px dashed gray;margin: 0 0.4em 0.5em 0.4em;box-sizing: border-box;padding-bottom: 0.4em;background-color: white;}#sk-container-id-3 div.sk-label label {font-family: monospace;font-weight: bold;display: inline-block;line-height: 1.2em;}#sk-container-id-3 div.sk-label-container {text-align: center;}#sk-container-id-3 div.sk-container {/* jupyter's `normalize.less` sets `[hidden] { display: none; }` but bootstrap.min.css set `[hidden] { display: none !important; }` so we also need the `!important` here to be able to override the default hidden behavior on the sphinx rendered scikit-learn.org. See: https://github.com/scikit-learn/scikit-learn/issues/21755 */display: inline-block !important;position: relative;}#sk-container-id-3 div.sk-text-repr-fallback {display: none;}</style><div id=\"sk-container-id-3\" class=\"sk-top-container\"><div class=\"sk-text-repr-fallback\"><pre>DecisionTreeClassifier()</pre><b>In a Jupyter environment, please rerun this cell to show the HTML representation or trust the notebook. <br />On GitHub, the HTML representation is unable to render, please try loading this page with nbviewer.org.</b></div><div class=\"sk-container\" hidden><div class=\"sk-item\"><div class=\"sk-estimator sk-toggleable\"><input class=\"sk-toggleable__control sk-hidden--visually\" id=\"sk-estimator-id-3\" type=\"checkbox\" checked><label for=\"sk-estimator-id-3\" class=\"sk-toggleable__label sk-toggleable__label-arrow\">DecisionTreeClassifier</label><div class=\"sk-toggleable__content\"><pre>DecisionTreeClassifier()</pre></div></div></div></div></div>"
      ],
      "text/plain": [
       "DecisionTreeClassifier()"
      ]
     },
     "execution_count": 281,
     "metadata": {},
     "output_type": "execute_result"
    }
   ],
   "source": [
    "dt = DecisionTreeClassifier()\n",
    "dt.fit(X_train_resampled, y_train_resampled)"
   ]
  },
  {
   "cell_type": "code",
   "execution_count": 150,
   "metadata": {},
   "outputs": [
    {
     "data": {
      "image/png": "[encoded data removed]",
      "text/plain": [
       "<Figure size 1080x720 with 1 Axes>"
      ]
     },
     "metadata": {
      "needs_background": "light"
     },
     "output_type": "display_data"
    }
   ],
   "source": [
    "from sklearn.datasets import load_iris\n",
    "from sklearn import tree\n",
    "\n",
    "tree.plot_tree(dt)\n",
    "plt.show()"
   ]
  },
  {
   "cell_type": "code",
   "execution_count": 151,
   "metadata": {},
   "outputs": [
    {
     "data": {
      "text/plain": [
       "'ST83TA'"
      ]
     },
     "execution_count": 151,
     "metadata": {},
     "output_type": "execute_result"
    }
   ],
   "source": []
  },
  {
   "cell_type": "code",
   "execution_count": null,
   "metadata": {},
   "outputs": [],
   "source": []
  }
 ],
 "metadata": {
  "kernelspec": {
   "display_name": "Python 3",
   "language": "python",
   "name": "python3"
  },
  "language_info": {
   "codemirror_mode": {
    "name": "ipython",
    "version": 3
   },
   "file_extension": ".py",
   "mimetype": "text/x-python",
   "name": "python",
   "nbconvert_exporter": "python",
   "pygments_lexer": "ipython3",
   "version": "3.8.5"
  },
  "orig_nbformat": 4,
  "vscode": {
   "interpreter": {
    "hash": "570feb405e2e27c949193ac68f46852414290d515b0ba6e5d90d076ed2284471"
   }
  }
 },
 "nbformat": 4,
 "nbformat_minor": 2
}
