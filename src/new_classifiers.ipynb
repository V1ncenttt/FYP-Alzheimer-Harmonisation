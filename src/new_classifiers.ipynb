{
 "cells": [
  {
   "attachments": {},
   "cell_type": "markdown",
   "metadata": {},
   "source": [
    "# Classifiers using neuro-imaging data"
   ]
  },
  {
   "cell_type": "code",
   "execution_count": 13,
   "metadata": {},
   "outputs": [],
   "source": [
    "import pandas as pd\n",
    "import numpy as np\n",
    "from numpy import random, arange\n",
    "import seaborn as sns\n",
    "\n",
    "from sklearn.model_selection import train_test_split, KFold, cross_val_score, GridSearchCV\n",
    "from sklearn.metrics import balanced_accuracy_score\n",
    "from sklearn.decomposition import PCA\n",
    "from sklearn.preprocessing import MinMaxScaler, StandardScaler, OrdinalEncoder, PolynomialFeatures, LabelEncoder\n",
    "\n",
    "# Import relevant sklearn classes related to machine learning models\n",
    "from sklearn.linear_model import LinearRegression, LogisticRegression, Lasso, ElasticNet\n",
    "from sklearn.svm import SVC, SVR, NuSVC\n",
    "from sklearn.tree import DecisionTreeClassifier, DecisionTreeRegressor\n",
    "from sklearn.ensemble import RandomForestClassifier, GradientBoostingClassifier, BaggingClassifier\n",
    "from sklearn.neural_network import MLPClassifier\n",
    "\n",
    "# Import relevant sklearn class/function related to evaluation\n",
    "import sklearn.metrics\n",
    "from imblearn.under_sampling import RandomUnderSampler\n",
    "\n",
    "#Smote oversampling \n",
    "import smote_variants as sv"
   ]
  },
  {
   "attachments": {},
   "cell_type": "markdown",
   "metadata": {},
   "source": [
    "## Data Pre-Processing"
   ]
  },
  {
   "cell_type": "code",
   "execution_count": 14,
   "metadata": {},
   "outputs": [],
   "source": [
    "\n",
    "img_adni1 = pd.read_csv(\"../data/UCSFFSX51_ADNI1_3T_02_01_16.csv\", low_memory=False)\n",
    "img_adni2 = pd.read_csv(\"../data/UCSFFSX51_11_08_19.csv\", low_memory=False)\n",
    "img_adni3 = pd.read_csv(\"../data/UCSFFSX6_08_17_22.csv\", low_memory=False)\n",
    "adni_merge= pd.read_csv('../data/ADNIMERGE.csv', low_memory=False)\n"
   ]
  },
  {
   "cell_type": "code",
   "execution_count": 15,
   "metadata": {},
   "outputs": [],
   "source": [
    "\n",
    "img_adni2.drop([\"LONISID\", \"IMAGETYPE\", \"LHIPQC\", \"RHIPQC\", \"ST131HS\", \"ST132HS\", \"ST133HS\", \"ST134HS\", \"ST135HS\", \"ST136HS\", \"ST137HS\", \"ST138HS\", \"ST139HS\", \"ST140HS\", \"ST141HS\", \"ST142HS\", \"ST143HS\", \"ST144HS\", \"ST145HS\", \"ST146HS\"], inplace=True, axis=1)\n",
    "img_adni3.drop([\"HIPPOQC\"], axis=1, inplace=True)"
   ]
  },
  {
   "cell_type": "code",
   "execution_count": 16,
   "metadata": {},
   "outputs": [
    {
     "name": "stdout",
     "output_type": "stream",
     "text": [
      "---\n",
      "---\n"
     ]
    }
   ],
   "source": [
    "colNames2 = []\n",
    "for colName2 in img_adni2.columns:\n",
    "    if not colName2 in img_adni1.columns:\n",
    "        #print(colName2)\n",
    "        if not (colName2 == \"VISCODE2\" or colName2 ==\"COLPROT\"):\n",
    "            colNames2.append(colName2)\n",
    "\n",
    "print(\"---\")\n",
    "for colName3 in img_adni3.columns:\n",
    "    if not colName3 in img_adni2.columns:\n",
    "        print(colName3)\n",
    "print(\"---\")\n",
    "colNames = []\n",
    "for colName1 in img_adni1.columns:\n",
    "    if not colName1 in img_adni2.columns:\n",
    "        #print(colName1)\n",
    "        colNames.append(colName1)\n",
    "\n",
    "\n",
    "img_adni1.drop(colNames, inplace=True, axis=1)\n",
    "img_adni2.drop(colNames2, inplace=True, axis=1)\n",
    "img_adni3.drop(colNames2, axis=1, inplace=True)"
   ]
  },
  {
   "cell_type": "code",
   "execution_count": 31,
   "metadata": {},
   "outputs": [],
   "source": [
    "dx = pd.read_csv(\"../data/DXSUM_PDXCONV_ADNIALL.csv\", low_memory=False)\n",
    "dx1= dx[(dx[\"Phase\"] == \"ADNI1\")]\n",
    "dx2= dx[(dx[\"Phase\"] == \"ADNI2\") | (dx[\"Phase\"] == \"ADNIGO\")]\n",
    "dx3= dx[(dx[\"Phase\"] == \"ADNI3\")]\n"
   ]
  },
  {
   "cell_type": "code",
   "execution_count": 33,
   "metadata": {},
   "outputs": [
    {
     "data": {
      "text/plain": [
       "6146"
      ]
     },
     "execution_count": 33,
     "metadata": {},
     "output_type": "execute_result"
    }
   ],
   "source": []
  },
  {
   "cell_type": "code",
   "execution_count": 24,
   "metadata": {},
   "outputs": [
    {
     "data": {
      "text/plain": [
       "21"
      ]
     },
     "execution_count": 24,
     "metadata": {},
     "output_type": "execute_result"
    }
   ],
   "source": []
  },
  {
   "cell_type": "code",
   "execution_count": 50,
   "metadata": {},
   "outputs": [],
   "source": [
    "img_dx1 = pd.merge(img_adni1, dx1[[\"VISCODE\", \"RID\", \"DXCURREN\", \"EXAMDATE\"]], left_on=[\"VISCODE\",\"RID\"], right_on=[\"VISCODE\",\"RID\"])\n",
    "img_dx2go = pd.merge(img_adni2, dx2[[\"VISCODE2\", \"RID\", \"DXCHANGE\", \"Phase\"]], left_on=[\"VISCODE2\",\"RID\", \"COLPROT\"], right_on=[\"VISCODE2\",\"RID\", \"Phase\"])\n",
    "img_dx3 = pd.merge(img_adni3, dx3[[\"VISCODE2\", \"RID\", \"DIAGNOSIS\", \"Phase\"]], left_on=[\"VISCODE2\",\"RID\", \"COLPROT\"], right_on=[\"VISCODE2\",\"RID\", \"Phase\"])"
   ]
  },
  {
   "cell_type": "code",
   "execution_count": 54,
   "metadata": {},
   "outputs": [
    {
     "data": {
      "text/plain": [
       "1860"
      ]
     },
     "execution_count": 54,
     "metadata": {},
     "output_type": "execute_result"
    }
   ],
   "source": [
    "len(img_dx3)"
   ]
  },
  {
   "cell_type": "code",
   "execution_count": 52,
   "metadata": {},
   "outputs": [
    {
     "data": {
      "text/html": [
       "<div>\n",
       "<style scoped>\n",
       "    .dataframe tbody tr th:only-of-type {\n",
       "        vertical-align: middle;\n",
       "    }\n",
       "\n",
       "    .dataframe tbody tr th {\n",
       "        vertical-align: top;\n",
       "    }\n",
       "\n",
       "    .dataframe thead th {\n",
       "        text-align: right;\n",
       "    }\n",
       "</style>\n",
       "<table border=\"1\" class=\"dataframe\">\n",
       "  <thead>\n",
       "    <tr style=\"text-align: right;\">\n",
       "      <th></th>\n",
       "      <th>RID</th>\n",
       "      <th>VISCODE</th>\n",
       "      <th>EXAMDATE_x</th>\n",
       "      <th>VERSION</th>\n",
       "      <th>LONIUID</th>\n",
       "      <th>IMAGEUID</th>\n",
       "      <th>RUNDATE</th>\n",
       "      <th>STATUS</th>\n",
       "      <th>OVERALLQC</th>\n",
       "      <th>TEMPQC</th>\n",
       "      <th>...</th>\n",
       "      <th>ST149SV</th>\n",
       "      <th>ST150SV</th>\n",
       "      <th>ST151SV</th>\n",
       "      <th>ST152SV</th>\n",
       "      <th>ST153SV</th>\n",
       "      <th>ST154SV</th>\n",
       "      <th>ST155SV</th>\n",
       "      <th>update_stamp</th>\n",
       "      <th>DXCURREN</th>\n",
       "      <th>EXAMDATE_y</th>\n",
       "    </tr>\n",
       "  </thead>\n",
       "  <tbody>\n",
       "    <tr>\n",
       "      <th>0</th>\n",
       "      <td>15</td>\n",
       "      <td>m36</td>\n",
       "      <td>2009-04-27</td>\n",
       "      <td>2013-08-07</td>\n",
       "      <td>66778</td>\n",
       "      <td>160866</td>\n",
       "      <td>2013-08-07</td>\n",
       "      <td>partial</td>\n",
       "      <td>Pass</td>\n",
       "      <td>Pass</td>\n",
       "      <td>...</td>\n",
       "      <td>366895</td>\n",
       "      <td>214481</td>\n",
       "      <td>215448.0</td>\n",
       "      <td>429929</td>\n",
       "      <td>167857</td>\n",
       "      <td>534752</td>\n",
       "      <td>909236</td>\n",
       "      <td>2016-02-02 09:34:17.0</td>\n",
       "      <td>1.0</td>\n",
       "      <td>2008-10-29</td>\n",
       "    </tr>\n",
       "    <tr>\n",
       "      <th>1</th>\n",
       "      <td>15</td>\n",
       "      <td>m06</td>\n",
       "      <td>2006-05-02</td>\n",
       "      <td>2013-08-07</td>\n",
       "      <td>13884</td>\n",
       "      <td>33041</td>\n",
       "      <td>2013-08-07</td>\n",
       "      <td>partial</td>\n",
       "      <td>Pass</td>\n",
       "      <td>Pass</td>\n",
       "      <td>...</td>\n",
       "      <td>375987</td>\n",
       "      <td>219660</td>\n",
       "      <td>218921.0</td>\n",
       "      <td>438581</td>\n",
       "      <td>171869</td>\n",
       "      <td>547856</td>\n",
       "      <td>931911</td>\n",
       "      <td>2016-02-02 09:34:17.0</td>\n",
       "      <td>1.0</td>\n",
       "      <td>2006-04-20</td>\n",
       "    </tr>\n",
       "    <tr>\n",
       "      <th>2</th>\n",
       "      <td>15</td>\n",
       "      <td>m24</td>\n",
       "      <td>2007-10-11</td>\n",
       "      <td>2013-08-07</td>\n",
       "      <td>41463</td>\n",
       "      <td>82551</td>\n",
       "      <td>2013-08-07</td>\n",
       "      <td>partial</td>\n",
       "      <td>Partial</td>\n",
       "      <td>Fail</td>\n",
       "      <td>...</td>\n",
       "      <td>375232</td>\n",
       "      <td>216223</td>\n",
       "      <td>216144.0</td>\n",
       "      <td>432367</td>\n",
       "      <td>168029</td>\n",
       "      <td>543261</td>\n",
       "      <td>923510</td>\n",
       "      <td>2016-02-02 09:34:17.0</td>\n",
       "      <td>1.0</td>\n",
       "      <td>2007-10-16</td>\n",
       "    </tr>\n",
       "    <tr>\n",
       "      <th>3</th>\n",
       "      <td>15</td>\n",
       "      <td>m12</td>\n",
       "      <td>2006-10-16</td>\n",
       "      <td>2013-08-07</td>\n",
       "      <td>20311</td>\n",
       "      <td>63475</td>\n",
       "      <td>2013-08-07</td>\n",
       "      <td>partial</td>\n",
       "      <td>Pass</td>\n",
       "      <td>Pass</td>\n",
       "      <td>...</td>\n",
       "      <td>375785</td>\n",
       "      <td>216942</td>\n",
       "      <td>214105.0</td>\n",
       "      <td>431047</td>\n",
       "      <td>172974</td>\n",
       "      <td>548759</td>\n",
       "      <td>921761</td>\n",
       "      <td>2016-02-02 09:34:17.0</td>\n",
       "      <td>1.0</td>\n",
       "      <td>2006-10-18</td>\n",
       "    </tr>\n",
       "    <tr>\n",
       "      <th>4</th>\n",
       "      <td>15</td>\n",
       "      <td>bl</td>\n",
       "      <td>2005-10-31</td>\n",
       "      <td>2013-08-07</td>\n",
       "      <td>8833</td>\n",
       "      <td>33046</td>\n",
       "      <td>2013-08-07</td>\n",
       "      <td>partial</td>\n",
       "      <td>Pass</td>\n",
       "      <td>Pass</td>\n",
       "      <td>...</td>\n",
       "      <td>382445</td>\n",
       "      <td>217061</td>\n",
       "      <td>216157.0</td>\n",
       "      <td>433218</td>\n",
       "      <td>167556</td>\n",
       "      <td>550001</td>\n",
       "      <td>928508</td>\n",
       "      <td>2016-02-02 09:34:17.0</td>\n",
       "      <td>1.0</td>\n",
       "      <td>2005-10-18</td>\n",
       "    </tr>\n",
       "  </tbody>\n",
       "</table>\n",
       "<p>5 rows × 345 columns</p>\n",
       "</div>"
      ],
      "text/plain": [
       "   RID VISCODE  EXAMDATE_x     VERSION  LONIUID  IMAGEUID     RUNDATE  \\\n",
       "0   15     m36  2009-04-27  2013-08-07    66778    160866  2013-08-07   \n",
       "1   15     m06  2006-05-02  2013-08-07    13884     33041  2013-08-07   \n",
       "2   15     m24  2007-10-11  2013-08-07    41463     82551  2013-08-07   \n",
       "3   15     m12  2006-10-16  2013-08-07    20311     63475  2013-08-07   \n",
       "4   15      bl  2005-10-31  2013-08-07     8833     33046  2013-08-07   \n",
       "\n",
       "    STATUS OVERALLQC TEMPQC  ... ST149SV ST150SV   ST151SV ST152SV ST153SV  \\\n",
       "0  partial      Pass   Pass  ...  366895  214481  215448.0  429929  167857   \n",
       "1  partial      Pass   Pass  ...  375987  219660  218921.0  438581  171869   \n",
       "2  partial   Partial   Fail  ...  375232  216223  216144.0  432367  168029   \n",
       "3  partial      Pass   Pass  ...  375785  216942  214105.0  431047  172974   \n",
       "4  partial      Pass   Pass  ...  382445  217061  216157.0  433218  167556   \n",
       "\n",
       "  ST154SV ST155SV           update_stamp  DXCURREN  EXAMDATE_y  \n",
       "0  534752  909236  2016-02-02 09:34:17.0       1.0  2008-10-29  \n",
       "1  547856  931911  2016-02-02 09:34:17.0       1.0  2006-04-20  \n",
       "2  543261  923510  2016-02-02 09:34:17.0       1.0  2007-10-16  \n",
       "3  548759  921761  2016-02-02 09:34:17.0       1.0  2006-10-18  \n",
       "4  550001  928508  2016-02-02 09:34:17.0       1.0  2005-10-18  \n",
       "\n",
       "[5 rows x 345 columns]"
      ]
     },
     "execution_count": 52,
     "metadata": {},
     "output_type": "execute_result"
    }
   ],
   "source": [
    "img_dx1.head()"
   ]
  },
  {
   "cell_type": "code",
   "execution_count": 55,
   "metadata": {},
   "outputs": [
    {
     "data": {
      "text/plain": [
       "<AxesSubplot:xlabel='DXCURREN', ylabel='Probability'>"
      ]
     },
     "execution_count": 55,
     "metadata": {},
     "output_type": "execute_result"
    },
    {
     "data": {
      "image/png": "[encoded data removed]",
      "text/plain": [
       "<Figure size 432x288 with 1 Axes>"
      ]
     },
     "metadata": {
      "needs_background": "light"
     },
     "output_type": "display_data"
    }
   ],
   "source": [
    "\n",
    "sns.histplot(img_dx1['DXCURREN'].astype(str), stat='probability')"
   ]
  },
  {
   "cell_type": "code",
   "execution_count": 56,
   "metadata": {},
   "outputs": [
    {
     "data": {
      "text/plain": [
       "<AxesSubplot:xlabel='DIAGNOSIS', ylabel='Probability'>"
      ]
     },
     "execution_count": 56,
     "metadata": {},
     "output_type": "execute_result"
    },
    {
     "data": {
      "image/png": "[encoded data removed]",
      "text/plain": [
       "<Figure size 432x288 with 1 Axes>"
      ]
     },
     "metadata": {
      "needs_background": "light"
     },
     "output_type": "display_data"
    }
   ],
   "source": [
    "sns.histplot(img_dx3['DIAGNOSIS'].astype(str), stat='probability')"
   ]
  },
  {
   "cell_type": "code",
   "execution_count": 58,
   "metadata": {},
   "outputs": [
    {
     "data": {
      "text/plain": [
       "<AxesSubplot:xlabel='DXCHANGE', ylabel='Probability'>"
      ]
     },
     "execution_count": 58,
     "metadata": {},
     "output_type": "execute_result"
    },
    {
     "data": {
      "image/png": "[encoded data removed]",
      "text/plain": [
       "<Figure size 432x288 with 1 Axes>"
      ]
     },
     "metadata": {
      "needs_background": "light"
     },
     "output_type": "display_data"
    }
   ],
   "source": [
    "img2gocurren = img_dx2go.copy()\n",
    "img2gocurren[(img2gocurren[\"DXCHANGE\"] == 1) | (img2gocurren[\"DXCHANGE\"] == 7) |(img2gocurren[\"DXCHANGE\"] == 9)] = 1\n",
    "img2gocurren[(img2gocurren[\"DXCHANGE\"] == 2) | (img2gocurren[\"DXCHANGE\"] == 4) |(img2gocurren[\"DXCHANGE\"] == 8)] = 2\n",
    "img2gocurren[(img2gocurren[\"DXCHANGE\"] == 3) | (img2gocurren[\"DXCHANGE\"] == 5) |(img2gocurren[\"DXCHANGE\"] == 6)] = 3\n",
    "\n",
    "sns.histplot(img2gocurren['DXCHANGE'].astype(str), stat='probability')"
   ]
  },
  {
   "cell_type": "code",
   "execution_count": 41,
   "metadata": {},
   "outputs": [
    {
     "data": {
      "text/plain": [
       "16222"
      ]
     },
     "execution_count": 41,
     "metadata": {},
     "output_type": "execute_result"
    }
   ],
   "source": [
    "len(adni_merge)"
   ]
  },
  {
   "cell_type": "code",
   "execution_count": null,
   "metadata": {},
   "outputs": [],
   "source": []
  }
 ],
 "metadata": {
  "kernelspec": {
   "display_name": "Python 3",
   "language": "python",
   "name": "python3"
  },
  "language_info": {
   "codemirror_mode": {
    "name": "ipython",
    "version": 3
   },
   "file_extension": ".py",
   "mimetype": "text/x-python",
   "name": "python",
   "nbconvert_exporter": "python",
   "pygments_lexer": "ipython3",
   "version": "3.8.5 (tags/v3.8.5:580fbb0, Jul 20 2020, 15:57:54) [MSC v.1924 64 bit (AMD64)]"
  },
  "orig_nbformat": 4,
  "vscode": {
   "interpreter": {
    "hash": "570feb405e2e27c949193ac68f46852414290d515b0ba6e5d90d076ed2284471"
   }
  }
 },
 "nbformat": 4,
 "nbformat_minor": 2
}
