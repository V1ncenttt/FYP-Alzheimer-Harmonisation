{
 "cells": [
  {
   "attachments": {},
   "cell_type": "markdown",
   "metadata": {},
   "source": [
    "# Classifiers using neuro-imaging data"
   ]
  },
  {
   "cell_type": "code",
   "execution_count": 52,
   "metadata": {},
   "outputs": [],
   "source": [
    "import pandas as pd\n",
    "import numpy as np\n",
    "from numpy import random, arange\n",
    "import seaborn as sns\n",
    "\n",
    "from sklearn.model_selection import train_test_split, KFold, cross_val_score, GridSearchCV\n",
    "from sklearn.metrics import balanced_accuracy_score\n",
    "from sklearn.decomposition import PCA\n",
    "from sklearn.preprocessing import MinMaxScaler, StandardScaler, OrdinalEncoder, PolynomialFeatures, LabelEncoder\n",
    "\n",
    "# Import relevant sklearn classes related to machine learning models\n",
    "from sklearn.linear_model import LinearRegression, LogisticRegression, Lasso, ElasticNet\n",
    "from sklearn.svm import SVC, SVR, NuSVC\n",
    "from sklearn.tree import DecisionTreeClassifier, DecisionTreeRegressor\n",
    "from sklearn.ensemble import RandomForestClassifier, GradientBoostingClassifier, BaggingClassifier\n",
    "from sklearn.neural_network import MLPClassifier\n",
    "\n",
    "# Import relevant sklearn class/function related to evaluation\n",
    "import sklearn.metrics\n",
    "from imblearn.under_sampling import RandomUnderSampler\n",
    "\n",
    "#Smote oversampling \n",
    "import smote_variants as sv"
   ]
  },
  {
   "attachments": {},
   "cell_type": "markdown",
   "metadata": {},
   "source": [
    "## Data Pre-Processing"
   ]
  },
  {
   "cell_type": "code",
   "execution_count": 53,
   "metadata": {},
   "outputs": [],
   "source": [
    "\n",
    "img_adni1 = pd.read_csv(\"../data/UCSFFSX51_ADNI1_3T_02_01_16.csv\", low_memory=False)\n",
    "img_adni2 = pd.read_csv(\"../data/UCSFFSX51_11_08_19.csv\", low_memory=False)\n",
    "img_adni3 = pd.read_csv(\"../data/UCSFFSX6_08_17_22.csv\", low_memory=False)\n",
    "adni_merge= pd.read_csv('../data/ADNIMERGE.csv', low_memory=False)\n"
   ]
  },
  {
   "cell_type": "code",
   "execution_count": 54,
   "metadata": {},
   "outputs": [],
   "source": [
    "\n",
    "img_adni2.drop([\"LONISID\", \"IMAGETYPE\", \"LHIPQC\", \"RHIPQC\", \"ST131HS\", \"ST132HS\", \"ST133HS\", \"ST134HS\", \"ST135HS\", \"ST136HS\", \"ST137HS\", \"ST138HS\", \"ST139HS\", \"ST140HS\", \"ST141HS\", \"ST142HS\", \"ST143HS\", \"ST144HS\", \"ST145HS\", \"ST146HS\"], inplace=True, axis=1)\n",
    "img_adni3.drop([\"HIPPOQC\"], axis=1, inplace=True)"
   ]
  },
  {
   "cell_type": "code",
   "execution_count": 55,
   "metadata": {},
   "outputs": [
    {
     "name": "stdout",
     "output_type": "stream",
     "text": [
      "---\n",
      "---\n"
     ]
    }
   ],
   "source": [
    "colNames2 = []\n",
    "for colName2 in img_adni2.columns:\n",
    "    if not colName2 in img_adni1.columns:\n",
    "        #print(colName2)\n",
    "        if not (colName2 == \"VISCODE2\" or colName2 ==\"COLPROT\"):\n",
    "            colNames2.append(colName2)\n",
    "\n",
    "print(\"---\")\n",
    "for colName3 in img_adni3.columns:\n",
    "    if not colName3 in img_adni2.columns:\n",
    "        print(colName3)\n",
    "print(\"---\")\n",
    "colNames = []\n",
    "for colName1 in img_adni1.columns:\n",
    "    if not colName1 in img_adni2.columns:\n",
    "        #print(colName1)\n",
    "        colNames.append(colName1)\n",
    "\n",
    "\n",
    "img_adni1.drop(colNames, inplace=True, axis=1)\n",
    "img_adni2.drop(colNames2, inplace=True, axis=1)\n",
    "img_adni3.drop(colNames2, axis=1, inplace=True)"
   ]
  },
  {
   "cell_type": "code",
   "execution_count": 56,
   "metadata": {},
   "outputs": [],
   "source": [
    "dx = pd.read_csv(\"../data/DXSUM_PDXCONV_ADNIALL.csv\", low_memory=False)\n",
    "dx1= dx[(dx[\"Phase\"] == \"ADNI1\")]\n",
    "dx2= dx[(dx[\"Phase\"] == \"ADNI2\") | (dx[\"Phase\"] == \"ADNIGO\")]\n",
    "dx3= dx[(dx[\"Phase\"] == \"ADNI3\")]\n"
   ]
  },
  {
   "cell_type": "code",
   "execution_count": 26,
   "metadata": {},
   "outputs": [
    {
     "data": {
      "text/html": [
       "<div>\n",
       "<style scoped>\n",
       "    .dataframe tbody tr th:only-of-type {\n",
       "        vertical-align: middle;\n",
       "    }\n",
       "\n",
       "    .dataframe tbody tr th {\n",
       "        vertical-align: top;\n",
       "    }\n",
       "\n",
       "    .dataframe thead th {\n",
       "        text-align: right;\n",
       "    }\n",
       "</style>\n",
       "<table border=\"1\" class=\"dataframe\">\n",
       "  <thead>\n",
       "    <tr style=\"text-align: right;\">\n",
       "      <th></th>\n",
       "      <th>COLPROT</th>\n",
       "      <th>RID</th>\n",
       "      <th>VISCODE</th>\n",
       "      <th>VISCODE2</th>\n",
       "      <th>EXAMDATE</th>\n",
       "      <th>VERSION</th>\n",
       "      <th>LONIUID</th>\n",
       "      <th>IMAGEUID</th>\n",
       "      <th>RUNDATE</th>\n",
       "      <th>STATUS</th>\n",
       "      <th>...</th>\n",
       "      <th>ST149SV</th>\n",
       "      <th>ST150SV</th>\n",
       "      <th>ST151SV</th>\n",
       "      <th>ST152SV</th>\n",
       "      <th>ST153SV</th>\n",
       "      <th>ST154SV</th>\n",
       "      <th>ST155SV</th>\n",
       "      <th>update_stamp</th>\n",
       "      <th>DXCHANGE</th>\n",
       "      <th>PTID</th>\n",
       "    </tr>\n",
       "  </thead>\n",
       "  <tbody>\n",
       "    <tr>\n",
       "      <th>0</th>\n",
       "      <td>ADNI2</td>\n",
       "      <td>21</td>\n",
       "      <td>v11</td>\n",
       "      <td>m84</td>\n",
       "      <td>2012-10-04</td>\n",
       "      <td>2012-10-24</td>\n",
       "      <td>169744.0</td>\n",
       "      <td>340931</td>\n",
       "      <td>2012-10-24</td>\n",
       "      <td>complete</td>\n",
       "      <td>...</td>\n",
       "      <td>384420.0</td>\n",
       "      <td>196942.0</td>\n",
       "      <td>197448.0</td>\n",
       "      <td>394390.0</td>\n",
       "      <td>142785.0</td>\n",
       "      <td>527205.0</td>\n",
       "      <td>869951.0</td>\n",
       "      <td>2019-11-14 14:34:00.0</td>\n",
       "      <td>1.0</td>\n",
       "      <td>011_S_0021</td>\n",
       "    </tr>\n",
       "    <tr>\n",
       "      <th>1</th>\n",
       "      <td>ADNIGO</td>\n",
       "      <td>21</td>\n",
       "      <td>nv</td>\n",
       "      <td>m60</td>\n",
       "      <td>2010-10-08</td>\n",
       "      <td>2012-02-10</td>\n",
       "      <td>93190.0</td>\n",
       "      <td>222684</td>\n",
       "      <td>2012-02-10</td>\n",
       "      <td>complete</td>\n",
       "      <td>...</td>\n",
       "      <td>384534.0</td>\n",
       "      <td>205140.0</td>\n",
       "      <td>204958.0</td>\n",
       "      <td>410098.0</td>\n",
       "      <td>146962.0</td>\n",
       "      <td>531496.0</td>\n",
       "      <td>885815.0</td>\n",
       "      <td>2019-11-14 14:34:00.0</td>\n",
       "      <td>1.0</td>\n",
       "      <td>011_S_0021</td>\n",
       "    </tr>\n",
       "    <tr>\n",
       "      <th>2</th>\n",
       "      <td>ADNIGO</td>\n",
       "      <td>21</td>\n",
       "      <td>nv</td>\n",
       "      <td>m60</td>\n",
       "      <td>2010-10-08</td>\n",
       "      <td>2012-02-10</td>\n",
       "      <td>93187.0</td>\n",
       "      <td>222738</td>\n",
       "      <td>2012-02-10</td>\n",
       "      <td>partial</td>\n",
       "      <td>...</td>\n",
       "      <td>375077.0</td>\n",
       "      <td>210619.0</td>\n",
       "      <td>208063.0</td>\n",
       "      <td>418682.0</td>\n",
       "      <td>146446.0</td>\n",
       "      <td>521523.0</td>\n",
       "      <td>883558.0</td>\n",
       "      <td>2019-11-14 14:34:00.0</td>\n",
       "      <td>1.0</td>\n",
       "      <td>011_S_0021</td>\n",
       "    </tr>\n",
       "    <tr>\n",
       "      <th>3</th>\n",
       "      <td>ADNI2</td>\n",
       "      <td>21</td>\n",
       "      <td>v06</td>\n",
       "      <td>m72</td>\n",
       "      <td>2011-10-13</td>\n",
       "      <td>2012-04-05</td>\n",
       "      <td>125206.0</td>\n",
       "      <td>265250</td>\n",
       "      <td>2012-04-05</td>\n",
       "      <td>complete</td>\n",
       "      <td>...</td>\n",
       "      <td>366238.0</td>\n",
       "      <td>208414.0</td>\n",
       "      <td>209070.0</td>\n",
       "      <td>417484.0</td>\n",
       "      <td>144658.0</td>\n",
       "      <td>510896.0</td>\n",
       "      <td>877214.0</td>\n",
       "      <td>2019-11-14 14:34:00.0</td>\n",
       "      <td>1.0</td>\n",
       "      <td>011_S_0021</td>\n",
       "    </tr>\n",
       "    <tr>\n",
       "      <th>4</th>\n",
       "      <td>ADNI2</td>\n",
       "      <td>21</td>\n",
       "      <td>v21</td>\n",
       "      <td>m96</td>\n",
       "      <td>2013-10-17</td>\n",
       "      <td>2013-12-23</td>\n",
       "      <td>204109.0</td>\n",
       "      <td>398269</td>\n",
       "      <td>2013-12-23</td>\n",
       "      <td>partial</td>\n",
       "      <td>...</td>\n",
       "      <td>373956.0</td>\n",
       "      <td>200248.0</td>\n",
       "      <td>198403.0</td>\n",
       "      <td>398652.0</td>\n",
       "      <td>141727.0</td>\n",
       "      <td>515683.0</td>\n",
       "      <td>860546.0</td>\n",
       "      <td>2019-11-14 14:34:00.0</td>\n",
       "      <td>1.0</td>\n",
       "      <td>011_S_0021</td>\n",
       "    </tr>\n",
       "  </tbody>\n",
       "</table>\n",
       "<p>5 rows × 347 columns</p>\n",
       "</div>"
      ],
      "text/plain": [
       "  COLPROT  RID VISCODE VISCODE2    EXAMDATE     VERSION   LONIUID  IMAGEUID  \\\n",
       "0   ADNI2   21     v11      m84  2012-10-04  2012-10-24  169744.0    340931   \n",
       "1  ADNIGO   21      nv      m60  2010-10-08  2012-02-10   93190.0    222684   \n",
       "2  ADNIGO   21      nv      m60  2010-10-08  2012-02-10   93187.0    222738   \n",
       "3   ADNI2   21     v06      m72  2011-10-13  2012-04-05  125206.0    265250   \n",
       "4   ADNI2   21     v21      m96  2013-10-17  2013-12-23  204109.0    398269   \n",
       "\n",
       "      RUNDATE    STATUS  ...   ST149SV   ST150SV   ST151SV   ST152SV  \\\n",
       "0  2012-10-24  complete  ...  384420.0  196942.0  197448.0  394390.0   \n",
       "1  2012-02-10  complete  ...  384534.0  205140.0  204958.0  410098.0   \n",
       "2  2012-02-10   partial  ...  375077.0  210619.0  208063.0  418682.0   \n",
       "3  2012-04-05  complete  ...  366238.0  208414.0  209070.0  417484.0   \n",
       "4  2013-12-23   partial  ...  373956.0  200248.0  198403.0  398652.0   \n",
       "\n",
       "    ST153SV   ST154SV   ST155SV           update_stamp DXCHANGE        PTID  \n",
       "0  142785.0  527205.0  869951.0  2019-11-14 14:34:00.0      1.0  011_S_0021  \n",
       "1  146962.0  531496.0  885815.0  2019-11-14 14:34:00.0      1.0  011_S_0021  \n",
       "2  146446.0  521523.0  883558.0  2019-11-14 14:34:00.0      1.0  011_S_0021  \n",
       "3  144658.0  510896.0  877214.0  2019-11-14 14:34:00.0      1.0  011_S_0021  \n",
       "4  141727.0  515683.0  860546.0  2019-11-14 14:34:00.0      1.0  011_S_0021  \n",
       "\n",
       "[5 rows x 347 columns]"
      ]
     },
     "execution_count": 26,
     "metadata": {},
     "output_type": "execute_result"
    }
   ],
   "source": [
    "img_dx2go.head()"
   ]
  },
  {
   "cell_type": "code",
   "execution_count": 57,
   "metadata": {},
   "outputs": [],
   "source": [
    "img_dx1 = pd.merge(img_adni1, dx1[[\"VISCODE\", \"RID\", \"DXCURREN\", \"PTID\"]], left_on=[\"VISCODE\",\"RID\"], right_on=[\"VISCODE\",\"RID\"])\n",
    "img_dx2go = pd.merge(img_adni2, dx2[[\"VISCODE2\", \"RID\", \"DXCHANGE\",'PTID']], left_on=[\"VISCODE2\",\"RID\"], right_on=[\"VISCODE2\",\"RID\"])\n",
    "img_dx3 = pd.merge(img_adni3, dx3[[\"VISCODE2\", \"RID\", \"DIAGNOSIS\", \"PTID\"]], left_on=[\"VISCODE2\",\"RID\"], right_on=[\"VISCODE2\",\"RID\"])"
   ]
  },
  {
   "cell_type": "code",
   "execution_count": 58,
   "metadata": {},
   "outputs": [
    {
     "data": {
      "text/plain": [
       "1742"
      ]
     },
     "execution_count": 58,
     "metadata": {},
     "output_type": "execute_result"
    }
   ],
   "source": [
    "(img_dx1['PTID'].append(img_dx2go['PTID'].append(img_dx3['PTID']))).nunique()"
   ]
  },
  {
   "cell_type": "code",
   "execution_count": 62,
   "metadata": {},
   "outputs": [
    {
     "data": {
      "text/plain": [
       "1742"
      ]
     },
     "execution_count": 62,
     "metadata": {},
     "output_type": "execute_result"
    }
   ],
   "source": [
    "a = img_dx1.append(img_dx2go.append(img_dx3))\n",
    "a['PTID'].nunique()"
   ]
  },
  {
   "cell_type": "code",
   "execution_count": 61,
   "metadata": {},
   "outputs": [],
   "source": [
    "img_dx1.rename(columns={\"VISCODE\": \"VISCODE2\"})\n",
    "img_dx2go.drop([\"COLPROT\"], inplace=True, axis=1)\n",
    "img_dx3.drop([\"COLPROT\"], inplace=True, axis=1)"
   ]
  },
  {
   "cell_type": "code",
   "execution_count": 99,
   "metadata": {},
   "outputs": [],
   "source": [
    "img = img_dx1.append(img_dx2go.append(img_dx3))"
   ]
  },
  {
   "cell_type": "code",
   "execution_count": 100,
   "metadata": {},
   "outputs": [],
   "source": [
    "img = img.sort_values(['EXAMDATE'])"
   ]
  },
  {
   "cell_type": "code",
   "execution_count": 101,
   "metadata": {},
   "outputs": [],
   "source": [
    "img = img.drop_duplicates(['PTID'])"
   ]
  },
  {
   "cell_type": "code",
   "execution_count": 102,
   "metadata": {},
   "outputs": [
    {
     "data": {
      "text/plain": [
       "1742"
      ]
     },
     "execution_count": 102,
     "metadata": {},
     "output_type": "execute_result"
    }
   ],
   "source": [
    "len(img)"
   ]
  },
  {
   "cell_type": "code",
   "execution_count": 103,
   "metadata": {},
   "outputs": [],
   "source": [
    "img[(img[\"DXCHANGE\"] == 1) | (img[\"DXCHANGE\"] == 7) |(img[\"DXCHANGE\"] == 9)] = 1\n",
    "img[(img[\"DXCHANGE\"] == 2) | (img[\"DXCHANGE\"] == 4) |(img[\"DXCHANGE\"] == 8)] = 2\n",
    "img[(img[\"DXCHANGE\"] == 3) | (img[\"DXCHANGE\"] == 5) |(img[\"DXCHANGE\"] == 6)] = 3"
   ]
  },
  {
   "cell_type": "code",
   "execution_count": 106,
   "metadata": {},
   "outputs": [],
   "source": [
    "img['DIAGNOSIS'] = img['DIAGNOSIS'].fillna(img['DXCHANGE'])\n",
    "img['DIAGNOSIS'] = img['DIAGNOSIS'].fillna(img['DXCURREN'])"
   ]
  },
  {
   "cell_type": "code",
   "execution_count": 112,
   "metadata": {},
   "outputs": [],
   "source": [
    "img.drop(['DXCURREN', 'DXCHANGE'], axis=1, inplace=True)"
   ]
  },
  {
   "cell_type": "code",
   "execution_count": 115,
   "metadata": {},
   "outputs": [
    {
     "data": {
      "text/plain": [
       "'VISCODE'"
      ]
     },
     "execution_count": 115,
     "metadata": {},
     "output_type": "execute_result"
    }
   ],
   "source": [
    "img.columns"
   ]
  },
  {
   "cell_type": "code",
   "execution_count": 122,
   "metadata": {},
   "outputs": [],
   "source": [
    "CVs = []\n",
    "SVs = []\n",
    "SAs = []\n",
    "TSs = []\n",
    "TAs = []\n",
    "HSs = []\n",
    "\n",
    "for col in img.columns:\n",
    "\n",
    "    if col.endswith('CV'):\n",
    "        CVs.append(col)\n",
    "    if col.endswith('SV'):\n",
    "        SVs.append(col)\n",
    "    if col.endswith('SA'):\n",
    "        SAs.append(col)\n",
    "    if col.endswith('TS'):\n",
    "        TSs.append(col)\n",
    "    if col.endswith('TA'):\n",
    "        TAs.append('col')\n",
    "    if col.endswith('HS'):\n",
    "        HSs.append(col)\n"
   ]
  },
  {
   "cell_type": "code",
   "execution_count": 124,
   "metadata": {},
   "outputs": [
    {
     "data": {
      "text/plain": [
       "['ST101SV',\n",
       " 'ST112SV',\n",
       " 'ST11SV',\n",
       " 'ST120SV',\n",
       " 'ST124SV',\n",
       " 'ST125SV',\n",
       " 'ST127SV',\n",
       " 'ST128SV',\n",
       " 'ST12SV',\n",
       " 'ST16SV',\n",
       " 'ST17SV',\n",
       " 'ST18SV',\n",
       " 'ST1SV',\n",
       " 'ST21SV',\n",
       " 'ST29SV',\n",
       " 'ST2SV',\n",
       " 'ST30SV',\n",
       " 'ST37SV',\n",
       " 'ST3SV',\n",
       " 'ST42SV',\n",
       " 'ST4SV',\n",
       " 'ST53SV',\n",
       " 'ST5SV',\n",
       " 'ST61SV',\n",
       " 'ST65SV',\n",
       " 'ST66SV',\n",
       " 'ST68SV',\n",
       " 'ST69SV',\n",
       " 'ST6SV',\n",
       " 'ST70SV',\n",
       " 'ST71SV',\n",
       " 'ST75SV',\n",
       " 'ST76SV',\n",
       " 'ST77SV',\n",
       " 'ST7SV',\n",
       " 'ST80SV',\n",
       " 'ST88SV',\n",
       " 'ST89SV',\n",
       " 'ST8SV',\n",
       " 'ST96SV',\n",
       " 'ST9SV',\n",
       " 'ST147SV',\n",
       " 'ST148SV',\n",
       " 'ST149SV',\n",
       " 'ST150SV',\n",
       " 'ST151SV',\n",
       " 'ST152SV',\n",
       " 'ST153SV',\n",
       " 'ST154SV',\n",
       " 'ST155SV']"
      ]
     },
     "execution_count": 124,
     "metadata": {},
     "output_type": "execute_result"
    }
   ],
   "source": [
    "SVs"
   ]
  },
  {
   "attachments": {},
   "cell_type": "markdown",
   "metadata": {},
   "source": [
    "## Create the classifier"
   ]
  },
  {
   "attachments": {},
   "cell_type": "markdown",
   "metadata": {},
   "source": [
    "Here, we wish to creater a classifier that is able to distinguish patients which have dementia/alzheimer's from patients that either have MCI or do not have any problem.\n",
    "This classifier uses cross sectional brain imaging data."
   ]
  },
  {
   "attachments": {},
   "cell_type": "markdown",
   "metadata": {},
   "source": [
    "### Feature selection"
   ]
  },
  {
   "cell_type": "code",
   "execution_count": 127,
   "metadata": {},
   "outputs": [
    {
     "data": {
      "text/plain": [
       "<AxesSubplot:xlabel='DIAGNOSIS', ylabel='Count'>"
      ]
     },
     "execution_count": 127,
     "metadata": {},
     "output_type": "execute_result"
    },
    {
     "data": {
      "image/png": "[encoded data removed]",
      "text/plain": [
       "<Figure size 432x288 with 1 Axes>"
      ]
     },
     "metadata": {
      "needs_background": "light"
     },
     "output_type": "display_data"
    }
   ],
   "source": [
    "sns.histplot(img['DIAGNOSIS'].astype(str))"
   ]
  },
  {
   "cell_type": "code",
   "execution_count": null,
   "metadata": {},
   "outputs": [],
   "source": [
    "Y = img['Diagnosis']\n"
   ]
  },
  {
   "attachments": {},
   "cell_type": "markdown",
   "metadata": {},
   "source": [
    "### Model training"
   ]
  },
  {
   "cell_type": "markdown",
   "metadata": {},
   "source": []
  },
  {
   "cell_type": "code",
   "execution_count": null,
   "metadata": {},
   "outputs": [],
   "source": [
    "X_train, X_test, y_train, y_test = train_test_split(basic_diagnosis_features, Y, test_size=0.4, train_size=0.6)"
   ]
  },
  {
   "attachments": {},
   "cell_type": "markdown",
   "metadata": {},
   "source": [
    "### Cross-validation"
   ]
  },
  {
   "cell_type": "code",
   "execution_count": 128,
   "metadata": {},
   "outputs": [],
   "source": [
    "models = [GradientBoostingClassifier(), RandomForestClassifier(), SVC(), DecisionTreeClassifier(), MLPClassifier()]"
   ]
  },
  {
   "attachments": {},
   "cell_type": "markdown",
   "metadata": {},
   "source": [
    "### Evaluation"
   ]
  },
  {
   "attachments": {},
   "cell_type": "markdown",
   "metadata": {},
   "source": [
    "## Evolution Predictor"
   ]
  },
  {
   "attachments": {},
   "cell_type": "markdown",
   "metadata": {},
   "source": [
    "Here we are trying to predict whether a patient currently experiencing MCI will get alzheimer's in the future from cross-sectionnal neuroimaging data. Researchers have found that having a MCI multiplies a patient's chances of developing Alzheimer's in the future. Around 20 to 20% of people with MCI develop dementia in under a year.\n",
    "This is the reason why we are trying to predict the evolution. If we are able to detect whether a patient is very likely to get alzheimer's in under 2 years then it will be easier to help the patient."
   ]
  },
  {
   "cell_type": "markdown",
   "metadata": {},
   "source": []
  }
 ],
 "metadata": {
  "kernelspec": {
   "display_name": "Python 3",
   "language": "python",
   "name": "python3"
  },
  "language_info": {
   "codemirror_mode": {
    "name": "ipython",
    "version": 3
   },
   "file_extension": ".py",
   "mimetype": "text/x-python",
   "name": "python",
   "nbconvert_exporter": "python",
   "pygments_lexer": "ipython3",
   "version": "3.8.5"
  },
  "orig_nbformat": 4,
  "vscode": {
   "interpreter": {
    "hash": "570feb405e2e27c949193ac68f46852414290d515b0ba6e5d90d076ed2284471"
   }
  }
 },
 "nbformat": 4,
 "nbformat_minor": 2
}
