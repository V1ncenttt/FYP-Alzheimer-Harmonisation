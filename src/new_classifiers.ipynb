{
 "cells": [
  {
   "attachments": {},
   "cell_type": "markdown",
   "metadata": {},
   "source": [
    "# Classifiers using neuro-imaging data"
   ]
  },
  {
   "cell_type": "code",
   "execution_count": 1,
   "metadata": {},
   "outputs": [],
   "source": [
    "import pandas as pd\n",
    "import numpy as np\n",
    "from numpy import random, arange\n",
    "import seaborn as sns\n",
    "\n",
    "from sklearn.model_selection import train_test_split, KFold, cross_val_score, GridSearchCV\n",
    "from sklearn.metrics import balanced_accuracy_score\n",
    "from sklearn.decomposition import PCA\n",
    "from sklearn.preprocessing import MinMaxScaler, StandardScaler, OrdinalEncoder, PolynomialFeatures, LabelEncoder\n",
    "\n",
    "# Import relevant sklearn classes related to machine learning models\n",
    "from sklearn.linear_model import LinearRegression, LogisticRegression, Lasso, ElasticNet\n",
    "from sklearn.svm import SVC, SVR, NuSVC\n",
    "from sklearn.tree import DecisionTreeClassifier, DecisionTreeRegressor\n",
    "from sklearn.ensemble import RandomForestClassifier, GradientBoostingClassifier, BaggingClassifier\n",
    "from sklearn.neural_network import MLPClassifier\n",
    "\n",
    "# Import relevant sklearn class/function related to evaluation\n",
    "import sklearn.metrics\n",
    "from imblearn.under_sampling import RandomUnderSampler\n",
    "\n",
    "#Smote oversampling \n",
    "import smote_variants as sv"
   ]
  },
  {
   "attachments": {},
   "cell_type": "markdown",
   "metadata": {},
   "source": [
    "## Data Pre-Processing"
   ]
  },
  {
   "cell_type": "code",
   "execution_count": 2,
   "metadata": {},
   "outputs": [],
   "source": [
    "\n",
    "img_adni1 = pd.read_csv(\"../data/UCSFFSX51_ADNI1_3T_02_01_16.csv\", low_memory=False)\n",
    "img_adni2 = pd.read_csv(\"../data/UCSFFSX51_11_08_19.csv\", low_memory=False)\n",
    "img_adni3 = pd.read_csv(\"../data/UCSFFSX6_08_17_22.csv\", low_memory=False)\n",
    "adni_merge= pd.read_csv('../data/ADNIMERGE.csv', low_memory=False)\n"
   ]
  },
  {
   "cell_type": "code",
   "execution_count": 5,
   "metadata": {},
   "outputs": [],
   "source": [
    "img_adni2.replace(\"scmri\", \"sc\", inplace=True)\n",
    "dx = pd.read_csv(\"../data/DXSUM_PDXCONV_ADNIALL.csv\", low_memory=False)\n",
    "adni2 = img_adni2.loc[img_adni2['VISCODE2'] == \"sc\"]\n",
    "adni3 = img_adni3.loc[img_adni3['VISCODE2'] == \"sc\"]\n",
    "adni1 = img_adni1.loc[img_adni1['VISCODE'] == 'bl']"
   ]
  },
  {
   "cell_type": "code",
   "execution_count": 6,
   "metadata": {},
   "outputs": [],
   "source": [
    "#CVs = []\n",
    "SVs = []\n",
    "#SAs = []\n",
    "#TSs = []\n",
    "TAs = []\n",
    "#HSs = []\n",
    "\n",
    "for col in adni2.columns:\n",
    "    \n",
    "    #if col.endswith('CV'):\n",
    "        #CVs.append(col)\n",
    "    if col.endswith('SV'):\n",
    "        SVs.append(col)\n",
    "    \"\"\"\n",
    "    if col.endswith('SA'):\n",
    "        SAs.append(col)\n",
    "    if col.endswith('TS'):\n",
    "        TSs.append(col)\n",
    "    if col.endswith('HS'):\n",
    "        HSs.append(col)\n",
    "    \"\"\"\n",
    "    if col.endswith('TA'):\n",
    "        TAs.append(col)\n",
    "\n",
    "TAs.append(\"RID\")\n",
    "TAs2 = TAs.copy()\n",
    "TAs2.append(\"VISCODE\")\n",
    "TAs.append(\"VISCODE2\")\n"
   ]
  },
  {
   "cell_type": "code",
   "execution_count": 7,
   "metadata": {},
   "outputs": [],
   "source": [
    "dxbl_subset = dx.loc[:,[\"VISCODE\", \"VISCODE2\", \"RID\", \"DXCHANGE\",\"DXCURREN\",\"DIAGNOSIS\", \"PTID\"]].copy()\n",
    "imgdx2 = pd.merge(adni2.loc[:,TAs].copy(), dxbl_subset, on=[\"RID\", \"VISCODE2\"])\n",
    "imgdx3 = pd.merge(adni3.loc[:,TAs].copy(), dxbl_subset, on=[\"RID\", \"VISCODE2\"])\n",
    "imgdx1 = pd.merge(adni1.loc[:,TAs2].copy(), dxbl_subset, on=[\"RID\", \"VISCODE\"])"
   ]
  },
  {
   "cell_type": "code",
   "execution_count": 8,
   "metadata": {},
   "outputs": [
    {
     "data": {
      "text/plain": [
       "1598"
      ]
     },
     "execution_count": 8,
     "metadata": {},
     "output_type": "execute_result"
    }
   ],
   "source": [
    "imgdx2[\"PTID\"].append(imgdx3['PTID'].append(imgdx1['PTID'])).nunique()"
   ]
  },
  {
   "cell_type": "code",
   "execution_count": 9,
   "metadata": {},
   "outputs": [],
   "source": [
    "\n",
    "imgdx2.loc[(imgdx2[\"DXCHANGE\"] == 1) | (imgdx2[\"DXCHANGE\"] == 4) |(imgdx2[\"DXCHANGE\"] == 6), 'DXCHANGE'] = 1\n",
    "imgdx2.loc[(imgdx2[\"DXCHANGE\"] == 2) | (imgdx2[\"DXCHANGE\"] == 5) |(imgdx2[\"DXCHANGE\"] == 7), 'DXCHANGE'] = 2\n",
    "imgdx2.loc[(imgdx2[\"DXCHANGE\"] == 3) | (imgdx2[\"DXCHANGE\"] == 8) |(imgdx2[\"DXCHANGE\"] == 9), 'DXCHANGE'] = 3\n"
   ]
  },
  {
   "cell_type": "code",
   "execution_count": 10,
   "metadata": {},
   "outputs": [
    {
     "data": {
      "text/html": [
       "<div>\n",
       "<style scoped>\n",
       "    .dataframe tbody tr th:only-of-type {\n",
       "        vertical-align: middle;\n",
       "    }\n",
       "\n",
       "    .dataframe tbody tr th {\n",
       "        vertical-align: top;\n",
       "    }\n",
       "\n",
       "    .dataframe thead th {\n",
       "        text-align: right;\n",
       "    }\n",
       "</style>\n",
       "<table border=\"1\" class=\"dataframe\">\n",
       "  <thead>\n",
       "    <tr style=\"text-align: right;\">\n",
       "      <th></th>\n",
       "      <th>ST102TA</th>\n",
       "      <th>ST103TA</th>\n",
       "      <th>ST104TA</th>\n",
       "      <th>ST105TA</th>\n",
       "      <th>ST106TA</th>\n",
       "      <th>ST107TA</th>\n",
       "      <th>ST108TA</th>\n",
       "      <th>ST109TA</th>\n",
       "      <th>ST110TA</th>\n",
       "      <th>ST111TA</th>\n",
       "      <th>...</th>\n",
       "      <th>ST97TA</th>\n",
       "      <th>ST98TA</th>\n",
       "      <th>ST99TA</th>\n",
       "      <th>RID</th>\n",
       "      <th>VISCODE</th>\n",
       "      <th>VISCODE2</th>\n",
       "      <th>DXCHANGE</th>\n",
       "      <th>DXCURREN</th>\n",
       "      <th>DIAGNOSIS</th>\n",
       "      <th>PTID</th>\n",
       "    </tr>\n",
       "  </thead>\n",
       "  <tbody>\n",
       "    <tr>\n",
       "      <th>0</th>\n",
       "      <td>2.187</td>\n",
       "      <td>2.617</td>\n",
       "      <td>2.357</td>\n",
       "      <td>2.301</td>\n",
       "      <td>2.346</td>\n",
       "      <td>1.492</td>\n",
       "      <td>1.711</td>\n",
       "      <td>2.335</td>\n",
       "      <td>2.228</td>\n",
       "      <td>2.147</td>\n",
       "      <td>...</td>\n",
       "      <td>1.889</td>\n",
       "      <td>2.201</td>\n",
       "      <td>2.573</td>\n",
       "      <td>15</td>\n",
       "      <td>bl</td>\n",
       "      <td>bl</td>\n",
       "      <td>NaN</td>\n",
       "      <td>1.0</td>\n",
       "      <td>NaN</td>\n",
       "      <td>100_S_0015</td>\n",
       "    </tr>\n",
       "    <tr>\n",
       "      <th>1</th>\n",
       "      <td>2.423</td>\n",
       "      <td>2.960</td>\n",
       "      <td>2.378</td>\n",
       "      <td>2.499</td>\n",
       "      <td>2.363</td>\n",
       "      <td>1.612</td>\n",
       "      <td>2.033</td>\n",
       "      <td>2.574</td>\n",
       "      <td>2.604</td>\n",
       "      <td>2.325</td>\n",
       "      <td>...</td>\n",
       "      <td>1.901</td>\n",
       "      <td>2.387</td>\n",
       "      <td>2.788</td>\n",
       "      <td>86</td>\n",
       "      <td>bl</td>\n",
       "      <td>bl</td>\n",
       "      <td>NaN</td>\n",
       "      <td>1.0</td>\n",
       "      <td>NaN</td>\n",
       "      <td>136_S_0086</td>\n",
       "    </tr>\n",
       "    <tr>\n",
       "      <th>2</th>\n",
       "      <td>2.287</td>\n",
       "      <td>2.536</td>\n",
       "      <td>2.303</td>\n",
       "      <td>2.881</td>\n",
       "      <td>2.305</td>\n",
       "      <td>1.463</td>\n",
       "      <td>1.909</td>\n",
       "      <td>2.858</td>\n",
       "      <td>2.382</td>\n",
       "      <td>2.248</td>\n",
       "      <td>...</td>\n",
       "      <td>1.988</td>\n",
       "      <td>2.414</td>\n",
       "      <td>2.740</td>\n",
       "      <td>184</td>\n",
       "      <td>bl</td>\n",
       "      <td>bl</td>\n",
       "      <td>NaN</td>\n",
       "      <td>1.0</td>\n",
       "      <td>NaN</td>\n",
       "      <td>136_S_0184</td>\n",
       "    </tr>\n",
       "    <tr>\n",
       "      <th>3</th>\n",
       "      <td>2.004</td>\n",
       "      <td>2.372</td>\n",
       "      <td>2.294</td>\n",
       "      <td>2.168</td>\n",
       "      <td>2.018</td>\n",
       "      <td>1.713</td>\n",
       "      <td>1.672</td>\n",
       "      <td>1.991</td>\n",
       "      <td>2.108</td>\n",
       "      <td>1.898</td>\n",
       "      <td>...</td>\n",
       "      <td>1.809</td>\n",
       "      <td>2.168</td>\n",
       "      <td>2.139</td>\n",
       "      <td>187</td>\n",
       "      <td>bl</td>\n",
       "      <td>bl</td>\n",
       "      <td>NaN</td>\n",
       "      <td>2.0</td>\n",
       "      <td>NaN</td>\n",
       "      <td>032_S_0187</td>\n",
       "    </tr>\n",
       "    <tr>\n",
       "      <th>4</th>\n",
       "      <td>1.979</td>\n",
       "      <td>1.897</td>\n",
       "      <td>2.244</td>\n",
       "      <td>2.272</td>\n",
       "      <td>2.085</td>\n",
       "      <td>1.327</td>\n",
       "      <td>1.784</td>\n",
       "      <td>2.132</td>\n",
       "      <td>2.196</td>\n",
       "      <td>1.946</td>\n",
       "      <td>...</td>\n",
       "      <td>1.764</td>\n",
       "      <td>2.063</td>\n",
       "      <td>2.379</td>\n",
       "      <td>190</td>\n",
       "      <td>bl</td>\n",
       "      <td>bl</td>\n",
       "      <td>NaN</td>\n",
       "      <td>3.0</td>\n",
       "      <td>NaN</td>\n",
       "      <td>100_S_0190</td>\n",
       "    </tr>\n",
       "    <tr>\n",
       "      <th>...</th>\n",
       "      <td>...</td>\n",
       "      <td>...</td>\n",
       "      <td>...</td>\n",
       "      <td>...</td>\n",
       "      <td>...</td>\n",
       "      <td>...</td>\n",
       "      <td>...</td>\n",
       "      <td>...</td>\n",
       "      <td>...</td>\n",
       "      <td>...</td>\n",
       "      <td>...</td>\n",
       "      <td>...</td>\n",
       "      <td>...</td>\n",
       "      <td>...</td>\n",
       "      <td>...</td>\n",
       "      <td>...</td>\n",
       "      <td>...</td>\n",
       "      <td>...</td>\n",
       "      <td>...</td>\n",
       "      <td>...</td>\n",
       "      <td>...</td>\n",
       "    </tr>\n",
       "    <tr>\n",
       "      <th>107</th>\n",
       "      <td>2.308</td>\n",
       "      <td>2.118</td>\n",
       "      <td>2.485</td>\n",
       "      <td>2.508</td>\n",
       "      <td>2.433</td>\n",
       "      <td>1.776</td>\n",
       "      <td>1.954</td>\n",
       "      <td>2.403</td>\n",
       "      <td>2.412</td>\n",
       "      <td>2.260</td>\n",
       "      <td>...</td>\n",
       "      <td>2.129</td>\n",
       "      <td>2.345</td>\n",
       "      <td>2.736</td>\n",
       "      <td>1326</td>\n",
       "      <td>bl</td>\n",
       "      <td>bl</td>\n",
       "      <td>NaN</td>\n",
       "      <td>2.0</td>\n",
       "      <td>NaN</td>\n",
       "      <td>016_S_1326</td>\n",
       "    </tr>\n",
       "    <tr>\n",
       "      <th>108</th>\n",
       "      <td>2.232</td>\n",
       "      <td>2.753</td>\n",
       "      <td>2.544</td>\n",
       "      <td>2.412</td>\n",
       "      <td>2.324</td>\n",
       "      <td>1.789</td>\n",
       "      <td>1.891</td>\n",
       "      <td>2.445</td>\n",
       "      <td>2.306</td>\n",
       "      <td>2.172</td>\n",
       "      <td>...</td>\n",
       "      <td>2.067</td>\n",
       "      <td>2.597</td>\n",
       "      <td>2.570</td>\n",
       "      <td>1331</td>\n",
       "      <td>bl</td>\n",
       "      <td>bl</td>\n",
       "      <td>NaN</td>\n",
       "      <td>2.0</td>\n",
       "      <td>NaN</td>\n",
       "      <td>051_S_1331</td>\n",
       "    </tr>\n",
       "    <tr>\n",
       "      <th>109</th>\n",
       "      <td>2.058</td>\n",
       "      <td>2.255</td>\n",
       "      <td>2.191</td>\n",
       "      <td>2.166</td>\n",
       "      <td>2.209</td>\n",
       "      <td>1.499</td>\n",
       "      <td>1.779</td>\n",
       "      <td>2.412</td>\n",
       "      <td>1.991</td>\n",
       "      <td>2.218</td>\n",
       "      <td>...</td>\n",
       "      <td>1.814</td>\n",
       "      <td>2.419</td>\n",
       "      <td>2.642</td>\n",
       "      <td>1337</td>\n",
       "      <td>bl</td>\n",
       "      <td>bl</td>\n",
       "      <td>NaN</td>\n",
       "      <td>3.0</td>\n",
       "      <td>NaN</td>\n",
       "      <td>130_S_1337</td>\n",
       "    </tr>\n",
       "    <tr>\n",
       "      <th>110</th>\n",
       "      <td>2.347</td>\n",
       "      <td>2.445</td>\n",
       "      <td>2.550</td>\n",
       "      <td>2.475</td>\n",
       "      <td>2.165</td>\n",
       "      <td>1.961</td>\n",
       "      <td>1.833</td>\n",
       "      <td>2.221</td>\n",
       "      <td>2.201</td>\n",
       "      <td>2.169</td>\n",
       "      <td>...</td>\n",
       "      <td>2.040</td>\n",
       "      <td>2.335</td>\n",
       "      <td>2.768</td>\n",
       "      <td>1338</td>\n",
       "      <td>bl</td>\n",
       "      <td>bl</td>\n",
       "      <td>NaN</td>\n",
       "      <td>2.0</td>\n",
       "      <td>NaN</td>\n",
       "      <td>051_S_1338</td>\n",
       "    </tr>\n",
       "    <tr>\n",
       "      <th>111</th>\n",
       "      <td>2.111</td>\n",
       "      <td>2.869</td>\n",
       "      <td>2.374</td>\n",
       "      <td>2.902</td>\n",
       "      <td>2.245</td>\n",
       "      <td>1.727</td>\n",
       "      <td>1.739</td>\n",
       "      <td>2.516</td>\n",
       "      <td>2.467</td>\n",
       "      <td>2.204</td>\n",
       "      <td>...</td>\n",
       "      <td>2.238</td>\n",
       "      <td>2.404</td>\n",
       "      <td>2.934</td>\n",
       "      <td>1340</td>\n",
       "      <td>bl</td>\n",
       "      <td>bl</td>\n",
       "      <td>NaN</td>\n",
       "      <td>2.0</td>\n",
       "      <td>NaN</td>\n",
       "      <td>126_S_1340</td>\n",
       "    </tr>\n",
       "  </tbody>\n",
       "</table>\n",
       "<p>112 rows × 75 columns</p>\n",
       "</div>"
      ],
      "text/plain": [
       "     ST102TA  ST103TA  ST104TA  ST105TA  ST106TA  ST107TA  ST108TA  ST109TA  \\\n",
       "0      2.187    2.617    2.357    2.301    2.346    1.492    1.711    2.335   \n",
       "1      2.423    2.960    2.378    2.499    2.363    1.612    2.033    2.574   \n",
       "2      2.287    2.536    2.303    2.881    2.305    1.463    1.909    2.858   \n",
       "3      2.004    2.372    2.294    2.168    2.018    1.713    1.672    1.991   \n",
       "4      1.979    1.897    2.244    2.272    2.085    1.327    1.784    2.132   \n",
       "..       ...      ...      ...      ...      ...      ...      ...      ...   \n",
       "107    2.308    2.118    2.485    2.508    2.433    1.776    1.954    2.403   \n",
       "108    2.232    2.753    2.544    2.412    2.324    1.789    1.891    2.445   \n",
       "109    2.058    2.255    2.191    2.166    2.209    1.499    1.779    2.412   \n",
       "110    2.347    2.445    2.550    2.475    2.165    1.961    1.833    2.221   \n",
       "111    2.111    2.869    2.374    2.902    2.245    1.727    1.739    2.516   \n",
       "\n",
       "     ST110TA  ST111TA  ...  ST97TA  ST98TA  ST99TA   RID  VISCODE  VISCODE2  \\\n",
       "0      2.228    2.147  ...   1.889   2.201   2.573    15       bl        bl   \n",
       "1      2.604    2.325  ...   1.901   2.387   2.788    86       bl        bl   \n",
       "2      2.382    2.248  ...   1.988   2.414   2.740   184       bl        bl   \n",
       "3      2.108    1.898  ...   1.809   2.168   2.139   187       bl        bl   \n",
       "4      2.196    1.946  ...   1.764   2.063   2.379   190       bl        bl   \n",
       "..       ...      ...  ...     ...     ...     ...   ...      ...       ...   \n",
       "107    2.412    2.260  ...   2.129   2.345   2.736  1326       bl        bl   \n",
       "108    2.306    2.172  ...   2.067   2.597   2.570  1331       bl        bl   \n",
       "109    1.991    2.218  ...   1.814   2.419   2.642  1337       bl        bl   \n",
       "110    2.201    2.169  ...   2.040   2.335   2.768  1338       bl        bl   \n",
       "111    2.467    2.204  ...   2.238   2.404   2.934  1340       bl        bl   \n",
       "\n",
       "     DXCHANGE  DXCURREN  DIAGNOSIS        PTID  \n",
       "0         NaN       1.0        NaN  100_S_0015  \n",
       "1         NaN       1.0        NaN  136_S_0086  \n",
       "2         NaN       1.0        NaN  136_S_0184  \n",
       "3         NaN       2.0        NaN  032_S_0187  \n",
       "4         NaN       3.0        NaN  100_S_0190  \n",
       "..        ...       ...        ...         ...  \n",
       "107       NaN       2.0        NaN  016_S_1326  \n",
       "108       NaN       2.0        NaN  051_S_1331  \n",
       "109       NaN       3.0        NaN  130_S_1337  \n",
       "110       NaN       2.0        NaN  051_S_1338  \n",
       "111       NaN       2.0        NaN  126_S_1340  \n",
       "\n",
       "[112 rows x 75 columns]"
      ]
     },
     "execution_count": 10,
     "metadata": {},
     "output_type": "execute_result"
    }
   ],
   "source": [
    "imgdx1"
   ]
  },
  {
   "cell_type": "code",
   "execution_count": 11,
   "metadata": {},
   "outputs": [],
   "source": [
    "imgdx1.drop([\"VISCODE\", \"VISCODE2\", \"PTID\", \"RID\"], inplace=True, axis=1)\n",
    "imgdx2.drop([\"VISCODE\", \"VISCODE2\", \"PTID\", \"RID\"], inplace=True, axis=1)\n",
    "imgdx3.drop([\"VISCODE\", \"VISCODE2\", \"PTID\", \"RID\"], inplace=True, axis=1)\n",
    "\n",
    "img = imgdx1.append(imgdx2.append(imgdx3))"
   ]
  },
  {
   "cell_type": "code",
   "execution_count": 12,
   "metadata": {},
   "outputs": [],
   "source": [
    "img['DIAGNOSIS'] = img['DIAGNOSIS'].fillna(img['DXCHANGE'])\n",
    "img['DIAGNOSIS'] = img['DIAGNOSIS'].fillna(img['DXCURREN'])\n",
    "img.drop(['DXCURREN', 'DXCHANGE'], axis=1, inplace=True)"
   ]
  },
  {
   "cell_type": "code",
   "execution_count": 13,
   "metadata": {},
   "outputs": [
    {
     "data": {
      "text/plain": [
       "Index(['ST102TA', 'ST103TA', 'ST104TA', 'ST105TA', 'ST106TA', 'ST107TA',\n",
       "       'ST108TA', 'ST109TA', 'ST110TA', 'ST111TA', 'ST113TA', 'ST114TA',\n",
       "       'ST115TA', 'ST116TA', 'ST117TA', 'ST118TA', 'ST119TA', 'ST121TA',\n",
       "       'ST129TA', 'ST130TA', 'ST13TA', 'ST14TA', 'ST15TA', 'ST23TA', 'ST24TA',\n",
       "       'ST25TA', 'ST26TA', 'ST31TA', 'ST32TA', 'ST34TA', 'ST35TA', 'ST36TA',\n",
       "       'ST38TA', 'ST39TA', 'ST40TA', 'ST43TA', 'ST44TA', 'ST45TA', 'ST46TA',\n",
       "       'ST47TA', 'ST48TA', 'ST49TA', 'ST50TA', 'ST51TA', 'ST52TA', 'ST54TA',\n",
       "       'ST55TA', 'ST56TA', 'ST57TA', 'ST58TA', 'ST59TA', 'ST60TA', 'ST62TA',\n",
       "       'ST72TA', 'ST73TA', 'ST74TA', 'ST82TA', 'ST83TA', 'ST84TA', 'ST85TA',\n",
       "       'ST90TA', 'ST91TA', 'ST93TA', 'ST94TA', 'ST95TA', 'ST97TA', 'ST98TA',\n",
       "       'ST99TA', 'DIAGNOSIS'],\n",
       "      dtype='object')"
      ]
     },
     "execution_count": 13,
     "metadata": {},
     "output_type": "execute_result"
    }
   ],
   "source": [
    "img.columns"
   ]
  },
  {
   "cell_type": "code",
   "execution_count": 14,
   "metadata": {},
   "outputs": [],
   "source": [
    "\n",
    "data = img\n",
    "data_sane = data[data['DIAGNOSIS'] !=3].mean(axis=0)\n",
    "stddev_sane = data[data['DIAGNOSIS'] !=3].std(axis=0)\n",
    "data_alz = data[data['DIAGNOSIS'] == 3].mean(axis=0)"
   ]
  },
  {
   "cell_type": "code",
   "execution_count": 15,
   "metadata": {},
   "outputs": [
    {
     "data": {
      "text/plain": [
       "ST102TA      0.054250\n",
       "ST103TA      0.242794\n",
       "ST104TA      0.086035\n",
       "ST105TA      0.094299\n",
       "ST106TA      0.056793\n",
       "               ...   \n",
       "ST95TA       0.093075\n",
       "ST97TA       0.072315\n",
       "ST98TA       0.059556\n",
       "ST99TA       0.203466\n",
       "DIAGNOSIS   -1.522207\n",
       "Length: 69, dtype: float64"
      ]
     },
     "execution_count": 15,
     "metadata": {},
     "output_type": "execute_result"
    }
   ],
   "source": [
    "data_sane - data_alz"
   ]
  },
  {
   "attachments": {},
   "cell_type": "markdown",
   "metadata": {},
   "source": [
    "## Alzheimer's classifier"
   ]
  },
  {
   "attachments": {},
   "cell_type": "markdown",
   "metadata": {},
   "source": [
    "Here, we wish to creater a classifier that is able to distinguish patients which have dementia/alzheimer's from patients that either have MCI or do not have any problem.\n",
    "This classifier uses cross sectional brain imaging data."
   ]
  },
  {
   "attachments": {},
   "cell_type": "markdown",
   "metadata": {},
   "source": [
    "### Feature selection"
   ]
  },
  {
   "cell_type": "code",
   "execution_count": 17,
   "metadata": {},
   "outputs": [
    {
     "data": {
      "text/plain": [
       "<Axes: xlabel='DIAGNOSIS', ylabel='Count'>"
      ]
     },
     "execution_count": 17,
     "metadata": {},
     "output_type": "execute_result"
    },
    {
     "data": {
      "image/png": "[encoded data removed]",
      "text/plain": [
       "<Figure size 432x288 with 1 Axes>"
      ]
     },
     "metadata": {
      "needs_background": "light"
     },
     "output_type": "display_data"
    }
   ],
   "source": [
    "sns.histplot(img['DIAGNOSIS'].astype(str))"
   ]
  },
  {
   "cell_type": "code",
   "execution_count": 29,
   "metadata": {},
   "outputs": [],
   "source": [
    "img.dropna(inplace=True)\n",
    "Y = img['DIAGNOSIS']\n",
    "X = img.drop(['DIAGNOSIS'], axis=1)\n",
    "Y.loc[Y == 1] = 0\n",
    "Y.loc[Y == 2] = 0\n",
    "Y.loc[Y == 3] = 1\n"
   ]
  },
  {
   "attachments": {},
   "cell_type": "markdown",
   "metadata": {},
   "source": [
    "### Model training"
   ]
  },
  {
   "cell_type": "markdown",
   "metadata": {},
   "source": []
  },
  {
   "cell_type": "code",
   "execution_count": 31,
   "metadata": {},
   "outputs": [],
   "source": [
    "X_train, X_test, y_train, y_test = train_test_split(X, Y, test_size=0.4, train_size=0.6)"
   ]
  },
  {
   "attachments": {},
   "cell_type": "markdown",
   "metadata": {},
   "source": [
    "### Cross-validation"
   ]
  },
  {
   "cell_type": "code",
   "execution_count": 32,
   "metadata": {},
   "outputs": [],
   "source": [
    "models = [GradientBoostingClassifier(), RandomForestClassifier(), SVC(), DecisionTreeClassifier(), MLPClassifier()]"
   ]
  },
  {
   "cell_type": "code",
   "execution_count": 34,
   "metadata": {},
   "outputs": [
    {
     "name": "stdout",
     "output_type": "stream",
     "text": [
      "GradientBoostingClassifier() 0.6623577208776712\n",
      "RandomForestClassifier() 0.6727885931160147\n",
      "SVC() 0.6453974397572317\n",
      "DecisionTreeClassifier() 0.6520877878719771\n",
      "MLPClassifier() 0.6423257638790268\n"
     ]
    }
   ],
   "source": [
    "kfold = KFold(n_splits=10)\n",
    "for model in models:\n",
    "    cv_results = cross_val_score(model, X_train, y_train, cv=kfold, scoring='balanced_accuracy', n_jobs=-1)\n",
    "    print(model, cv_results.sum()/10)"
   ]
  },
  {
   "attachments": {},
   "cell_type": "markdown",
   "metadata": {},
   "source": [
    "### Evaluation"
   ]
  },
  {
   "attachments": {},
   "cell_type": "markdown",
   "metadata": {},
   "source": [
    "## Evolution Predictor"
   ]
  },
  {
   "attachments": {},
   "cell_type": "markdown",
   "metadata": {},
   "source": [
    "Here we are trying to predict whether a patient currently experiencing MCI will get alzheimer's in the future from cross-sectionnal neuroimaging data. Researchers have found that having a MCI multiplies a patient's chances of developing Alzheimer's in the future. Around 20 to 20% of people with MCI develop dementia in under a year.\n",
    "This is the reason why we are trying to predict the evolution. If we are able to detect whether a patient is very likely to get alzheimer's in under 2 years then it will be easier to help the patient."
   ]
  },
  {
   "cell_type": "markdown",
   "metadata": {},
   "source": []
  }
 ],
 "metadata": {
  "kernelspec": {
   "display_name": "Python 3",
   "language": "python",
   "name": "python3"
  },
  "language_info": {
   "codemirror_mode": {
    "name": "ipython",
    "version": 3
   },
   "file_extension": ".py",
   "mimetype": "text/x-python",
   "name": "python",
   "nbconvert_exporter": "python",
   "pygments_lexer": "ipython3",
   "version": "3.8.5"
  },
  "orig_nbformat": 4,
  "vscode": {
   "interpreter": {
    "hash": "570feb405e2e27c949193ac68f46852414290d515b0ba6e5d90d076ed2284471"
   }
  }
 },
 "nbformat": 4,
 "nbformat_minor": 2
}
