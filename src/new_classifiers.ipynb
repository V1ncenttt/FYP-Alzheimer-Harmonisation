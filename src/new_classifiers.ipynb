{
 "cells": [
  {
   "attachments": {},
   "cell_type": "markdown",
   "metadata": {},
   "source": [
    "# Classifiers using neuro-imaging data"
   ]
  },
  {
   "cell_type": "code",
   "execution_count": 17,
   "metadata": {},
   "outputs": [],
   "source": [
    "import pandas as pd\n",
    "import numpy as np\n",
    "from numpy import random, arange\n",
    "import seaborn as sns\n",
    "\n",
    "from sklearn.model_selection import train_test_split, KFold, cross_val_score, GridSearchCV\n",
    "from sklearn.metrics import balanced_accuracy_score\n",
    "from sklearn.decomposition import PCA\n",
    "from sklearn.preprocessing import MinMaxScaler, StandardScaler, OrdinalEncoder, PolynomialFeatures, LabelEncoder\n",
    "\n",
    "# Import relevant sklearn classes related to machine learning models\n",
    "from sklearn.linear_model import LinearRegression, LogisticRegression, Lasso, ElasticNet\n",
    "from sklearn.svm import SVC, SVR, NuSVC\n",
    "from sklearn.tree import DecisionTreeClassifier, DecisionTreeRegressor\n",
    "from sklearn.ensemble import RandomForestClassifier, GradientBoostingClassifier, BaggingClassifier\n",
    "from sklearn.neural_network import MLPClassifier\n",
    "\n",
    "# Import relevant sklearn class/function related to evaluation\n",
    "import sklearn.metrics\n",
    "from imblearn.under_sampling import RandomUnderSampler\n",
    "\n",
    "#Smote oversampling \n",
    "import smote_variants as sv"
   ]
  },
  {
   "attachments": {},
   "cell_type": "markdown",
   "metadata": {},
   "source": [
    "## Data Pre-Processing"
   ]
  },
  {
   "cell_type": "code",
   "execution_count": 24,
   "metadata": {},
   "outputs": [],
   "source": [
    "\n",
    "img_adni1 = pd.read_csv(\"../data/UCSFFSX51_ADNI1_3T_02_01_16.csv\", low_memory=False)\n",
    "img_adni2 = pd.read_csv(\"../data/UCSFFSX51_11_08_19.csv\", low_memory=False)\n",
    "img_adni3 = pd.read_csv(\"../data/UCSFFSX6_08_17_22.csv\", low_memory=False)\n",
    "adni_merge= pd.read_csv('../data/ADNIMERGE.csv', low_memory=False)\n"
   ]
  },
  {
   "cell_type": "code",
   "execution_count": 25,
   "metadata": {},
   "outputs": [],
   "source": [
    "\n",
    "img_adni2.drop([\"LONISID\", \"IMAGETYPE\", \"LHIPQC\", \"RHIPQC\", \"ST131HS\", \"ST132HS\", \"ST133HS\", \"ST134HS\", \"ST135HS\", \"ST136HS\", \"ST137HS\", \"ST138HS\", \"ST139HS\", \"ST140HS\", \"ST141HS\", \"ST142HS\", \"ST143HS\", \"ST144HS\", \"ST145HS\", \"ST146HS\"], inplace=True, axis=1)\n",
    "img_adni3.drop([\"HIPPOQC\"], axis=1, inplace=True)"
   ]
  },
  {
   "cell_type": "code",
   "execution_count": 26,
   "metadata": {},
   "outputs": [
    {
     "name": "stdout",
     "output_type": "stream",
     "text": [
      "---\n",
      "---\n"
     ]
    }
   ],
   "source": [
    "colNames2 = []\n",
    "for colName2 in img_adni2.columns:\n",
    "    if not colName2 in img_adni1.columns:\n",
    "        #print(colName2)\n",
    "        if not (colName2 == \"VISCODE2\" or colName2 ==\"COLPROT\"):\n",
    "            colNames2.append(colName2)\n",
    "\n",
    "print(\"---\")\n",
    "for colName3 in img_adni3.columns:\n",
    "    if not colName3 in img_adni2.columns:\n",
    "        print(colName3)\n",
    "print(\"---\")\n",
    "colNames = []\n",
    "for colName1 in img_adni1.columns:\n",
    "    if not colName1 in img_adni2.columns:\n",
    "        #print(colName1)\n",
    "        colNames.append(colName1)\n",
    "\n",
    "\n",
    "img_adni1.drop(colNames, inplace=True, axis=1)\n",
    "img_adni2.drop(colNames2, inplace=True, axis=1)\n",
    "img_adni3.drop(colNames2, axis=1, inplace=True)"
   ]
  },
  {
   "cell_type": "code",
   "execution_count": 27,
   "metadata": {},
   "outputs": [],
   "source": [
    "dx = pd.read_csv(\"../data/DXSUM_PDXCONV_ADNIALL.csv\", low_memory=False)\n",
    "dx2= dx[(dx[\"Phase\"] == \"ADNI2\") | (dx[\"Phase\"] == \"ADNIGO\")]\n"
   ]
  },
  {
   "cell_type": "code",
   "execution_count": null,
   "metadata": {},
   "outputs": [],
   "source": []
  },
  {
   "cell_type": "code",
   "execution_count": 28,
   "metadata": {},
   "outputs": [
    {
     "data": {
      "text/plain": [
       "4896"
      ]
     },
     "execution_count": 28,
     "metadata": {},
     "output_type": "execute_result"
    }
   ],
   "source": [
    "len(img_adni2)"
   ]
  },
  {
   "cell_type": "code",
   "execution_count": 29,
   "metadata": {},
   "outputs": [],
   "source": [
    "\n",
    "test = pd.merge(img_adni2, dx2[[\"VISCODE2\", \"RID\", \"DXCHANGE\", \"Phase\"]], left_on=[\"VISCODE2\",\"RID\", \"COLPROT\"], right_on=[\"VISCODE2\",\"RID\", \"Phase\"])"
   ]
  },
  {
   "cell_type": "code",
   "execution_count": 30,
   "metadata": {},
   "outputs": [
    {
     "data": {
      "text/plain": [
       "2701"
      ]
     },
     "execution_count": 30,
     "metadata": {},
     "output_type": "execute_result"
    }
   ],
   "source": [
    "len(test)"
   ]
  },
  {
   "cell_type": "code",
   "execution_count": 13,
   "metadata": {},
   "outputs": [
    {
     "data": {
      "text/html": [
       "<div>\n",
       "<style scoped>\n",
       "    .dataframe tbody tr th:only-of-type {\n",
       "        vertical-align: middle;\n",
       "    }\n",
       "\n",
       "    .dataframe tbody tr th {\n",
       "        vertical-align: top;\n",
       "    }\n",
       "\n",
       "    .dataframe thead th {\n",
       "        text-align: right;\n",
       "    }\n",
       "</style>\n",
       "<table border=\"1\" class=\"dataframe\">\n",
       "  <thead>\n",
       "    <tr style=\"text-align: right;\">\n",
       "      <th></th>\n",
       "      <th>RID</th>\n",
       "      <th>VISCODE</th>\n",
       "      <th>VISCODE2</th>\n",
       "      <th>EXAMDATE</th>\n",
       "      <th>VERSION</th>\n",
       "      <th>LONIUID</th>\n",
       "      <th>IMAGEUID</th>\n",
       "      <th>RUNDATE</th>\n",
       "      <th>STATUS</th>\n",
       "      <th>OVERALLQC</th>\n",
       "      <th>...</th>\n",
       "      <th>ST148SV</th>\n",
       "      <th>ST149SV</th>\n",
       "      <th>ST150SV</th>\n",
       "      <th>ST151SV</th>\n",
       "      <th>ST152SV</th>\n",
       "      <th>ST153SV</th>\n",
       "      <th>ST154SV</th>\n",
       "      <th>ST155SV</th>\n",
       "      <th>update_stamp</th>\n",
       "      <th>DXCHANGE</th>\n",
       "    </tr>\n",
       "  </thead>\n",
       "  <tbody>\n",
       "    <tr>\n",
       "      <th>0</th>\n",
       "      <td>21</td>\n",
       "      <td>v11</td>\n",
       "      <td>m84</td>\n",
       "      <td>2012-10-04</td>\n",
       "      <td>2012-10-24</td>\n",
       "      <td>169744.0</td>\n",
       "      <td>340931</td>\n",
       "      <td>2012-10-24</td>\n",
       "      <td>complete</td>\n",
       "      <td>Pass</td>\n",
       "      <td>...</td>\n",
       "      <td>193489.0</td>\n",
       "      <td>384420.0</td>\n",
       "      <td>196942.0</td>\n",
       "      <td>197448.0</td>\n",
       "      <td>394390.0</td>\n",
       "      <td>142785.0</td>\n",
       "      <td>527205.0</td>\n",
       "      <td>869951.0</td>\n",
       "      <td>2019-11-14 14:34:00.0</td>\n",
       "      <td>1.0</td>\n",
       "    </tr>\n",
       "    <tr>\n",
       "      <th>1</th>\n",
       "      <td>21</td>\n",
       "      <td>nv</td>\n",
       "      <td>m60</td>\n",
       "      <td>2010-10-08</td>\n",
       "      <td>2012-02-10</td>\n",
       "      <td>93190.0</td>\n",
       "      <td>222684</td>\n",
       "      <td>2012-02-10</td>\n",
       "      <td>complete</td>\n",
       "      <td>Pass</td>\n",
       "      <td>...</td>\n",
       "      <td>193313.0</td>\n",
       "      <td>384534.0</td>\n",
       "      <td>205140.0</td>\n",
       "      <td>204958.0</td>\n",
       "      <td>410098.0</td>\n",
       "      <td>146962.0</td>\n",
       "      <td>531496.0</td>\n",
       "      <td>885815.0</td>\n",
       "      <td>2019-11-14 14:34:00.0</td>\n",
       "      <td>1.0</td>\n",
       "    </tr>\n",
       "    <tr>\n",
       "      <th>2</th>\n",
       "      <td>21</td>\n",
       "      <td>nv</td>\n",
       "      <td>m60</td>\n",
       "      <td>2010-10-08</td>\n",
       "      <td>2012-02-10</td>\n",
       "      <td>93187.0</td>\n",
       "      <td>222738</td>\n",
       "      <td>2012-02-10</td>\n",
       "      <td>partial</td>\n",
       "      <td>Pass</td>\n",
       "      <td>...</td>\n",
       "      <td>188826.0</td>\n",
       "      <td>375077.0</td>\n",
       "      <td>210619.0</td>\n",
       "      <td>208063.0</td>\n",
       "      <td>418682.0</td>\n",
       "      <td>146446.0</td>\n",
       "      <td>521523.0</td>\n",
       "      <td>883558.0</td>\n",
       "      <td>2019-11-14 14:34:00.0</td>\n",
       "      <td>1.0</td>\n",
       "    </tr>\n",
       "    <tr>\n",
       "      <th>3</th>\n",
       "      <td>21</td>\n",
       "      <td>v06</td>\n",
       "      <td>m72</td>\n",
       "      <td>2011-10-13</td>\n",
       "      <td>2012-04-05</td>\n",
       "      <td>125206.0</td>\n",
       "      <td>265250</td>\n",
       "      <td>2012-04-05</td>\n",
       "      <td>complete</td>\n",
       "      <td>Pass</td>\n",
       "      <td>...</td>\n",
       "      <td>184681.0</td>\n",
       "      <td>366238.0</td>\n",
       "      <td>208414.0</td>\n",
       "      <td>209070.0</td>\n",
       "      <td>417484.0</td>\n",
       "      <td>144658.0</td>\n",
       "      <td>510896.0</td>\n",
       "      <td>877214.0</td>\n",
       "      <td>2019-11-14 14:34:00.0</td>\n",
       "      <td>1.0</td>\n",
       "    </tr>\n",
       "    <tr>\n",
       "      <th>4</th>\n",
       "      <td>21</td>\n",
       "      <td>v21</td>\n",
       "      <td>m96</td>\n",
       "      <td>2013-10-17</td>\n",
       "      <td>2013-12-23</td>\n",
       "      <td>204109.0</td>\n",
       "      <td>398269</td>\n",
       "      <td>2013-12-23</td>\n",
       "      <td>partial</td>\n",
       "      <td>Partial</td>\n",
       "      <td>...</td>\n",
       "      <td>189780.0</td>\n",
       "      <td>373956.0</td>\n",
       "      <td>200248.0</td>\n",
       "      <td>198403.0</td>\n",
       "      <td>398652.0</td>\n",
       "      <td>141727.0</td>\n",
       "      <td>515683.0</td>\n",
       "      <td>860546.0</td>\n",
       "      <td>2019-11-14 14:34:00.0</td>\n",
       "      <td>1.0</td>\n",
       "    </tr>\n",
       "  </tbody>\n",
       "</table>\n",
       "<p>5 rows × 345 columns</p>\n",
       "</div>"
      ],
      "text/plain": [
       "   RID VISCODE VISCODE2    EXAMDATE     VERSION   LONIUID  IMAGEUID  \\\n",
       "0   21     v11      m84  2012-10-04  2012-10-24  169744.0    340931   \n",
       "1   21      nv      m60  2010-10-08  2012-02-10   93190.0    222684   \n",
       "2   21      nv      m60  2010-10-08  2012-02-10   93187.0    222738   \n",
       "3   21     v06      m72  2011-10-13  2012-04-05  125206.0    265250   \n",
       "4   21     v21      m96  2013-10-17  2013-12-23  204109.0    398269   \n",
       "\n",
       "      RUNDATE    STATUS OVERALLQC  ...   ST148SV   ST149SV   ST150SV  \\\n",
       "0  2012-10-24  complete      Pass  ...  193489.0  384420.0  196942.0   \n",
       "1  2012-02-10  complete      Pass  ...  193313.0  384534.0  205140.0   \n",
       "2  2012-02-10   partial      Pass  ...  188826.0  375077.0  210619.0   \n",
       "3  2012-04-05  complete      Pass  ...  184681.0  366238.0  208414.0   \n",
       "4  2013-12-23   partial   Partial  ...  189780.0  373956.0  200248.0   \n",
       "\n",
       "    ST151SV   ST152SV   ST153SV   ST154SV   ST155SV           update_stamp  \\\n",
       "0  197448.0  394390.0  142785.0  527205.0  869951.0  2019-11-14 14:34:00.0   \n",
       "1  204958.0  410098.0  146962.0  531496.0  885815.0  2019-11-14 14:34:00.0   \n",
       "2  208063.0  418682.0  146446.0  521523.0  883558.0  2019-11-14 14:34:00.0   \n",
       "3  209070.0  417484.0  144658.0  510896.0  877214.0  2019-11-14 14:34:00.0   \n",
       "4  198403.0  398652.0  141727.0  515683.0  860546.0  2019-11-14 14:34:00.0   \n",
       "\n",
       "   DXCHANGE  \n",
       "0       1.0  \n",
       "1       1.0  \n",
       "2       1.0  \n",
       "3       1.0  \n",
       "4       1.0  \n",
       "\n",
       "[5 rows x 345 columns]"
      ]
     },
     "execution_count": 13,
     "metadata": {},
     "output_type": "execute_result"
    }
   ],
   "source": [
    "test.head()"
   ]
  },
  {
   "cell_type": "code",
   "execution_count": 15,
   "metadata": {},
   "outputs": [
    {
     "data": {
      "text/plain": [
       "<AxesSubplot:xlabel='DXCHANGE', ylabel='Probability'>"
      ]
     },
     "execution_count": 15,
     "metadata": {},
     "output_type": "execute_result"
    },
    {
     "data": {
      "image/png": "[encoded data removed]",
      "text/plain": [
       "<Figure size 432x288 with 1 Axes>"
      ]
     },
     "metadata": {
      "needs_background": "light"
     },
     "output_type": "display_data"
    }
   ],
   "source": [
    "\n",
    "sns.histplot(test['DXCHANGE'].astype(str), stat='probability')"
   ]
  },
  {
   "cell_type": "code",
   "execution_count": 45,
   "metadata": {},
   "outputs": [
    {
     "data": {
      "text/plain": [
       "4896"
      ]
     },
     "execution_count": 45,
     "metadata": {},
     "output_type": "execute_result"
    }
   ],
   "source": [
    "len(img_adni2)"
   ]
  },
  {
   "cell_type": "code",
   "execution_count": 40,
   "metadata": {},
   "outputs": [
    {
     "data": {
      "text/plain": [
       "11584"
      ]
     },
     "execution_count": 40,
     "metadata": {},
     "output_type": "execute_result"
    }
   ],
   "source": [
    "3990 + 4948 + 2646"
   ]
  },
  {
   "cell_type": "code",
   "execution_count": 41,
   "metadata": {},
   "outputs": [
    {
     "data": {
      "text/plain": [
       "16222"
      ]
     },
     "execution_count": 41,
     "metadata": {},
     "output_type": "execute_result"
    }
   ],
   "source": [
    "len(adni_merge)"
   ]
  },
  {
   "cell_type": "code",
   "execution_count": null,
   "metadata": {},
   "outputs": [],
   "source": []
  }
 ],
 "metadata": {
  "kernelspec": {
   "display_name": "Python 3",
   "language": "python",
   "name": "python3"
  },
  "language_info": {
   "codemirror_mode": {
    "name": "ipython",
    "version": 3
   },
   "file_extension": ".py",
   "mimetype": "text/x-python",
   "name": "python",
   "nbconvert_exporter": "python",
   "pygments_lexer": "ipython3",
   "version": "3.8.5"
  },
  "orig_nbformat": 4,
  "vscode": {
   "interpreter": {
    "hash": "570feb405e2e27c949193ac68f46852414290d515b0ba6e5d90d076ed2284471"
   }
  }
 },
 "nbformat": 4,
 "nbformat_minor": 2
}
