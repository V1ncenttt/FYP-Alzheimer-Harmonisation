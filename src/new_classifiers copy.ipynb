{
 "cells": [
  {
   "attachments": {},
   "cell_type": "markdown",
   "metadata": {},
   "source": [
    "# Classifiers using neuro-imaging data"
   ]
  },
  {
   "cell_type": "code",
   "execution_count": 1,
   "metadata": {},
   "outputs": [],
   "source": [
    "import pandas as pd\n",
    "import numpy as np\n",
    "from numpy import random, arange\n",
    "import seaborn as sns\n",
    "import patsy\n",
    "import matplotlib.pyplot as plt\n",
    "\n",
    "from sklearn.model_selection import train_test_split, KFold, cross_val_score, GridSearchCV\n",
    "from sklearn.metrics import balanced_accuracy_score, accuracy_score\n",
    "from sklearn.decomposition import PCA\n",
    "from sklearn.preprocessing import MinMaxScaler, StandardScaler, OrdinalEncoder, PolynomialFeatures, LabelEncoder, RobustScaler\n",
    "\n",
    "# Import relevant sklearn classes related to machine learning models\n",
    "from sklearn.linear_model import LinearRegression, LogisticRegression, Lasso, ElasticNet\n",
    "from sklearn.svm import SVC, SVR, NuSVC\n",
    "from sklearn.tree import DecisionTreeClassifier, DecisionTreeRegressor\n",
    "from sklearn.ensemble import RandomForestClassifier, GradientBoostingClassifier, BaggingClassifier\n",
    "from sklearn.neural_network import MLPClassifier\n",
    "\n",
    "# Import relevant sklearn class/function related to evaluation\n",
    "import sklearn.metrics\n",
    "from imblearn.under_sampling import RandomUnderSampler\n",
    "\n",
    "#Smote oversampling \n",
    "import smote_variants as sv\n",
    "\n",
    "#Harmonisation methods\n",
    "from neuroCombat import neuroCombat\n",
    "from combat.pycombat import pycombat\n",
    "import covbat"
   ]
  },
  {
   "attachments": {},
   "cell_type": "markdown",
   "metadata": {},
   "source": [
    "## Data Pre-Processing"
   ]
  },
  {
   "cell_type": "code",
   "execution_count": 2,
   "metadata": {},
   "outputs": [],
   "source": [
    "\n",
    "img_adni1 = pd.read_csv(\"../data/UCSFFSX51_ADNI1_3T_02_01_16.csv\", low_memory=False)\n",
    "img_adni2 = pd.read_csv(\"../data/UCSFFSX51_11_08_19.csv\", low_memory=False)\n",
    "img_adni3 = pd.read_csv(\"../data/UCSFFSX6_08_17_22.csv\", low_memory=False)\n",
    "demographics = pd.read_csv(\"../data/PTDEMOG.csv\", low_memory=False)\n",
    "adni_merge= pd.read_csv('../data/ADNIMERGE.csv', low_memory=False)\n"
   ]
  },
  {
   "cell_type": "code",
   "execution_count": 3,
   "metadata": {},
   "outputs": [],
   "source": [
    "img_adni2.replace(\"scmri\", \"sc\", inplace=True)\n",
    "dx = pd.read_csv(\"../data/DXSUM_PDXCONV_ADNIALL.csv\", low_memory=False)\n",
    "adni2 = img_adni2.loc[img_adni2['VISCODE2'] == \"sc\"]\n",
    "adni3 = img_adni3.loc[img_adni3['VISCODE2'] == \"sc\"]\n",
    "adni1 = img_adni1.loc[img_adni1['VISCODE'] == 'bl']"
   ]
  },
  {
   "cell_type": "code",
   "execution_count": 4,
   "metadata": {},
   "outputs": [],
   "source": [
    "# Select interesting columns\n",
    "\n",
    "# Quality Metrics\n",
    "QMs = []\n",
    "# Cortical thickness averages\n",
    "TAs = []\n",
    "\n",
    "\n",
    "for col in adni2.columns:\n",
    "    \n",
    "    if col.endswith('QC'):\n",
    "        QMs.append(col)\n",
    "    \n",
    "    \n",
    "    if col.endswith('TA'):\n",
    "        TAs.append(col)\n",
    "\n",
    "TAs.append(\"RID\")\n",
    "TAs2 = TAs.copy()\n",
    "TAs2.append(\"VISCODE\")\n",
    "QMs = QMs[:-2]\n",
    "TAs.append(\"VISCODE2\")\n"
   ]
  },
  {
   "cell_type": "code",
   "execution_count": 5,
   "metadata": {},
   "outputs": [],
   "source": [
    "dxbl_subset = dx.loc[:,[\"VISCODE\", \"VISCODE2\", \"RID\", \"DXCHANGE\",\"DXCURREN\",\"DIAGNOSIS\", \"PTID\", \"SITEID\", \"USERDATE\"]].copy()\n",
    "dxbl_subset[\"USERDATE\"] = pd.to_datetime(dxbl_subset[\"USERDATE\"])\n",
    "dxbl_subset[\"USERDATE\"] = pd.DatetimeIndex(dxbl_subset[\"USERDATE\"]).year\n",
    "\n",
    "imgdx2 = pd.merge(adni2.loc[:,TAs+QMs].copy(), dxbl_subset, on=[\"RID\", \"VISCODE2\"])\n",
    "imgdx3 = pd.merge(adni3.loc[:,TAs+QMs].copy(), dxbl_subset, on=[\"RID\", \"VISCODE2\"])\n",
    "imgdx1 = pd.merge(adni1.loc[:,TAs2+QMs].copy(), dxbl_subset, on=[\"RID\", \"VISCODE\"])"
   ]
  },
  {
   "cell_type": "code",
   "execution_count": 6,
   "metadata": {},
   "outputs": [
    {
     "data": {
      "text/plain": [
       "1598"
      ]
     },
     "execution_count": 6,
     "metadata": {},
     "output_type": "execute_result"
    }
   ],
   "source": [
    "imgdx1[\"PTID\"].append(imgdx2['PTID'].append(imgdx3['PTID'])).nunique()"
   ]
  },
  {
   "cell_type": "code",
   "execution_count": 7,
   "metadata": {},
   "outputs": [],
   "source": [
    "\n",
    "imgdx2.loc[(imgdx2[\"DXCHANGE\"] == 1) | (imgdx2[\"DXCHANGE\"] == 4) |(imgdx2[\"DXCHANGE\"] == 6), 'DXCHANGE'] = 1\n",
    "imgdx2.loc[(imgdx2[\"DXCHANGE\"] == 2) | (imgdx2[\"DXCHANGE\"] == 5) |(imgdx2[\"DXCHANGE\"] == 7), 'DXCHANGE'] = 2\n",
    "imgdx2.loc[(imgdx2[\"DXCHANGE\"] == 3) | (imgdx2[\"DXCHANGE\"] == 8) |(imgdx2[\"DXCHANGE\"] == 9), 'DXCHANGE'] = 3\n"
   ]
  },
  {
   "cell_type": "code",
   "execution_count": 8,
   "metadata": {},
   "outputs": [],
   "source": [
    "img = imgdx1.append(imgdx2.append(imgdx3))"
   ]
  },
  {
   "cell_type": "code",
   "execution_count": 9,
   "metadata": {},
   "outputs": [],
   "source": [
    "for qm in QMs:\n",
    "    \n",
    "    img.loc[img[qm] == \"Fail\",qm] = -1\n",
    "    img.loc[img[qm] == \"Partial\",qm] = 0\n",
    "    img.loc[img[qm] == \"Pass\",qm] = 1\n",
    "    img.loc[(img[qm] != 0) & (img[qm] != 1) & (img[qm] != -1),qm] = 0"
   ]
  },
  {
   "cell_type": "code",
   "execution_count": 10,
   "metadata": {},
   "outputs": [
    {
     "data": {
      "text/plain": [
       "1759"
      ]
     },
     "execution_count": 10,
     "metadata": {},
     "output_type": "execute_result"
    }
   ],
   "source": [
    "len(img)"
   ]
  },
  {
   "cell_type": "code",
   "execution_count": 11,
   "metadata": {},
   "outputs": [],
   "source": [
    "# Get covariates\n",
    "img_cov = pd.merge(img, demographics.loc[:,[\"RID\", \"VISCODE2\", \"PTGENDER\", \"PTHAND\", \"PTDOBYY\"]], on=[\"RID\", \"VISCODE2\"])"
   ]
  },
  {
   "cell_type": "code",
   "execution_count": 12,
   "metadata": {},
   "outputs": [],
   "source": [
    "img_cov[\"AGE\"] = img_cov[\"USERDATE\"] - img_cov[\"PTDOBYY\"]\n"
   ]
  },
  {
   "cell_type": "code",
   "execution_count": 13,
   "metadata": {},
   "outputs": [],
   "source": [
    "# Merge diagnosis\n",
    "\n",
    "img_cov['DIAGNOSIS'] = img_cov['DIAGNOSIS'].fillna(img_cov['DXCHANGE'])\n",
    "img_cov['DIAGNOSIS'] = img_cov['DIAGNOSIS'].fillna(img_cov['DXCURREN'])\n",
    "img_cov.drop(['DXCURREN', 'DXCHANGE'], axis=1, inplace=True)"
   ]
  },
  {
   "cell_type": "code",
   "execution_count": 14,
   "metadata": {},
   "outputs": [],
   "source": [
    "img_cov.dropna(inplace=True)"
   ]
  },
  {
   "cell_type": "code",
   "execution_count": 15,
   "metadata": {},
   "outputs": [],
   "source": [
    "img_cov = img_cov.drop_duplicates(\"PTID\")"
   ]
  },
  {
   "cell_type": "code",
   "execution_count": 16,
   "metadata": {},
   "outputs": [
    {
     "name": "stderr",
     "output_type": "stream",
     "text": [
      "<ipython-input-16-af0736e07413>:6: SettingWithCopyWarning: \n",
      "A value is trying to be set on a copy of a slice from a DataFrame\n",
      "\n",
      "See the caveats in the documentation: https://pandas.pydata.org/pandas-docs/stable/user_guide/indexing.html#returning-a-view-versus-a-copy\n",
      "  dems['DIAGNOSIS'][dems['DIAGNOSIS'] == 1] = 'Sane'\n"
     ]
    },
    {
     "name": "stdout",
     "output_type": "stream",
     "text": [
      "Males: 664 ->47.942238267148014%\n",
      "Females: 721 ->52.05776173285198%\n"
     ]
    },
    {
     "data": {
      "image/png": "[encoded data removed]",
      "text/plain": [
       "<Figure size 432x288 with 1 Axes>"
      ]
     },
     "metadata": {
      "needs_background": "light"
     },
     "output_type": "display_data"
    }
   ],
   "source": [
    "#Sex, Age, and diagnosis distrib\n",
    "dems = img_cov.copy()\n",
    "sex = dems['PTGENDER'].copy()\n",
    "sex[sex==1] = \"Male\"\n",
    "sex[sex==2] = \"Female\"\n",
    "dems['DIAGNOSIS'][dems['DIAGNOSIS'] == 1] = 'Sane'\n",
    "dems['DIAGNOSIS'][dems['DIAGNOSIS'] == 2] = 'MCI'\n",
    "dems['DIAGNOSIS'][dems['DIAGNOSIS'] == 3] = 'Alzheimer\\'s'\n",
    "males = len(sex[sex==\"Male\"])\n",
    "females = len(sex[sex==\"Female\"])\n",
    "total = (len(sex))\n",
    "dems['Sex'] = sex\n",
    "\n",
    "#Plot\n",
    "sns.set_style(\"dark\")\n",
    "sns.set(rc={\"figure.dpi\":300, 'savefig.dpi':300})\n",
    "sns.set_context('notebook')\n",
    "sns.set_style(\"ticks\")\n",
    "sns.set(rc={'figure.figsize':(12.7,10.27)})\n",
    "sns.set(font_scale=3.4)\n",
    "hist_plot = sns.histplot(data=dems, x=\"DIAGNOSIS\", hue=\"Sex\", multiple=\"dodge\", shrink=.8).set(title='Sex and diagnosis distribution', xlabel='Diagnosis at baseline')[0]\n",
    "fig = hist_plot.get_figure()\n",
    "fig.savefig(\"sexdiag.png\") \n",
    "\n",
    "print(\"Males: \" + str(males) + \" ->\" + str(males / total *100)+ \"%\")\n",
    "print(\"Females: \" + str(females) + \" ->\" + str(females / total *100)+ \"%\")"
   ]
  },
  {
   "cell_type": "code",
   "execution_count": 17,
   "metadata": {},
   "outputs": [
    {
     "data": {
      "text/html": [
       "<div>\n",
       "<style scoped>\n",
       "    .dataframe tbody tr th:only-of-type {\n",
       "        vertical-align: middle;\n",
       "    }\n",
       "\n",
       "    .dataframe tbody tr th {\n",
       "        vertical-align: top;\n",
       "    }\n",
       "\n",
       "    .dataframe thead th {\n",
       "        text-align: right;\n",
       "    }\n",
       "</style>\n",
       "<table border=\"1\" class=\"dataframe\">\n",
       "  <thead>\n",
       "    <tr style=\"text-align: right;\">\n",
       "      <th></th>\n",
       "      <th>ST102TA</th>\n",
       "      <th>ST103TA</th>\n",
       "      <th>ST104TA</th>\n",
       "      <th>ST105TA</th>\n",
       "      <th>ST106TA</th>\n",
       "      <th>ST107TA</th>\n",
       "      <th>ST108TA</th>\n",
       "      <th>ST109TA</th>\n",
       "      <th>ST110TA</th>\n",
       "      <th>ST111TA</th>\n",
       "      <th>...</th>\n",
       "      <th>ST98TA</th>\n",
       "      <th>ST99TA</th>\n",
       "      <th>RID</th>\n",
       "      <th>DIAGNOSIS</th>\n",
       "      <th>SITEID</th>\n",
       "      <th>USERDATE</th>\n",
       "      <th>PTGENDER</th>\n",
       "      <th>PTHAND</th>\n",
       "      <th>PTDOBYY</th>\n",
       "      <th>AGE</th>\n",
       "    </tr>\n",
       "  </thead>\n",
       "  <tbody>\n",
       "    <tr>\n",
       "      <th>count</th>\n",
       "      <td>1385.000000</td>\n",
       "      <td>1385.000000</td>\n",
       "      <td>1385.000000</td>\n",
       "      <td>1385.000000</td>\n",
       "      <td>1385.000000</td>\n",
       "      <td>1385.000000</td>\n",
       "      <td>1385.000000</td>\n",
       "      <td>1385.000000</td>\n",
       "      <td>1385.000000</td>\n",
       "      <td>1385.000000</td>\n",
       "      <td>...</td>\n",
       "      <td>1385.000000</td>\n",
       "      <td>1385.000000</td>\n",
       "      <td>1385.000000</td>\n",
       "      <td>1385.000000</td>\n",
       "      <td>1385.000000</td>\n",
       "      <td>1385.000000</td>\n",
       "      <td>1385.000000</td>\n",
       "      <td>1385.000000</td>\n",
       "      <td>1385.000000</td>\n",
       "      <td>1385.000000</td>\n",
       "    </tr>\n",
       "    <tr>\n",
       "      <th>mean</th>\n",
       "      <td>2.278358</td>\n",
       "      <td>2.681552</td>\n",
       "      <td>2.458812</td>\n",
       "      <td>2.596168</td>\n",
       "      <td>2.326003</td>\n",
       "      <td>1.557303</td>\n",
       "      <td>1.906316</td>\n",
       "      <td>2.420336</td>\n",
       "      <td>2.344900</td>\n",
       "      <td>2.272723</td>\n",
       "      <td>...</td>\n",
       "      <td>2.365835</td>\n",
       "      <td>2.795666</td>\n",
       "      <td>5380.818051</td>\n",
       "      <td>1.701083</td>\n",
       "      <td>31.321300</td>\n",
       "      <td>2014.499639</td>\n",
       "      <td>1.520578</td>\n",
       "      <td>1.098917</td>\n",
       "      <td>1942.664260</td>\n",
       "      <td>71.835379</td>\n",
       "    </tr>\n",
       "    <tr>\n",
       "      <th>std</th>\n",
       "      <td>0.178284</td>\n",
       "      <td>0.305840</td>\n",
       "      <td>0.160530</td>\n",
       "      <td>0.221359</td>\n",
       "      <td>0.158360</td>\n",
       "      <td>0.146858</td>\n",
       "      <td>0.148441</td>\n",
       "      <td>0.191241</td>\n",
       "      <td>0.177477</td>\n",
       "      <td>0.167551</td>\n",
       "      <td>...</td>\n",
       "      <td>0.186658</td>\n",
       "      <td>0.189568</td>\n",
       "      <td>971.739976</td>\n",
       "      <td>0.720393</td>\n",
       "      <td>18.158861</td>\n",
       "      <td>3.364883</td>\n",
       "      <td>0.499757</td>\n",
       "      <td>0.298658</td>\n",
       "      <td>8.497317</td>\n",
       "      <td>7.329392</td>\n",
       "    </tr>\n",
       "    <tr>\n",
       "      <th>min</th>\n",
       "      <td>1.611000</td>\n",
       "      <td>1.573000</td>\n",
       "      <td>1.782000</td>\n",
       "      <td>1.694000</td>\n",
       "      <td>1.779000</td>\n",
       "      <td>1.171000</td>\n",
       "      <td>1.482000</td>\n",
       "      <td>1.118000</td>\n",
       "      <td>1.650000</td>\n",
       "      <td>1.564000</td>\n",
       "      <td>...</td>\n",
       "      <td>1.784000</td>\n",
       "      <td>1.696000</td>\n",
       "      <td>4001.000000</td>\n",
       "      <td>1.000000</td>\n",
       "      <td>1.000000</td>\n",
       "      <td>2011.000000</td>\n",
       "      <td>1.000000</td>\n",
       "      <td>1.000000</td>\n",
       "      <td>1920.000000</td>\n",
       "      <td>50.000000</td>\n",
       "    </tr>\n",
       "    <tr>\n",
       "      <th>25%</th>\n",
       "      <td>2.168000</td>\n",
       "      <td>2.492000</td>\n",
       "      <td>2.350000</td>\n",
       "      <td>2.448000</td>\n",
       "      <td>2.223000</td>\n",
       "      <td>1.452000</td>\n",
       "      <td>1.811000</td>\n",
       "      <td>2.303000</td>\n",
       "      <td>2.241000</td>\n",
       "      <td>2.172000</td>\n",
       "      <td>...</td>\n",
       "      <td>2.235000</td>\n",
       "      <td>2.697000</td>\n",
       "      <td>4509.000000</td>\n",
       "      <td>1.000000</td>\n",
       "      <td>16.000000</td>\n",
       "      <td>2012.000000</td>\n",
       "      <td>1.000000</td>\n",
       "      <td>1.000000</td>\n",
       "      <td>1937.000000</td>\n",
       "      <td>67.000000</td>\n",
       "    </tr>\n",
       "    <tr>\n",
       "      <th>50%</th>\n",
       "      <td>2.284000</td>\n",
       "      <td>2.694000</td>\n",
       "      <td>2.468000</td>\n",
       "      <td>2.589000</td>\n",
       "      <td>2.330000</td>\n",
       "      <td>1.544000</td>\n",
       "      <td>1.906000</td>\n",
       "      <td>2.415000</td>\n",
       "      <td>2.361000</td>\n",
       "      <td>2.277000</td>\n",
       "      <td>...</td>\n",
       "      <td>2.359000</td>\n",
       "      <td>2.814000</td>\n",
       "      <td>5090.000000</td>\n",
       "      <td>2.000000</td>\n",
       "      <td>31.000000</td>\n",
       "      <td>2013.000000</td>\n",
       "      <td>2.000000</td>\n",
       "      <td>1.000000</td>\n",
       "      <td>1943.000000</td>\n",
       "      <td>72.000000</td>\n",
       "    </tr>\n",
       "    <tr>\n",
       "      <th>75%</th>\n",
       "      <td>2.396000</td>\n",
       "      <td>2.895000</td>\n",
       "      <td>2.572000</td>\n",
       "      <td>2.750000</td>\n",
       "      <td>2.427000</td>\n",
       "      <td>1.656000</td>\n",
       "      <td>2.001000</td>\n",
       "      <td>2.534000</td>\n",
       "      <td>2.465000</td>\n",
       "      <td>2.390000</td>\n",
       "      <td>...</td>\n",
       "      <td>2.497000</td>\n",
       "      <td>2.921000</td>\n",
       "      <td>6369.000000</td>\n",
       "      <td>2.000000</td>\n",
       "      <td>47.000000</td>\n",
       "      <td>2018.000000</td>\n",
       "      <td>2.000000</td>\n",
       "      <td>1.000000</td>\n",
       "      <td>1948.000000</td>\n",
       "      <td>77.000000</td>\n",
       "    </tr>\n",
       "    <tr>\n",
       "      <th>max</th>\n",
       "      <td>2.906000</td>\n",
       "      <td>3.505000</td>\n",
       "      <td>2.951000</td>\n",
       "      <td>3.512000</td>\n",
       "      <td>2.853000</td>\n",
       "      <td>2.127000</td>\n",
       "      <td>2.630000</td>\n",
       "      <td>3.098000</td>\n",
       "      <td>2.804000</td>\n",
       "      <td>2.846000</td>\n",
       "      <td>...</td>\n",
       "      <td>2.891000</td>\n",
       "      <td>3.258000</td>\n",
       "      <td>7066.000000</td>\n",
       "      <td>3.000000</td>\n",
       "      <td>63.000000</td>\n",
       "      <td>2022.000000</td>\n",
       "      <td>2.000000</td>\n",
       "      <td>2.000000</td>\n",
       "      <td>1971.000000</td>\n",
       "      <td>91.000000</td>\n",
       "    </tr>\n",
       "  </tbody>\n",
       "</table>\n",
       "<p>8 rows × 76 columns</p>\n",
       "</div>"
      ],
      "text/plain": [
       "           ST102TA      ST103TA      ST104TA      ST105TA      ST106TA  \\\n",
       "count  1385.000000  1385.000000  1385.000000  1385.000000  1385.000000   \n",
       "mean      2.278358     2.681552     2.458812     2.596168     2.326003   \n",
       "std       0.178284     0.305840     0.160530     0.221359     0.158360   \n",
       "min       1.611000     1.573000     1.782000     1.694000     1.779000   \n",
       "25%       2.168000     2.492000     2.350000     2.448000     2.223000   \n",
       "50%       2.284000     2.694000     2.468000     2.589000     2.330000   \n",
       "75%       2.396000     2.895000     2.572000     2.750000     2.427000   \n",
       "max       2.906000     3.505000     2.951000     3.512000     2.853000   \n",
       "\n",
       "           ST107TA      ST108TA      ST109TA      ST110TA      ST111TA  ...  \\\n",
       "count  1385.000000  1385.000000  1385.000000  1385.000000  1385.000000  ...   \n",
       "mean      1.557303     1.906316     2.420336     2.344900     2.272723  ...   \n",
       "std       0.146858     0.148441     0.191241     0.177477     0.167551  ...   \n",
       "min       1.171000     1.482000     1.118000     1.650000     1.564000  ...   \n",
       "25%       1.452000     1.811000     2.303000     2.241000     2.172000  ...   \n",
       "50%       1.544000     1.906000     2.415000     2.361000     2.277000  ...   \n",
       "75%       1.656000     2.001000     2.534000     2.465000     2.390000  ...   \n",
       "max       2.127000     2.630000     3.098000     2.804000     2.846000  ...   \n",
       "\n",
       "            ST98TA       ST99TA          RID    DIAGNOSIS       SITEID  \\\n",
       "count  1385.000000  1385.000000  1385.000000  1385.000000  1385.000000   \n",
       "mean      2.365835     2.795666  5380.818051     1.701083    31.321300   \n",
       "std       0.186658     0.189568   971.739976     0.720393    18.158861   \n",
       "min       1.784000     1.696000  4001.000000     1.000000     1.000000   \n",
       "25%       2.235000     2.697000  4509.000000     1.000000    16.000000   \n",
       "50%       2.359000     2.814000  5090.000000     2.000000    31.000000   \n",
       "75%       2.497000     2.921000  6369.000000     2.000000    47.000000   \n",
       "max       2.891000     3.258000  7066.000000     3.000000    63.000000   \n",
       "\n",
       "          USERDATE     PTGENDER       PTHAND      PTDOBYY          AGE  \n",
       "count  1385.000000  1385.000000  1385.000000  1385.000000  1385.000000  \n",
       "mean   2014.499639     1.520578     1.098917  1942.664260    71.835379  \n",
       "std       3.364883     0.499757     0.298658     8.497317     7.329392  \n",
       "min    2011.000000     1.000000     1.000000  1920.000000    50.000000  \n",
       "25%    2012.000000     1.000000     1.000000  1937.000000    67.000000  \n",
       "50%    2013.000000     2.000000     1.000000  1943.000000    72.000000  \n",
       "75%    2018.000000     2.000000     1.000000  1948.000000    77.000000  \n",
       "max    2022.000000     2.000000     2.000000  1971.000000    91.000000  \n",
       "\n",
       "[8 rows x 76 columns]"
      ]
     },
     "execution_count": 17,
     "metadata": {},
     "output_type": "execute_result"
    }
   ],
   "source": [
    "img_cov.describe()"
   ]
  },
  {
   "cell_type": "code",
   "execution_count": 18,
   "metadata": {},
   "outputs": [
    {
     "data": {
      "text/plain": [
       "62"
      ]
     },
     "execution_count": 18,
     "metadata": {},
     "output_type": "execute_result"
    }
   ],
   "source": [
    "# Get the number of sites\n",
    "img_cov['SITEID'].nunique()"
   ]
  },
  {
   "cell_type": "code",
   "execution_count": 19,
   "metadata": {},
   "outputs": [
    {
     "data": {
      "image/png": "[encoded data removed]",
      "text/plain": [
       "<Figure size 432x360 with 1 Axes>"
      ]
     },
     "metadata": {},
     "output_type": "display_data"
    }
   ],
   "source": [
    "dems = img_cov.copy()\n",
    "sex = dems['PTGENDER'].copy()\n",
    "sex[sex==1] = \"Male\"\n",
    "sex[sex==2] = \"Female\"\n",
    "dems['Sex'] = sex\n",
    "sns.set(font_scale=2)\n",
    "dist_plot = sns.displot(data=dems, x='AGE', hue=\"Sex\", kde=True, aspect=1.2, legend=False).set(title='Sex and Age Distribution', xlabel='Age')\n",
    "fig = dist_plot.fig\n",
    "fig.savefig(\"sexage.png\") "
   ]
  },
  {
   "cell_type": "code",
   "execution_count": 20,
   "metadata": {},
   "outputs": [],
   "source": [
    "img = img_cov"
   ]
  },
  {
   "attachments": {},
   "cell_type": "markdown",
   "metadata": {},
   "source": [
    "## Alzheimer's classifier"
   ]
  },
  {
   "attachments": {},
   "cell_type": "markdown",
   "metadata": {},
   "source": [
    "Here, we wish to creater a classifier that is able to distinguish patients which have dementia/alzheimer's from patients that either have MCI or do not have any problem.\n",
    "This classifier uses cross sectional brain imaging data."
   ]
  },
  {
   "attachments": {},
   "cell_type": "markdown",
   "metadata": {},
   "source": [
    "### Feature selection"
   ]
  },
  {
   "cell_type": "code",
   "execution_count": 21,
   "metadata": {},
   "outputs": [
    {
     "name": "stderr",
     "output_type": "stream",
     "text": [
      "<ipython-input-21-fdb4994b7c0e>:2: SettingWithCopyWarning: \n",
      "A value is trying to be set on a copy of a slice from a DataFrame\n",
      "\n",
      "See the caveats in the documentation: https://pandas.pydata.org/pandas-docs/stable/user_guide/indexing.html#returning-a-view-versus-a-copy\n",
      "  img_sub.dropna(inplace=True)\n",
      "<ipython-input-21-fdb4994b7c0e>:5: SettingWithCopyWarning: \n",
      "A value is trying to be set on a copy of a slice from a DataFrame\n",
      "\n",
      "See the caveats in the documentation: https://pandas.pydata.org/pandas-docs/stable/user_guide/indexing.html#returning-a-view-versus-a-copy\n",
      "  Y[Y == 1] = 0\n",
      "C:\\Users\\vince\\AppData\\Roaming\\Python\\Python38\\site-packages\\pandas\\core\\series.py:1020: SettingWithCopyWarning: \n",
      "A value is trying to be set on a copy of a slice from a DataFrame\n",
      "\n",
      "See the caveats in the documentation: https://pandas.pydata.org/pandas-docs/stable/user_guide/indexing.html#returning-a-view-versus-a-copy\n",
      "  self._where(~key, value, inplace=True)\n",
      "<ipython-input-21-fdb4994b7c0e>:6: SettingWithCopyWarning: \n",
      "A value is trying to be set on a copy of a slice from a DataFrame\n",
      "\n",
      "See the caveats in the documentation: https://pandas.pydata.org/pandas-docs/stable/user_guide/indexing.html#returning-a-view-versus-a-copy\n",
      "  Y[Y == 3] = 1\n",
      "C:\\Users\\vince\\AppData\\Roaming\\Python\\Python38\\site-packages\\pandas\\core\\series.py:1020: SettingWithCopyWarning: \n",
      "A value is trying to be set on a copy of a slice from a DataFrame\n",
      "\n",
      "See the caveats in the documentation: https://pandas.pydata.org/pandas-docs/stable/user_guide/indexing.html#returning-a-view-versus-a-copy\n",
      "  self._where(~key, value, inplace=True)\n"
     ]
    }
   ],
   "source": [
    "\n",
    "img_sub = img[~(img[\"DIAGNOSIS\"] == 2)]\n",
    "img_sub.dropna(inplace=True)\n",
    "Y = img_sub['DIAGNOSIS']\n",
    "X = img_sub.drop(['DIAGNOSIS'], axis=1)\n",
    "Y[Y == 1] = 0\n",
    "Y[Y == 3] = 1\n"
   ]
  },
  {
   "cell_type": "code",
   "execution_count": 22,
   "metadata": {},
   "outputs": [
    {
     "data": {
      "text/plain": [
       "<Axes: xlabel='DIAGNOSIS', ylabel='Count'>"
      ]
     },
     "execution_count": 22,
     "metadata": {},
     "output_type": "execute_result"
    },
    {
     "data": {
      "image/png": "[encoded data removed]",
      "text/plain": [
       "<Figure size 432x288 with 1 Axes>"
      ]
     },
     "metadata": {},
     "output_type": "display_data"
    }
   ],
   "source": [
    "sns.histplot(Y.astype(str))"
   ]
  },
  {
   "attachments": {},
   "cell_type": "markdown",
   "metadata": {},
   "source": [
    "### Model training"
   ]
  },
  {
   "cell_type": "markdown",
   "metadata": {},
   "source": []
  },
  {
   "cell_type": "code",
   "execution_count": 103,
   "metadata": {},
   "outputs": [],
   "source": [
    "X_train, X_test, y_train, y_test = train_test_split(X, Y, test_size=0.4, train_size=0.6)"
   ]
  },
  {
   "cell_type": "code",
   "execution_count": 104,
   "metadata": {},
   "outputs": [],
   "source": [
    "covs = X_train.loc[:,[\"AGE\", \"PTGENDER\", \"PTHAND\"]].copy()\n",
    "quality_metrics_train = X_train.loc[:, QMs].copy()\n",
    "quality_metrics_test = X_test.loc[:,QMs].copy()"
   ]
  },
  {
   "cell_type": "code",
   "execution_count": 105,
   "metadata": {},
   "outputs": [],
   "source": [
    "X_test = X_test.drop([\"VISCODE\", \"VISCODE2\", \"PTID\", \"RID\", \"PTHAND\", \"AGE\", \"PTGENDER\", \"PTDOBYY\", \"USERDATE\"] + QMs, axis=1)\n",
    "X_train = X_train.drop([\"VISCODE\", \"VISCODE2\", \"PTID\", \"RID\", \"PTHAND\", \"AGE\", \"PTGENDER\", \"PTDOBYY\", \"USERDATE\"] + QMs, axis=1)"
   ]
  },
  {
   "attachments": {},
   "cell_type": "markdown",
   "metadata": {},
   "source": [
    "## ComBat harmonisation"
   ]
  },
  {
   "cell_type": "code",
   "execution_count": 84,
   "metadata": {},
   "outputs": [
    {
     "name": "stdout",
     "output_type": "stream",
     "text": [
      "[neuroCombat] Creating design matrix\n",
      "[neuroCombat] Standardizing data across features\n"
     ]
    },
    {
     "ename": "LinAlgError",
     "evalue": "Singular matrix",
     "output_type": "error",
     "traceback": [
      "\u001b[1;31m---------------------------------------------------------------------------\u001b[0m",
      "\u001b[1;31mLinAlgError\u001b[0m                               Traceback (most recent call last)",
      "\u001b[1;32m<ipython-input-84-34e87c42d484>\u001b[0m in \u001b[0;36m<module>\u001b[1;34m\u001b[0m\n\u001b[0;32m      8\u001b[0m \u001b[1;33m\u001b[0m\u001b[0m\n\u001b[0;32m      9\u001b[0m \u001b[1;31m#Harmonization step:\u001b[0m\u001b[1;33m\u001b[0m\u001b[1;33m\u001b[0m\u001b[1;33m\u001b[0m\u001b[0m\n\u001b[1;32m---> 10\u001b[1;33m data_combat = neuroCombat(dat=X_train.head(10).T.to_numpy(),\n\u001b[0m\u001b[0;32m     11\u001b[0m     \u001b[0mcovars\u001b[0m\u001b[1;33m=\u001b[0m\u001b[0mcovs_combat\u001b[0m\u001b[1;33m.\u001b[0m\u001b[0mhead\u001b[0m\u001b[1;33m(\u001b[0m\u001b[1;36m10\u001b[0m\u001b[1;33m)\u001b[0m\u001b[1;33m,\u001b[0m\u001b[1;33m\u001b[0m\u001b[1;33m\u001b[0m\u001b[0m\n\u001b[0;32m     12\u001b[0m     \u001b[0mbatch_col\u001b[0m\u001b[1;33m=\u001b[0m\u001b[0mbatch_col\u001b[0m\u001b[1;33m,\u001b[0m\u001b[1;33m\u001b[0m\u001b[1;33m\u001b[0m\u001b[0m\n",
      "\u001b[1;32m~\\AppData\\Roaming\\Python\\Python38\\site-packages\\neuroCombat\\neuroCombat.py\u001b[0m in \u001b[0;36mneuroCombat\u001b[1;34m(dat, covars, batch_col, categorical_cols, continuous_cols, eb, parametric, mean_only, ref_batch)\u001b[0m\n\u001b[0;32m    125\u001b[0m     \u001b[1;31m# standardize data across features\u001b[0m\u001b[1;33m\u001b[0m\u001b[1;33m\u001b[0m\u001b[1;33m\u001b[0m\u001b[0m\n\u001b[0;32m    126\u001b[0m     \u001b[0mprint\u001b[0m\u001b[1;33m(\u001b[0m\u001b[1;34m'[neuroCombat] Standardizing data across features'\u001b[0m\u001b[1;33m)\u001b[0m\u001b[1;33m\u001b[0m\u001b[1;33m\u001b[0m\u001b[0m\n\u001b[1;32m--> 127\u001b[1;33m     \u001b[0ms_data\u001b[0m\u001b[1;33m,\u001b[0m \u001b[0ms_mean\u001b[0m\u001b[1;33m,\u001b[0m \u001b[0mv_pool\u001b[0m\u001b[1;33m,\u001b[0m \u001b[0mmod_mean\u001b[0m \u001b[1;33m=\u001b[0m \u001b[0mstandardize_across_features\u001b[0m\u001b[1;33m(\u001b[0m\u001b[0mdat\u001b[0m\u001b[1;33m,\u001b[0m \u001b[0mdesign\u001b[0m\u001b[1;33m,\u001b[0m \u001b[0minfo_dict\u001b[0m\u001b[1;33m)\u001b[0m\u001b[1;33m\u001b[0m\u001b[1;33m\u001b[0m\u001b[0m\n\u001b[0m\u001b[0;32m    128\u001b[0m \u001b[1;33m\u001b[0m\u001b[0m\n\u001b[0;32m    129\u001b[0m     \u001b[1;31m# fit L/S models and find priors\u001b[0m\u001b[1;33m\u001b[0m\u001b[1;33m\u001b[0m\u001b[1;33m\u001b[0m\u001b[0m\n",
      "\u001b[1;32m~\\AppData\\Roaming\\Python\\Python38\\site-packages\\neuroCombat\\neuroCombat.py\u001b[0m in \u001b[0;36mstandardize_across_features\u001b[1;34m(X, design, info_dict)\u001b[0m\n\u001b[0;32m    218\u001b[0m     \u001b[0mbetas\u001b[0m \u001b[1;33m=\u001b[0m \u001b[1;33m[\u001b[0m\u001b[1;33m]\u001b[0m\u001b[1;33m\u001b[0m\u001b[1;33m\u001b[0m\u001b[0m\n\u001b[0;32m    219\u001b[0m     \u001b[1;32mfor\u001b[0m \u001b[0mi\u001b[0m \u001b[1;32min\u001b[0m \u001b[0mrange\u001b[0m\u001b[1;33m(\u001b[0m\u001b[0mX\u001b[0m\u001b[1;33m.\u001b[0m\u001b[0mshape\u001b[0m\u001b[1;33m[\u001b[0m\u001b[1;36m0\u001b[0m\u001b[1;33m]\u001b[0m\u001b[1;33m)\u001b[0m\u001b[1;33m:\u001b[0m\u001b[1;33m\u001b[0m\u001b[1;33m\u001b[0m\u001b[0m\n\u001b[1;32m--> 220\u001b[1;33m         \u001b[0mbetas\u001b[0m\u001b[1;33m.\u001b[0m\u001b[0mappend\u001b[0m\u001b[1;33m(\u001b[0m\u001b[0mget_beta_with_nan\u001b[0m\u001b[1;33m(\u001b[0m\u001b[0mX\u001b[0m\u001b[1;33m[\u001b[0m\u001b[0mi\u001b[0m\u001b[1;33m,\u001b[0m\u001b[1;33m:\u001b[0m\u001b[1;33m]\u001b[0m\u001b[1;33m,\u001b[0m \u001b[0mdesign\u001b[0m\u001b[1;33m)\u001b[0m\u001b[1;33m)\u001b[0m\u001b[1;33m\u001b[0m\u001b[1;33m\u001b[0m\u001b[0m\n\u001b[0m\u001b[0;32m    221\u001b[0m     \u001b[0mB_hat\u001b[0m \u001b[1;33m=\u001b[0m \u001b[0mnp\u001b[0m\u001b[1;33m.\u001b[0m\u001b[0mvstack\u001b[0m\u001b[1;33m(\u001b[0m\u001b[0mbetas\u001b[0m\u001b[1;33m)\u001b[0m\u001b[1;33m.\u001b[0m\u001b[0mT\u001b[0m\u001b[1;33m\u001b[0m\u001b[1;33m\u001b[0m\u001b[0m\n\u001b[0;32m    222\u001b[0m \u001b[1;33m\u001b[0m\u001b[0m\n",
      "\u001b[1;32m~\\AppData\\Roaming\\Python\\Python38\\site-packages\\neuroCombat\\neuroCombat.py\u001b[0m in \u001b[0;36mget_beta_with_nan\u001b[1;34m(yy, mod)\u001b[0m\n\u001b[0;32m    213\u001b[0m         \u001b[0mmod\u001b[0m \u001b[1;33m=\u001b[0m \u001b[0mmod\u001b[0m\u001b[1;33m[\u001b[0m\u001b[0mwh\u001b[0m\u001b[1;33m,\u001b[0m\u001b[1;33m:\u001b[0m\u001b[1;33m]\u001b[0m\u001b[1;33m\u001b[0m\u001b[1;33m\u001b[0m\u001b[0m\n\u001b[0;32m    214\u001b[0m         \u001b[0myy\u001b[0m \u001b[1;33m=\u001b[0m \u001b[0myy\u001b[0m\u001b[1;33m[\u001b[0m\u001b[0mwh\u001b[0m\u001b[1;33m]\u001b[0m\u001b[1;33m\u001b[0m\u001b[1;33m\u001b[0m\u001b[0m\n\u001b[1;32m--> 215\u001b[1;33m         \u001b[0mB\u001b[0m \u001b[1;33m=\u001b[0m \u001b[0mnp\u001b[0m\u001b[1;33m.\u001b[0m\u001b[0mdot\u001b[0m\u001b[1;33m(\u001b[0m\u001b[0mnp\u001b[0m\u001b[1;33m.\u001b[0m\u001b[0mdot\u001b[0m\u001b[1;33m(\u001b[0m\u001b[0mla\u001b[0m\u001b[1;33m.\u001b[0m\u001b[0minv\u001b[0m\u001b[1;33m(\u001b[0m\u001b[0mnp\u001b[0m\u001b[1;33m.\u001b[0m\u001b[0mdot\u001b[0m\u001b[1;33m(\u001b[0m\u001b[0mmod\u001b[0m\u001b[1;33m.\u001b[0m\u001b[0mT\u001b[0m\u001b[1;33m,\u001b[0m \u001b[0mmod\u001b[0m\u001b[1;33m)\u001b[0m\u001b[1;33m)\u001b[0m\u001b[1;33m,\u001b[0m \u001b[0mmod\u001b[0m\u001b[1;33m.\u001b[0m\u001b[0mT\u001b[0m\u001b[1;33m)\u001b[0m\u001b[1;33m,\u001b[0m \u001b[0myy\u001b[0m\u001b[1;33m.\u001b[0m\u001b[0mT\u001b[0m\u001b[1;33m)\u001b[0m\u001b[1;33m\u001b[0m\u001b[1;33m\u001b[0m\u001b[0m\n\u001b[0m\u001b[0;32m    216\u001b[0m         \u001b[1;32mreturn\u001b[0m \u001b[0mB\u001b[0m\u001b[1;33m\u001b[0m\u001b[1;33m\u001b[0m\u001b[0m\n\u001b[0;32m    217\u001b[0m \u001b[1;33m\u001b[0m\u001b[0m\n",
      "\u001b[1;32m~\\AppData\\Roaming\\Python\\Python38\\site-packages\\numpy\\core\\overrides.py\u001b[0m in \u001b[0;36minv\u001b[1;34m(*args, **kwargs)\u001b[0m\n",
      "\u001b[1;32m~\\AppData\\Roaming\\Python\\Python38\\site-packages\\numpy\\linalg\\linalg.py\u001b[0m in \u001b[0;36minv\u001b[1;34m(a)\u001b[0m\n\u001b[0;32m    550\u001b[0m     \u001b[0msignature\u001b[0m \u001b[1;33m=\u001b[0m \u001b[1;34m'D->D'\u001b[0m \u001b[1;32mif\u001b[0m \u001b[0misComplexType\u001b[0m\u001b[1;33m(\u001b[0m\u001b[0mt\u001b[0m\u001b[1;33m)\u001b[0m \u001b[1;32melse\u001b[0m \u001b[1;34m'd->d'\u001b[0m\u001b[1;33m\u001b[0m\u001b[1;33m\u001b[0m\u001b[0m\n\u001b[0;32m    551\u001b[0m     \u001b[0mextobj\u001b[0m \u001b[1;33m=\u001b[0m \u001b[0mget_linalg_error_extobj\u001b[0m\u001b[1;33m(\u001b[0m\u001b[0m_raise_linalgerror_singular\u001b[0m\u001b[1;33m)\u001b[0m\u001b[1;33m\u001b[0m\u001b[1;33m\u001b[0m\u001b[0m\n\u001b[1;32m--> 552\u001b[1;33m     \u001b[0mainv\u001b[0m \u001b[1;33m=\u001b[0m \u001b[0m_umath_linalg\u001b[0m\u001b[1;33m.\u001b[0m\u001b[0minv\u001b[0m\u001b[1;33m(\u001b[0m\u001b[0ma\u001b[0m\u001b[1;33m,\u001b[0m \u001b[0msignature\u001b[0m\u001b[1;33m=\u001b[0m\u001b[0msignature\u001b[0m\u001b[1;33m,\u001b[0m \u001b[0mextobj\u001b[0m\u001b[1;33m=\u001b[0m\u001b[0mextobj\u001b[0m\u001b[1;33m)\u001b[0m\u001b[1;33m\u001b[0m\u001b[1;33m\u001b[0m\u001b[0m\n\u001b[0m\u001b[0;32m    553\u001b[0m     \u001b[1;32mreturn\u001b[0m \u001b[0mwrap\u001b[0m\u001b[1;33m(\u001b[0m\u001b[0mainv\u001b[0m\u001b[1;33m.\u001b[0m\u001b[0mastype\u001b[0m\u001b[1;33m(\u001b[0m\u001b[0mresult_t\u001b[0m\u001b[1;33m,\u001b[0m \u001b[0mcopy\u001b[0m\u001b[1;33m=\u001b[0m\u001b[1;32mFalse\u001b[0m\u001b[1;33m)\u001b[0m\u001b[1;33m)\u001b[0m\u001b[1;33m\u001b[0m\u001b[1;33m\u001b[0m\u001b[0m\n\u001b[0;32m    554\u001b[0m \u001b[1;33m\u001b[0m\u001b[0m\n",
      "\u001b[1;32m~\\AppData\\Roaming\\Python\\Python38\\site-packages\\numpy\\linalg\\linalg.py\u001b[0m in \u001b[0;36m_raise_linalgerror_singular\u001b[1;34m(err, flag)\u001b[0m\n\u001b[0;32m     87\u001b[0m \u001b[1;33m\u001b[0m\u001b[0m\n\u001b[0;32m     88\u001b[0m \u001b[1;32mdef\u001b[0m \u001b[0m_raise_linalgerror_singular\u001b[0m\u001b[1;33m(\u001b[0m\u001b[0merr\u001b[0m\u001b[1;33m,\u001b[0m \u001b[0mflag\u001b[0m\u001b[1;33m)\u001b[0m\u001b[1;33m:\u001b[0m\u001b[1;33m\u001b[0m\u001b[1;33m\u001b[0m\u001b[0m\n\u001b[1;32m---> 89\u001b[1;33m     \u001b[1;32mraise\u001b[0m \u001b[0mLinAlgError\u001b[0m\u001b[1;33m(\u001b[0m\u001b[1;34m\"Singular matrix\"\u001b[0m\u001b[1;33m)\u001b[0m\u001b[1;33m\u001b[0m\u001b[1;33m\u001b[0m\u001b[0m\n\u001b[0m\u001b[0;32m     90\u001b[0m \u001b[1;33m\u001b[0m\u001b[0m\n\u001b[0;32m     91\u001b[0m \u001b[1;32mdef\u001b[0m \u001b[0m_raise_linalgerror_nonposdef\u001b[0m\u001b[1;33m(\u001b[0m\u001b[0merr\u001b[0m\u001b[1;33m,\u001b[0m \u001b[0mflag\u001b[0m\u001b[1;33m)\u001b[0m\u001b[1;33m:\u001b[0m\u001b[1;33m\u001b[0m\u001b[1;33m\u001b[0m\u001b[0m\n",
      "\u001b[1;31mLinAlgError\u001b[0m: Singular matrix"
     ]
    }
   ],
   "source": [
    "covs_combat = covs.copy()\n",
    "covs_combat['batch'] = X_train['SITEID']\n",
    "covs_combat = covs_combat.loc[:,['PTGENDER', 'batch']]\n",
    "categorical_cols = ['PTGENDER']\n",
    "\n",
    "# To specify the name of the variable that encodes for the scanner/batch covariate:\n",
    "batch_col = 'batch'\n",
    "\n",
    "#Harmonization step:\n",
    "data_combat = neuroCombat(dat=X_train.head(10).T.to_numpy(),\n",
    "    covars=covs_combat.head(10),\n",
    "    batch_col=batch_col,\n",
    "    categorical_cols=categorical_cols)[\"data\"]\n",
    "\n",
    "data_combat"
   ]
  },
  {
   "cell_type": "code",
   "execution_count": 35,
   "metadata": {},
   "outputs": [
    {
     "name": "stdout",
     "output_type": "stream",
     "text": [
      "[neuroCombat] Creating design matrix\n",
      "[neuroCombat] Standardizing data across features\n",
      "[neuroCombat] Fitting L/S model and finding priors\n",
      "[neuroCombat] Finding parametric adjustments\n",
      "[neuroCombat] Final adjustment of data\n"
     ]
    }
   ],
   "source": [
    "data = np.genfromtxt('testdata.csv', delimiter=\",\", skip_header=1)\n",
    "\n",
    "# Specifying the batch (scanner variable) as well as a biological covariate to preserve:\n",
    "covars = {'batch':[1,1,1,1,1,2,2,2,2,2],\n",
    "          'gender':[1,2,1,2,1,2,1,2,1,2]} \n",
    "covars = pd.DataFrame(covars)  \n",
    "\n",
    "# To specify names of the variables that are categorical:\n",
    "categorical_cols = ['gender']\n",
    "\n",
    "# To specify the name of the variable that encodes for the scanner/batch covariate:\n",
    "batch_col = 'batch'\n",
    "\n",
    "#Harmonization step:\n",
    "data_combat = neuroCombat(dat=data,\n",
    "    covars=covars,\n",
    "    batch_col=batch_col,\n",
    "    categorical_cols=categorical_cols)[\"data\"]"
   ]
  },
  {
   "attachments": {},
   "cell_type": "markdown",
   "metadata": {},
   "source": [
    "## CovBat"
   ]
  },
  {
   "cell_type": "code",
   "execution_count": 74,
   "metadata": {},
   "outputs": [
    {
     "name": "stdout",
     "output_type": "stream",
     "text": [
      "Found 61 batches.\n",
      "\n",
      "One batch has only one sample, try setting mean_only=True.\n",
      "\n"
     ]
    },
    {
     "ename": "ValueError",
     "evalue": "Unable to coerce to Series, length must be 3: given 0",
     "output_type": "error",
     "traceback": [
      "\u001b[1;31m---------------------------------------------------------------------------\u001b[0m",
      "\u001b[1;31mValueError\u001b[0m                                Traceback (most recent call last)",
      "\u001b[1;32m<ipython-input-74-bc19a9df43ed>\u001b[0m in \u001b[0;36m<module>\u001b[1;34m\u001b[0m\n\u001b[0;32m      4\u001b[0m \u001b[1;33m\u001b[0m\u001b[0m\n\u001b[0;32m      5\u001b[0m \u001b[1;33m\u001b[0m\u001b[0m\n\u001b[1;32m----> 6\u001b[1;33m \u001b[0mX_train_c\u001b[0m \u001b[1;33m=\u001b[0m \u001b[0mpycombat\u001b[0m\u001b[1;33m(\u001b[0m\u001b[0mX_train\u001b[0m\u001b[1;33m.\u001b[0m\u001b[0mtranspose\u001b[0m\u001b[1;33m(\u001b[0m\u001b[1;33m)\u001b[0m\u001b[1;33m,\u001b[0m \u001b[0mscanners\u001b[0m\u001b[1;33m,\u001b[0m \u001b[0mmod\u001b[0m\u001b[1;33m=\u001b[0m\u001b[0mmod\u001b[0m\u001b[1;33m)\u001b[0m\u001b[1;33m.\u001b[0m\u001b[0mtranspose\u001b[0m\u001b[1;33m(\u001b[0m\u001b[1;33m)\u001b[0m\u001b[1;33m\u001b[0m\u001b[1;33m\u001b[0m\u001b[0m\n\u001b[0m\u001b[0;32m      7\u001b[0m \u001b[1;33m\u001b[0m\u001b[0m\n\u001b[0;32m      8\u001b[0m \u001b[0mX_train_c\u001b[0m \u001b[1;33m=\u001b[0m \u001b[0mpd\u001b[0m\u001b[1;33m.\u001b[0m\u001b[0mDataFrame\u001b[0m\u001b[1;33m(\u001b[0m\u001b[0mX_train_c\u001b[0m\u001b[1;33m)\u001b[0m\u001b[1;33m\u001b[0m\u001b[1;33m\u001b[0m\u001b[0m\n",
      "\u001b[1;32m~\\AppData\\Roaming\\Python\\Python38\\site-packages\\combat\\pycombat.py\u001b[0m in \u001b[0;36mpycombat\u001b[1;34m(data, batch, mod, par_prior, prior_plots, mean_only, ref_batch, precision, **kwargs)\u001b[0m\n\u001b[0;32m    647\u001b[0m     \u001b[0mref\u001b[0m\u001b[1;33m,\u001b[0m \u001b[0mbatchmod\u001b[0m \u001b[1;33m=\u001b[0m \u001b[0mcheck_ref_batch\u001b[0m\u001b[1;33m(\u001b[0m\u001b[0mref_batch\u001b[0m\u001b[1;33m,\u001b[0m \u001b[0mbatch\u001b[0m\u001b[1;33m,\u001b[0m \u001b[0mbatchmod\u001b[0m\u001b[1;33m)\u001b[0m\u001b[1;33m\u001b[0m\u001b[1;33m\u001b[0m\u001b[0m\n\u001b[0;32m    648\u001b[0m     \u001b[0mn_batch\u001b[0m\u001b[1;33m,\u001b[0m \u001b[0mbatches\u001b[0m\u001b[1;33m,\u001b[0m \u001b[0mn_batches\u001b[0m\u001b[1;33m,\u001b[0m \u001b[0mn_array\u001b[0m \u001b[1;33m=\u001b[0m \u001b[0mtreat_batches\u001b[0m\u001b[1;33m(\u001b[0m\u001b[0mbatch\u001b[0m\u001b[1;33m)\u001b[0m\u001b[1;33m\u001b[0m\u001b[1;33m\u001b[0m\u001b[0m\n\u001b[1;32m--> 649\u001b[1;33m     \u001b[0mdesign\u001b[0m \u001b[1;33m=\u001b[0m \u001b[0mtreat_covariates\u001b[0m\u001b[1;33m(\u001b[0m\u001b[0mbatchmod\u001b[0m\u001b[1;33m,\u001b[0m \u001b[0mmod\u001b[0m\u001b[1;33m,\u001b[0m \u001b[0mref\u001b[0m\u001b[1;33m,\u001b[0m \u001b[0mn_batch\u001b[0m\u001b[1;33m)\u001b[0m\u001b[1;33m\u001b[0m\u001b[1;33m\u001b[0m\u001b[0m\n\u001b[0m\u001b[0;32m    650\u001b[0m     \u001b[0mNAs\u001b[0m \u001b[1;33m=\u001b[0m \u001b[0mcheck_NAs\u001b[0m\u001b[1;33m(\u001b[0m\u001b[0mdat\u001b[0m\u001b[1;33m)\u001b[0m\u001b[1;33m\u001b[0m\u001b[1;33m\u001b[0m\u001b[0m\n\u001b[0;32m    651\u001b[0m     \u001b[1;32mif\u001b[0m \u001b[1;32mnot\u001b[0m\u001b[1;33m(\u001b[0m\u001b[0mNAs\u001b[0m\u001b[1;33m)\u001b[0m\u001b[1;33m:\u001b[0m\u001b[1;33m\u001b[0m\u001b[1;33m\u001b[0m\u001b[0m\n",
      "\u001b[1;32m~\\AppData\\Roaming\\Python\\Python38\\site-packages\\combat\\pycombat.py\u001b[0m in \u001b[0;36mtreat_covariates\u001b[1;34m(batchmod, mod, ref, n_batch)\u001b[0m\n\u001b[0;32m    377\u001b[0m     \"\"\"\n\u001b[0;32m    378\u001b[0m     \u001b[1;31m# design matrix for sample conditions\u001b[0m\u001b[1;33m\u001b[0m\u001b[1;33m\u001b[0m\u001b[1;33m\u001b[0m\u001b[0m\n\u001b[1;32m--> 379\u001b[1;33m     \u001b[1;32mif\u001b[0m \u001b[0mmod\u001b[0m \u001b[1;33m==\u001b[0m \u001b[1;33m[\u001b[0m\u001b[1;33m]\u001b[0m\u001b[1;33m:\u001b[0m\u001b[1;33m\u001b[0m\u001b[1;33m\u001b[0m\u001b[0m\n\u001b[0m\u001b[0;32m    380\u001b[0m         \u001b[0mdesign\u001b[0m \u001b[1;33m=\u001b[0m \u001b[0mbatchmod\u001b[0m\u001b[1;33m\u001b[0m\u001b[1;33m\u001b[0m\u001b[0m\n\u001b[0;32m    381\u001b[0m     \u001b[1;32melse\u001b[0m\u001b[1;33m:\u001b[0m\u001b[1;33m\u001b[0m\u001b[1;33m\u001b[0m\u001b[0m\n",
      "\u001b[1;32m~\\AppData\\Roaming\\Python\\Python38\\site-packages\\pandas\\core\\ops\\__init__.py\u001b[0m in \u001b[0;36mf\u001b[1;34m(self, other)\u001b[0m\n\u001b[0;32m    699\u001b[0m         \u001b[0maxis\u001b[0m \u001b[1;33m=\u001b[0m \u001b[1;36m1\u001b[0m  \u001b[1;31m# only relevant for Series other case\u001b[0m\u001b[1;33m\u001b[0m\u001b[1;33m\u001b[0m\u001b[0m\n\u001b[0;32m    700\u001b[0m \u001b[1;33m\u001b[0m\u001b[0m\n\u001b[1;32m--> 701\u001b[1;33m         \u001b[0mself\u001b[0m\u001b[1;33m,\u001b[0m \u001b[0mother\u001b[0m \u001b[1;33m=\u001b[0m \u001b[0m_align_method_FRAME\u001b[0m\u001b[1;33m(\u001b[0m\u001b[0mself\u001b[0m\u001b[1;33m,\u001b[0m \u001b[0mother\u001b[0m\u001b[1;33m,\u001b[0m \u001b[0maxis\u001b[0m\u001b[1;33m,\u001b[0m \u001b[0mlevel\u001b[0m\u001b[1;33m=\u001b[0m\u001b[1;32mNone\u001b[0m\u001b[1;33m,\u001b[0m \u001b[0mflex\u001b[0m\u001b[1;33m=\u001b[0m\u001b[1;32mFalse\u001b[0m\u001b[1;33m)\u001b[0m\u001b[1;33m\u001b[0m\u001b[1;33m\u001b[0m\u001b[0m\n\u001b[0m\u001b[0;32m    702\u001b[0m \u001b[1;33m\u001b[0m\u001b[0m\n\u001b[0;32m    703\u001b[0m         \u001b[1;31m# See GH#4537 for discussion of scalar op behavior\u001b[0m\u001b[1;33m\u001b[0m\u001b[1;33m\u001b[0m\u001b[1;33m\u001b[0m\u001b[0m\n",
      "\u001b[1;32m~\\AppData\\Roaming\\Python\\Python38\\site-packages\\pandas\\core\\ops\\__init__.py\u001b[0m in \u001b[0;36m_align_method_FRAME\u001b[1;34m(left, right, axis, flex, level)\u001b[0m\n\u001b[0;32m    501\u001b[0m     \u001b[1;32melif\u001b[0m \u001b[0mis_list_like\u001b[0m\u001b[1;33m(\u001b[0m\u001b[0mright\u001b[0m\u001b[1;33m)\u001b[0m \u001b[1;32mand\u001b[0m \u001b[1;32mnot\u001b[0m \u001b[0misinstance\u001b[0m\u001b[1;33m(\u001b[0m\u001b[0mright\u001b[0m\u001b[1;33m,\u001b[0m \u001b[1;33m(\u001b[0m\u001b[0mABCSeries\u001b[0m\u001b[1;33m,\u001b[0m \u001b[0mABCDataFrame\u001b[0m\u001b[1;33m)\u001b[0m\u001b[1;33m)\u001b[0m\u001b[1;33m:\u001b[0m\u001b[1;33m\u001b[0m\u001b[1;33m\u001b[0m\u001b[0m\n\u001b[0;32m    502\u001b[0m         \u001b[1;31m# GH17901\u001b[0m\u001b[1;33m\u001b[0m\u001b[1;33m\u001b[0m\u001b[1;33m\u001b[0m\u001b[0m\n\u001b[1;32m--> 503\u001b[1;33m         \u001b[0mright\u001b[0m \u001b[1;33m=\u001b[0m \u001b[0mto_series\u001b[0m\u001b[1;33m(\u001b[0m\u001b[0mright\u001b[0m\u001b[1;33m)\u001b[0m\u001b[1;33m\u001b[0m\u001b[1;33m\u001b[0m\u001b[0m\n\u001b[0m\u001b[0;32m    504\u001b[0m \u001b[1;33m\u001b[0m\u001b[0m\n\u001b[0;32m    505\u001b[0m     \u001b[1;32mif\u001b[0m \u001b[0mflex\u001b[0m \u001b[1;32mis\u001b[0m \u001b[1;32mnot\u001b[0m \u001b[1;32mNone\u001b[0m \u001b[1;32mand\u001b[0m \u001b[0misinstance\u001b[0m\u001b[1;33m(\u001b[0m\u001b[0mright\u001b[0m\u001b[1;33m,\u001b[0m \u001b[0mABCDataFrame\u001b[0m\u001b[1;33m)\u001b[0m\u001b[1;33m:\u001b[0m\u001b[1;33m\u001b[0m\u001b[1;33m\u001b[0m\u001b[0m\n",
      "\u001b[1;32m~\\AppData\\Roaming\\Python\\Python38\\site-packages\\pandas\\core\\ops\\__init__.py\u001b[0m in \u001b[0;36mto_series\u001b[1;34m(right)\u001b[0m\n\u001b[0;32m    463\u001b[0m         \u001b[1;32melse\u001b[0m\u001b[1;33m:\u001b[0m\u001b[1;33m\u001b[0m\u001b[1;33m\u001b[0m\u001b[0m\n\u001b[0;32m    464\u001b[0m             \u001b[1;32mif\u001b[0m \u001b[0mlen\u001b[0m\u001b[1;33m(\u001b[0m\u001b[0mleft\u001b[0m\u001b[1;33m.\u001b[0m\u001b[0mcolumns\u001b[0m\u001b[1;33m)\u001b[0m \u001b[1;33m!=\u001b[0m \u001b[0mlen\u001b[0m\u001b[1;33m(\u001b[0m\u001b[0mright\u001b[0m\u001b[1;33m)\u001b[0m\u001b[1;33m:\u001b[0m\u001b[1;33m\u001b[0m\u001b[1;33m\u001b[0m\u001b[0m\n\u001b[1;32m--> 465\u001b[1;33m                 raise ValueError(\n\u001b[0m\u001b[0;32m    466\u001b[0m                     \u001b[0mmsg\u001b[0m\u001b[1;33m.\u001b[0m\u001b[0mformat\u001b[0m\u001b[1;33m(\u001b[0m\u001b[0mreq_len\u001b[0m\u001b[1;33m=\u001b[0m\u001b[0mlen\u001b[0m\u001b[1;33m(\u001b[0m\u001b[0mleft\u001b[0m\u001b[1;33m.\u001b[0m\u001b[0mcolumns\u001b[0m\u001b[1;33m)\u001b[0m\u001b[1;33m,\u001b[0m \u001b[0mgiven_len\u001b[0m\u001b[1;33m=\u001b[0m\u001b[0mlen\u001b[0m\u001b[1;33m(\u001b[0m\u001b[0mright\u001b[0m\u001b[1;33m)\u001b[0m\u001b[1;33m)\u001b[0m\u001b[1;33m\u001b[0m\u001b[1;33m\u001b[0m\u001b[0m\n\u001b[0;32m    467\u001b[0m                 )\n",
      "\u001b[1;31mValueError\u001b[0m: Unable to coerce to Series, length must be 3: given 0"
     ]
    }
   ],
   "source": [
    "scanners = X_train['SITEID']\n",
    "X_test.drop(['SITEID'], inplace=True, axis=1)\n",
    "X_train.drop(['SITEID'], inplace=True, axis=1)\n",
    "\n",
    "\n",
    "X_train_c = pycombat(X_train.transpose(), scanners, mod=mod).transpose()\n",
    "\n",
    "X_train_c = pd.DataFrame(X_train_c)\n",
    "X_train_c['y'] = list(y_train)\n",
    "X_train_c = X_train_c.dropna()\n",
    "y_train_c = X_train_c['y']\n",
    "X_train_c.drop(['y'], inplace=True, axis=1)"
   ]
  },
  {
   "cell_type": "code",
   "execution_count": 106,
   "metadata": {},
   "outputs": [],
   "source": [
    "covs_covbat = covs.copy()\n",
    "covs_covbat['batch'] = X_train['SITEID']\n",
    "covs_covbat['outcome'] = y_train\n",
    "#covs_covbat = covs_covbat.loc[:,['PTGENDER', 'batch', 'AGE', '']]\n",
    "\n",
    "X_train.drop(['SITEID'], inplace=True, axis=1)\n",
    "mod = patsy.dmatrix(\"~ AGE + outcome\", covs_covbat, return_type=\"dataframe\")"
   ]
  },
  {
   "cell_type": "code",
   "execution_count": 112,
   "metadata": {},
   "outputs": [
    {
     "ename": "FileNotFoundError",
     "evalue": "[Errno 2] No such file or directory: 'bladder-pheno.txt'",
     "output_type": "error",
     "traceback": [
      "\u001b[1;31m---------------------------------------------------------------------------\u001b[0m",
      "\u001b[1;31mFileNotFoundError\u001b[0m                         Traceback (most recent call last)",
      "\u001b[1;32m<ipython-input-112-9484d481aac4>\u001b[0m in \u001b[0;36m<module>\u001b[1;34m\u001b[0m\n\u001b[1;32m----> 1\u001b[1;33m \u001b[0mpheno\u001b[0m \u001b[1;33m=\u001b[0m \u001b[0mpd\u001b[0m\u001b[1;33m.\u001b[0m\u001b[0mread_table\u001b[0m\u001b[1;33m(\u001b[0m\u001b[1;34m'bladder-pheno.txt'\u001b[0m\u001b[1;33m,\u001b[0m \u001b[0mindex_col\u001b[0m\u001b[1;33m=\u001b[0m\u001b[1;36m0\u001b[0m\u001b[1;33m)\u001b[0m\u001b[1;33m\u001b[0m\u001b[1;33m\u001b[0m\u001b[0m\n\u001b[0m\u001b[0;32m      2\u001b[0m \u001b[1;33m\u001b[0m\u001b[0m\n\u001b[0;32m      3\u001b[0m \u001b[0mdat\u001b[0m \u001b[1;33m=\u001b[0m \u001b[0mpd\u001b[0m\u001b[1;33m.\u001b[0m\u001b[0mread_table\u001b[0m\u001b[1;33m(\u001b[0m\u001b[1;34m'bladder-expr.txt'\u001b[0m\u001b[1;33m,\u001b[0m \u001b[0mindex_col\u001b[0m\u001b[1;33m=\u001b[0m\u001b[1;36m0\u001b[0m\u001b[1;33m)\u001b[0m\u001b[1;33m\u001b[0m\u001b[1;33m\u001b[0m\u001b[0m\n\u001b[0;32m      4\u001b[0m \u001b[1;33m\u001b[0m\u001b[0m\n\u001b[0;32m      5\u001b[0m \u001b[0mmod\u001b[0m \u001b[1;33m=\u001b[0m \u001b[0mpatsy\u001b[0m\u001b[1;33m.\u001b[0m\u001b[0mdmatrix\u001b[0m\u001b[1;33m(\u001b[0m\u001b[1;34m\"~ age + cancer\"\u001b[0m\u001b[1;33m,\u001b[0m \u001b[0mpheno\u001b[0m\u001b[1;33m,\u001b[0m \u001b[0mreturn_type\u001b[0m\u001b[1;33m=\u001b[0m\u001b[1;34m\"dataframe\"\u001b[0m\u001b[1;33m)\u001b[0m\u001b[1;33m\u001b[0m\u001b[1;33m\u001b[0m\u001b[0m\n",
      "\u001b[1;32m~\\AppData\\Roaming\\Python\\Python38\\site-packages\\pandas\\io\\parsers.py\u001b[0m in \u001b[0;36mread_table\u001b[1;34m(filepath_or_buffer, sep, delimiter, header, names, index_col, usecols, squeeze, prefix, mangle_dupe_cols, dtype, engine, converters, true_values, false_values, skipinitialspace, skiprows, skipfooter, nrows, na_values, keep_default_na, na_filter, verbose, skip_blank_lines, parse_dates, infer_datetime_format, keep_date_col, date_parser, dayfirst, cache_dates, iterator, chunksize, compression, thousands, decimal, lineterminator, quotechar, quoting, doublequote, escapechar, comment, encoding, dialect, error_bad_lines, warn_bad_lines, delim_whitespace, low_memory, memory_map, float_precision)\u001b[0m\n\u001b[0;32m    765\u001b[0m         \u001b[1;31m# default to avoid a ValueError\u001b[0m\u001b[1;33m\u001b[0m\u001b[1;33m\u001b[0m\u001b[1;33m\u001b[0m\u001b[0m\n\u001b[0;32m    766\u001b[0m         \u001b[0msep\u001b[0m \u001b[1;33m=\u001b[0m \u001b[1;34m\",\"\u001b[0m\u001b[1;33m\u001b[0m\u001b[1;33m\u001b[0m\u001b[0m\n\u001b[1;32m--> 767\u001b[1;33m     \u001b[1;32mreturn\u001b[0m \u001b[0mread_csv\u001b[0m\u001b[1;33m(\u001b[0m\u001b[1;33m**\u001b[0m\u001b[0mlocals\u001b[0m\u001b[1;33m(\u001b[0m\u001b[1;33m)\u001b[0m\u001b[1;33m)\u001b[0m\u001b[1;33m\u001b[0m\u001b[1;33m\u001b[0m\u001b[0m\n\u001b[0m\u001b[0;32m    768\u001b[0m \u001b[1;33m\u001b[0m\u001b[0m\n\u001b[0;32m    769\u001b[0m \u001b[1;33m\u001b[0m\u001b[0m\n",
      "\u001b[1;32m~\\AppData\\Roaming\\Python\\Python38\\site-packages\\pandas\\io\\parsers.py\u001b[0m in \u001b[0;36mread_csv\u001b[1;34m(filepath_or_buffer, sep, delimiter, header, names, index_col, usecols, squeeze, prefix, mangle_dupe_cols, dtype, engine, converters, true_values, false_values, skipinitialspace, skiprows, skipfooter, nrows, na_values, keep_default_na, na_filter, verbose, skip_blank_lines, parse_dates, infer_datetime_format, keep_date_col, date_parser, dayfirst, cache_dates, iterator, chunksize, compression, thousands, decimal, lineterminator, quotechar, quoting, doublequote, escapechar, comment, encoding, dialect, error_bad_lines, warn_bad_lines, delim_whitespace, low_memory, memory_map, float_precision)\u001b[0m\n\u001b[0;32m    686\u001b[0m     )\n\u001b[0;32m    687\u001b[0m \u001b[1;33m\u001b[0m\u001b[0m\n\u001b[1;32m--> 688\u001b[1;33m     \u001b[1;32mreturn\u001b[0m \u001b[0m_read\u001b[0m\u001b[1;33m(\u001b[0m\u001b[0mfilepath_or_buffer\u001b[0m\u001b[1;33m,\u001b[0m \u001b[0mkwds\u001b[0m\u001b[1;33m)\u001b[0m\u001b[1;33m\u001b[0m\u001b[1;33m\u001b[0m\u001b[0m\n\u001b[0m\u001b[0;32m    689\u001b[0m \u001b[1;33m\u001b[0m\u001b[0m\n\u001b[0;32m    690\u001b[0m \u001b[1;33m\u001b[0m\u001b[0m\n",
      "\u001b[1;32m~\\AppData\\Roaming\\Python\\Python38\\site-packages\\pandas\\io\\parsers.py\u001b[0m in \u001b[0;36m_read\u001b[1;34m(filepath_or_buffer, kwds)\u001b[0m\n\u001b[0;32m    452\u001b[0m \u001b[1;33m\u001b[0m\u001b[0m\n\u001b[0;32m    453\u001b[0m     \u001b[1;31m# Create the parser.\u001b[0m\u001b[1;33m\u001b[0m\u001b[1;33m\u001b[0m\u001b[1;33m\u001b[0m\u001b[0m\n\u001b[1;32m--> 454\u001b[1;33m     \u001b[0mparser\u001b[0m \u001b[1;33m=\u001b[0m \u001b[0mTextFileReader\u001b[0m\u001b[1;33m(\u001b[0m\u001b[0mfp_or_buf\u001b[0m\u001b[1;33m,\u001b[0m \u001b[1;33m**\u001b[0m\u001b[0mkwds\u001b[0m\u001b[1;33m)\u001b[0m\u001b[1;33m\u001b[0m\u001b[1;33m\u001b[0m\u001b[0m\n\u001b[0m\u001b[0;32m    455\u001b[0m \u001b[1;33m\u001b[0m\u001b[0m\n\u001b[0;32m    456\u001b[0m     \u001b[1;32mif\u001b[0m \u001b[0mchunksize\u001b[0m \u001b[1;32mor\u001b[0m \u001b[0miterator\u001b[0m\u001b[1;33m:\u001b[0m\u001b[1;33m\u001b[0m\u001b[1;33m\u001b[0m\u001b[0m\n",
      "\u001b[1;32m~\\AppData\\Roaming\\Python\\Python38\\site-packages\\pandas\\io\\parsers.py\u001b[0m in \u001b[0;36m__init__\u001b[1;34m(self, f, engine, **kwds)\u001b[0m\n\u001b[0;32m    946\u001b[0m             \u001b[0mself\u001b[0m\u001b[1;33m.\u001b[0m\u001b[0moptions\u001b[0m\u001b[1;33m[\u001b[0m\u001b[1;34m\"has_index_names\"\u001b[0m\u001b[1;33m]\u001b[0m \u001b[1;33m=\u001b[0m \u001b[0mkwds\u001b[0m\u001b[1;33m[\u001b[0m\u001b[1;34m\"has_index_names\"\u001b[0m\u001b[1;33m]\u001b[0m\u001b[1;33m\u001b[0m\u001b[1;33m\u001b[0m\u001b[0m\n\u001b[0;32m    947\u001b[0m \u001b[1;33m\u001b[0m\u001b[0m\n\u001b[1;32m--> 948\u001b[1;33m         \u001b[0mself\u001b[0m\u001b[1;33m.\u001b[0m\u001b[0m_make_engine\u001b[0m\u001b[1;33m(\u001b[0m\u001b[0mself\u001b[0m\u001b[1;33m.\u001b[0m\u001b[0mengine\u001b[0m\u001b[1;33m)\u001b[0m\u001b[1;33m\u001b[0m\u001b[1;33m\u001b[0m\u001b[0m\n\u001b[0m\u001b[0;32m    949\u001b[0m \u001b[1;33m\u001b[0m\u001b[0m\n\u001b[0;32m    950\u001b[0m     \u001b[1;32mdef\u001b[0m \u001b[0mclose\u001b[0m\u001b[1;33m(\u001b[0m\u001b[0mself\u001b[0m\u001b[1;33m)\u001b[0m\u001b[1;33m:\u001b[0m\u001b[1;33m\u001b[0m\u001b[1;33m\u001b[0m\u001b[0m\n",
      "\u001b[1;32m~\\AppData\\Roaming\\Python\\Python38\\site-packages\\pandas\\io\\parsers.py\u001b[0m in \u001b[0;36m_make_engine\u001b[1;34m(self, engine)\u001b[0m\n\u001b[0;32m   1178\u001b[0m     \u001b[1;32mdef\u001b[0m \u001b[0m_make_engine\u001b[0m\u001b[1;33m(\u001b[0m\u001b[0mself\u001b[0m\u001b[1;33m,\u001b[0m \u001b[0mengine\u001b[0m\u001b[1;33m=\u001b[0m\u001b[1;34m\"c\"\u001b[0m\u001b[1;33m)\u001b[0m\u001b[1;33m:\u001b[0m\u001b[1;33m\u001b[0m\u001b[1;33m\u001b[0m\u001b[0m\n\u001b[0;32m   1179\u001b[0m         \u001b[1;32mif\u001b[0m \u001b[0mengine\u001b[0m \u001b[1;33m==\u001b[0m \u001b[1;34m\"c\"\u001b[0m\u001b[1;33m:\u001b[0m\u001b[1;33m\u001b[0m\u001b[1;33m\u001b[0m\u001b[0m\n\u001b[1;32m-> 1180\u001b[1;33m             \u001b[0mself\u001b[0m\u001b[1;33m.\u001b[0m\u001b[0m_engine\u001b[0m \u001b[1;33m=\u001b[0m \u001b[0mCParserWrapper\u001b[0m\u001b[1;33m(\u001b[0m\u001b[0mself\u001b[0m\u001b[1;33m.\u001b[0m\u001b[0mf\u001b[0m\u001b[1;33m,\u001b[0m \u001b[1;33m**\u001b[0m\u001b[0mself\u001b[0m\u001b[1;33m.\u001b[0m\u001b[0moptions\u001b[0m\u001b[1;33m)\u001b[0m\u001b[1;33m\u001b[0m\u001b[1;33m\u001b[0m\u001b[0m\n\u001b[0m\u001b[0;32m   1181\u001b[0m         \u001b[1;32melse\u001b[0m\u001b[1;33m:\u001b[0m\u001b[1;33m\u001b[0m\u001b[1;33m\u001b[0m\u001b[0m\n\u001b[0;32m   1182\u001b[0m             \u001b[1;32mif\u001b[0m \u001b[0mengine\u001b[0m \u001b[1;33m==\u001b[0m \u001b[1;34m\"python\"\u001b[0m\u001b[1;33m:\u001b[0m\u001b[1;33m\u001b[0m\u001b[1;33m\u001b[0m\u001b[0m\n",
      "\u001b[1;32m~\\AppData\\Roaming\\Python\\Python38\\site-packages\\pandas\\io\\parsers.py\u001b[0m in \u001b[0;36m__init__\u001b[1;34m(self, src, **kwds)\u001b[0m\n\u001b[0;32m   2008\u001b[0m         \u001b[0mkwds\u001b[0m\u001b[1;33m[\u001b[0m\u001b[1;34m\"usecols\"\u001b[0m\u001b[1;33m]\u001b[0m \u001b[1;33m=\u001b[0m \u001b[0mself\u001b[0m\u001b[1;33m.\u001b[0m\u001b[0musecols\u001b[0m\u001b[1;33m\u001b[0m\u001b[1;33m\u001b[0m\u001b[0m\n\u001b[0;32m   2009\u001b[0m \u001b[1;33m\u001b[0m\u001b[0m\n\u001b[1;32m-> 2010\u001b[1;33m         \u001b[0mself\u001b[0m\u001b[1;33m.\u001b[0m\u001b[0m_reader\u001b[0m \u001b[1;33m=\u001b[0m \u001b[0mparsers\u001b[0m\u001b[1;33m.\u001b[0m\u001b[0mTextReader\u001b[0m\u001b[1;33m(\u001b[0m\u001b[0msrc\u001b[0m\u001b[1;33m,\u001b[0m \u001b[1;33m**\u001b[0m\u001b[0mkwds\u001b[0m\u001b[1;33m)\u001b[0m\u001b[1;33m\u001b[0m\u001b[1;33m\u001b[0m\u001b[0m\n\u001b[0m\u001b[0;32m   2011\u001b[0m         \u001b[0mself\u001b[0m\u001b[1;33m.\u001b[0m\u001b[0munnamed_cols\u001b[0m \u001b[1;33m=\u001b[0m \u001b[0mself\u001b[0m\u001b[1;33m.\u001b[0m\u001b[0m_reader\u001b[0m\u001b[1;33m.\u001b[0m\u001b[0munnamed_cols\u001b[0m\u001b[1;33m\u001b[0m\u001b[1;33m\u001b[0m\u001b[0m\n\u001b[0;32m   2012\u001b[0m \u001b[1;33m\u001b[0m\u001b[0m\n",
      "\u001b[1;32mpandas\\_libs\\parsers.pyx\u001b[0m in \u001b[0;36mpandas._libs.parsers.TextReader.__cinit__\u001b[1;34m()\u001b[0m\n",
      "\u001b[1;32mpandas\\_libs\\parsers.pyx\u001b[0m in \u001b[0;36mpandas._libs.parsers.TextReader._setup_parser_source\u001b[1;34m()\u001b[0m\n",
      "\u001b[1;31mFileNotFoundError\u001b[0m: [Errno 2] No such file or directory: 'bladder-pheno.txt'"
     ]
    }
   ],
   "source": [
    "pheno = pd.read_table('bladder-pheno.txt', index_col=0)\n",
    "\n",
    "dat = pd.read_table('bladder-expr.txt', index_col=0)\n",
    "\n",
    "mod = patsy.dmatrix(\"~ age + cancer\", pheno, return_type=\"dataframe\")"
   ]
  },
  {
   "cell_type": "code",
   "execution_count": 111,
   "metadata": {},
   "outputs": [
    {
     "name": "stderr",
     "output_type": "stream",
     "text": [
      "found 61 batches\n",
      "found 1 numerical covariates...\n",
      "\tAGE\n",
      "found 1 categorical variables:\toutcome\n",
      "Standardizing Data across genes.\n",
      "Fitting L/S model and finding priors\n",
      "Finding parametric adjustments\n"
     ]
    },
    {
     "name": "stdout",
     "output_type": "stream",
     "text": [
      "Adjusting data\n"
     ]
    },
    {
     "name": "stderr",
     "output_type": "stream",
     "text": [
      "C:\\Users\\vince\\AppData\\Roaming\\Python\\Python38\\site-packages\\sklearn\\utils\\extmath.py:981: RuntimeWarning: invalid value encountered in divide\n",
      "  updated_mean = (last_sum + new_sum) / updated_sample_count\n",
      "C:\\Users\\vince\\AppData\\Roaming\\Python\\Python38\\site-packages\\sklearn\\utils\\extmath.py:986: RuntimeWarning: invalid value encountered in divide\n",
      "  T = new_sum / new_sample_count\n",
      "C:\\Users\\vince\\AppData\\Roaming\\Python\\Python38\\site-packages\\sklearn\\utils\\extmath.py:1006: RuntimeWarning: invalid value encountered in divide\n",
      "  new_unnormalized_variance -= correction**2 / new_sample_count\n"
     ]
    },
    {
     "ename": "ValueError",
     "evalue": "Input X contains NaN.\nPCA does not accept missing values encoded as NaN natively. For supervised learning, you might want to consider sklearn.ensemble.HistGradientBoostingClassifier and Regressor which accept missing values encoded as NaNs natively. Alternatively, it is possible to preprocess the data, for instance by using an imputer transformer in a pipeline or drop samples with missing values. See https://scikit-learn.org/stable/modules/impute.html You can find a list of all estimators that handle NaN values at the following page: https://scikit-learn.org/stable/modules/impute.html#estimators-that-handle-nan-values",
     "output_type": "error",
     "traceback": [
      "\u001b[1;31m---------------------------------------------------------------------------\u001b[0m",
      "\u001b[1;31mValueError\u001b[0m                                Traceback (most recent call last)",
      "\u001b[1;32m<ipython-input-111-1d8ed0e78b56>\u001b[0m in \u001b[0;36m<module>\u001b[1;34m\u001b[0m\n\u001b[1;32m----> 1\u001b[1;33m \u001b[0mX_train_cov\u001b[0m \u001b[1;33m=\u001b[0m \u001b[0mcovbat\u001b[0m\u001b[1;33m.\u001b[0m\u001b[0mcovbat\u001b[0m\u001b[1;33m(\u001b[0m\u001b[0mX_train\u001b[0m\u001b[1;33m.\u001b[0m\u001b[0mT\u001b[0m\u001b[1;33m,\u001b[0m \u001b[0mscanners\u001b[0m\u001b[1;33m,\u001b[0m \u001b[0mmod\u001b[0m\u001b[1;33m,\u001b[0m \u001b[1;34m\"AGE\"\u001b[0m\u001b[1;33m)\u001b[0m\u001b[1;33m\u001b[0m\u001b[1;33m\u001b[0m\u001b[0m\n\u001b[0m",
      "\u001b[1;32mc:\\Users\\vince\\Desktop\\Cours\\Y3\\FYP\\FYP-Alzheimer-Harmonisation\\src\\covbat.py\u001b[0m in \u001b[0;36mcovbat\u001b[1;34m(data, batch, model, numerical_covariates, pct_var, n_pc)\u001b[0m\n\u001b[0;32m    168\u001b[0m \u001b[1;33m\u001b[0m\u001b[0m\n\u001b[0;32m    169\u001b[0m     \u001b[0mpca\u001b[0m \u001b[1;33m=\u001b[0m \u001b[0mPCA\u001b[0m\u001b[1;33m(\u001b[0m\u001b[1;33m)\u001b[0m\u001b[1;33m\u001b[0m\u001b[1;33m\u001b[0m\u001b[0m\n\u001b[1;32m--> 170\u001b[1;33m     \u001b[0mpca\u001b[0m\u001b[1;33m.\u001b[0m\u001b[0mfit\u001b[0m\u001b[1;33m(\u001b[0m\u001b[0mcomdata\u001b[0m\u001b[1;33m)\u001b[0m\u001b[1;33m\u001b[0m\u001b[1;33m\u001b[0m\u001b[0m\n\u001b[0m\u001b[0;32m    171\u001b[0m     \u001b[0mpc_comp\u001b[0m \u001b[1;33m=\u001b[0m \u001b[0mpca\u001b[0m\u001b[1;33m.\u001b[0m\u001b[0mcomponents_\u001b[0m\u001b[1;33m\u001b[0m\u001b[1;33m\u001b[0m\u001b[0m\n\u001b[0;32m    172\u001b[0m     \u001b[0mfull_scores\u001b[0m \u001b[1;33m=\u001b[0m \u001b[0mpd\u001b[0m\u001b[1;33m.\u001b[0m\u001b[0mDataFrame\u001b[0m\u001b[1;33m(\u001b[0m\u001b[0mpca\u001b[0m\u001b[1;33m.\u001b[0m\u001b[0mfit_transform\u001b[0m\u001b[1;33m(\u001b[0m\u001b[0mcomdata\u001b[0m\u001b[1;33m)\u001b[0m\u001b[1;33m)\u001b[0m\u001b[1;33m.\u001b[0m\u001b[0mT\u001b[0m\u001b[1;33m\u001b[0m\u001b[1;33m\u001b[0m\u001b[0m\n",
      "\u001b[1;32m~\\AppData\\Roaming\\Python\\Python38\\site-packages\\sklearn\\decomposition\\_pca.py\u001b[0m in \u001b[0;36mfit\u001b[1;34m(self, X, y)\u001b[0m\n\u001b[0;32m    406\u001b[0m         )\n\u001b[0;32m    407\u001b[0m \u001b[1;33m\u001b[0m\u001b[0m\n\u001b[1;32m--> 408\u001b[1;33m         \u001b[0mself\u001b[0m\u001b[1;33m.\u001b[0m\u001b[0m_fit\u001b[0m\u001b[1;33m(\u001b[0m\u001b[0mX\u001b[0m\u001b[1;33m)\u001b[0m\u001b[1;33m\u001b[0m\u001b[1;33m\u001b[0m\u001b[0m\n\u001b[0m\u001b[0;32m    409\u001b[0m         \u001b[1;32mreturn\u001b[0m \u001b[0mself\u001b[0m\u001b[1;33m\u001b[0m\u001b[1;33m\u001b[0m\u001b[0m\n\u001b[0;32m    410\u001b[0m \u001b[1;33m\u001b[0m\u001b[0m\n",
      "\u001b[1;32m~\\AppData\\Roaming\\Python\\Python38\\site-packages\\sklearn\\decomposition\\_pca.py\u001b[0m in \u001b[0;36m_fit\u001b[1;34m(self, X)\u001b[0m\n\u001b[0;32m    454\u001b[0m             )\n\u001b[0;32m    455\u001b[0m \u001b[1;33m\u001b[0m\u001b[0m\n\u001b[1;32m--> 456\u001b[1;33m         X = self._validate_data(\n\u001b[0m\u001b[0;32m    457\u001b[0m             \u001b[0mX\u001b[0m\u001b[1;33m,\u001b[0m \u001b[0mdtype\u001b[0m\u001b[1;33m=\u001b[0m\u001b[1;33m[\u001b[0m\u001b[0mnp\u001b[0m\u001b[1;33m.\u001b[0m\u001b[0mfloat64\u001b[0m\u001b[1;33m,\u001b[0m \u001b[0mnp\u001b[0m\u001b[1;33m.\u001b[0m\u001b[0mfloat32\u001b[0m\u001b[1;33m]\u001b[0m\u001b[1;33m,\u001b[0m \u001b[0mensure_2d\u001b[0m\u001b[1;33m=\u001b[0m\u001b[1;32mTrue\u001b[0m\u001b[1;33m,\u001b[0m \u001b[0mcopy\u001b[0m\u001b[1;33m=\u001b[0m\u001b[0mself\u001b[0m\u001b[1;33m.\u001b[0m\u001b[0mcopy\u001b[0m\u001b[1;33m\u001b[0m\u001b[1;33m\u001b[0m\u001b[0m\n\u001b[0;32m    458\u001b[0m         )\n",
      "\u001b[1;32m~\\AppData\\Roaming\\Python\\Python38\\site-packages\\sklearn\\base.py\u001b[0m in \u001b[0;36m_validate_data\u001b[1;34m(self, X, y, reset, validate_separately, **check_params)\u001b[0m\n\u001b[0;32m    575\u001b[0m             \u001b[1;32mraise\u001b[0m \u001b[0mValueError\u001b[0m\u001b[1;33m(\u001b[0m\u001b[1;34m\"Validation should be done on X, y or both.\"\u001b[0m\u001b[1;33m)\u001b[0m\u001b[1;33m\u001b[0m\u001b[1;33m\u001b[0m\u001b[0m\n\u001b[0;32m    576\u001b[0m         \u001b[1;32melif\u001b[0m \u001b[1;32mnot\u001b[0m \u001b[0mno_val_X\u001b[0m \u001b[1;32mand\u001b[0m \u001b[0mno_val_y\u001b[0m\u001b[1;33m:\u001b[0m\u001b[1;33m\u001b[0m\u001b[1;33m\u001b[0m\u001b[0m\n\u001b[1;32m--> 577\u001b[1;33m             \u001b[0mX\u001b[0m \u001b[1;33m=\u001b[0m \u001b[0mcheck_array\u001b[0m\u001b[1;33m(\u001b[0m\u001b[0mX\u001b[0m\u001b[1;33m,\u001b[0m \u001b[0minput_name\u001b[0m\u001b[1;33m=\u001b[0m\u001b[1;34m\"X\"\u001b[0m\u001b[1;33m,\u001b[0m \u001b[1;33m**\u001b[0m\u001b[0mcheck_params\u001b[0m\u001b[1;33m)\u001b[0m\u001b[1;33m\u001b[0m\u001b[1;33m\u001b[0m\u001b[0m\n\u001b[0m\u001b[0;32m    578\u001b[0m             \u001b[0mout\u001b[0m \u001b[1;33m=\u001b[0m \u001b[0mX\u001b[0m\u001b[1;33m\u001b[0m\u001b[1;33m\u001b[0m\u001b[0m\n\u001b[0;32m    579\u001b[0m         \u001b[1;32melif\u001b[0m \u001b[0mno_val_X\u001b[0m \u001b[1;32mand\u001b[0m \u001b[1;32mnot\u001b[0m \u001b[0mno_val_y\u001b[0m\u001b[1;33m:\u001b[0m\u001b[1;33m\u001b[0m\u001b[1;33m\u001b[0m\u001b[0m\n",
      "\u001b[1;32m~\\AppData\\Roaming\\Python\\Python38\\site-packages\\sklearn\\utils\\validation.py\u001b[0m in \u001b[0;36mcheck_array\u001b[1;34m(array, accept_sparse, accept_large_sparse, dtype, order, copy, force_all_finite, ensure_2d, allow_nd, ensure_min_samples, ensure_min_features, estimator, input_name)\u001b[0m\n\u001b[0;32m    897\u001b[0m \u001b[1;33m\u001b[0m\u001b[0m\n\u001b[0;32m    898\u001b[0m         \u001b[1;32mif\u001b[0m \u001b[0mforce_all_finite\u001b[0m\u001b[1;33m:\u001b[0m\u001b[1;33m\u001b[0m\u001b[1;33m\u001b[0m\u001b[0m\n\u001b[1;32m--> 899\u001b[1;33m             _assert_all_finite(\n\u001b[0m\u001b[0;32m    900\u001b[0m                 \u001b[0marray\u001b[0m\u001b[1;33m,\u001b[0m\u001b[1;33m\u001b[0m\u001b[1;33m\u001b[0m\u001b[0m\n\u001b[0;32m    901\u001b[0m                 \u001b[0minput_name\u001b[0m\u001b[1;33m=\u001b[0m\u001b[0minput_name\u001b[0m\u001b[1;33m,\u001b[0m\u001b[1;33m\u001b[0m\u001b[1;33m\u001b[0m\u001b[0m\n",
      "\u001b[1;32m~\\AppData\\Roaming\\Python\\Python38\\site-packages\\sklearn\\utils\\validation.py\u001b[0m in \u001b[0;36m_assert_all_finite\u001b[1;34m(X, allow_nan, msg_dtype, estimator_name, input_name)\u001b[0m\n\u001b[0;32m    144\u001b[0m                     \u001b[1;34m\"#estimators-that-handle-nan-values\"\u001b[0m\u001b[1;33m\u001b[0m\u001b[1;33m\u001b[0m\u001b[0m\n\u001b[0;32m    145\u001b[0m                 )\n\u001b[1;32m--> 146\u001b[1;33m             \u001b[1;32mraise\u001b[0m \u001b[0mValueError\u001b[0m\u001b[1;33m(\u001b[0m\u001b[0mmsg_err\u001b[0m\u001b[1;33m)\u001b[0m\u001b[1;33m\u001b[0m\u001b[1;33m\u001b[0m\u001b[0m\n\u001b[0m\u001b[0;32m    147\u001b[0m \u001b[1;33m\u001b[0m\u001b[0m\n\u001b[0;32m    148\u001b[0m     \u001b[1;31m# for object dtype data, we only check for NaNs (GH-13254)\u001b[0m\u001b[1;33m\u001b[0m\u001b[1;33m\u001b[0m\u001b[1;33m\u001b[0m\u001b[0m\n",
      "\u001b[1;31mValueError\u001b[0m: Input X contains NaN.\nPCA does not accept missing values encoded as NaN natively. For supervised learning, you might want to consider sklearn.ensemble.HistGradientBoostingClassifier and Regressor which accept missing values encoded as NaNs natively. Alternatively, it is possible to preprocess the data, for instance by using an imputer transformer in a pipeline or drop samples with missing values. See https://scikit-learn.org/stable/modules/impute.html You can find a list of all estimators that handle NaN values at the following page: https://scikit-learn.org/stable/modules/impute.html#estimators-that-handle-nan-values"
     ]
    }
   ],
   "source": [
    "X_train_cov = covbat.covbat(X_train.T, scanners, mod, \"AGE\")"
   ]
  },
  {
   "cell_type": "code",
   "execution_count": 98,
   "metadata": {},
   "outputs": [
    {
     "data": {
      "text/plain": [
       "False"
      ]
     },
     "execution_count": 98,
     "metadata": {},
     "output_type": "execute_result"
    }
   ],
   "source": [
    "scanners.isnull().values.any()"
   ]
  },
  {
   "cell_type": "markdown",
   "metadata": {},
   "source": [
    "## NeuroHarmony"
   ]
  },
  {
   "cell_type": "code",
   "execution_count": 38,
   "metadata": {},
   "outputs": [],
   "source": [
    "from neuroharmony import exclude_single_subject_groups, fetch_sample, Neuroharmony\n",
    "from neuroharmony.data.rois import rois\n",
    "\n",
    "\n",
    "X_train_nh = X_train.copy()\n",
    "X_train_nh[\"PTGENDER\"] = covs2['PTGENDER']\n",
    "X_train_nh['PTHAND'] = covs2['PTHAND']\n",
    "X_train_nh['AGE'] = covs2['AGE']\n",
    "X_train_nh['scanner'] = covs2['batch']\n",
    "X_train_nh['DIAGNOSIS'] = y_train\n",
    "\n",
    "for qm in QMs:\n",
    "    X_train_nh[qm] = quality_metrics_train[qm]\n",
    "    \n",
    "features = TAs[:-2]\n",
    "covariates = [\"PTGENDER\", \"PTHAND\", \"AGE\", \"scanner\"]\n",
    "exclude_vars = X_train_nh.columns[X_train_nh.isna().sum() != 0].to_list() + ['Dataset', 'DIAGNOSIS']\n",
    "regression_features = [var for var in X_train_nh.columns if var not in (covariates + features + exclude_vars)]\n",
    "\n",
    "eliminate_variance = [\"scanner\"]\n",
    "\n",
    "scanners = X_train_nh['scanner'].unique()\n",
    "n_scanners = len(scanners)\n"
   ]
  },
  {
   "cell_type": "code",
   "execution_count": 64,
   "metadata": {},
   "outputs": [
    {
     "name": "stderr",
     "output_type": "stream",
     "text": [
      "C:\\Users\\vince\\AppData\\Roaming\\Python\\Python38\\site-packages\\neuroharmony\\models\\neuroCombat.py:228: RuntimeWarning: divide by zero encountered in divide\n",
      "  change = max((abs(g_new - g_old) / g_old).max(), (abs(d_new - d_old) / d_old).max())\n",
      "Randomized search of Neuroharmony hyperparameters: 100%|██████████| 68/68 [22:09<00:00, 19.56s/it]\n"
     ]
    }
   ],
   "source": [
    "#Split train and test leaving one scanner out.\n",
    "train_bool = X_train_nh['scanner'].isin(scanners[1:])\n",
    "test_bool = X_train_nh['scanner'].isin(scanners[:1])\n",
    "X_train_split = X_train_nh[train_bool]\n",
    "X_test_split = X_train_nh[test_bool]\n",
    "x_train, x_test = X_train_split, X_test_split\n",
    "x_train = exclude_single_subject_groups(X_train_nh, covariates)\n",
    "\n",
    "# Create the Neuroharmony model.\n",
    "# Here you can establish the range of the hyperparameters via random search or give specific values.\n",
    "harmony = Neuroharmony(\n",
    "    features,\n",
    "    regression_features,\n",
    "    covariates,\n",
    "    eliminate_variance,\n",
    "    param_distributions=dict(\n",
    "        RandomForestRegressor__n_estimators=[100, 200, 500],\n",
    "        RandomForestRegressor__random_state=[42, 78],\n",
    "        RandomForestRegressor__warm_start=[False, True],\n",
    "    ),\n",
    "    estimator_args=dict(n_jobs=1, random_state=42),\n",
    "    randomized_search_args=dict(cv=5, n_jobs=8),\n",
    ")\n",
    "# Fit the model.\n",
    "x_train_harmonized = harmony.fit_transform(x_train)"
   ]
  },
  {
   "cell_type": "code",
   "execution_count": 67,
   "metadata": {},
   "outputs": [],
   "source": [
    "x_train_harmonized = x_train_harmonized.loc[:,TAs[:-2]]"
   ]
  },
  {
   "cell_type": "code",
   "execution_count": 87,
   "metadata": {},
   "outputs": [
    {
     "data": {
      "text/plain": [
       "1002    0.0\n",
       "722     1.0\n",
       "1248    0.0\n",
       "1199    0.0\n",
       "920     0.0\n",
       "       ... \n",
       "714     0.0\n",
       "1180    0.0\n",
       "1010    0.0\n",
       "946     0.0\n",
       "901     0.0\n",
       "Name: DIAGNOSIS, Length: 505, dtype: float64"
      ]
     },
     "execution_count": 87,
     "metadata": {},
     "output_type": "execute_result"
    }
   ],
   "source": [
    "y_train"
   ]
  },
  {
   "cell_type": "code",
   "execution_count": 95,
   "metadata": {},
   "outputs": [
    {
     "data": {
      "text/html": [
       "<div>\n",
       "<style scoped>\n",
       "    .dataframe tbody tr th:only-of-type {\n",
       "        vertical-align: middle;\n",
       "    }\n",
       "\n",
       "    .dataframe tbody tr th {\n",
       "        vertical-align: top;\n",
       "    }\n",
       "\n",
       "    .dataframe thead th {\n",
       "        text-align: right;\n",
       "    }\n",
       "</style>\n",
       "<table border=\"1\" class=\"dataframe\">\n",
       "  <thead>\n",
       "    <tr style=\"text-align: right;\">\n",
       "      <th></th>\n",
       "      <th>ST102TA</th>\n",
       "      <th>ST103TA</th>\n",
       "      <th>ST104TA</th>\n",
       "      <th>ST105TA</th>\n",
       "      <th>ST106TA</th>\n",
       "      <th>ST107TA</th>\n",
       "      <th>ST108TA</th>\n",
       "      <th>ST109TA</th>\n",
       "      <th>ST110TA</th>\n",
       "      <th>ST111TA</th>\n",
       "      <th>...</th>\n",
       "      <th>ST84TA</th>\n",
       "      <th>ST85TA</th>\n",
       "      <th>ST90TA</th>\n",
       "      <th>ST91TA</th>\n",
       "      <th>ST93TA</th>\n",
       "      <th>ST94TA</th>\n",
       "      <th>ST95TA</th>\n",
       "      <th>ST97TA</th>\n",
       "      <th>ST98TA</th>\n",
       "      <th>ST99TA</th>\n",
       "    </tr>\n",
       "    <tr>\n",
       "      <th>subject_index</th>\n",
       "      <th></th>\n",
       "      <th></th>\n",
       "      <th></th>\n",
       "      <th></th>\n",
       "      <th></th>\n",
       "      <th></th>\n",
       "      <th></th>\n",
       "      <th></th>\n",
       "      <th></th>\n",
       "      <th></th>\n",
       "      <th></th>\n",
       "      <th></th>\n",
       "      <th></th>\n",
       "      <th></th>\n",
       "      <th></th>\n",
       "      <th></th>\n",
       "      <th></th>\n",
       "      <th></th>\n",
       "      <th></th>\n",
       "      <th></th>\n",
       "      <th></th>\n",
       "    </tr>\n",
       "  </thead>\n",
       "  <tbody>\n",
       "    <tr>\n",
       "      <th>1002</th>\n",
       "      <td>2.463291</td>\n",
       "      <td>3.133856</td>\n",
       "      <td>2.597468</td>\n",
       "      <td>2.956057</td>\n",
       "      <td>2.392943</td>\n",
       "      <td>1.524612</td>\n",
       "      <td>2.081894</td>\n",
       "      <td>2.398835</td>\n",
       "      <td>2.537901</td>\n",
       "      <td>2.464561</td>\n",
       "      <td>...</td>\n",
       "      <td>2.670646</td>\n",
       "      <td>2.941564</td>\n",
       "      <td>2.612378</td>\n",
       "      <td>3.06464</td>\n",
       "      <td>2.467645</td>\n",
       "      <td>2.330019</td>\n",
       "      <td>2.869594</td>\n",
       "      <td>2.055991</td>\n",
       "      <td>2.628951</td>\n",
       "      <td>3.088129</td>\n",
       "    </tr>\n",
       "  </tbody>\n",
       "</table>\n",
       "<p>1 rows × 68 columns</p>\n",
       "</div>"
      ],
      "text/plain": [
       "                ST102TA   ST103TA   ST104TA   ST105TA   ST106TA   ST107TA  \\\n",
       "subject_index                                                               \n",
       "1002           2.463291  3.133856  2.597468  2.956057  2.392943  1.524612   \n",
       "\n",
       "                ST108TA   ST109TA   ST110TA   ST111TA  ...    ST84TA  \\\n",
       "subject_index                                          ...             \n",
       "1002           2.081894  2.398835  2.537901  2.464561  ...  2.670646   \n",
       "\n",
       "                 ST85TA    ST90TA   ST91TA    ST93TA    ST94TA    ST95TA  \\\n",
       "subject_index                                                              \n",
       "1002           2.941564  2.612378  3.06464  2.467645  2.330019  2.869594   \n",
       "\n",
       "                 ST97TA    ST98TA    ST99TA  \n",
       "subject_index                                \n",
       "1002           2.055991  2.628951  3.088129  \n",
       "\n",
       "[1 rows x 68 columns]"
      ]
     },
     "execution_count": 95,
     "metadata": {},
     "output_type": "execute_result"
    }
   ],
   "source": [
    "x_train_harmonized[x_train_harmonized.index == 1002]"
   ]
  },
  {
   "cell_type": "code",
   "execution_count": 69,
   "metadata": {},
   "outputs": [],
   "source": [
    "def find_oversampler(X, y):\n",
    "\n",
    "    dataset= {'data': np.array(X),\n",
    "            'target': np.array(y),\n",
    "            'name': 'diagnosis'}\n",
    "\n",
    "    classifiers = [('sklearn.ensemble', 'GradientBoostingClassifier', {}),\n",
    "                ('sklearn.ensemble', 'RandomForestClassifier', {}),\n",
    "                ('sklearn.neural_network', 'MLPClassifier', {}),\n",
    "                ('sklearn.tree', 'DecisionTreeClassifier', {})]\n",
    "\n",
    "    oversamplers = sv.queries.get_all_oversamplers(n_quickest=2)\n",
    "\n",
    "    os_params = sv.queries.generate_parameter_combinations(oversamplers,\n",
    "                                                        n_max_comb=2)\n",
    "\n",
    "    # samp_obj and cl_obj contain the oversampling and classifier objects which give the\n",
    "    # best performance together\n",
    "    samp_obj, cl_obj= sv.evaluation.model_selection(dataset=dataset,\n",
    "                                                    oversamplers=os_params,\n",
    "                                                    classifiers=classifiers,\n",
    "                                                    validator_params={'n_splits': 2,\n",
    "                                                                    'n_repeats': 1},\n",
    "                                                    n_jobs= 5)\n",
    "    print(samp_obj)\n",
    "    return samp_obj, cl_obj\n",
    "\n",
    "def k_fold_choose_model(X, y): \n",
    "    models = [GradientBoostingClassifier(), RandomForestClassifier(), SVC(), DecisionTreeClassifier(), MLPClassifier()]\n",
    "    models_accuracy = []\n",
    "    #TODO: find argmax\n",
    "    kfold = KFold(n_splits=10)\n",
    "    for model in models:\n",
    "        cv_results = cross_val_score(model, X, y, cv=kfold, scoring='accuracy', n_jobs=-1)\n",
    "        models_accuracy.append(cv_results.sum()/10)\n",
    "        print(model, cv_results.sum()/10)\n",
    "\n",
    "    return models[np.argmax(np.array(models_accuracy))]\n",
    "\n",
    "\n",
    "def evaluate_model(model, X_train, y_train, X_test, y_test):\n",
    "    model.fit(X_train, y_train)\n",
    "    results = model.predict(X_test)\n",
    "    x = zip(results, y_test)\n",
    "    cf_matrix = sklearn.metrics.confusion_matrix(y_test, results)\n",
    "    print(accuracy_score(y_test, results))\n",
    "    print(balanced_accuracy_score(y_test, results))\n",
    "    sns.heatmap(cf_matrix, annot=True, fmt='g')\n",
    "    return model\n",
    "\n",
    "#oversampler_norm = find_oversampler(X_train, y_train)\n",
    "#oversampler_harm = find_oversampler(X_train_c, y_train_c)"
   ]
  },
  {
   "cell_type": "code",
   "execution_count": 70,
   "metadata": {},
   "outputs": [],
   "source": [
    "from sklearn.metrics import RocCurveDisplay\n",
    "\n",
    "def create_evaluate_model(X_test, y_test, X_train, y_train):\n",
    "    #Use oversampling to tackle imbalance\n",
    "    oversampler = find_oversampler(X_train, y_train)\n",
    "    X_train_samp, y_train_samp = oversampler[0].sample(np.array(X_train),\n",
    "                                np.array(y_train))\n",
    "    # Now use undersampling\n",
    "    rus = RandomUnderSampler(random_state=0)\n",
    "    X_train_resampled, y_train_resampled = rus.fit_resample(X_train_samp, y_train_samp)\n",
    "    \n",
    "    # Perform feature selection\n",
    "    #X_train_resampled, cols, colNames = selectFeatures(X_train_resampled, y_train_resampled)\n",
    "\n",
    "    # Find best model type\n",
    "    model = k_fold_choose_model(X_train_resampled, y_train_resampled)\n",
    "    trained_model = evaluate_model(model, X_train, y_train, X_test, y_test)\n",
    "   \n",
    "    plt.rcParams['figure.figsize'] = [15, 10]\n",
    "    svc_disp = RocCurveDisplay.from_estimator(trained_model, X_test, y_test)\n",
    "    return trained_model"
   ]
  },
  {
   "cell_type": "code",
   "execution_count": 49,
   "metadata": {},
   "outputs": [
    {
     "name": "stderr",
     "output_type": "stream",
     "text": [
      "2023-04-10 18:41:33,034:INFO:polynom_fit_SMOTE_star: Running sampling via ('polynom_fit_SMOTE_star', \"{'proportion': 1.5, 'topology': 'star', 'random_state': None, 'class_name': 'polynom_fit_SMOTE_star'}\")\n",
      "2023-04-10 18:41:33,037:INFO:polynom_fit_SMOTE: Running sampling via ('polynom_fit_SMOTE', \"{'proportion': 1.5, 'topology': 'star', 'random_state': None, 'class_name': 'polynom_fit_SMOTE'}\")\n"
     ]
    },
    {
     "data": {
      "image/png": "[encoded data removed]",
      "text/plain": [
       "<Figure size 432x288 with 2 Axes>"
      ]
     },
     "metadata": {},
     "output_type": "display_data"
    },
    {
     "data": {
      "image/png": "[encoded data removed]",
      "text/plain": [
       "<Figure size 1080x720 with 1 Axes>"
      ]
     },
     "metadata": {},
     "output_type": "display_data"
    }
   ],
   "source": [
    "m1 = create_evaluate_model(X_test, y_test, X_train, y_train)"
   ]
  },
  {
   "cell_type": "code",
   "execution_count": 93,
   "metadata": {},
   "outputs": [
    {
     "name": "stderr",
     "output_type": "stream",
     "text": [
      "2023-04-10 19:39:25,944:INFO:polynom_fit_SMOTE_star: Running sampling via ('polynom_fit_SMOTE_star', \"{'proportion': 1.5, 'topology': 'star', 'random_state': None, 'class_name': 'polynom_fit_SMOTE_star'}\")\n",
      "2023-04-10 19:39:25,950:INFO:polynom_fit_SMOTE: Running sampling via ('polynom_fit_SMOTE', \"{'proportion': 1.5, 'topology': 'star', 'random_state': None, 'class_name': 'polynom_fit_SMOTE'}\")\n"
     ]
    },
    {
     "data": {
      "image/png": "[encoded data removed]",
      "text/plain": [
       "<Figure size 1080x720 with 2 Axes>"
      ]
     },
     "metadata": {},
     "output_type": "display_data"
    },
    {
     "data": {
      "image/png": "[encoded data removed]",
      "text/plain": [
       "<Figure size 1080x720 with 1 Axes>"
      ]
     },
     "metadata": {},
     "output_type": "display_data"
    }
   ],
   "source": [
    "m_neuroharmony = create_evaluate_model(X_test, y_test, x_train_harmonized, y_train.loc[x_train_harmonized.index])"
   ]
  },
  {
   "cell_type": "code",
   "execution_count": 72,
   "metadata": {},
   "outputs": [
    {
     "name": "stdout",
     "output_type": "stream",
     "text": [
      "2023-03-24 12:38:20.589959: processing dataset: diagnosis\n"
     ]
    },
    {
     "name": "stderr",
     "output_type": "stream",
     "text": [
      "2023-03-24 12:38:32,894:INFO:polynom_fit_SMOTE_bus: Running sampling via ('polynom_fit_SMOTE_bus', \"{'proportion': 0.5, 'topology': 'bus', 'random_state': None, 'class_name': 'polynom_fit_SMOTE_bus'}\")\n",
      "2023-03-24 12:38:32,896:INFO:polynom_fit_SMOTE: Running sampling via ('polynom_fit_SMOTE', \"{'proportion': 0.5, 'topology': 'bus', 'random_state': None, 'class_name': 'polynom_fit_SMOTE'}\")\n"
     ]
    },
    {
     "name": "stdout",
     "output_type": "stream",
     "text": [
      "('polynom_fit_SMOTE_bus', \"{'proportion': 0.5, 'topology': 'bus', 'random_state': None, 'class_name': 'polynom_fit_SMOTE_bus'}\")\n",
      "GradientBoostingClassifier() 0.8395644283121596\n",
      "RandomForestClassifier() 0.8516636418632789\n",
      "SVC() 0.8815184513006654\n",
      "DecisionTreeClassifier() 0.7891712038717483\n",
      "MLPClassifier() 0.8918935269207502\n"
     ]
    },
    {
     "name": "stderr",
     "output_type": "stream",
     "text": [
      "C:\\Users\\vince\\AppData\\Roaming\\Python\\Python38\\site-packages\\sklearn\\neural_network\\_multilayer_perceptron.py:702: ConvergenceWarning: Stochastic Optimizer: Maximum iterations (200) reached and the optimization hasn't converged yet.\n",
      "  warnings.warn(\n"
     ]
    },
    {
     "name": "stdout",
     "output_type": "stream",
     "text": [
      "0.9247311827956989\n",
      "0.8973970075835211\n"
     ]
    },
    {
     "data": {
      "image/png": "[encoded data removed]",
      "text/plain": [
       "<Figure size 1080x720 with 2 Axes>"
      ]
     },
     "metadata": {
      "needs_background": "light"
     },
     "output_type": "display_data"
    },
    {
     "data": {
      "image/png": "[encoded data removed]",
      "text/plain": [
       "<Figure size 1080x720 with 1 Axes>"
      ]
     },
     "metadata": {
      "needs_background": "light"
     },
     "output_type": "display_data"
    }
   ],
   "source": [
    "m2 = create_evaluate_model(X_test, y_test, X_train_c, y_train_c)"
   ]
  },
  {
   "cell_type": "code",
   "execution_count": 279,
   "metadata": {},
   "outputs": [
    {
     "name": "stderr",
     "output_type": "stream",
     "text": [
      "2023-03-17 17:06:13,912:INFO:polynom_fit_SMOTE_star: Running sampling via ('polynom_fit_SMOTE_star', \"{'proportion': 0.25, 'topology': 'star', 'random_state': None, 'class_name': 'polynom_fit_SMOTE_star'}\")\n",
      "2023-03-17 17:06:13,915:INFO:polynom_fit_SMOTE: Running sampling via ('polynom_fit_SMOTE', \"{'proportion': 0.25, 'topology': 'star', 'random_state': None, 'class_name': 'polynom_fit_SMOTE'}\")\n",
      "2023-03-17 17:06:13,924:INFO:polynom_fit_SMOTE_star: Running sampling via ('polynom_fit_SMOTE_star', \"{'proportion': 0.25, 'topology': 'star', 'random_state': None, 'class_name': 'polynom_fit_SMOTE_star'}\")\n",
      "2023-03-17 17:06:13,926:INFO:polynom_fit_SMOTE: Running sampling via ('polynom_fit_SMOTE', \"{'proportion': 0.25, 'topology': 'star', 'random_state': None, 'class_name': 'polynom_fit_SMOTE'}\")\n"
     ]
    }
   ],
   "source": [
    "X_train_samp, y_train_samp = oversampler_norm[0].sample(np.array(X_train),\n",
    "                                np.array(y_train))\n",
    "X_train_samp_c, y_train_samp_c= oversampler_harm[0].sample(np.array(X_train_c),\n",
    "                                np.array(y_train_c))"
   ]
  },
  {
   "cell_type": "code",
   "execution_count": 280,
   "metadata": {},
   "outputs": [],
   "source": [
    "rus = RandomUnderSampler(random_state=0)\n",
    "\n",
    "X_train_resampled, y_train_resampled = rus.fit_resample(X_train_samp, y_train_samp)\n",
    "X_train_resampled_c, y_train_resampled_c = rus.fit_resample(X_train_samp_c, y_train_samp_c)"
   ]
  },
  {
   "cell_type": "code",
   "execution_count": 281,
   "metadata": {},
   "outputs": [
    {
     "data": {
      "text/plain": [
       "0.7095959595959596"
      ]
     },
     "execution_count": 281,
     "metadata": {},
     "output_type": "execute_result"
    }
   ],
   "source": [
    "len(y_test[y_test == 0]) / (len(y_test))"
   ]
  },
  {
   "attachments": {},
   "cell_type": "markdown",
   "metadata": {},
   "source": [
    "### Cross-validation"
   ]
  },
  {
   "cell_type": "code",
   "execution_count": 285,
   "metadata": {},
   "outputs": [],
   "source": [
    "def selectFeatures(X, y):\n",
    "    featureSelector = Lasso(alpha=0.005)\n",
    "    featureSelector.fit(X, y)\n",
    "    coefficients_importance = np.abs(featureSelector.coef_)\n",
    "    cols = coefficients_importance != 0\n",
    "    colNames = np.array(X.columns)[coefficients_importance != 0]\n",
    "\n",
    "    return X.loc[:,cols].copy(), cols, colNames"
   ]
  },
  {
   "cell_type": "code",
   "execution_count": 286,
   "metadata": {},
   "outputs": [
    {
     "data": {
      "text/html": [
       "<style>#sk-container-id-6 {color: black;background-color: white;}#sk-container-id-6 pre{padding: 0;}#sk-container-id-6 div.sk-toggleable {background-color: white;}#sk-container-id-6 label.sk-toggleable__label {cursor: pointer;display: block;width: 100%;margin-bottom: 0;padding: 0.3em;box-sizing: border-box;text-align: center;}#sk-container-id-6 label.sk-toggleable__label-arrow:before {content: \"▸\";float: left;margin-right: 0.25em;color: #696969;}#sk-container-id-6 label.sk-toggleable__label-arrow:hover:before {color: black;}#sk-container-id-6 div.sk-estimator:hover label.sk-toggleable__label-arrow:before {color: black;}#sk-container-id-6 div.sk-toggleable__content {max-height: 0;max-width: 0;overflow: hidden;text-align: left;background-color: #f0f8ff;}#sk-container-id-6 div.sk-toggleable__content pre {margin: 0.2em;color: black;border-radius: 0.25em;background-color: #f0f8ff;}#sk-container-id-6 input.sk-toggleable__control:checked~div.sk-toggleable__content {max-height: 200px;max-width: 100%;overflow: auto;}#sk-container-id-6 input.sk-toggleable__control:checked~label.sk-toggleable__label-arrow:before {content: \"▾\";}#sk-container-id-6 div.sk-estimator input.sk-toggleable__control:checked~label.sk-toggleable__label {background-color: #d4ebff;}#sk-container-id-6 div.sk-label input.sk-toggleable__control:checked~label.sk-toggleable__label {background-color: #d4ebff;}#sk-container-id-6 input.sk-hidden--visually {border: 0;clip: rect(1px 1px 1px 1px);clip: rect(1px, 1px, 1px, 1px);height: 1px;margin: -1px;overflow: hidden;padding: 0;position: absolute;width: 1px;}#sk-container-id-6 div.sk-estimator {font-family: monospace;background-color: #f0f8ff;border: 1px dotted black;border-radius: 0.25em;box-sizing: border-box;margin-bottom: 0.5em;}#sk-container-id-6 div.sk-estimator:hover {background-color: #d4ebff;}#sk-container-id-6 div.sk-parallel-item::after {content: \"\";width: 100%;border-bottom: 1px solid gray;flex-grow: 1;}#sk-container-id-6 div.sk-label:hover label.sk-toggleable__label {background-color: #d4ebff;}#sk-container-id-6 div.sk-serial::before {content: \"\";position: absolute;border-left: 1px solid gray;box-sizing: border-box;top: 0;bottom: 0;left: 50%;z-index: 0;}#sk-container-id-6 div.sk-serial {display: flex;flex-direction: column;align-items: center;background-color: white;padding-right: 0.2em;padding-left: 0.2em;position: relative;}#sk-container-id-6 div.sk-item {position: relative;z-index: 1;}#sk-container-id-6 div.sk-parallel {display: flex;align-items: stretch;justify-content: center;background-color: white;position: relative;}#sk-container-id-6 div.sk-item::before, #sk-container-id-6 div.sk-parallel-item::before {content: \"\";position: absolute;border-left: 1px solid gray;box-sizing: border-box;top: 0;bottom: 0;left: 50%;z-index: -1;}#sk-container-id-6 div.sk-parallel-item {display: flex;flex-direction: column;z-index: 1;position: relative;background-color: white;}#sk-container-id-6 div.sk-parallel-item:first-child::after {align-self: flex-end;width: 50%;}#sk-container-id-6 div.sk-parallel-item:last-child::after {align-self: flex-start;width: 50%;}#sk-container-id-6 div.sk-parallel-item:only-child::after {width: 0;}#sk-container-id-6 div.sk-dashed-wrapped {border: 1px dashed gray;margin: 0 0.4em 0.5em 0.4em;box-sizing: border-box;padding-bottom: 0.4em;background-color: white;}#sk-container-id-6 div.sk-label label {font-family: monospace;font-weight: bold;display: inline-block;line-height: 1.2em;}#sk-container-id-6 div.sk-label-container {text-align: center;}#sk-container-id-6 div.sk-container {/* jupyter's `normalize.less` sets `[hidden] { display: none; }` but bootstrap.min.css set `[hidden] { display: none !important; }` so we also need the `!important` here to be able to override the default hidden behavior on the sphinx rendered scikit-learn.org. See: https://github.com/scikit-learn/scikit-learn/issues/21755 */display: inline-block !important;position: relative;}#sk-container-id-6 div.sk-text-repr-fallback {display: none;}</style><div id=\"sk-container-id-6\" class=\"sk-top-container\"><div class=\"sk-text-repr-fallback\"><pre>Lasso(alpha=0.005)</pre><b>In a Jupyter environment, please rerun this cell to show the HTML representation or trust the notebook. <br />On GitHub, the HTML representation is unable to render, please try loading this page with nbviewer.org.</b></div><div class=\"sk-container\" hidden><div class=\"sk-item\"><div class=\"sk-estimator sk-toggleable\"><input class=\"sk-toggleable__control sk-hidden--visually\" id=\"sk-estimator-id-6\" type=\"checkbox\" checked><label for=\"sk-estimator-id-6\" class=\"sk-toggleable__label sk-toggleable__label-arrow\">Lasso</label><div class=\"sk-toggleable__content\"><pre>Lasso(alpha=0.005)</pre></div></div></div></div></div>"
      ],
      "text/plain": [
       "Lasso(alpha=0.005)"
      ]
     },
     "execution_count": 286,
     "metadata": {},
     "output_type": "execute_result"
    }
   ],
   "source": [
    "featureSelector = Lasso( alpha=0.005)\n",
    "featureSelector.fit(X_train_resampled, y_train_resampled)\n",
    "\n",
    "featureSelector_c = Lasso( alpha=0.005)\n",
    "featureSelector_c.fit(X_train_resampled_c, y_train_resampled_c)"
   ]
  },
  {
   "cell_type": "code",
   "execution_count": 287,
   "metadata": {},
   "outputs": [],
   "source": [
    "coefficients = featureSelector.coef_\n",
    "coefficients_c = featureSelector_c.coef_"
   ]
  },
  {
   "cell_type": "code",
   "execution_count": 288,
   "metadata": {},
   "outputs": [],
   "source": [
    "importance = np.abs(coefficients)\n",
    "importance_c = np.abs(coefficients_c)"
   ]
  },
  {
   "cell_type": "code",
   "execution_count": 289,
   "metadata": {},
   "outputs": [],
   "source": [
    "cols = importance != 0\n",
    "colNames = np.array(TAs[:68])[importance != 0]\n",
    "\n",
    "cols_c = importance_c != 0\n",
    "colNames_c = np.array(TAs[:68])[importance_c != 0]"
   ]
  },
  {
   "cell_type": "code",
   "execution_count": 290,
   "metadata": {},
   "outputs": [],
   "source": [
    "\n",
    "X_train_resampled = X_train_resampled[:,cols]\n",
    "X_train_resampled_c = X_train_resampled_c[:,cols_c]"
   ]
  },
  {
   "cell_type": "code",
   "execution_count": 291,
   "metadata": {},
   "outputs": [],
   "source": [
    "def k_fold_choose_model(X, y): \n",
    "    models = [GradientBoostingClassifier(), RandomForestClassifier(), SVC(), DecisionTreeClassifier(), MLPClassifier()]\n",
    "    #TODO: find argmax\n",
    "    kfold = KFold(n_splits=10)\n",
    "    for model in models:\n",
    "        cv_results = cross_val_score(model, X, y, cv=kfold, scoring='accuracy', n_jobs=-1)\n",
    "        print(model, cv_results.sum()/10)"
   ]
  },
  {
   "cell_type": "code",
   "execution_count": 292,
   "metadata": {},
   "outputs": [
    {
     "name": "stdout",
     "output_type": "stream",
     "text": [
      "GradientBoostingClassifier() 0.8813311688311689\n",
      "RandomForestClassifier() 0.8795779220779221\n",
      "SVC() 0.9047077922077922\n",
      "DecisionTreeClassifier() 0.8330194805194806\n",
      "MLPClassifier() 0.9120454545454546\n"
     ]
    }
   ],
   "source": [
    "k_fold_choose_model(X_train_resampled, y_train_resampled)"
   ]
  },
  {
   "cell_type": "code",
   "execution_count": 293,
   "metadata": {},
   "outputs": [
    {
     "name": "stdout",
     "output_type": "stream",
     "text": [
      "GradientBoostingClassifier() 0.8580519480519481\n",
      "RandomForestClassifier() 0.8471428571428572\n",
      "SVC() 0.881461038961039\n",
      "DecisionTreeClassifier() 0.7843506493506494\n",
      "MLPClassifier() 0.8850974025974025\n"
     ]
    }
   ],
   "source": [
    "k_fold_choose_model(X_train_resampled_c, y_train_resampled_c)"
   ]
  },
  {
   "cell_type": "code",
   "execution_count": 127,
   "metadata": {},
   "outputs": [],
   "source": [
    "def find_best_model_params(model, grid, X, y):\n",
    "    kfold = KFold(n_splits=10)\n",
    "\n",
    "\n",
    "    grid_search = GridSearchCV(estimator = model, param_grid = grid, \n",
    "                          cv = kfold, n_jobs = -1, verbose = 2)\n",
    "\n",
    "    grid_search.fit(X, y)\n",
    "    print(grid_search.best_score_)\n",
    "    print(grid_search.best_params_)"
   ]
  },
  {
   "cell_type": "code",
   "execution_count": 130,
   "metadata": {},
   "outputs": [
    {
     "name": "stdout",
     "output_type": "stream",
     "text": [
      "Fitting 10 folds for each of 6 candidates, totalling 60 fits\n",
      "0.8779761904761905\n",
      "{'learning_rate': 0.05, 'max_depth': 4, 'max_features': 1.0, 'min_samples_leaf': 3, 'n_estimators': 500}\n"
     ]
    }
   ],
   "source": [
    "param_grid={'n_estimators':[100,500], \n",
    "            'learning_rate': [0.1,0.05,0.02],\n",
    "            'max_depth':[4], \n",
    "            'min_samples_leaf':[3], \n",
    "            'max_features':[1.0] } \n",
    "\n",
    "rf = GradientBoostingClassifier()\n",
    "find_best_model_params(rf, param_grid, X_train_resampled, y_train_resampled)"
   ]
  },
  {
   "attachments": {},
   "cell_type": "markdown",
   "metadata": {},
   "source": [
    "### Evaluation"
   ]
  },
  {
   "cell_type": "code",
   "execution_count": 240,
   "metadata": {},
   "outputs": [],
   "source": [
    "def evaluate_model(model, X_train, y_train, X_test, y_test):\n",
    "    model.fit(X_train, y_train)\n",
    "    results = rf.predict(X_test)\n",
    "    x = zip(results, y_test)\n",
    "    cf_matrix = sklearn.metrics.confusion_matrix(y_test, results)\n",
    "    print(accuracy_score(y_test, results))\n",
    "    print(balanced_accuracy_score(y_test, results))\n",
    "    sns.heatmap(cf_matrix, annot=True, fmt='g')\n",
    "    return model"
   ]
  },
  {
   "cell_type": "code",
   "execution_count": 303,
   "metadata": {},
   "outputs": [
    {
     "name": "stderr",
     "output_type": "stream",
     "text": [
      "C:\\Users\\vince\\AppData\\Roaming\\Python\\Python38\\site-packages\\sklearn\\neural_network\\_multilayer_perceptron.py:702: ConvergenceWarning: Stochastic Optimizer: Maximum iterations (200) reached and the optimization hasn't converged yet.\n",
      "  warnings.warn(\n",
      "C:\\Users\\vince\\AppData\\Roaming\\Python\\Python38\\site-packages\\sklearn\\base.py:443: UserWarning: X has feature names, but MLPClassifier was fitted without feature names\n",
      "  warnings.warn(\n"
     ]
    },
    {
     "name": "stdout",
     "output_type": "stream",
     "text": [
      "0.8636363636363636\n",
      "0.8397029243385425\n"
     ]
    },
    {
     "data": {
      "image/png": "[encoded data removed]",
      "text/plain": [
       "<Figure size 1080x360 with 2 Axes>"
      ]
     },
     "metadata": {
      "needs_background": "light"
     },
     "output_type": "display_data"
    }
   ],
   "source": [
    "rf = MLPClassifier()\n",
    "X_test_sel = X_test.loc[:,cols].copy()\n",
    "trained_model = evaluate_model(rf, X_train_resampled, y_train_resampled, X_test_sel, y_test)"
   ]
  },
  {
   "cell_type": "code",
   "execution_count": 304,
   "metadata": {},
   "outputs": [
    {
     "ename": "AttributeError",
     "evalue": "'MLPClassifier' object has no attribute 'feature_importances_'",
     "output_type": "error",
     "traceback": [
      "\u001b[1;31m---------------------------------------------------------------------------\u001b[0m",
      "\u001b[1;31mAttributeError\u001b[0m                            Traceback (most recent call last)",
      "\u001b[1;32m<ipython-input-304-7ff5bee511a9>\u001b[0m in \u001b[0;36m<module>\u001b[1;34m\u001b[0m\n\u001b[0;32m      1\u001b[0m \u001b[0mplt\u001b[0m\u001b[1;33m.\u001b[0m\u001b[0mrcParams\u001b[0m\u001b[1;33m[\u001b[0m\u001b[1;34m'figure.figsize'\u001b[0m\u001b[1;33m]\u001b[0m \u001b[1;33m=\u001b[0m \u001b[1;33m[\u001b[0m\u001b[1;36m15\u001b[0m\u001b[1;33m,\u001b[0m \u001b[1;36m5\u001b[0m\u001b[1;33m]\u001b[0m\u001b[1;33m\u001b[0m\u001b[1;33m\u001b[0m\u001b[0m\n\u001b[1;32m----> 2\u001b[1;33m \u001b[0mfeat_imp\u001b[0m \u001b[1;33m=\u001b[0m \u001b[0mpd\u001b[0m\u001b[1;33m.\u001b[0m\u001b[0mSeries\u001b[0m\u001b[1;33m(\u001b[0m\u001b[0mtrained_model\u001b[0m\u001b[1;33m.\u001b[0m\u001b[0mfeature_importances_\u001b[0m\u001b[1;33m,\u001b[0m \u001b[0mcolNames\u001b[0m\u001b[1;33m)\u001b[0m\u001b[1;33m.\u001b[0m\u001b[0msort_values\u001b[0m\u001b[1;33m(\u001b[0m\u001b[0mascending\u001b[0m\u001b[1;33m=\u001b[0m\u001b[1;32mFalse\u001b[0m\u001b[1;33m)\u001b[0m\u001b[1;33m\u001b[0m\u001b[1;33m\u001b[0m\u001b[0m\n\u001b[0m\u001b[0;32m      3\u001b[0m \u001b[0mfeat_imp\u001b[0m\u001b[1;33m.\u001b[0m\u001b[0mplot\u001b[0m\u001b[1;33m(\u001b[0m\u001b[0mkind\u001b[0m\u001b[1;33m=\u001b[0m\u001b[1;34m'bar'\u001b[0m\u001b[1;33m,\u001b[0m \u001b[0mtitle\u001b[0m\u001b[1;33m=\u001b[0m\u001b[1;34m'Feature Importances'\u001b[0m\u001b[1;33m)\u001b[0m\u001b[1;33m\u001b[0m\u001b[1;33m\u001b[0m\u001b[0m\n\u001b[0;32m      4\u001b[0m \u001b[0mplt\u001b[0m\u001b[1;33m.\u001b[0m\u001b[0mylabel\u001b[0m\u001b[1;33m(\u001b[0m\u001b[1;34m'Feature Importance Score'\u001b[0m\u001b[1;33m)\u001b[0m\u001b[1;33m\u001b[0m\u001b[1;33m\u001b[0m\u001b[0m\n",
      "\u001b[1;31mAttributeError\u001b[0m: 'MLPClassifier' object has no attribute 'feature_importances_'"
     ]
    }
   ],
   "source": [
    "\n",
    "plt.rcParams['figure.figsize'] = [15, 5]\n",
    "feat_imp = pd.Series(trained_model.feature_importances_, colNames).sort_values(ascending=False)\n",
    "feat_imp.plot(kind='bar', title='Feature Importances')\n",
    "plt.ylabel('Feature Importance Score')"
   ]
  },
  {
   "cell_type": "code",
   "execution_count": 305,
   "metadata": {},
   "outputs": [
    {
     "name": "stderr",
     "output_type": "stream",
     "text": [
      "C:\\Users\\vince\\AppData\\Roaming\\Python\\Python38\\site-packages\\sklearn\\base.py:443: UserWarning: X has feature names, but MLPClassifier was fitted without feature names\n",
      "  warnings.warn(\n"
     ]
    },
    {
     "data": {
      "image/png": "[encoded data removed]",
      "text/plain": [
       "<Figure size 1080x720 with 1 Axes>"
      ]
     },
     "metadata": {
      "needs_background": "light"
     },
     "output_type": "display_data"
    }
   ],
   "source": [
    "from sklearn.metrics import RocCurveDisplay\n",
    "plt.rcParams['figure.figsize'] = [15, 10]\n",
    "svc_disp = RocCurveDisplay.from_estimator(trained_model, X_test.loc[:,cols], y_test)\n"
   ]
  },
  {
   "cell_type": "code",
   "execution_count": 306,
   "metadata": {},
   "outputs": [
    {
     "name": "stderr",
     "output_type": "stream",
     "text": [
      "C:\\Users\\vince\\AppData\\Roaming\\Python\\Python38\\site-packages\\sklearn\\neural_network\\_multilayer_perceptron.py:702: ConvergenceWarning: Stochastic Optimizer: Maximum iterations (200) reached and the optimization hasn't converged yet.\n",
      "  warnings.warn(\n",
      "C:\\Users\\vince\\AppData\\Roaming\\Python\\Python38\\site-packages\\sklearn\\base.py:443: UserWarning: X has feature names, but MLPClassifier was fitted without feature names\n",
      "  warnings.warn(\n"
     ]
    },
    {
     "name": "stdout",
     "output_type": "stream",
     "text": [
      "0.8585858585858586\n",
      "0.8489865387590902\n"
     ]
    },
    {
     "data": {
      "image/png": "[encoded data removed]",
      "text/plain": [
       "<Figure size 1080x720 with 2 Axes>"
      ]
     },
     "metadata": {
      "needs_background": "light"
     },
     "output_type": "display_data"
    }
   ],
   "source": [
    "rf = MLPClassifier()\n",
    "X_test_sel_c = X_test.loc[:,cols_c].copy()\n",
    "trained_model = evaluate_model(rf, X_train_resampled_c, y_train_resampled_c, X_test_sel_c, y_test)"
   ]
  },
  {
   "cell_type": "code",
   "execution_count": 302,
   "metadata": {},
   "outputs": [
    {
     "ename": "AttributeError",
     "evalue": "'MLPClassifier' object has no attribute 'feature_importances_'",
     "output_type": "error",
     "traceback": [
      "\u001b[1;31m---------------------------------------------------------------------------\u001b[0m",
      "\u001b[1;31mAttributeError\u001b[0m                            Traceback (most recent call last)",
      "\u001b[1;32m<ipython-input-302-6f94442725c6>\u001b[0m in \u001b[0;36m<module>\u001b[1;34m\u001b[0m\n\u001b[0;32m      1\u001b[0m \u001b[0mplt\u001b[0m\u001b[1;33m.\u001b[0m\u001b[0mrcParams\u001b[0m\u001b[1;33m[\u001b[0m\u001b[1;34m'figure.figsize'\u001b[0m\u001b[1;33m]\u001b[0m \u001b[1;33m=\u001b[0m \u001b[1;33m[\u001b[0m\u001b[1;36m15\u001b[0m\u001b[1;33m,\u001b[0m \u001b[1;36m5\u001b[0m\u001b[1;33m]\u001b[0m\u001b[1;33m\u001b[0m\u001b[1;33m\u001b[0m\u001b[0m\n\u001b[1;32m----> 2\u001b[1;33m \u001b[0mfeat_imp\u001b[0m \u001b[1;33m=\u001b[0m \u001b[0mpd\u001b[0m\u001b[1;33m.\u001b[0m\u001b[0mSeries\u001b[0m\u001b[1;33m(\u001b[0m\u001b[0mtrained_model\u001b[0m\u001b[1;33m.\u001b[0m\u001b[0mfeature_importances_\u001b[0m\u001b[1;33m,\u001b[0m \u001b[0mcolNames_c\u001b[0m\u001b[1;33m)\u001b[0m\u001b[1;33m.\u001b[0m\u001b[0msort_values\u001b[0m\u001b[1;33m(\u001b[0m\u001b[0mascending\u001b[0m\u001b[1;33m=\u001b[0m\u001b[1;32mFalse\u001b[0m\u001b[1;33m)\u001b[0m\u001b[1;33m\u001b[0m\u001b[1;33m\u001b[0m\u001b[0m\n\u001b[0m\u001b[0;32m      3\u001b[0m \u001b[0mfeat_imp\u001b[0m\u001b[1;33m.\u001b[0m\u001b[0mplot\u001b[0m\u001b[1;33m(\u001b[0m\u001b[0mkind\u001b[0m\u001b[1;33m=\u001b[0m\u001b[1;34m'bar'\u001b[0m\u001b[1;33m,\u001b[0m \u001b[0mtitle\u001b[0m\u001b[1;33m=\u001b[0m\u001b[1;34m'Feature Importances'\u001b[0m\u001b[1;33m)\u001b[0m\u001b[1;33m\u001b[0m\u001b[1;33m\u001b[0m\u001b[0m\n\u001b[0;32m      4\u001b[0m \u001b[0mplt\u001b[0m\u001b[1;33m.\u001b[0m\u001b[0mylabel\u001b[0m\u001b[1;33m(\u001b[0m\u001b[1;34m'Feature Importance Score'\u001b[0m\u001b[1;33m)\u001b[0m\u001b[1;33m\u001b[0m\u001b[1;33m\u001b[0m\u001b[0m\n",
      "\u001b[1;31mAttributeError\u001b[0m: 'MLPClassifier' object has no attribute 'feature_importances_'"
     ]
    }
   ],
   "source": [
    "\n",
    "plt.rcParams['figure.figsize'] = [15, 5]\n",
    "feat_imp = pd.Series(trained_model.feature_importances_, colNames_c).sort_values(ascending=False)\n",
    "feat_imp.plot(kind='bar', title='Feature Importances')\n",
    "plt.ylabel('Feature Importance Score')"
   ]
  },
  {
   "cell_type": "code",
   "execution_count": 309,
   "metadata": {},
   "outputs": [
    {
     "data": {
      "text/html": [
       "<div>\n",
       "<style scoped>\n",
       "    .dataframe tbody tr th:only-of-type {\n",
       "        vertical-align: middle;\n",
       "    }\n",
       "\n",
       "    .dataframe tbody tr th {\n",
       "        vertical-align: top;\n",
       "    }\n",
       "\n",
       "    .dataframe thead th {\n",
       "        text-align: right;\n",
       "    }\n",
       "</style>\n",
       "<table border=\"1\" class=\"dataframe\">\n",
       "  <thead>\n",
       "    <tr style=\"text-align: right;\">\n",
       "      <th></th>\n",
       "      <th>ST102TA</th>\n",
       "      <th>ST103TA</th>\n",
       "      <th>ST104TA</th>\n",
       "      <th>ST105TA</th>\n",
       "      <th>ST106TA</th>\n",
       "      <th>ST107TA</th>\n",
       "      <th>ST108TA</th>\n",
       "      <th>ST109TA</th>\n",
       "      <th>ST110TA</th>\n",
       "      <th>ST111TA</th>\n",
       "      <th>...</th>\n",
       "      <th>ST84TA</th>\n",
       "      <th>ST85TA</th>\n",
       "      <th>ST90TA</th>\n",
       "      <th>ST91TA</th>\n",
       "      <th>ST93TA</th>\n",
       "      <th>ST94TA</th>\n",
       "      <th>ST95TA</th>\n",
       "      <th>ST97TA</th>\n",
       "      <th>ST98TA</th>\n",
       "      <th>ST99TA</th>\n",
       "    </tr>\n",
       "  </thead>\n",
       "  <tbody>\n",
       "    <tr>\n",
       "      <th>0</th>\n",
       "      <td>0.359778</td>\n",
       "      <td>0.017682</td>\n",
       "      <td>0.191812</td>\n",
       "      <td>0.304884</td>\n",
       "      <td>0.163625</td>\n",
       "      <td>0.241810</td>\n",
       "      <td>0.191059</td>\n",
       "      <td>0.187033</td>\n",
       "      <td>0.087932</td>\n",
       "      <td>0.274547</td>\n",
       "      <td>...</td>\n",
       "      <td>0.191458</td>\n",
       "      <td>0.286596</td>\n",
       "      <td>0.047173</td>\n",
       "      <td>0.291662</td>\n",
       "      <td>0.140522</td>\n",
       "      <td>0.212785</td>\n",
       "      <td>0.179287</td>\n",
       "      <td>0.153992</td>\n",
       "      <td>0.288056</td>\n",
       "      <td>0.171379</td>\n",
       "    </tr>\n",
       "    <tr>\n",
       "      <th>1</th>\n",
       "      <td>0.094777</td>\n",
       "      <td>-0.238686</td>\n",
       "      <td>0.222623</td>\n",
       "      <td>0.176762</td>\n",
       "      <td>0.160963</td>\n",
       "      <td>-0.189114</td>\n",
       "      <td>0.134372</td>\n",
       "      <td>-0.173338</td>\n",
       "      <td>-0.360163</td>\n",
       "      <td>0.289229</td>\n",
       "      <td>...</td>\n",
       "      <td>0.262142</td>\n",
       "      <td>0.574721</td>\n",
       "      <td>0.507243</td>\n",
       "      <td>0.814516</td>\n",
       "      <td>0.177246</td>\n",
       "      <td>0.659695</td>\n",
       "      <td>0.273761</td>\n",
       "      <td>0.124889</td>\n",
       "      <td>-0.015581</td>\n",
       "      <td>0.477070</td>\n",
       "    </tr>\n",
       "    <tr>\n",
       "      <th>3</th>\n",
       "      <td>0.574405</td>\n",
       "      <td>0.301751</td>\n",
       "      <td>0.235384</td>\n",
       "      <td>0.311861</td>\n",
       "      <td>0.113576</td>\n",
       "      <td>0.344278</td>\n",
       "      <td>0.208179</td>\n",
       "      <td>0.207007</td>\n",
       "      <td>0.072147</td>\n",
       "      <td>0.393025</td>\n",
       "      <td>...</td>\n",
       "      <td>0.200312</td>\n",
       "      <td>0.255880</td>\n",
       "      <td>0.094732</td>\n",
       "      <td>0.417443</td>\n",
       "      <td>0.011686</td>\n",
       "      <td>0.216054</td>\n",
       "      <td>0.350693</td>\n",
       "      <td>0.170941</td>\n",
       "      <td>0.392957</td>\n",
       "      <td>0.262676</td>\n",
       "    </tr>\n",
       "    <tr>\n",
       "      <th>4</th>\n",
       "      <td>0.685934</td>\n",
       "      <td>-0.080335</td>\n",
       "      <td>0.420017</td>\n",
       "      <td>0.547526</td>\n",
       "      <td>0.478626</td>\n",
       "      <td>0.143433</td>\n",
       "      <td>0.418220</td>\n",
       "      <td>0.192609</td>\n",
       "      <td>0.525562</td>\n",
       "      <td>0.663931</td>\n",
       "      <td>...</td>\n",
       "      <td>1.025542</td>\n",
       "      <td>0.657636</td>\n",
       "      <td>0.530800</td>\n",
       "      <td>0.867672</td>\n",
       "      <td>0.328641</td>\n",
       "      <td>0.678506</td>\n",
       "      <td>0.416810</td>\n",
       "      <td>0.142934</td>\n",
       "      <td>0.120589</td>\n",
       "      <td>0.537987</td>\n",
       "    </tr>\n",
       "    <tr>\n",
       "      <th>6</th>\n",
       "      <td>0.505499</td>\n",
       "      <td>0.359358</td>\n",
       "      <td>0.613064</td>\n",
       "      <td>0.423081</td>\n",
       "      <td>0.679681</td>\n",
       "      <td>0.212876</td>\n",
       "      <td>0.599431</td>\n",
       "      <td>-0.681735</td>\n",
       "      <td>0.153972</td>\n",
       "      <td>0.371821</td>\n",
       "      <td>...</td>\n",
       "      <td>0.141630</td>\n",
       "      <td>0.435340</td>\n",
       "      <td>0.210858</td>\n",
       "      <td>0.614451</td>\n",
       "      <td>0.427519</td>\n",
       "      <td>0.488360</td>\n",
       "      <td>0.019936</td>\n",
       "      <td>0.512852</td>\n",
       "      <td>-0.163989</td>\n",
       "      <td>0.300740</td>\n",
       "    </tr>\n",
       "    <tr>\n",
       "      <th>...</th>\n",
       "      <td>...</td>\n",
       "      <td>...</td>\n",
       "      <td>...</td>\n",
       "      <td>...</td>\n",
       "      <td>...</td>\n",
       "      <td>...</td>\n",
       "      <td>...</td>\n",
       "      <td>...</td>\n",
       "      <td>...</td>\n",
       "      <td>...</td>\n",
       "      <td>...</td>\n",
       "      <td>...</td>\n",
       "      <td>...</td>\n",
       "      <td>...</td>\n",
       "      <td>...</td>\n",
       "      <td>...</td>\n",
       "      <td>...</td>\n",
       "      <td>...</td>\n",
       "      <td>...</td>\n",
       "      <td>...</td>\n",
       "      <td>...</td>\n",
       "    </tr>\n",
       "    <tr>\n",
       "      <th>984</th>\n",
       "      <td>-0.277095</td>\n",
       "      <td>-0.029644</td>\n",
       "      <td>-0.089995</td>\n",
       "      <td>-0.117113</td>\n",
       "      <td>-0.096482</td>\n",
       "      <td>-0.159079</td>\n",
       "      <td>-0.182647</td>\n",
       "      <td>-0.298443</td>\n",
       "      <td>-0.144603</td>\n",
       "      <td>-0.194433</td>\n",
       "      <td>...</td>\n",
       "      <td>-0.118834</td>\n",
       "      <td>-0.192892</td>\n",
       "      <td>-0.279749</td>\n",
       "      <td>-0.152197</td>\n",
       "      <td>-0.200066</td>\n",
       "      <td>-0.107795</td>\n",
       "      <td>-0.222601</td>\n",
       "      <td>-0.170934</td>\n",
       "      <td>-0.179807</td>\n",
       "      <td>-0.279696</td>\n",
       "    </tr>\n",
       "    <tr>\n",
       "      <th>986</th>\n",
       "      <td>-0.002833</td>\n",
       "      <td>-0.106114</td>\n",
       "      <td>-0.124662</td>\n",
       "      <td>0.201298</td>\n",
       "      <td>0.086550</td>\n",
       "      <td>-0.126243</td>\n",
       "      <td>0.106892</td>\n",
       "      <td>-0.012246</td>\n",
       "      <td>0.019056</td>\n",
       "      <td>-0.106786</td>\n",
       "      <td>...</td>\n",
       "      <td>0.212708</td>\n",
       "      <td>0.125636</td>\n",
       "      <td>0.089170</td>\n",
       "      <td>0.153702</td>\n",
       "      <td>-0.051426</td>\n",
       "      <td>-0.011282</td>\n",
       "      <td>0.210750</td>\n",
       "      <td>0.076319</td>\n",
       "      <td>-0.290133</td>\n",
       "      <td>0.319111</td>\n",
       "    </tr>\n",
       "    <tr>\n",
       "      <th>987</th>\n",
       "      <td>-0.109636</td>\n",
       "      <td>-0.058004</td>\n",
       "      <td>-0.021941</td>\n",
       "      <td>-0.004559</td>\n",
       "      <td>-0.094162</td>\n",
       "      <td>-0.133106</td>\n",
       "      <td>-0.064567</td>\n",
       "      <td>0.001185</td>\n",
       "      <td>-0.080767</td>\n",
       "      <td>0.036639</td>\n",
       "      <td>...</td>\n",
       "      <td>-0.034396</td>\n",
       "      <td>-0.090860</td>\n",
       "      <td>0.089723</td>\n",
       "      <td>-0.083994</td>\n",
       "      <td>-0.039397</td>\n",
       "      <td>-0.183549</td>\n",
       "      <td>0.164865</td>\n",
       "      <td>-0.089651</td>\n",
       "      <td>-0.032141</td>\n",
       "      <td>0.289152</td>\n",
       "    </tr>\n",
       "    <tr>\n",
       "      <th>988</th>\n",
       "      <td>-0.034700</td>\n",
       "      <td>-0.029688</td>\n",
       "      <td>-0.054603</td>\n",
       "      <td>0.073156</td>\n",
       "      <td>-0.003954</td>\n",
       "      <td>-0.136070</td>\n",
       "      <td>-0.186236</td>\n",
       "      <td>0.002333</td>\n",
       "      <td>-0.123293</td>\n",
       "      <td>-0.140362</td>\n",
       "      <td>...</td>\n",
       "      <td>-0.055613</td>\n",
       "      <td>-0.084380</td>\n",
       "      <td>-0.125316</td>\n",
       "      <td>-0.076297</td>\n",
       "      <td>-0.100884</td>\n",
       "      <td>-0.073263</td>\n",
       "      <td>-0.070742</td>\n",
       "      <td>-0.025834</td>\n",
       "      <td>0.140124</td>\n",
       "      <td>-0.179219</td>\n",
       "    </tr>\n",
       "    <tr>\n",
       "      <th>989</th>\n",
       "      <td>0.087265</td>\n",
       "      <td>0.004278</td>\n",
       "      <td>-0.421427</td>\n",
       "      <td>-0.286933</td>\n",
       "      <td>0.007895</td>\n",
       "      <td>-0.068396</td>\n",
       "      <td>-0.132328</td>\n",
       "      <td>0.248675</td>\n",
       "      <td>0.145900</td>\n",
       "      <td>-0.040090</td>\n",
       "      <td>...</td>\n",
       "      <td>-0.064693</td>\n",
       "      <td>-0.132119</td>\n",
       "      <td>-0.029759</td>\n",
       "      <td>-0.049930</td>\n",
       "      <td>0.232024</td>\n",
       "      <td>0.014049</td>\n",
       "      <td>-0.204028</td>\n",
       "      <td>-0.056277</td>\n",
       "      <td>-0.022268</td>\n",
       "      <td>-0.050895</td>\n",
       "    </tr>\n",
       "  </tbody>\n",
       "</table>\n",
       "<p>594 rows × 68 columns</p>\n",
       "</div>"
      ],
      "text/plain": [
       "      ST102TA   ST103TA   ST104TA   ST105TA   ST106TA   ST107TA   ST108TA  \\\n",
       "0    0.359778  0.017682  0.191812  0.304884  0.163625  0.241810  0.191059   \n",
       "1    0.094777 -0.238686  0.222623  0.176762  0.160963 -0.189114  0.134372   \n",
       "3    0.574405  0.301751  0.235384  0.311861  0.113576  0.344278  0.208179   \n",
       "4    0.685934 -0.080335  0.420017  0.547526  0.478626  0.143433  0.418220   \n",
       "6    0.505499  0.359358  0.613064  0.423081  0.679681  0.212876  0.599431   \n",
       "..        ...       ...       ...       ...       ...       ...       ...   \n",
       "984 -0.277095 -0.029644 -0.089995 -0.117113 -0.096482 -0.159079 -0.182647   \n",
       "986 -0.002833 -0.106114 -0.124662  0.201298  0.086550 -0.126243  0.106892   \n",
       "987 -0.109636 -0.058004 -0.021941 -0.004559 -0.094162 -0.133106 -0.064567   \n",
       "988 -0.034700 -0.029688 -0.054603  0.073156 -0.003954 -0.136070 -0.186236   \n",
       "989  0.087265  0.004278 -0.421427 -0.286933  0.007895 -0.068396 -0.132328   \n",
       "\n",
       "      ST109TA   ST110TA   ST111TA  ...    ST84TA    ST85TA    ST90TA  \\\n",
       "0    0.187033  0.087932  0.274547  ...  0.191458  0.286596  0.047173   \n",
       "1   -0.173338 -0.360163  0.289229  ...  0.262142  0.574721  0.507243   \n",
       "3    0.207007  0.072147  0.393025  ...  0.200312  0.255880  0.094732   \n",
       "4    0.192609  0.525562  0.663931  ...  1.025542  0.657636  0.530800   \n",
       "6   -0.681735  0.153972  0.371821  ...  0.141630  0.435340  0.210858   \n",
       "..        ...       ...       ...  ...       ...       ...       ...   \n",
       "984 -0.298443 -0.144603 -0.194433  ... -0.118834 -0.192892 -0.279749   \n",
       "986 -0.012246  0.019056 -0.106786  ...  0.212708  0.125636  0.089170   \n",
       "987  0.001185 -0.080767  0.036639  ... -0.034396 -0.090860  0.089723   \n",
       "988  0.002333 -0.123293 -0.140362  ... -0.055613 -0.084380 -0.125316   \n",
       "989  0.248675  0.145900 -0.040090  ... -0.064693 -0.132119 -0.029759   \n",
       "\n",
       "       ST91TA    ST93TA    ST94TA    ST95TA    ST97TA    ST98TA    ST99TA  \n",
       "0    0.291662  0.140522  0.212785  0.179287  0.153992  0.288056  0.171379  \n",
       "1    0.814516  0.177246  0.659695  0.273761  0.124889 -0.015581  0.477070  \n",
       "3    0.417443  0.011686  0.216054  0.350693  0.170941  0.392957  0.262676  \n",
       "4    0.867672  0.328641  0.678506  0.416810  0.142934  0.120589  0.537987  \n",
       "6    0.614451  0.427519  0.488360  0.019936  0.512852 -0.163989  0.300740  \n",
       "..        ...       ...       ...       ...       ...       ...       ...  \n",
       "984 -0.152197 -0.200066 -0.107795 -0.222601 -0.170934 -0.179807 -0.279696  \n",
       "986  0.153702 -0.051426 -0.011282  0.210750  0.076319 -0.290133  0.319111  \n",
       "987 -0.083994 -0.039397 -0.183549  0.164865 -0.089651 -0.032141  0.289152  \n",
       "988 -0.076297 -0.100884 -0.073263 -0.070742 -0.025834  0.140124 -0.179219  \n",
       "989 -0.049930  0.232024  0.014049 -0.204028 -0.056277 -0.022268 -0.050895  \n",
       "\n",
       "[594 rows x 68 columns]"
      ]
     },
     "execution_count": 309,
     "metadata": {},
     "output_type": "execute_result"
    }
   ],
   "source": [
    "X_train_c - X_train"
   ]
  },
  {
   "cell_type": "code",
   "execution_count": 307,
   "metadata": {},
   "outputs": [
    {
     "name": "stderr",
     "output_type": "stream",
     "text": [
      "C:\\Users\\vince\\AppData\\Roaming\\Python\\Python38\\site-packages\\sklearn\\base.py:443: UserWarning: X has feature names, but MLPClassifier was fitted without feature names\n",
      "  warnings.warn(\n"
     ]
    },
    {
     "data": {
      "image/png": "[encoded data removed]",
      "text/plain": [
       "<Figure size 1080x720 with 1 Axes>"
      ]
     },
     "metadata": {
      "needs_background": "light"
     },
     "output_type": "display_data"
    }
   ],
   "source": [
    "from sklearn.metrics import RocCurveDisplay\n",
    "plt.rcParams['figure.figsize'] = [15, 10]\n",
    "svc_disp = RocCurveDisplay.from_estimator(trained_model, X_test.loc[:,cols_c], y_test)\n"
   ]
  },
  {
   "attachments": {},
   "cell_type": "markdown",
   "metadata": {},
   "source": [
    "## Evolution Predictor"
   ]
  },
  {
   "attachments": {},
   "cell_type": "markdown",
   "metadata": {},
   "source": [
    "Here we are trying to predict whether a patient currently experiencing MCI will get alzheimer's in the future from cross-sectionnal neuroimaging data. Researchers have found that having a MCI multiplies a patient's chances of developing Alzheimer's in the future. Around 20 to 20% of people with MCI develop dementia in under a year.\n",
    "This is the reason why we are trying to predict the evolution. If we are able to detect whether a patient is very likely to get alzheimer's in under 2 years then it will be easier to help the patient."
   ]
  },
  {
   "cell_type": "markdown",
   "metadata": {},
   "source": []
  },
  {
   "cell_type": "code",
   "execution_count": 290,
   "metadata": {},
   "outputs": [],
   "source": [
    "img_adni1 = pd.read_csv(\"../data/UCSFFSX51_ADNI1_3T_02_01_16.csv\", low_memory=False)\n",
    "img_adni2 = pd.read_csv(\"../data/UCSFFSX51_11_08_19.csv\", low_memory=False)\n",
    "img_adni3 = pd.read_csv(\"../data/UCSFFSX6_08_17_22.csv\", low_memory=False)\n",
    "adni_merge= pd.read_csv('../data/ADNIMERGE.csv', low_memory=False)\n"
   ]
  },
  {
   "cell_type": "code",
   "execution_count": 291,
   "metadata": {},
   "outputs": [],
   "source": [
    "img_adni2.replace(\"scmri\", \"sc\", inplace=True)\n",
    "dx = pd.read_csv(\"../data/DXSUM_PDXCONV_ADNIALL.csv\", low_memory=False)"
   ]
  },
  {
   "cell_type": "code",
   "execution_count": 292,
   "metadata": {},
   "outputs": [],
   "source": [
    "\n",
    "dx.loc[(dx[\"DXCHANGE\"] == 1) | (dx[\"DXCHANGE\"] == 4) |(dx[\"DXCHANGE\"] == 6), 'DXCHANGE'] = 1\n",
    "dx.loc[(dx[\"DXCHANGE\"] == 2) | (dx[\"DXCHANGE\"] == 5) |(dx[\"DXCHANGE\"] == 7), 'DXCHANGE'] = 2\n",
    "dx.loc[(dx[\"DXCHANGE\"] == 3) | (dx[\"DXCHANGE\"] == 8) |(dx[\"DXCHANGE\"] == 9), 'DXCHANGE'] = 3\n"
   ]
  },
  {
   "cell_type": "code",
   "execution_count": 293,
   "metadata": {},
   "outputs": [],
   "source": [
    "#CVs = []\n",
    "#SVs = []\n",
    "#SAs = []\n",
    "#TSs = []\n",
    "TAs = []\n",
    "#HSs = []\n",
    "\n",
    "for col in img_adni2.columns:\n",
    "    \n",
    "    #if col.endswith('CV'):\n",
    "        #CVs.append(col)\n",
    "    #if col.endswith('SV'):\n",
    "        #SVs.append(col)\n",
    "    \"\"\"\n",
    "    if col.endswith('SA'):\n",
    "        SAs.append(col)\n",
    "    if col.endswith('TS'):\n",
    "        TSs.append(col)\n",
    "    if col.endswith('HS'):\n",
    "        HSs.append(col)\n",
    "    \"\"\"\n",
    "    if col.endswith('TA'):\n",
    "        TAs.append(col)\n",
    "\n",
    "TAs.append(\"RID\")\n",
    "TAs2 = TAs.copy()\n",
    "TAs2.append(\"VISCODE2\")\n",
    "TAs.append(\"VISCODE\")\n"
   ]
  },
  {
   "cell_type": "code",
   "execution_count": 294,
   "metadata": {},
   "outputs": [],
   "source": [
    "img1 = img_adni1.loc[:,TAs].copy()\n",
    "img2 = img_adni2.loc[:,TAs2].copy()\n",
    "img3 = img_adni3.loc[:,TAs2].copy()"
   ]
  },
  {
   "cell_type": "code",
   "execution_count": 295,
   "metadata": {},
   "outputs": [],
   "source": [
    "dx_info = dx.loc[:,[\"RID\", \"VISCODE\", \"VISCODE2\", \"PTID\", \"DXCURREN\", \"DXCHANGE\", \"DIAGNOSIS\"]].copy()\n",
    "img_dx_1 = pd.merge(img1, dx_info, on=['VISCODE', 'RID'])\n",
    "img_dx_2 = pd.merge(img2, dx_info, on=['VISCODE2', 'RID'])\n",
    "img_dx_3 = pd.merge(img3, dx_info, on=['VISCODE2', 'RID'])"
   ]
  },
  {
   "cell_type": "code",
   "execution_count": 296,
   "metadata": {},
   "outputs": [],
   "source": [
    "init_1 = img_dx_1[img_dx_1['VISCODE'] == 'bl']\n",
    "init_2 = img_dx_2[img_dx_2['VISCODE2'] == 'sc']\n",
    "init_3 = img_dx_3[img_dx_3['VISCODE2'] == 'sc']"
   ]
  },
  {
   "cell_type": "code",
   "execution_count": 297,
   "metadata": {},
   "outputs": [],
   "source": [
    "dx_m36 = dx.loc[(dx['VISCODE'] == \"m36\")|( dx['VISCODE2'] == \"m36\")]\n",
    "dx_m36_diag = dx_m36.loc[:,[\"PTID\", \"DIAGNOSIS\", \"DXCHANGE\", \"DXCURREN\"]]"
   ]
  },
  {
   "cell_type": "code",
   "execution_count": 298,
   "metadata": {},
   "outputs": [],
   "source": [
    "dx_img1 = pd.merge(init_1, dx_m36_diag, on=[\"PTID\"])\n",
    "dx_img2 = pd.merge(init_2, dx_m36_diag, on=[\"PTID\"])\n",
    "dx_img3 = pd.merge(init_3, dx_m36_diag, on=[\"PTID\"])"
   ]
  },
  {
   "cell_type": "code",
   "execution_count": 299,
   "metadata": {},
   "outputs": [],
   "source": [
    "dx_img = dx_img1[dx_img1['DXCURREN_x'] == 2].append(dx_img2[dx_img2['DXCHANGE_x'] == 2].append(dx_img3[dx_img3['DIAGNOSIS_x'] == 2]))"
   ]
  },
  {
   "cell_type": "code",
   "execution_count": 300,
   "metadata": {},
   "outputs": [],
   "source": [
    "dx_img['DIAGNOSIS_x'] = dx_img['DIAGNOSIS_x'].fillna(dx_img['DXCHANGE_x'])\n",
    "dx_img['DIAGNOSIS_x'] = dx_img['DIAGNOSIS_x'].fillna(dx_img['DXCURREN_x'])\n",
    "\n",
    "dx_img['DIAGNOSIS_y'] = dx_img['DIAGNOSIS_y'].fillna(dx_img['DXCHANGE_y'])\n",
    "dx_img['DIAGNOSIS_y'] = dx_img['DIAGNOSIS_y'].fillna(dx_img['DXCURREN_y'])\n",
    "\n",
    "dx_img.drop([\"DXCHANGE_x\", \"DXCHANGE_y\", \"DXCURREN_x\", \"DXCURREN_y\", \"VISCODE\", \"VISCODE2\", \"PTID\", \"RID\", \"DIAGNOSIS_x\"], axis=1, inplace=True)\n"
   ]
  },
  {
   "cell_type": "code",
   "execution_count": 301,
   "metadata": {},
   "outputs": [
    {
     "data": {
      "text/plain": [
       "<Axes: xlabel='DIAGNOSIS_y', ylabel='Count'>"
      ]
     },
     "execution_count": 301,
     "metadata": {},
     "output_type": "execute_result"
    },
    {
     "data": {
      "image/png": "[encoded data removed]",
      "text/plain": [
       "<Figure size 1080x720 with 1 Axes>"
      ]
     },
     "metadata": {
      "needs_background": "light"
     },
     "output_type": "display_data"
    }
   ],
   "source": [
    "dx_img = dx_img[dx_img[\"DIAGNOSIS_y\"] != 1]\n",
    "sns.histplot(dx_img[\"DIAGNOSIS_y\"].astype(str))"
   ]
  },
  {
   "cell_type": "code",
   "execution_count": 302,
   "metadata": {},
   "outputs": [],
   "source": [
    "dx_img.dropna(inplace=True)\n",
    "Y = dx_img[\"DIAGNOSIS_y\"]\n",
    "Y[Y==2] = 0\n",
    "Y[Y==3] = 1\n",
    "\n",
    "#SITE = dx_img['SITEID']\n",
    "X = dx_img.drop([\"DIAGNOSIS_y\"], axis=1)"
   ]
  },
  {
   "cell_type": "code",
   "execution_count": 348,
   "metadata": {},
   "outputs": [],
   "source": [
    "X_train, X_test, y_train, y_test = train_test_split(X, Y, test_size=0.3, train_size=0.7)"
   ]
  },
  {
   "cell_type": "code",
   "execution_count": 349,
   "metadata": {},
   "outputs": [
    {
     "name": "stdout",
     "output_type": "stream",
     "text": [
      "2023-03-10 18:09:02.342812: processing dataset: prediction\n",
      "('polynom_fit_SMOTE_star', \"{'proportion': 0.25, 'topology': 'star', 'random_state': None, 'class_name': 'polynom_fit_SMOTE_star'}\")\n",
      "RandomForestClassifier()\n"
     ]
    }
   ],
   "source": [
    "\n",
    "dataset= {'data': np.array(X_train),\n",
    "          'target': np.array(y_train),\n",
    "          'name': 'prediction'}\n",
    "\n",
    "classifiers = [('sklearn.ensemble', 'GradientBoostingClassifier', {}),\n",
    "              ('sklearn.ensemble', 'RandomForestClassifier', {}),\n",
    "              ('sklearn.neural_network', 'MLPClassifier', {}),\n",
    "              ('sklearn.tree', 'DecisionTreeClassifier', {})]\n",
    "\n",
    "oversamplers = sv.queries.get_all_oversamplers(n_quickest=2)\n",
    "\n",
    "os_params = sv.queries.generate_parameter_combinations(oversamplers,\n",
    "                                                      n_max_comb=2)\n",
    "\n",
    "# samp_obj and cl_obj contain the oversampling and classifier objects which give the\n",
    "# best performance together\n",
    "samp_obj, cl_obj= sv.evaluation.model_selection(dataset=dataset,\n",
    "                                                oversamplers=os_params,\n",
    "                                                classifiers=classifiers,\n",
    "                                                validator_params={'n_splits': 2,\n",
    "                                                                  'n_repeats': 1},\n",
    "                                                n_jobs= 5)\n",
    "\n",
    "print(samp_obj)\n",
    "print(cl_obj)"
   ]
  },
  {
   "cell_type": "code",
   "execution_count": 350,
   "metadata": {},
   "outputs": [
    {
     "name": "stderr",
     "output_type": "stream",
     "text": [
      "2023-03-10 18:09:12,058:INFO:polynom_fit_SMOTE_star: Running sampling via ('polynom_fit_SMOTE_star', \"{'proportion': 0.25, 'topology': 'star', 'random_state': None, 'class_name': 'polynom_fit_SMOTE_star'}\")\n",
      "2023-03-10 18:09:12,060:INFO:polynom_fit_SMOTE: Running sampling via ('polynom_fit_SMOTE', \"{'proportion': 0.25, 'topology': 'star', 'random_state': None, 'class_name': 'polynom_fit_SMOTE'}\")\n"
     ]
    }
   ],
   "source": [
    "X_train_samp, y_train_samp= samp_obj.sample(np.array(X_train),\n",
    "                                np.array(y_train))"
   ]
  },
  {
   "cell_type": "code",
   "execution_count": 351,
   "metadata": {},
   "outputs": [],
   "source": [
    "rus = RandomUnderSampler(random_state=0)\n",
    "\n",
    "X_train_resampled, y_train_resampled = rus.fit_resample(X_train_samp, y_train_samp)"
   ]
  },
  {
   "cell_type": "code",
   "execution_count": 352,
   "metadata": {},
   "outputs": [
    {
     "data": {
      "text/html": [
       "<style>#sk-container-id-6 {color: black;background-color: white;}#sk-container-id-6 pre{padding: 0;}#sk-container-id-6 div.sk-toggleable {background-color: white;}#sk-container-id-6 label.sk-toggleable__label {cursor: pointer;display: block;width: 100%;margin-bottom: 0;padding: 0.3em;box-sizing: border-box;text-align: center;}#sk-container-id-6 label.sk-toggleable__label-arrow:before {content: \"▸\";float: left;margin-right: 0.25em;color: #696969;}#sk-container-id-6 label.sk-toggleable__label-arrow:hover:before {color: black;}#sk-container-id-6 div.sk-estimator:hover label.sk-toggleable__label-arrow:before {color: black;}#sk-container-id-6 div.sk-toggleable__content {max-height: 0;max-width: 0;overflow: hidden;text-align: left;background-color: #f0f8ff;}#sk-container-id-6 div.sk-toggleable__content pre {margin: 0.2em;color: black;border-radius: 0.25em;background-color: #f0f8ff;}#sk-container-id-6 input.sk-toggleable__control:checked~div.sk-toggleable__content {max-height: 200px;max-width: 100%;overflow: auto;}#sk-container-id-6 input.sk-toggleable__control:checked~label.sk-toggleable__label-arrow:before {content: \"▾\";}#sk-container-id-6 div.sk-estimator input.sk-toggleable__control:checked~label.sk-toggleable__label {background-color: #d4ebff;}#sk-container-id-6 div.sk-label input.sk-toggleable__control:checked~label.sk-toggleable__label {background-color: #d4ebff;}#sk-container-id-6 input.sk-hidden--visually {border: 0;clip: rect(1px 1px 1px 1px);clip: rect(1px, 1px, 1px, 1px);height: 1px;margin: -1px;overflow: hidden;padding: 0;position: absolute;width: 1px;}#sk-container-id-6 div.sk-estimator {font-family: monospace;background-color: #f0f8ff;border: 1px dotted black;border-radius: 0.25em;box-sizing: border-box;margin-bottom: 0.5em;}#sk-container-id-6 div.sk-estimator:hover {background-color: #d4ebff;}#sk-container-id-6 div.sk-parallel-item::after {content: \"\";width: 100%;border-bottom: 1px solid gray;flex-grow: 1;}#sk-container-id-6 div.sk-label:hover label.sk-toggleable__label {background-color: #d4ebff;}#sk-container-id-6 div.sk-serial::before {content: \"\";position: absolute;border-left: 1px solid gray;box-sizing: border-box;top: 0;bottom: 0;left: 50%;z-index: 0;}#sk-container-id-6 div.sk-serial {display: flex;flex-direction: column;align-items: center;background-color: white;padding-right: 0.2em;padding-left: 0.2em;position: relative;}#sk-container-id-6 div.sk-item {position: relative;z-index: 1;}#sk-container-id-6 div.sk-parallel {display: flex;align-items: stretch;justify-content: center;background-color: white;position: relative;}#sk-container-id-6 div.sk-item::before, #sk-container-id-6 div.sk-parallel-item::before {content: \"\";position: absolute;border-left: 1px solid gray;box-sizing: border-box;top: 0;bottom: 0;left: 50%;z-index: -1;}#sk-container-id-6 div.sk-parallel-item {display: flex;flex-direction: column;z-index: 1;position: relative;background-color: white;}#sk-container-id-6 div.sk-parallel-item:first-child::after {align-self: flex-end;width: 50%;}#sk-container-id-6 div.sk-parallel-item:last-child::after {align-self: flex-start;width: 50%;}#sk-container-id-6 div.sk-parallel-item:only-child::after {width: 0;}#sk-container-id-6 div.sk-dashed-wrapped {border: 1px dashed gray;margin: 0 0.4em 0.5em 0.4em;box-sizing: border-box;padding-bottom: 0.4em;background-color: white;}#sk-container-id-6 div.sk-label label {font-family: monospace;font-weight: bold;display: inline-block;line-height: 1.2em;}#sk-container-id-6 div.sk-label-container {text-align: center;}#sk-container-id-6 div.sk-container {/* jupyter's `normalize.less` sets `[hidden] { display: none; }` but bootstrap.min.css set `[hidden] { display: none !important; }` so we also need the `!important` here to be able to override the default hidden behavior on the sphinx rendered scikit-learn.org. See: https://github.com/scikit-learn/scikit-learn/issues/21755 */display: inline-block !important;position: relative;}#sk-container-id-6 div.sk-text-repr-fallback {display: none;}</style><div id=\"sk-container-id-6\" class=\"sk-top-container\"><div class=\"sk-text-repr-fallback\"><pre>Lasso(alpha=0.005)</pre><b>In a Jupyter environment, please rerun this cell to show the HTML representation or trust the notebook. <br />On GitHub, the HTML representation is unable to render, please try loading this page with nbviewer.org.</b></div><div class=\"sk-container\" hidden><div class=\"sk-item\"><div class=\"sk-estimator sk-toggleable\"><input class=\"sk-toggleable__control sk-hidden--visually\" id=\"sk-estimator-id-6\" type=\"checkbox\" checked><label for=\"sk-estimator-id-6\" class=\"sk-toggleable__label sk-toggleable__label-arrow\">Lasso</label><div class=\"sk-toggleable__content\"><pre>Lasso(alpha=0.005)</pre></div></div></div></div></div>"
      ],
      "text/plain": [
       "Lasso(alpha=0.005)"
      ]
     },
     "execution_count": 352,
     "metadata": {},
     "output_type": "execute_result"
    }
   ],
   "source": [
    "featureSelector = Lasso( alpha=0.005)\n",
    "featureSelector.fit(X_train_resampled, y_train_resampled)"
   ]
  },
  {
   "cell_type": "code",
   "execution_count": 353,
   "metadata": {},
   "outputs": [],
   "source": [
    "coefficients = featureSelector.coef_"
   ]
  },
  {
   "cell_type": "code",
   "execution_count": 354,
   "metadata": {},
   "outputs": [],
   "source": [
    "importance = np.abs(coefficients)"
   ]
  },
  {
   "cell_type": "code",
   "execution_count": 355,
   "metadata": {},
   "outputs": [],
   "source": [
    "cols = importance != 0\n",
    "colNames = np.array(TAs[:68])[importance != 0]"
   ]
  },
  {
   "cell_type": "code",
   "execution_count": 356,
   "metadata": {},
   "outputs": [],
   "source": [
    "X_test = X_test.loc[:,cols].copy()\n",
    "X_train_resampled = X_train_resampled[:,cols]"
   ]
  },
  {
   "cell_type": "code",
   "execution_count": 357,
   "metadata": {},
   "outputs": [],
   "source": [
    "models = [GradientBoostingClassifier(), RandomForestClassifier(), SVC(), DecisionTreeClassifier(), MLPClassifier()]"
   ]
  },
  {
   "cell_type": "code",
   "execution_count": 358,
   "metadata": {},
   "outputs": [
    {
     "name": "stdout",
     "output_type": "stream",
     "text": [
      "GradientBoostingClassifier() 0.7922794117647058\n",
      "RandomForestClassifier() 0.7125\n",
      "SVC() 0.7933823529411764\n",
      "DecisionTreeClassifier() 0.6091911764705882\n",
      "MLPClassifier() 0.3900735294117647\n"
     ]
    }
   ],
   "source": [
    "kfold = KFold(n_splits=10)\n",
    "for model in models:\n",
    "    cv_results = cross_val_score(model, X_train_resampled, y_train_resampled, cv=kfold, scoring='accuracy', n_jobs=-1)\n",
    "    print(model, cv_results.sum()/10)"
   ]
  },
  {
   "cell_type": "code",
   "execution_count": 359,
   "metadata": {},
   "outputs": [
    {
     "name": "stdout",
     "output_type": "stream",
     "text": [
      "Fitting 10 folds for each of 6 candidates, totalling 60 fits\n",
      "0.8047794117647058\n",
      "{'learning_rate': 0.05, 'max_depth': 4, 'max_features': 1.0, 'min_samples_leaf': 3, 'n_estimators': 500}\n"
     ]
    }
   ],
   "source": [
    "param_grid={'n_estimators':[100,500], \n",
    "            'learning_rate': [0.1,0.05,0.02],\n",
    "            'max_depth':[4], \n",
    "            'min_samples_leaf':[3], \n",
    "            'max_features':[1.0] } \n",
    "\n",
    "kfold = KFold(n_splits=10)\n",
    "rf = GradientBoostingClassifier()\n",
    "\n",
    "grid_search = GridSearchCV(estimator = rf, param_grid = param_grid, \n",
    "                          cv = kfold, n_jobs = -1, verbose = 2)\n",
    "\n",
    "grid_search.fit(X_train_resampled, y_train_resampled)\n",
    "print(grid_search.best_score_)\n",
    "print(grid_search.best_params_)"
   ]
  },
  {
   "cell_type": "code",
   "execution_count": 360,
   "metadata": {},
   "outputs": [
    {
     "name": "stderr",
     "output_type": "stream",
     "text": [
      "C:\\Users\\vince\\AppData\\Roaming\\Python\\Python38\\site-packages\\sklearn\\base.py:443: UserWarning: X has feature names, but GradientBoostingClassifier was fitted without feature names\n",
      "  warnings.warn(\n"
     ]
    },
    {
     "data": {
      "text/plain": [
       "<Axes: >"
      ]
     },
     "execution_count": 360,
     "metadata": {},
     "output_type": "execute_result"
    },
    {
     "data": {
      "image/png": "[encoded data removed]",
      "text/plain": [
       "<Figure size 1080x720 with 2 Axes>"
      ]
     },
     "metadata": {
      "needs_background": "light"
     },
     "output_type": "display_data"
    }
   ],
   "source": [
    "rf = GradientBoostingClassifier(learning_rate=0.05, min_samples_leaf=3, n_estimators=500, max_features=1.0, max_depth=4)\n",
    "rf.fit(X_train_resampled, y_train_resampled)\n",
    "results = rf.predict(X_test)\n",
    "x = zip(results, y_test)\n",
    "\n",
    "# Print the confusion matrix for the model\n",
    "cf_matrix = sklearn.metrics.confusion_matrix(y_test, results)\n",
    "sns.heatmap(cf_matrix, annot=True, fmt='g')"
   ]
  },
  {
   "cell_type": "code",
   "execution_count": 361,
   "metadata": {},
   "outputs": [
    {
     "data": {
      "text/plain": [
       "0.723404255319149"
      ]
     },
     "execution_count": 361,
     "metadata": {},
     "output_type": "execute_result"
    }
   ],
   "source": [
    "accuracy_score(y_test, results)"
   ]
  },
  {
   "cell_type": "code",
   "execution_count": 362,
   "metadata": {},
   "outputs": [
    {
     "data": {
      "text/plain": [
       "0.6353555120678408"
      ]
     },
     "execution_count": 362,
     "metadata": {},
     "output_type": "execute_result"
    }
   ],
   "source": [
    "balanced_accuracy_score(y_test, results)"
   ]
  },
  {
   "cell_type": "code",
   "execution_count": 346,
   "metadata": {},
   "outputs": [
    {
     "data": {
      "text/plain": [
       "Text(0, 0.5, 'Feature Importance Score')"
      ]
     },
     "execution_count": 346,
     "metadata": {},
     "output_type": "execute_result"
    },
    {
     "data": {
      "image/png": "[encoded data removed]",
      "text/plain": [
       "<Figure size 1080x360 with 1 Axes>"
      ]
     },
     "metadata": {
      "needs_background": "light"
     },
     "output_type": "display_data"
    }
   ],
   "source": [
    "import matplotlib.pyplot as plt\n",
    "plt.rcParams['figure.figsize'] = [15, 5]\n",
    "feat_imp = pd.Series(rf.feature_importances_, X_test.columns).sort_values(ascending=False)\n",
    "feat_imp.plot(kind='bar', title='Feature Importances')\n",
    "plt.ylabel('Feature Importance Score')"
   ]
  },
  {
   "cell_type": "code",
   "execution_count": 347,
   "metadata": {},
   "outputs": [
    {
     "name": "stderr",
     "output_type": "stream",
     "text": [
      "C:\\Users\\vince\\AppData\\Roaming\\Python\\Python38\\site-packages\\sklearn\\base.py:443: UserWarning: X has feature names, but GradientBoostingClassifier was fitted without feature names\n",
      "  warnings.warn(\n"
     ]
    },
    {
     "data": {
      "image/png": "[encoded data removed]",
      "text/plain": [
       "<Figure size 1080x720 with 1 Axes>"
      ]
     },
     "metadata": {
      "needs_background": "light"
     },
     "output_type": "display_data"
    }
   ],
   "source": [
    "from sklearn.metrics import RocCurveDisplay\n",
    "plt.rcParams['figure.figsize'] = [15, 10]\n",
    "svc_disp = RocCurveDisplay.from_estimator(rf, X_test, y_test)\n"
   ]
  },
  {
   "cell_type": "code",
   "execution_count": 281,
   "metadata": {},
   "outputs": [
    {
     "data": {
      "text/html": [
       "<style>#sk-container-id-3 {color: black;background-color: white;}#sk-container-id-3 pre{padding: 0;}#sk-container-id-3 div.sk-toggleable {background-color: white;}#sk-container-id-3 label.sk-toggleable__label {cursor: pointer;display: block;width: 100%;margin-bottom: 0;padding: 0.3em;box-sizing: border-box;text-align: center;}#sk-container-id-3 label.sk-toggleable__label-arrow:before {content: \"▸\";float: left;margin-right: 0.25em;color: #696969;}#sk-container-id-3 label.sk-toggleable__label-arrow:hover:before {color: black;}#sk-container-id-3 div.sk-estimator:hover label.sk-toggleable__label-arrow:before {color: black;}#sk-container-id-3 div.sk-toggleable__content {max-height: 0;max-width: 0;overflow: hidden;text-align: left;background-color: #f0f8ff;}#sk-container-id-3 div.sk-toggleable__content pre {margin: 0.2em;color: black;border-radius: 0.25em;background-color: #f0f8ff;}#sk-container-id-3 input.sk-toggleable__control:checked~div.sk-toggleable__content {max-height: 200px;max-width: 100%;overflow: auto;}#sk-container-id-3 input.sk-toggleable__control:checked~label.sk-toggleable__label-arrow:before {content: \"▾\";}#sk-container-id-3 div.sk-estimator input.sk-toggleable__control:checked~label.sk-toggleable__label {background-color: #d4ebff;}#sk-container-id-3 div.sk-label input.sk-toggleable__control:checked~label.sk-toggleable__label {background-color: #d4ebff;}#sk-container-id-3 input.sk-hidden--visually {border: 0;clip: rect(1px 1px 1px 1px);clip: rect(1px, 1px, 1px, 1px);height: 1px;margin: -1px;overflow: hidden;padding: 0;position: absolute;width: 1px;}#sk-container-id-3 div.sk-estimator {font-family: monospace;background-color: #f0f8ff;border: 1px dotted black;border-radius: 0.25em;box-sizing: border-box;margin-bottom: 0.5em;}#sk-container-id-3 div.sk-estimator:hover {background-color: #d4ebff;}#sk-container-id-3 div.sk-parallel-item::after {content: \"\";width: 100%;border-bottom: 1px solid gray;flex-grow: 1;}#sk-container-id-3 div.sk-label:hover label.sk-toggleable__label {background-color: #d4ebff;}#sk-container-id-3 div.sk-serial::before {content: \"\";position: absolute;border-left: 1px solid gray;box-sizing: border-box;top: 0;bottom: 0;left: 50%;z-index: 0;}#sk-container-id-3 div.sk-serial {display: flex;flex-direction: column;align-items: center;background-color: white;padding-right: 0.2em;padding-left: 0.2em;position: relative;}#sk-container-id-3 div.sk-item {position: relative;z-index: 1;}#sk-container-id-3 div.sk-parallel {display: flex;align-items: stretch;justify-content: center;background-color: white;position: relative;}#sk-container-id-3 div.sk-item::before, #sk-container-id-3 div.sk-parallel-item::before {content: \"\";position: absolute;border-left: 1px solid gray;box-sizing: border-box;top: 0;bottom: 0;left: 50%;z-index: -1;}#sk-container-id-3 div.sk-parallel-item {display: flex;flex-direction: column;z-index: 1;position: relative;background-color: white;}#sk-container-id-3 div.sk-parallel-item:first-child::after {align-self: flex-end;width: 50%;}#sk-container-id-3 div.sk-parallel-item:last-child::after {align-self: flex-start;width: 50%;}#sk-container-id-3 div.sk-parallel-item:only-child::after {width: 0;}#sk-container-id-3 div.sk-dashed-wrapped {border: 1px dashed gray;margin: 0 0.4em 0.5em 0.4em;box-sizing: border-box;padding-bottom: 0.4em;background-color: white;}#sk-container-id-3 div.sk-label label {font-family: monospace;font-weight: bold;display: inline-block;line-height: 1.2em;}#sk-container-id-3 div.sk-label-container {text-align: center;}#sk-container-id-3 div.sk-container {/* jupyter's `normalize.less` sets `[hidden] { display: none; }` but bootstrap.min.css set `[hidden] { display: none !important; }` so we also need the `!important` here to be able to override the default hidden behavior on the sphinx rendered scikit-learn.org. See: https://github.com/scikit-learn/scikit-learn/issues/21755 */display: inline-block !important;position: relative;}#sk-container-id-3 div.sk-text-repr-fallback {display: none;}</style><div id=\"sk-container-id-3\" class=\"sk-top-container\"><div class=\"sk-text-repr-fallback\"><pre>DecisionTreeClassifier()</pre><b>In a Jupyter environment, please rerun this cell to show the HTML representation or trust the notebook. <br />On GitHub, the HTML representation is unable to render, please try loading this page with nbviewer.org.</b></div><div class=\"sk-container\" hidden><div class=\"sk-item\"><div class=\"sk-estimator sk-toggleable\"><input class=\"sk-toggleable__control sk-hidden--visually\" id=\"sk-estimator-id-3\" type=\"checkbox\" checked><label for=\"sk-estimator-id-3\" class=\"sk-toggleable__label sk-toggleable__label-arrow\">DecisionTreeClassifier</label><div class=\"sk-toggleable__content\"><pre>DecisionTreeClassifier()</pre></div></div></div></div></div>"
      ],
      "text/plain": [
       "DecisionTreeClassifier()"
      ]
     },
     "execution_count": 281,
     "metadata": {},
     "output_type": "execute_result"
    }
   ],
   "source": [
    "dt = DecisionTreeClassifier()\n",
    "dt.fit(X_train_resampled, y_train_resampled)"
   ]
  },
  {
   "cell_type": "code",
   "execution_count": 150,
   "metadata": {},
   "outputs": [
    {
     "data": {
      "image/png": "[encoded data removed]",
      "text/plain": [
       "<Figure size 1080x720 with 1 Axes>"
      ]
     },
     "metadata": {
      "needs_background": "light"
     },
     "output_type": "display_data"
    }
   ],
   "source": [
    "from sklearn.datasets import load_iris\n",
    "from sklearn import tree\n",
    "\n",
    "tree.plot_tree(dt)\n",
    "plt.show()"
   ]
  },
  {
   "cell_type": "code",
   "execution_count": 151,
   "metadata": {},
   "outputs": [
    {
     "data": {
      "text/plain": [
       "'ST83TA'"
      ]
     },
     "execution_count": 151,
     "metadata": {},
     "output_type": "execute_result"
    }
   ],
   "source": []
  },
  {
   "cell_type": "code",
   "execution_count": null,
   "metadata": {},
   "outputs": [],
   "source": []
  }
 ],
 "metadata": {
  "kernelspec": {
   "display_name": "Python 3",
   "language": "python",
   "name": "python3"
  },
  "language_info": {
   "codemirror_mode": {
    "name": "ipython",
    "version": 3
   },
   "file_extension": ".py",
   "mimetype": "text/x-python",
   "name": "python",
   "nbconvert_exporter": "python",
   "pygments_lexer": "ipython3",
   "version": "3.8.5"
  },
  "orig_nbformat": 4,
  "vscode": {
   "interpreter": {
    "hash": "570feb405e2e27c949193ac68f46852414290d515b0ba6e5d90d076ed2284471"
   }
  }
 },
 "nbformat": 4,
 "nbformat_minor": 2
}
