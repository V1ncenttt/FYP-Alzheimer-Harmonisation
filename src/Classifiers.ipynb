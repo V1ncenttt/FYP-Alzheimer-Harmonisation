{
 "cells": [
  {
   "cell_type": "markdown",
   "metadata": {},
   "source": [
    "# Classifiers to test the harmonisation"
   ]
  },
  {
   "cell_type": "code",
   "execution_count": 57,
   "metadata": {},
   "outputs": [],
   "source": [
    "import pandas as pd\n",
    "import numpy as np\n",
    "from numpy import random, arange\n",
    "import seaborn as sns\n",
    "\n",
    "from sklearn.model_selection import train_test_split, KFold, cross_val_score, GridSearchCV\n",
    "from sklearn.metrics import balanced_accuracy_score\n",
    "from sklearn.decomposition import PCA\n",
    "from sklearn.preprocessing import MinMaxScaler, StandardScaler, OrdinalEncoder, PolynomialFeatures, LabelEncoder\n",
    "\n",
    "# Import relevant sklearn classes related to machine learning models\n",
    "from sklearn.linear_model import LinearRegression, LogisticRegression, Lasso, ElasticNet\n",
    "from sklearn.svm import SVC, SVR, NuSVC\n",
    "from sklearn.tree import DecisionTreeClassifier, DecisionTreeRegressor\n",
    "from sklearn.ensemble import RandomForestClassifier, GradientBoostingClassifier, BaggingClassifier\n",
    "from sklearn.neural_network import MLPClassifier\n",
    "\n",
    "# Import relevant sklearn class/function related to evaluation\n",
    "import sklearn.metrics\n",
    "from imblearn.under_sampling import RandomUnderSampler"
   ]
  },
  {
   "attachments": {},
   "cell_type": "markdown",
   "metadata": {},
   "source": [
    "### 0. Data pre-processing"
   ]
  },
  {
   "cell_type": "code",
   "execution_count": 42,
   "metadata": {},
   "outputs": [],
   "source": [
    "merge = pd.read_csv(\"../data/ADNIMERGE.csv\", low_memory=False)"
   ]
  },
  {
   "cell_type": "code",
   "execution_count": 7,
   "metadata": {},
   "outputs": [
    {
     "data": {
      "text/plain": [
       "0              CN\n",
       "1        Dementia\n",
       "2        Dementia\n",
       "3        Dementia\n",
       "4        Dementia\n",
       "           ...   \n",
       "16217          CN\n",
       "16218          CN\n",
       "16219         NaN\n",
       "16220         NaN\n",
       "16221         NaN\n",
       "Name: DX, Length: 16222, dtype: object"
      ]
     },
     "execution_count": 7,
     "metadata": {},
     "output_type": "execute_result"
    }
   ],
   "source": []
  },
  {
   "attachments": {},
   "cell_type": "markdown",
   "metadata": {},
   "source": [
    "## I. Basic diagnosis predictor"
   ]
  },
  {
   "cell_type": "code",
   "execution_count": 43,
   "metadata": {},
   "outputs": [
    {
     "data": {
      "text/html": [
       "<div>\n",
       "<style scoped>\n",
       "    .dataframe tbody tr th:only-of-type {\n",
       "        vertical-align: middle;\n",
       "    }\n",
       "\n",
       "    .dataframe tbody tr th {\n",
       "        vertical-align: top;\n",
       "    }\n",
       "\n",
       "    .dataframe thead th {\n",
       "        text-align: right;\n",
       "    }\n",
       "</style>\n",
       "<table border=\"1\" class=\"dataframe\">\n",
       "  <thead>\n",
       "    <tr style=\"text-align: right;\">\n",
       "      <th></th>\n",
       "      <th>AGE</th>\n",
       "      <th>PTGENDER</th>\n",
       "      <th>MMSE</th>\n",
       "      <th>APOE4</th>\n",
       "      <th>DX</th>\n",
       "    </tr>\n",
       "  </thead>\n",
       "  <tbody>\n",
       "    <tr>\n",
       "      <th>0</th>\n",
       "      <td>74.3</td>\n",
       "      <td>Male</td>\n",
       "      <td>28.0</td>\n",
       "      <td>0.0</td>\n",
       "      <td>CN</td>\n",
       "    </tr>\n",
       "    <tr>\n",
       "      <th>1</th>\n",
       "      <td>81.3</td>\n",
       "      <td>Male</td>\n",
       "      <td>20.0</td>\n",
       "      <td>1.0</td>\n",
       "      <td>Dementia</td>\n",
       "    </tr>\n",
       "    <tr>\n",
       "      <th>2</th>\n",
       "      <td>81.3</td>\n",
       "      <td>Male</td>\n",
       "      <td>24.0</td>\n",
       "      <td>1.0</td>\n",
       "      <td>Dementia</td>\n",
       "    </tr>\n",
       "    <tr>\n",
       "      <th>3</th>\n",
       "      <td>81.3</td>\n",
       "      <td>Male</td>\n",
       "      <td>17.0</td>\n",
       "      <td>1.0</td>\n",
       "      <td>Dementia</td>\n",
       "    </tr>\n",
       "    <tr>\n",
       "      <th>4</th>\n",
       "      <td>81.3</td>\n",
       "      <td>Male</td>\n",
       "      <td>19.0</td>\n",
       "      <td>1.0</td>\n",
       "      <td>Dementia</td>\n",
       "    </tr>\n",
       "  </tbody>\n",
       "</table>\n",
       "</div>"
      ],
      "text/plain": [
       "    AGE PTGENDER  MMSE  APOE4        DX\n",
       "0  74.3     Male  28.0    0.0        CN\n",
       "1  81.3     Male  20.0    1.0  Dementia\n",
       "2  81.3     Male  24.0    1.0  Dementia\n",
       "3  81.3     Male  17.0    1.0  Dementia\n",
       "4  81.3     Male  19.0    1.0  Dementia"
      ]
     },
     "execution_count": 43,
     "metadata": {},
     "output_type": "execute_result"
    }
   ],
   "source": [
    "basic_diagnosis_features = pd.concat([merge['AGE'], merge['PTGENDER'], merge['MMSE'], merge['APOE4'], merge['DX']], axis=1)\n",
    "basic_diagnosis_features.head()"
   ]
  },
  {
   "cell_type": "code",
   "execution_count": 44,
   "metadata": {},
   "outputs": [],
   "source": [
    "gender_encoder = LabelEncoder()\n",
    "new_gender = gender_encoder.fit_transform(basic_diagnosis_features['PTGENDER'])\n",
    "diagnostic = np.where(basic_diagnosis_features['DX'] == 'Dementia',1,0)\n",
    "\n",
    "basic_diagnosis_features['PTGENDER'] = new_gender\n",
    "basic_diagnosis_features['DX'] = diagnostic\n",
    "\n",
    "basic_diagnosis_features = basic_diagnosis_features.dropna()"
   ]
  },
  {
   "cell_type": "code",
   "execution_count": 45,
   "metadata": {},
   "outputs": [],
   "source": [
    "Y = basic_diagnosis_features['DX']\n",
    "#base.drop(['DX_bl'])\n",
    "basic_diagnosis_features.drop(['DX'], axis=1, inplace=True)"
   ]
  },
  {
   "cell_type": "code",
   "execution_count": 46,
   "metadata": {},
   "outputs": [],
   "source": [
    "X_train, X_test, y_train, y_test = train_test_split(basic_diagnosis_features, Y, test_size=0.4, train_size=0.6)"
   ]
  },
  {
   "attachments": {},
   "cell_type": "markdown",
   "metadata": {},
   "source": [
    "### Cross validation - Model selection & hyperparameter tuning"
   ]
  },
  {
   "cell_type": "code",
   "execution_count": 54,
   "metadata": {},
   "outputs": [
    {
     "name": "stdout",
     "output_type": "stream",
     "text": [
      "GradientBoostingClassifier() 0.8971112681662727\n",
      "RandomForestClassifier() 0.8745855774620427\n",
      "SVC() 0.8958500069050114\n",
      "DecisionTreeClassifier() 0.8666574058278297\n",
      "MLPClassifier() 0.8914358361968822\n"
     ]
    }
   ],
   "source": [
    "models = [GradientBoostingClassifier(), RandomForestClassifier(), SVC(), DecisionTreeClassifier(), MLPClassifier()]\n",
    "kfold = KFold(n_splits=10)\n",
    "for model in models:\n",
    "    cv_results = cross_val_score(model, basic_diagnosis_features, Y, cv=kfold, scoring='accuracy', n_jobs=-1)\n",
    "    print(model, cv_results.sum()/10)"
   ]
  },
  {
   "cell_type": "code",
   "execution_count": 58,
   "metadata": {},
   "outputs": [
    {
     "data": {
      "text/plain": [
       "0.8984630256947661"
      ]
     },
     "execution_count": 58,
     "metadata": {},
     "output_type": "execute_result"
    }
   ],
   "source": [
    "CV_gb_combined = GridSearchCV(estimator=GradientBoostingClassifier() ,param_grid={'learning_rate':arange(0.1,1,0.1), 'max_depth':range(1,10)}, scoring=\"accuracy\", n_jobs=-1, cv=kfold)\n",
    "CV_gb_combined.fit(basic_diagnosis_features, Y)\n",
    "CV_gb_combined.best_score_"
   ]
  },
  {
   "cell_type": "code",
   "execution_count": 60,
   "metadata": {},
   "outputs": [
    {
     "name": "stdout",
     "output_type": "stream",
     "text": [
      "{'learning_rate': 0.1, 'max_depth': 2}\n"
     ]
    }
   ],
   "source": [
    "\n",
    "print(CV_gb_combined.best_params_)"
   ]
  },
  {
   "cell_type": "code",
   "execution_count": 61,
   "metadata": {},
   "outputs": [
    {
     "data": {
      "text/plain": [
       "<AxesSubplot:>"
      ]
     },
     "execution_count": 61,
     "metadata": {},
     "output_type": "execute_result"
    },
    {
     "data": {
      "image/png": "[encoded data removed]",
      "text/plain": [
       "<Figure size 432x288 with 2 Axes>"
      ]
     },
     "metadata": {
      "needs_background": "light"
     },
     "output_type": "display_data"
    }
   ],
   "source": [
    "\n",
    "gb = GradientBoostingClassifier( learning_rate=0.1, max_depth=2)\n",
    "gb.fit(X_train, y_train)\n",
    "\n",
    "results = gb.predict(X_test)\n",
    "x = zip(results, y_test)\n",
    "\n",
    "cf_matrix = sklearn.metrics.confusion_matrix(y_test, results)\n",
    "sns.heatmap(cf_matrix, annot=True, fmt='g')\n"
   ]
  },
  {
   "cell_type": "code",
   "execution_count": 62,
   "metadata": {},
   "outputs": [
    {
     "data": {
      "text/plain": [
       "0.8197590456020291"
      ]
     },
     "execution_count": 62,
     "metadata": {},
     "output_type": "execute_result"
    }
   ],
   "source": [
    "balanced_accuracy_score(y_test, results)"
   ]
  },
  {
   "attachments": {},
   "cell_type": "markdown",
   "metadata": {},
   "source": [
    "## II. Evolution predictor"
   ]
  },
  {
   "cell_type": "code",
   "execution_count": 93,
   "metadata": {},
   "outputs": [],
   "source": [
    "merge2 = pd.concat([merge['AGE'], merge['PTGENDER'], merge['MMSE'], merge['APOE4'], merge['DX'], merge['PTID']], axis=1)\n",
    "firstvisits = ~merge2.duplicated(subset=['PTID'], keep='first')\n",
    "lastvisits = ~merge2.duplicated(subset=['PTID'], keep='last')\n",
    "\n",
    "first = merge2.loc[firstvisits].copy()\n",
    "\n",
    "last = merge2.loc[lastvisits]\n",
    "last = pd.concat([last['DX'], last['PTID']], axis=1)\n",
    "last.rename(columns={\"DX\": \"DX_f\"}, inplace=True)\n",
    "\n",
    "\n",
    "\n",
    "\n",
    "\n",
    "\n"
   ]
  },
  {
   "cell_type": "code",
   "execution_count": 94,
   "metadata": {},
   "outputs": [
    {
     "data": {
      "text/html": [
       "<div>\n",
       "<style scoped>\n",
       "    .dataframe tbody tr th:only-of-type {\n",
       "        vertical-align: middle;\n",
       "    }\n",
       "\n",
       "    .dataframe tbody tr th {\n",
       "        vertical-align: top;\n",
       "    }\n",
       "\n",
       "    .dataframe thead th {\n",
       "        text-align: right;\n",
       "    }\n",
       "</style>\n",
       "<table border=\"1\" class=\"dataframe\">\n",
       "  <thead>\n",
       "    <tr style=\"text-align: right;\">\n",
       "      <th></th>\n",
       "      <th>AGE</th>\n",
       "      <th>PTGENDER</th>\n",
       "      <th>MMSE</th>\n",
       "      <th>APOE4</th>\n",
       "      <th>DX</th>\n",
       "      <th>PTID</th>\n",
       "      <th>DX_f</th>\n",
       "    </tr>\n",
       "  </thead>\n",
       "  <tbody>\n",
       "    <tr>\n",
       "      <th>0</th>\n",
       "      <td>74.3</td>\n",
       "      <td>Male</td>\n",
       "      <td>28.0</td>\n",
       "      <td>0.0</td>\n",
       "      <td>CN</td>\n",
       "      <td>011_S_0002</td>\n",
       "      <td>MCI</td>\n",
       "    </tr>\n",
       "    <tr>\n",
       "      <th>5</th>\n",
       "      <td>75.4</td>\n",
       "      <td>Male</td>\n",
       "      <td>20.0</td>\n",
       "      <td>1.0</td>\n",
       "      <td>Dementia</td>\n",
       "      <td>022_S_0007</td>\n",
       "      <td>Dementia</td>\n",
       "    </tr>\n",
       "    <tr>\n",
       "      <th>8</th>\n",
       "      <td>80.8</td>\n",
       "      <td>Male</td>\n",
       "      <td>29.0</td>\n",
       "      <td>1.0</td>\n",
       "      <td>CN</td>\n",
       "      <td>100_S_0015</td>\n",
       "      <td>MCI</td>\n",
       "    </tr>\n",
       "    <tr>\n",
       "      <th>10</th>\n",
       "      <td>72.6</td>\n",
       "      <td>Female</td>\n",
       "      <td>30.0</td>\n",
       "      <td>0.0</td>\n",
       "      <td>CN</td>\n",
       "      <td>011_S_0021</td>\n",
       "      <td>CN</td>\n",
       "    </tr>\n",
       "    <tr>\n",
       "      <th>11</th>\n",
       "      <td>71.7</td>\n",
       "      <td>Male</td>\n",
       "      <td>26.0</td>\n",
       "      <td>0.0</td>\n",
       "      <td>CN</td>\n",
       "      <td>011_S_0023</td>\n",
       "      <td>CN</td>\n",
       "    </tr>\n",
       "  </tbody>\n",
       "</table>\n",
       "</div>"
      ],
      "text/plain": [
       "     AGE PTGENDER  MMSE  APOE4        DX        PTID      DX_f\n",
       "0   74.3     Male  28.0    0.0        CN  011_S_0002       MCI\n",
       "5   75.4     Male  20.0    1.0  Dementia  022_S_0007  Dementia\n",
       "8   80.8     Male  29.0    1.0        CN  100_S_0015       MCI\n",
       "10  72.6   Female  30.0    0.0        CN  011_S_0021        CN\n",
       "11  71.7     Male  26.0    0.0        CN  011_S_0023        CN"
      ]
     },
     "execution_count": 94,
     "metadata": {},
     "output_type": "execute_result"
    }
   ],
   "source": [
    "evol = first.merge(last, left_on='PTID', right_on='PTID').dropna()\n",
    "evol.head()"
   ]
  },
  {
   "cell_type": "code",
   "execution_count": 95,
   "metadata": {},
   "outputs": [],
   "source": [
    "evol.drop(['PTID'], axis=1, inplace=True)\n",
    "evol_mci = evol.drop(evol[evol['DX'] != 'MCI'].index)"
   ]
  },
  {
   "cell_type": "code",
   "execution_count": 96,
   "metadata": {},
   "outputs": [],
   "source": [
    "gender_encoder = LabelEncoder()\n",
    "new_gender = gender_encoder.fit_transform(evol_mci['PTGENDER'])\n",
    "diagnostic = np.where(evol_mci['DX_f'] == 'Dementia',1,0)\n",
    "\n",
    "evol_mci['PTGENDER'] = new_gender\n",
    "evol_mci['DX_f'] = diagnostic\n",
    "\n",
    "evol_mci = evol_mci.dropna()"
   ]
  },
  {
   "cell_type": "code",
   "execution_count": 97,
   "metadata": {},
   "outputs": [],
   "source": [
    "evol_mci = evol_mci.drop(['DX'], axis=1)"
   ]
  },
  {
   "cell_type": "code",
   "execution_count": 99,
   "metadata": {},
   "outputs": [],
   "source": [
    "Y = evol_mci['DX_f']\n",
    "X = evol_mci.drop(['DX_f'], axis=1)"
   ]
  },
  {
   "cell_type": "code",
   "execution_count": 100,
   "metadata": {},
   "outputs": [],
   "source": [
    "X_train2, X_test2, y_train2, y_test2 = train_test_split(X, Y, test_size=0.4, train_size=0.6)"
   ]
  },
  {
   "cell_type": "code",
   "execution_count": 102,
   "metadata": {},
   "outputs": [
    {
     "data": {
      "text/plain": [
       "<AxesSubplot:>"
      ]
     },
     "execution_count": 102,
     "metadata": {},
     "output_type": "execute_result"
    },
    {
     "data": {
      "image/png": "[encoded data removed]",
      "text/plain": [
       "<Figure size 432x288 with 2 Axes>"
      ]
     },
     "metadata": {
      "needs_background": "light"
     },
     "output_type": "display_data"
    }
   ],
   "source": [
    "gb = GradientBoostingClassifier( learning_rate=0.1, max_depth=2)\n",
    "gb.fit(X_train2, y_train2)\n",
    "\n",
    "results2 = gb.predict(X_test2)\n",
    "x = zip(results2, y_test2)\n",
    "\n",
    "cf_matrix2 = sklearn.metrics.confusion_matrix(y_test2, results2)\n",
    "sns.heatmap(cf_matrix2, annot=True, fmt='g')"
   ]
  },
  {
   "cell_type": "code",
   "execution_count": 104,
   "metadata": {},
   "outputs": [
    {
     "data": {
      "text/plain": [
       "0.5028764805414552"
      ]
     },
     "execution_count": 104,
     "metadata": {},
     "output_type": "execute_result"
    }
   ],
   "source": [
    "balanced_accuracy_score(y_test2, results2)"
   ]
  },
  {
   "cell_type": "code",
   "execution_count": null,
   "metadata": {},
   "outputs": [],
   "source": []
  }
 ],
 "metadata": {
  "kernelspec": {
   "display_name": "Python 3.8.5 64-bit",
   "language": "python",
   "name": "python3"
  },
  "language_info": {
   "codemirror_mode": {
    "name": "ipython",
    "version": 3
   },
   "file_extension": ".py",
   "mimetype": "text/x-python",
   "name": "python",
   "nbconvert_exporter": "python",
   "pygments_lexer": "ipython3",
   "version": "3.8.5"
  },
  "orig_nbformat": 4,
  "vscode": {
   "interpreter": {
    "hash": "570feb405e2e27c949193ac68f46852414290d515b0ba6e5d90d076ed2284471"
   }
  }
 },
 "nbformat": 4,
 "nbformat_minor": 2
}
